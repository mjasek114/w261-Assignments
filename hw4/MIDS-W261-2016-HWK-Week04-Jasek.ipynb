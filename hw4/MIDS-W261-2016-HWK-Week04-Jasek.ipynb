{
 "cells": [
  {
   "cell_type": "markdown",
   "metadata": {},
   "source": [
    "# HW2 DATASCI W261: Machine Learning at Scale "
   ]
  },
  {
   "cell_type": "markdown",
   "metadata": {
    "collapsed": false
   },
   "source": [
    "* **Name:**  Megan Jasek\n",
    "* **Email:**  meganjasek@ischool.berkeley.edu\n",
    "* **Class Name:**  W261-2\n",
    "* **Week Number:**  2\n",
    "* **Date:**  5/23/16"
   ]
  },
  {
   "cell_type": "code",
   "execution_count": 6,
   "metadata": {
    "collapsed": false
   },
   "outputs": [],
   "source": [
    "infile = \"anonymous-msweb.data\"\n",
    "outfile = \"anonymous-msweb_converted.data\"\n",
    "#outfile = \"test_converted.data\"\n",
    "with open(infile, 'r') as rf:\n",
    "    with open(outfile, 'w') as wf:    \n",
    "        for line in rf.readlines():\n",
    "            items = line.split(',')\n",
    "            if items[0] == 'C':\n",
    "                cust_str = items[2]\n",
    "            elif items[0] == 'V':\n",
    "                wf.write('%s,C,%s' % (line.strip(), cust_str))\n",
    "            else:\n",
    "                wf.write(line)"
   ]
  }
 ],
 "metadata": {
  "kernelspec": {
   "display_name": "Python 2",
   "language": "python",
   "name": "python2"
  },
  "language_info": {
   "codemirror_mode": {
    "name": "ipython",
    "version": 2
   },
   "file_extension": ".py",
   "mimetype": "text/x-python",
   "name": "python",
   "nbconvert_exporter": "python",
   "pygments_lexer": "ipython2",
   "version": "2.7.11"
  }
 },
 "nbformat": 4,
 "nbformat_minor": 0
}
