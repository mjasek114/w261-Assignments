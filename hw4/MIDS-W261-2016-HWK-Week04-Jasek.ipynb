{
 "cells": [
  {
   "cell_type": "markdown",
   "metadata": {},
   "source": [
    "# HW4 DATASCI W261: Machine Learning at Scale "
   ]
  },
  {
   "cell_type": "markdown",
   "metadata": {
    "collapsed": false
   },
   "source": [
    "* **Name:**  Megan Jasek\n",
    "* **Email:**  meganjasek@ischool.berkeley.edu\n",
    "* **Class Name:**  W261-2\n",
    "* **Week Number:**  4\n",
    "* **Date:**  6/7/16"
   ]
  },
  {
   "cell_type": "code",
   "execution_count": 1,
   "metadata": {
    "collapsed": false
   },
   "outputs": [],
   "source": [
    "infile = \"anonymous-msweb.data\"\n",
    "outfile = \"anonymous-msweb_converted.data\"\n",
    "#outfile = \"test_converted.data\"\n",
    "with open(infile, 'r') as rf, open(outfile, 'w') as wf:\n",
    "    for line in rf.readlines():\n",
    "        # Split the lines on commas\n",
    "        items = line.split(',')\n",
    "        # If the line is a customer line, then save the customer ID for later use\n",
    "        # Write the line to the output file\n",
    "        if items[0] == 'C':\n",
    "            cust_str = items[2]\n",
    "            wf.write(line)\n",
    "        # If the line is a visit line, then concatenate, the original line with the\n",
    "        # current customer information (the current value of cust_str) and write\n",
    "        # it to the output file\n",
    "        elif items[0] == 'V':\n",
    "            wf.write('%s,C,%s' % (line.strip(), cust_str))\n",
    "        # All other lines write directly to the output file as is\n",
    "        else:\n",
    "            wf.write(line)"
   ]
  }
 ],
 "metadata": {
  "kernelspec": {
   "display_name": "Python 2",
   "language": "python",
   "name": "python2"
  },
  "language_info": {
   "codemirror_mode": {
    "name": "ipython",
    "version": 2
   },
   "file_extension": ".py",
   "mimetype": "text/x-python",
   "name": "python",
   "nbconvert_exporter": "python",
   "pygments_lexer": "ipython2",
   "version": "2.7.11"
  }
 },
 "nbformat": 4,
 "nbformat_minor": 0
}
