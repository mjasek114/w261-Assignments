{
 "cells": [
  {
   "cell_type": "markdown",
   "metadata": {},
   "source": [
    "# HW4 DATASCI W261: Machine Learning at Scale "
   ]
  },
  {
   "cell_type": "markdown",
   "metadata": {
    "collapsed": false
   },
   "source": [
    "* **Name:**  Megan Jasek\n",
    "* **Email:**  meganjasek@ischool.berkeley.edu\n",
    "* **Class Name:**  W261-2\n",
    "* **Week Number:**  4\n",
    "* **Date:**  6/7/16"
   ]
  },
  {
   "cell_type": "markdown",
   "metadata": {},
   "source": [
    "### HW 4.0"
   ]
  },
  {
   "cell_type": "markdown",
   "metadata": {},
   "source": [
    "What is MrJob? How is it different to Hadoop MapReduce? What are the mapper_init, mapper_final(), combiner_final(), reducer_final() methods? When are they called?  "
   ]
  },
  {
   "cell_type": "markdown",
   "metadata": {},
   "source": [
    "### HW 4.1"
   ]
  },
  {
   "cell_type": "markdown",
   "metadata": {},
   "source": [
    "What is serialization in the context of MrJob or Hadoop? When it used in these frameworks? What is the default serialization mode for input and outputs for MrJob?"
   ]
  },
  {
   "cell_type": "markdown",
   "metadata": {},
   "source": [
    "### HW 4.2"
   ]
  },
  {
   "cell_type": "markdown",
   "metadata": {},
   "source": [
    "Recall the Microsoft logfiles data from the async lecture. The logfiles are described are located at:\n",
    "https://kdd.ics.uci.edu/databases/msweb/msweb.html http://archive.ics.uci.edu/ml/machine-learning-databases/anonymous/\n",
    "This dataset records which areas (Vroots) of www.microsoft.com each user visited in a one-week timeframe in Feburary 1998.\n",
    "Here, you must preprocess the data on a single node (i.e., not on a cluster of nodes) from the format:  \n",
    "C,\"10001\",10001 #Visitor id 10001  \n",
    "V,1000,1 #Visit by Visitor 10001 to page id 1000  \n",
    "V,1001,1 #Visit by Visitor 10001 to page id 1001  \n",
    "V,1002,1 #Visit by Visitor 10001 to page id 1002  \n",
    "C,\"10002\",10002 #Visitor id 10001  \n",
    "V  \n",
    "Note: #denotes comments  \n",
    "to the format:  \n",
    "V,1000,1,C, 10001  \n",
    "V,1001,1,C, 10001  \n",
    "V,1002,1,C, 10001  \n",
    "\n",
    "Write the python code to accomplish this."
   ]
  },
  {
   "cell_type": "code",
   "execution_count": 2,
   "metadata": {
    "collapsed": false
   },
   "outputs": [],
   "source": [
    "'''\n",
    "    This code reads the input file (infile), converts the data in it and writes the conversion\n",
    "    to the output file (outfile).  The data is converted from writing customer information on\n",
    "    a single line to writing customer information on the line corresponding its associated visit\n",
    "    as per the instructions for HW4.2 above.\n",
    "'''\n",
    "infile = \"anonymous-msweb.data\"\n",
    "outfile = \"anonymous-msweb_converted.data\"\n",
    "with open(infile, 'r') as rf, open(outfile, 'w') as wf:\n",
    "    for line in rf.readlines():\n",
    "        # Split the lines on commas\n",
    "        items = line.split(',')\n",
    "        # If the line is a customer line, then save the customer ID for later use\n",
    "        # Write the line to the output file\n",
    "        if items[0] == 'C':\n",
    "            cust_str = items[2]\n",
    "            wf.write(line)\n",
    "        # If the line is a visit line, then concatenate, the original line with the\n",
    "        # current customer information (the current value of cust_str) and write\n",
    "        # it to the output file\n",
    "        elif items[0] == 'V':\n",
    "            wf.write('%s,C,%s' % (line.strip(), cust_str))\n",
    "        # All other lines write directly to the output file as is\n",
    "        else:\n",
    "            wf.write(line)"
   ]
  },
  {
   "cell_type": "markdown",
   "metadata": {},
   "source": [
    "### HW 4.3"
   ]
  },
  {
   "cell_type": "markdown",
   "metadata": {},
   "source": [
    "Find the 5 most frequently visited pages using MrJob from the output of 4.2 (i.e., transfromed log file)."
   ]
  },
  {
   "cell_type": "code",
   "execution_count": 45,
   "metadata": {
    "collapsed": false
   },
   "outputs": [
    {
     "name": "stdout",
     "output_type": "stream",
     "text": [
      "Overwriting MostFrequentVisits.py\n"
     ]
    }
   ],
   "source": [
    "%%writefile MostFrequentVisits.py\n",
    "\n",
    "from mrjob.job import MRJob\n",
    "#from mrjob.step import MRJobStep\n",
    "from mrjob.step import MRStep\n",
    "import csv\n",
    "\n",
    "def csv_readline(line):\n",
    "    \"\"\"Given a sting CSV line, return a list of strings.\"\"\"\n",
    "    for row in csv.reader([line]):\n",
    "        return row\n",
    "\n",
    "#            'mapred.output.key.comparator.class': 'org.apache.hadoop.mapred.lib.KeyFieldBasedComparator',\n",
    "#            'mapred.text.key.comparator.options': '-k2,2nr',\n",
    "\n",
    "class MRMostFrequentVisits(MRJob):\n",
    "\n",
    "    def mapper_count_visits(self, _, line):\n",
    "        record = csv_readline(line)\n",
    "        if record[0] == 'V':\n",
    "            yield record[1], 1\n",
    "    \n",
    "    def reducer_sum_visits(self, page_id, counts):\n",
    "        yield page_id, sum(counts)\n",
    "    \n",
    "    def reducer_sort_visits(self, page_id, counts):\n",
    "        yield page_id, sum(counts)\n",
    "        \n",
    "    def steps(self):\n",
    "        JOBCONF_STEP2 = {        \n",
    "            'mapreduce.job.output.key.comparator.class': 'org.apache.hadoop.mapred.lib.KeyFieldBasedComparator',\n",
    "            'stream.num.map.output.key.field': 2,\n",
    "            'stream.map.output.field.separator':',',\n",
    "            'mapreduce.partition.keycomparator.options': '-k2,2nr -k1,1',\n",
    "            'mapreduce.job.reduces': '1',\n",
    "        }\n",
    "        return [\n",
    "            MRStep(mapper=self.mapper_count_visits,   # STEP 1:  count the visits\n",
    "                   reducer=self.reducer_sum_visits),\n",
    "            MRStep(jobconf=JOBCONF_STEP2,\n",
    "                    reducer=self.reducer_sort_visits)  # STEP 2:  sort the visits\n",
    "        ]\n",
    "    \n",
    "if __name__ == '__main__':\n",
    "    MRMostFrequentVisits.run()"
   ]
  },
  {
   "cell_type": "code",
   "execution_count": 28,
   "metadata": {
    "collapsed": false
   },
   "outputs": [],
   "source": [
    "# There is a known bug, that step-level jobconf does not work in local and inline modes\n",
    "#!python MostFrequentVisits.py anonymous-msweb_converted.data\n",
    "# The job must be run with args '-r hadoop' to enable step-level jobconf\n",
    "!python MostFrequentVisits.py -r hadoop anonymous-msweb_converted.data"
   ]
  },
  {
   "cell_type": "code",
   "execution_count": 1,
   "metadata": {
    "collapsed": false
   },
   "outputs": [
    {
     "name": "stderr",
     "output_type": "stream",
     "text": [
      "WARNING:mrjob.hadoop:  Unable to load native-hadoop library for your platform... using builtin-java classes where applicable\n",
      "WARNING:mrjob.hadoop:  Unable to load native-hadoop library for your platform... using builtin-java classes where applicable\n",
      "ERROR:mrjob.fs.hadoop:STDERR: 16/06/05 13:26:55 WARN util.NativeCodeLoader: Unable to load native-hadoop library for your platform... using builtin-java classes where applicable\n",
      "\n"
     ]
    },
    {
     "name": "stdout",
     "output_type": "stream",
     "text": [
      "(u'1008', 10836)\n",
      "(u'1034', 9383)\n",
      "(u'1004', 8463)\n",
      "(u'1018', 5330)\n",
      "(u'1017', 5108)\n",
      "(u'1009', 4628)\n",
      "(u'1001', 4451)\n",
      "(u'1026', 3220)\n",
      "(u'1003', 2968)\n",
      "(u'1025', 2123)\n",
      "(u'1035', 1791)\n",
      "(u'1040', 1506)\n",
      "(u'1041', 1500)\n",
      "(u'1032', 1446)\n",
      "(u'1037', 1160)\n",
      "(u'1030', 1115)\n",
      "(u'1038', 1110)\n",
      "(u'1020', 1087)\n",
      "(u'1000', 912)\n",
      "(u'1007', 865)\n",
      "(u'1052', 842)\n",
      "(u'1036', 759)\n",
      "(u'1002', 749)\n",
      "(u'1014', 728)\n",
      "(u'1295', 716)\n",
      "(u'1010', 698)\n",
      "(u'1058', 672)\n",
      "(u'1053', 670)\n",
      "(u'1046', 636)\n",
      "(u'1070', 602)\n",
      "(u'1074', 584)\n",
      "(u'1031', 574)\n",
      "(u'1067', 548)\n",
      "(u'1024', 521)\n",
      "(u'1027', 507)\n",
      "(u'1045', 474)\n",
      "(u'1078', 462)\n",
      "(u'1076', 444)\n",
      "(u'1075', 396)\n",
      "(u'1130', 395)\n",
      "(u'1060', 391)\n",
      "(u'1021', 380)\n",
      "(u'1123', 372)\n",
      "(u'1119', 365)\n",
      "(u'1039', 345)\n",
      "(u'1049', 343)\n",
      "(u'1054', 338)\n",
      "(u'1022', 325)\n",
      "(u'1064', 324)\n",
      "(u'1065', 323)\n"
     ]
    }
   ],
   "source": [
    "from MostFrequentVisits import MRMostFrequentVisits\n",
    "# There is a known bug, that step-level jobconf does not work in local and inline modes\n",
    "#mr_job = MRMostFrequentVisits (args=['anonymous-msweb_converted.data'])\n",
    "# The job must be run with args '-r', 'hadoop' to enable step-level jobconf\n",
    "mr_job = MRMostFrequentVisits (args=['anonymous-msweb_converted.data', '-r', 'hadoop'])\n",
    "with mr_job.make_runner() as runner:\n",
    "    runner.run()\n",
    "    # stream_output and print each line of the output\n",
    "    for counter, line in enumerate(runner.stream_output()):\n",
    "        if counter < 50:\n",
    "            print mr_job.parse_output_line(line)\n",
    "        else:\n",
    "            break"
   ]
  },
  {
   "cell_type": "markdown",
   "metadata": {},
   "source": [
    "### HW 4.4"
   ]
  },
  {
   "cell_type": "markdown",
   "metadata": {},
   "source": [
    "Find the most frequent visitor of each page using MrJob and the output of 4.2 (i.e., transfromed log file). In this output please include the webpage URL, webpageID and Visitor ID."
   ]
  },
  {
   "cell_type": "code",
   "execution_count": 2,
   "metadata": {
    "collapsed": false
   },
   "outputs": [
    {
     "name": "stdout",
     "output_type": "stream",
     "text": [
      "Overwriting MostFrequentVisitors.py\n"
     ]
    }
   ],
   "source": [
    "%%writefile MostFrequentVisitors.py\n",
    "\n",
    "from mrjob.job import MRJob\n",
    "#from mrjob.step import MRJobStep\n",
    "from mrjob.step import MRStep\n",
    "import csv\n",
    "\n",
    "def csv_readline(line):\n",
    "    \"\"\"Given a sting CSV line, return a list of strings.\"\"\"\n",
    "    for row in csv.reader([line]):\n",
    "        return row\n",
    "\n",
    "class MRMostFrequentVisitors(MRJob):\n",
    "\n",
    "    #SORT_VALUES = True\n",
    "    \n",
    "    def mapper_count_visits(self, _, line):\n",
    "        record = csv_readline(line)\n",
    "        if record[0] == 'V':\n",
    "            page_id = record[1]\n",
    "            visitor_id = record[4]\n",
    "            yield (page_id,visitor_id), 1\n",
    "        \n",
    "    def reducer_sum_visits(self, page_visitor_pairs, counts):\n",
    "        yield page_visitor_pairs, sum(counts)\n",
    "    \n",
    "    def reducer_sort_visits(self, _, counts):\n",
    "        yield max(counts)\n",
    "    \n",
    "    def steps(self):\n",
    "        JOBCONF_STEP2 = {        \n",
    "            'mapreduce.job.output.key.comparator.class': 'org.apache.hadoop.mapred.lib.KeyFieldBasedComparator',\n",
    "            'stream.num.map.output.key.field': 2,\n",
    "            'stream.map.output.field.separator':',',\n",
    "            'mapreduce.partition.keycomparator.options': '-k2,2nr -k1,1',\n",
    "            'mapreduce.job.reduces': '1',\n",
    "        }\n",
    "        return [\n",
    "            MRStep(mapper=self.mapper_count_visits,   # STEP 1:  count the visits\n",
    "                   reducer=self.reducer_sum_visits)\n",
    "            MRStep(jobconf=JOBCONF_STEP2,\n",
    "                   reducer=self.reducer_sort_visits)  # STEP 2:  sort the visits\n",
    "        ]\n",
    "    \n",
    "if __name__ == '__main__':\n",
    "    MRMostFrequentVisitors.run()"
   ]
  },
  {
   "cell_type": "code",
   "execution_count": 47,
   "metadata": {
    "collapsed": false
   },
   "outputs": [
    {
     "name": "stderr",
     "output_type": "stream",
     "text": [
      "WARNING:mrjob.hadoop:  Unable to load native-hadoop library for your platform... using builtin-java classes where applicable\n",
      "WARNING:mrjob.hadoop:  Unable to load native-hadoop library for your platform... using builtin-java classes where applicable\n",
      "ERROR:mrjob.fs.hadoop:STDERR: 16/06/05 13:23:54 WARN util.NativeCodeLoader: Unable to load native-hadoop library for your platform... using builtin-java classes where applicable\n",
      "\n"
     ]
    },
    {
     "name": "stdout",
     "output_type": "stream",
     "text": [
      "(u'1008', 10836)\n",
      "(u'1034', 9383)\n",
      "(u'1004', 8463)\n",
      "(u'1018', 5330)\n",
      "(u'1017', 5108)\n"
     ]
    }
   ],
   "source": [
    "from MostFrequentVisits import MRMostFrequentVisits\n",
    "# There is a known bug, that step-level jobconf does not work in local and inline modes\n",
    "#mr_job = MRMostFrequentVisits (args=['anonymous-msweb_converted.data'])\n",
    "# The job must be run with args '-r', 'hadoop' to enable step-level jobconf\n",
    "mr_job = MRMostFrequentVisits (args=['anonymous-msweb_converted.data', '-r', 'hadoop'])\n",
    "with mr_job.make_runner() as runner:\n",
    "    runner.run()\n",
    "    # stream_output and print each line of the output\n",
    "    for counter, line in enumerate(runner.stream_output()):\n",
    "        if counter < 5:\n",
    "            print mr_job.parse_output_line(line)\n",
    "        else:\n",
    "            break"
   ]
  },
  {
   "cell_type": "markdown",
   "metadata": {},
   "source": [
    "### HW 4.5 Clustering Tweet Dataset"
   ]
  },
  {
   "cell_type": "markdown",
   "metadata": {},
   "source": [
    "Here you will use a different dataset consisting of word-frequency distributions for 1,000 Twitter users. These Twitter users use language in very different ways, and were classified by hand according to the criteria:  \n",
    "* 0: Human, where only basic human-human communication is observed.\n",
    "* 1: Cyborg, where language is primarily borrowed from other sources (e.g., jobs listings, classifieds postings, advertisements, etc...).\n",
    "* 2: Robot, where language is formulaically derived from unrelated sources (e.g., weather/seismology, police/fire event logs, etc...).\n",
    "* 3: Spammer, where language is replicated to high multiplicity (e.g., celebrity obsessions, personal promotion, etc... )  \n",
    "\n",
    "Check out the preprints of recent research, which spawned this dataset:  \n",
    "http://arxiv.org/abs/1505.04342 http://arxiv.org/abs/1508.01843  \n",
    "\n",
    "The main data lie in the accompanying file:  topUsers_Apr-Jul_2014_1000-words.txt  \n",
    "and are of the form:  \n",
    "USERID,CODE,TOTAL,WORD1_COUNT,WORD2_COUNT,...  \n",
    "where  \n",
    "* USERID = unique user identifier\n",
    "* CODE = 0/1/2/3 class code\n",
    "* TOTAL = sum of the word counts  \n",
    "\n",
    "Using this data, you will implement a 1000-dimensional K-means algorithm in MrJob on the users by their 1000-dimensional word stripes/vectors using several centroid initializations and values of K.  Note that each \"point\" is a user as represented by 1000 words, and that word-frequency distributions are generally heavy-tailed power-laws (often called Zipf distributions), and are very rare in the larger class of discrete, random distributions. For each user you will have to normalize by its \"TOTAL\" column. Try several parameterizations and initializations:  \n",
    "* (A) K=4 uniform random centroid-distributions over the 1000 words (generate 1000 random numbers and normalize the vectors)\n",
    "* (B) K=2 perturbation-centroids, randomly perturbed from the aggregated (user-wide) distribution\n",
    "* (C) K=4 perturbation-centroids, randomly perturbed from the aggregated (user-wide) distribution\n",
    "* (D) K=4 \"trained\" centroids, determined by the sums across the classes. Use use the (row-normalized) class-level aggregates as 'trained' starting centroids (i.e., the training is already done for you!).  \n",
    "Note that you do not have to compute the aggregated distribution or the class-aggregated distributions, which are rows in the auxiliary file: topUsers_Apr-Jul_2014_1000-words_summaries.txt  \n",
    "* Row 1: Words\n",
    "* Row 2: Aggregated distribution across all classes\n",
    "* Row 3-6 class-aggregated distributions for clases 0-3  \n",
    "For (A), we select 4 users randomly from a uniform distribution [1,...,1,000].  For (B), (C), and (D) you will have to use data from the auxiliary file:  topUsers_Apr-Jul_2014_1000-words_summaries.txt  \n",
    "\n",
    "This file contains 5 special word-frequency distributions:  \n",
    "(1) The 1000-user-wide aggregate, which you will perturb for initializations in parts (B) and (C), and  \n",
    "(2-5) The 4 class-level aggregates for each of the user-type classes (0/1/2/3)  \n",
    "In parts (B) and (C), you will have to perturb the 1000-user aggregate (after initially normalizing by its sum, which is also provided). So if in (B) you want to create 2 perturbations of the aggregate, start with (1), normalize, and generate 1000 random numbers uniformly from the unit interval (0,1) twice (for two centroids), using:  \n",
    "from numpy import random numbers = random.sample(1000)  \n",
    "Take these 1000 numbers and add them (component-wise) to the 1000-user aggregate, and then renormalize to obtain one of your aggregate-perturbed initial centroids.  \n",
    "\n",
    "For experiments A, B, C and D and iterate until a threshold (try 0.001) is reached. After convergence, print out a summary of the classes present in each cluster. In particular, report the composition as measured by the total portion of each class type (0-3) contained in each cluster, and discuss your findings and any differences in outcomes across parts A-D."
   ]
  },
  {
   "cell_type": "code",
   "execution_count": 10,
   "metadata": {
    "collapsed": false
   },
   "outputs": [],
   "source": [
    "# Create a normalized version of the data topUsers_Apr-Jul_2014_1000-words.txt file\n",
    "infile = \"topUsers_Apr-Jul_2014_1000-words.txt\"\n",
    "outfile = \"topUsers_Apr-Jul_2014_1000-words_normalized.txt\"\n",
    "with open(infile, 'r') as rf, open(outfile, 'w') as wf:\n",
    "    for line in rf.readlines():\n",
    "        splt = line.strip().split(',')\n",
    "        total = float(splt[2])\n",
    "        wf.write('%s,%s,%s,' % (splt[0], splt[1], splt[2]))\n",
    "        for i in range(3,len(splt)-1):\n",
    "            wf.write('%f,' % (float(splt[i])/total))\n",
    "        wf.write('%f' % (float(splt[len(splt)-1])/total))\n",
    "        wf.write('\\n')"
   ]
  },
  {
   "cell_type": "code",
   "execution_count": null,
   "metadata": {
    "collapsed": true
   },
   "outputs": [],
   "source": [
    "# Create a normalized version of the data topUsers_Apr-Jul_2014_1000-words.txt file\n",
    "# Exclude the first 3 columns of the data.\n",
    "infile = \"topUsers_Apr-Jul_2014_1000-words.txt\"\n",
    "outfile = \"topUsers_Apr-Jul_2014_1000-words_normalized_only.txt\"\n",
    "with open(infile, 'r') as rf, open(outfile, 'w') as wf:\n",
    "    for line in rf.readlines():\n",
    "        splt = line.strip().split(',')\n",
    "        total = float(splt[2])\n",
    "        for i in range(3,len(splt)-1):\n",
    "            wf.write('%f,' % (float(splt[i])/total))\n",
    "        wf.write('%f' % (float(splt[len(splt)-1])/total))\n",
    "        wf.write('\\n')"
   ]
  },
  {
   "cell_type": "code",
   "execution_count": 6,
   "metadata": {
    "collapsed": false
   },
   "outputs": [],
   "source": [
    "# Create a normalized version of the data topUsers_Apr-Jul_2014_1000-words.txt file\n",
    "# Exclude the entire first row and the first 3 columns of the data.\n",
    "infile = \"topUsers_Apr-Jul_2014_1000-words_summaries.txt\"\n",
    "outfile = \"topUsers_Apr-Jul_2014_1000-words_summaries_normalized_only.txt\"\n",
    "with open(infile, 'r') as rf, open(outfile, 'w') as wf:\n",
    "    counter = 0\n",
    "    for line in rf.readlines():\n",
    "        if counter != 0:\n",
    "            splt = line.strip().split(',')\n",
    "            total = float(splt[2])\n",
    "            for i in range(3,len(splt)-1):\n",
    "                wf.write('%f,' % (float(splt[i])/total))\n",
    "            wf.write('%f' % (float(splt[len(splt)-1])/total))\n",
    "            wf.write('\\n')\n",
    "        counter += 1"
   ]
  },
  {
   "cell_type": "code",
   "execution_count": 12,
   "metadata": {
    "collapsed": false
   },
   "outputs": [
    {
     "name": "stdout",
     "output_type": "stream",
     "text": [
      "Overwriting Kmeans.py\n"
     ]
    }
   ],
   "source": [
    "%%writefile Kmeans.py\n",
    "from numpy import argmin, array, random\n",
    "from mrjob.job import MRJob\n",
    "from mrjob.step import MRStep\n",
    "from itertools import chain\n",
    "import os\n",
    "\n",
    "#Calculate find the nearest centroid for data point \n",
    "def MinDist(datapoint, centroid_points):\n",
    "    datapoint = array(datapoint)\n",
    "    #print(datapoint.shape)\n",
    "    centroid_points = array(centroid_points)\n",
    "    #print(centroid_points.shape)\n",
    "    diff = datapoint - centroid_points \n",
    "    diffsq = diff*diff\n",
    "    # Get the nearest centroid for each instance\n",
    "    minidx = argmin(list(diffsq.sum(axis = 1)))\n",
    "    return minidx\n",
    "\n",
    "#Check whether centroids converge\n",
    "def stop_criterion(centroid_points_old, centroid_points_new,T):\n",
    "    oldvalue = list(chain(*centroid_points_old))\n",
    "    newvalue = list(chain(*centroid_points_new))\n",
    "    Diff = [abs(x-y) for x, y in zip(oldvalue, newvalue)]\n",
    "    Flag = True\n",
    "    for i in Diff:\n",
    "        if(i>T):\n",
    "            Flag = False\n",
    "            break\n",
    "    return Flag\n",
    "\n",
    "class MRKmeans(MRJob):\n",
    "    centroid_points=[]\n",
    "    k=4\n",
    "    def steps(self):\n",
    "        return [\n",
    "            MRStep(mapper_init = self.mapper_init, mapper=self.mapper,combiner = self.combiner,reducer=self.reducer)\n",
    "               ]\n",
    "    #load centroids info from file\n",
    "    def mapper_init(self):\n",
    "        print \"Current path:\", os.path.dirname(os.path.realpath(__file__))\n",
    "        \n",
    "        self.centroid_points = [map(float,s.split('\\n')[0].split(',')) for s in open(\"Centroids.txt\").readlines()]\n",
    "        # This is the line that breaks things with multiple mappers\n",
    "        #open('Centroids.txt', 'w').close()\n",
    "        \n",
    "        #print \"Centroids: \", self.centroid_points\n",
    "        \n",
    "    #load data and output the nearest centroid index and data point \n",
    "    def mapper(self, _, line):\n",
    "        D = (map(float,line.split(',')))\n",
    "        yield int(MinDist(D,self.centroid_points)), (D,1)\n",
    "    \n",
    "    #Combine sum of data points locally\n",
    "    def combiner(self, idx, inputdata):\n",
    "        num = 0\n",
    "        # ?? see if you can parameterize the 1000\n",
    "        sumD = [0.0]*1000\n",
    "        for D,n in inputdata:\n",
    "            num += n\n",
    "            sumD = [x + y for x, y in zip(sumD,D)]\n",
    "        yield idx,(sumD,num)\n",
    "        \n",
    "    #Aggregate sum for each cluster and then calculate the new centroids\n",
    "    def reducer(self, idx, inputdata): \n",
    "        # DOES THIS GET MESSED UP WITH MULTIPLE REDUCERS??\n",
    "        #open('Centroids.txt', 'w').close()\n",
    "        centroids = []\n",
    "        num = [0]*self.k \n",
    "        # ?? see if you can parameterize the 1000\n",
    "        for i in range(self.k):\n",
    "            centroids.append([0.0]*1000)\n",
    "        for D, n in inputdata:\n",
    "            num[idx] = num[idx] + n\n",
    "            centroids[idx] = [x + y for x, y in zip(centroids[idx],D)]\n",
    "        centroids[idx] = [i / float(num[idx]) for i in centroids[idx]]\n",
    "        \n",
    "        #print 'centroids updates:', centroids\n",
    "        \n",
    "        with open('Centroids.txt', 'w') as f:\n",
    "            #f.writelines(str(centroids[idx][0]) + ',' + str(centroids[idx][1]) + '\\n')\n",
    "            #f.writelines(','.join(str(j) for j in centroids[idx]) + '\\n')\n",
    "            f.writelines(','.join(str(j) for j in i) + '\\n' for i in centroids)\n",
    "        yield idx, centroids[idx]\n",
    "      \n",
    "\n",
    "if __name__ == '__main__':\n",
    "    MRKmeans.run()"
   ]
  },
  {
   "cell_type": "code",
   "execution_count": 11,
   "metadata": {
    "collapsed": false
   },
   "outputs": [],
   "source": [
    "import re\n",
    "\n",
    "#Geneate initial centroids FOR PART A\n",
    "def centroid_init_A(k, filename):\n",
    "    centroid_points = []\n",
    "    with open(filename, 'r') as f:\n",
    "        lines = f.readlines()\n",
    "        for i in range(k):\n",
    "            rint = random.randint(0, 999)\n",
    "            #rint = random.randint(0, 9)\n",
    "            rline = lines[rint].strip().split(',')\n",
    "            centroid_points.append([float(s) for s in rline[3:len(rline)]])\n",
    "    with open('Centroids.txt', 'w+') as f:\n",
    "        f.writelines(','.join(str(j) for j in i) + '\\n' for i in centroid_points)\n",
    "    return centroid_points\n",
    "\n",
    "###################################################################################\n",
    "## Geneate random initial centroids around the global aggregate\n",
    "## Part (B) and (C) of this question\n",
    "###################################################################################\n",
    "def centroid_init_BC(k):\n",
    "    counter = 0\n",
    "    for line in open(\"topUsers_Apr-Jul_2014_1000-words_summaries.txt\").readlines():\n",
    "        # Note correction from Kevin from Boulder\n",
    "        if counter == 1:        \n",
    "            data = re.split(\",\",line)\n",
    "            globalAggregate = [float(data[i+3])/float(data[2]) for i in range(1000)]\n",
    "        counter += 1\n",
    "    ## perturb the global aggregate for the four initializations    \n",
    "    centroids = []\n",
    "    for i in range(k):\n",
    "        rndpoints = random.sample(1000)\n",
    "        peturpoints = [rndpoints[n]/10+globalAggregate[n] for n in range(1000)]\n",
    "        centroids.append(peturpoints)\n",
    "        total = 0\n",
    "        for j in range(len(centroids[i])):\n",
    "            total += centroids[i][j]\n",
    "        for j in range(len(centroids[i])):\n",
    "            centroids[i][j] = centroids[i][j]/total\n",
    "    with open('Centroids.txt', 'w+') as f:\n",
    "        f.writelines(','.join(str(j) for j in i) + '\\n' for i in centroids)\n",
    "    return centroids\n",
    "\n",
    "def centroid_init_D(k, filename):\n",
    "    centroid_points = []\n",
    "    with open(filename, 'r') as f:\n",
    "        lines = f.readlines()\n",
    "        for i in range(1,k+1):\n",
    "            rline = lines[i].strip().split(',')\n",
    "            centroid_points.append([float(s) for s in rline])\n",
    "    with open('Centroids.txt', 'w+') as f:\n",
    "        f.writelines(','.join(str(j) for j in i) + '\\n' for i in centroid_points)\n",
    "    return centroid_points\n"
   ]
  },
  {
   "cell_type": "code",
   "execution_count": 15,
   "metadata": {
    "collapsed": false
   },
   "outputs": [
    {
     "name": "stdout",
     "output_type": "stream",
     "text": [
      "iteration0:\n",
      "Current path: /home/hadoop/w261-Assignments/hw4\n",
      "Current path: /home/hadoop/w261-Assignments/hw4\n",
      "key: 2, len: 1000\n",
      "key: 3, len: 1000\n",
      "key: 0, len: 1000\n",
      "key: 1, len: 1000\n",
      "\n",
      "\n",
      "iteration1:\n",
      "Current path: /home/hadoop/w261-Assignments/hw4\n",
      "Current path: /home/hadoop/w261-Assignments/hw4\n",
      "key: 0, len: 1000\n",
      "key: 3, len: 1000\n",
      "\n",
      "\n",
      "iteration2:\n",
      "Current path: /home/hadoop/w261-Assignments/hw4\n",
      "Current path: /home/hadoop/w261-Assignments/hw4\n",
      "key: 0, len: 1000\n",
      "key: 3, len: 1000\n",
      "\n",
      "\n",
      "iteration3:\n",
      "Current path: /home/hadoop/w261-Assignments/hw4\n",
      "Current path: /home/hadoop/w261-Assignments/hw4\n",
      "key: 0, len: 1000\n",
      "key: 3, len: 1000\n",
      "\n",
      "\n",
      "iteration4:\n",
      "Current path: /home/hadoop/w261-Assignments/hw4\n",
      "Current path: /home/hadoop/w261-Assignments/hw4\n",
      "key: 0, len: 1000\n",
      "key: 3, len: 1000\n",
      "\n",
      "\n",
      "iteration5:\n",
      "Current path: /home/hadoop/w261-Assignments/hw4\n",
      "Current path: /home/hadoop/w261-Assignments/hw4\n",
      "key: 0, len: 1000\n",
      "key: 3, len: 1000\n",
      "\n",
      "\n",
      "iteration6:\n",
      "Current path: /home/hadoop/w261-Assignments/hw4\n",
      "Current path: /home/hadoop/w261-Assignments/hw4\n",
      "key: 0, len: 1000\n",
      "key: 3, len: 1000\n",
      "\n",
      "\n",
      "iteration7:\n",
      "Current path: /home/hadoop/w261-Assignments/hw4\n",
      "Current path: /home/hadoop/w261-Assignments/hw4\n",
      "key: 0, len: 1000\n",
      "key: 3, len: 1000\n",
      "\n",
      "\n",
      "iteration8:\n",
      "Current path: /home/hadoop/w261-Assignments/hw4\n",
      "Current path: /home/hadoop/w261-Assignments/hw4\n",
      "key: 0, len: 1000\n",
      "key: 3, len: 1000\n",
      "\n",
      "\n"
     ]
    }
   ],
   "source": [
    "%reload_ext autoreload\n",
    "%autoreload 2\n",
    "from numpy import random\n",
    "from Kmeans import MRKmeans, stop_criterion, MinDist\n",
    "mr_job = MRKmeans(args=['topUsers_Apr-Jul_2014_1000-words_normalized_only.txt', '--file=Centroids.txt'])\n",
    "## how do I pass arguments to this??,  I need to pass k\n",
    "\n",
    "def write_centroids (centroids, hw, fnum, iter_num):\n",
    "    filename = 'centroid_results_' + hw + str(fnum) + '.txt'\n",
    "    with open(filename, 'w+') as f:\n",
    "        f.write('Number of Iterations: %d\\n' % (iter_num))\n",
    "        f.writelines(','.join(str(j) for j in i) + '\\n' for i in centroids)\n",
    "\n",
    "HW_PART = 'D'\n",
    "k = 4\n",
    "if HW_PART == 'A':\n",
    "    centroid_points = centroid_init_A(k, 'topUsers_Apr-Jul_2014_1000-words_normalized.txt')\n",
    "elif HW_PART == 'B':\n",
    "    # Part B is the only part with k=2\n",
    "    k = 2\n",
    "    centroid_points = centroid_init_BC(k)\n",
    "elif HW_PART == 'C':\n",
    "    centroid_points = centroid_init_BC(k)\n",
    "elif HW_PART == 'D':\n",
    "    centroid_points = centroid_init_D(k, 'topUsers_Apr-Jul_2014_1000-words_summaries_normalized_only.txt')\n",
    "    \n",
    "# Update centroids iteratively\n",
    "i = 0\n",
    "while(1):\n",
    "#while(i<=2):\n",
    "    # save previous centoids to check convergency\n",
    "    centroid_points_old = centroid_points[:]\n",
    "    print \"iteration\"+str(i)+\":\"\n",
    "    with mr_job.make_runner() as runner: \n",
    "        runner.run()\n",
    "        # stream_output: get access of the output \n",
    "        for line in runner.stream_output():\n",
    "            key,value =  mr_job.parse_output_line(line)\n",
    "            print('key: %d, len: %d' % (key, len(value)))\n",
    "            #print key, value\n",
    "            centroid_points[key] = value\n",
    "    print \"\\n\"\n",
    "    i += 1\n",
    "    if(stop_criterion(centroid_points_old,centroid_points,0.001)):\n",
    "        break\n",
    "\n",
    "#print \"Centroids\\n\"\n",
    "#for j in range(len(centroid_points)):\n",
    "#    print centroid_points[j]\n",
    "#    print\n",
    "\n",
    "# Write the centroid_points to a file\n",
    "write_centroids(centroid_points, HW_PART, 2, i)"
   ]
  },
  {
   "cell_type": "code",
   "execution_count": 16,
   "metadata": {
    "collapsed": false
   },
   "outputs": [
    {
     "name": "stdout",
     "output_type": "stream",
     "text": [
      "Number of Iterations: 9\n",
      "Cluster 0: \n",
      "[1, 0, 12, 1]\n",
      "[0.0013297872340425532, 0.0, 0.2222222222222222, 0.009708737864077669]\n",
      "Cluster 1: \n",
      "[0, 52, 2, 0]\n",
      "[0.0, 0.5714285714285714, 0.037037037037037035, 0.0]\n",
      "Cluster 2: \n",
      "[1, 36, 38, 4]\n",
      "[0.0013297872340425532, 0.3956043956043956, 0.7037037037037037, 0.038834951456310676]\n",
      "Cluster 3: \n",
      "[750, 3, 2, 98]\n",
      "[0.9973404255319149, 0.03296703296703297, 0.037037037037037035, 0.9514563106796117]\n"
     ]
    }
   ],
   "source": [
    "from Kmeans import MinDist\n",
    "\n",
    "# Reads centroids from a file called filename and returns them as a list of lists\n",
    "def read_centroids (filename):\n",
    "    with open(filename) as f:\n",
    "        lines = f.readlines()\n",
    "        num_iter = lines[0].strip().split()[3]\n",
    "        centroids = [map(float,s.split('\\n')[0].split(',')) for s in lines[1:]]\n",
    "    return centroids, num_iter\n",
    "\n",
    "centroid_points, num_iter = read_centroids('centroid_results_D2.txt')\n",
    "\n",
    "# Summarize the class\n",
    "# Initialize a results array\n",
    "total_codes = [752.0,91.0,54.0,103.0]\n",
    "results_a = []\n",
    "for i in range(len(centroid_points)):\n",
    "    results_a.append([0]*len(total_codes))\n",
    "with open('topUsers_Apr-Jul_2014_1000-words_normalized.txt', 'r') as f:\n",
    "    for line in f.readlines():\n",
    "        rline = line.strip().split(',')\n",
    "        userid = rline[0]\n",
    "        code = int(rline[1])\n",
    "        D = [float(s) for s in rline[3:len(rline)]]\n",
    "        cluster = MinDist(D, centroid_points)\n",
    "        results_a[cluster][code] += 1\n",
    "\n",
    "results_b = []\n",
    "print('Number of Iterations: %s' % (num_iter))\n",
    "for i in range(len(results_a)):\n",
    "    results_b.append([x / y for x, y in zip(results_a[i],total_codes)])\n",
    "    print('Cluster %d: ' % (i))\n",
    "    print(results_a[i])\n",
    "    print(results_b[i])\n"
   ]
  },
  {
   "cell_type": "code",
   "execution_count": 22,
   "metadata": {
    "collapsed": false
   },
   "outputs": [],
   "source": [
    "#### TEST CELL ####\n",
    "filename = \"topUsers_Apr-Jul_2014_1000-words_normalized.txt\"\n",
    "with open(filename, 'r') as f:\n",
    "    for line in f.readlines():\n",
    "        s = line.split(',')\n",
    "        #print(len(s))"
   ]
  },
  {
   "cell_type": "code",
   "execution_count": 27,
   "metadata": {
    "collapsed": false
   },
   "outputs": [
    {
     "name": "stdout",
     "output_type": "stream",
     "text": [
      "[6, 8, 10, 12]\n"
     ]
    }
   ],
   "source": [
    "#### TEST CELL ####\n",
    "l1 = [1, 2, 3, 4]\n",
    "l2 = [5, 6, 7, 8]\n",
    "l3 = [x + y for x, y in zip(l1,l2)]\n",
    "print(l3)"
   ]
  },
  {
   "cell_type": "code",
   "execution_count": 19,
   "metadata": {
    "collapsed": false
   },
   "outputs": [
    {
     "name": "stdout",
     "output_type": "stream",
     "text": [
      "(1000,)\n",
      "(4, 1000)\n",
      "[[ -4.82270000e-02  -1.43480000e-02   3.33740000e-02 ...,   0.00000000e+00\n",
      "    0.00000000e+00   0.00000000e+00]\n",
      " [  2.67210000e-02  -4.06280000e-02  -7.14600000e-03 ...,   0.00000000e+00\n",
      "   -8.30000000e-05  -8.30000000e-05]\n",
      " [  4.30300000e-02  -5.04220000e-02   8.33900000e-03 ...,   0.00000000e+00\n",
      "   -6.70000000e-04  -1.51000000e-04]\n",
      " [ -8.89080000e-02  -4.29300000e-03   3.34010000e-02 ...,   0.00000000e+00\n",
      "    0.00000000e+00   0.00000000e+00]]\n",
      "1\n"
     ]
    }
   ],
   "source": [
    "#### TEST CELL ####\n",
    "from numpy import argmin, array, random\n",
    "from itertools import chain\n",
    "import os\n",
    "from Kmeans import MRKmeans, stop_criterion\n",
    "\n",
    "def MinDist(datapoint, centroid_points):\n",
    "    datapoint = array(datapoint)\n",
    "    print(datapoint.shape)\n",
    "    #print(datapoint)\n",
    "    centroid_points = array(centroid_points)\n",
    "    print(centroid_points.shape)\n",
    "    #print(centroid_points)\n",
    "    diff = datapoint - centroid_points\n",
    "    print(diff)\n",
    "    diffsq = diff*diff\n",
    "    # Get the nearest centroid for each instance\n",
    "    minidx = argmin(list(diffsq.sum(axis = 1)))\n",
    "    return minidx\n",
    "\n",
    "#Geneate initial centroids FOR PART A\n",
    "centroid_points = []\n",
    "k = 4\n",
    "with open('topUsers_Apr-Jul_2014_1000-words_normalized.txt', 'r') as f:\n",
    "    lines = f.readlines()\n",
    "    for i in range(k):\n",
    "        rint = random.randint(0, 999)\n",
    "        rline = lines[rint].strip().split(',')\n",
    "        centroid_points.append([float(s) for s in rline[3:len(rline)]])\n",
    "    rline = lines[0].strip().split(',')\n",
    "    datapoint = [float(s) for s in rline[3:len(rline)]]\n",
    "\n",
    "minidx = MinDist(datapoint, centroid_points)\n",
    "print(minidx)"
   ]
  }
 ],
 "metadata": {
  "kernelspec": {
   "display_name": "Python 2",
   "language": "python",
   "name": "python2"
  },
  "language_info": {
   "codemirror_mode": {
    "name": "ipython",
    "version": 2
   },
   "file_extension": ".py",
   "mimetype": "text/x-python",
   "name": "python",
   "nbconvert_exporter": "python",
   "pygments_lexer": "ipython2",
   "version": "2.7.11"
  }
 },
 "nbformat": 4,
 "nbformat_minor": 0
}
