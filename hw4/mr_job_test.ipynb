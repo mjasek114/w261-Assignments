{
 "cells": [
  {
   "cell_type": "markdown",
   "metadata": {},
   "source": [
    "# MRJob Test DATASCI W261: Machine Learning at Scale \n",
    "\n",
    "* **Name:**  Megan Jasek\n",
    "* **Email:**  meganjasek@ischool.berkeley.edu\n",
    "* **Class Name:**  W261-2\n",
    "* **Week Number:**  4\n",
    "* **Date:**  5/31/16"
   ]
  },
  {
   "cell_type": "code",
   "execution_count": 1,
   "metadata": {
    "collapsed": false
   },
   "outputs": [
    {
     "name": "stdout",
     "output_type": "stream",
     "text": [
      "Writing mr_wc.py\n"
     ]
    }
   ],
   "source": [
    "%%writefile mr_wc.py\n",
    "\"\"\"An implementation of wc as an MRJob.\n",
    "This is meant as an example of why mapper_final is useful.\"\"\"\n",
    "from mrjob.job import MRJob\n",
    "\n",
    "class MRWordCountUtility(MRJob):\n",
    "    def __init__(self, *args, **kwargs):\n",
    "        super(MRWordCountUtility, self).__init__(*args, **kwargs)\n",
    "        self.chars=0\n",
    "        self.words=0\n",
    "        self.lines=0\n",
    "    def mapper(self, _, line):\n",
    "        # Don't actually yield anything for each\n",
    "        # line. Instead, collect them and yield the\n",
    "        # sums when all lines have been processed.\n",
    "        # The results will be collected by the\n",
    "        # reducer.\n",
    "        self.chars+=len(line) + 1 # +1 for newline\n",
    "        self.words+=sum(1 for word in line.split() if word.strip())\n",
    "        self.lines+=1\n",
    "    def mapper_final(self):\n",
    "        yield('chars',self.chars)\n",
    "        yield('words',self.words)\n",
    "        yield('lines',self.lines)\n",
    "    def reducer(self, key, values):\n",
    "        yield(key, sum(values))\n",
    "        \n",
    "if __name__ == '__main__':\n",
    "    MRWordCountUtility.run()"
   ]
  },
  {
   "cell_type": "code",
   "execution_count": 2,
   "metadata": {
    "collapsed": false
   },
   "outputs": [
    {
     "name": "stdout",
     "output_type": "stream",
     "text": [
      "No configs found; falling back on auto-configuration\r\n",
      "Creating temp directory /tmp/mr_wc.hadoop.20160531.224159.249167\r\n",
      "Running step 1 of 1...\r\n",
      "Streaming final output from /tmp/mr_wc.hadoop.20160531.224159.249167/output...\r\n",
      "\"words\"\t102\r\n",
      "\"chars\"\t987\r\n",
      "\"lines\"\t28\r\n",
      "Removing temp directory /tmp/mr_wc.hadoop.20160531.224159.249167...\r\n"
     ]
    }
   ],
   "source": [
    "!python mr_wc.py mr_wc.py"
   ]
  },
  {
   "cell_type": "code",
   "execution_count": 3,
   "metadata": {
    "collapsed": false
   },
   "outputs": [
    {
     "name": "stdout",
     "output_type": "stream",
     "text": [
      "(u'words', 102)\n",
      "(u'chars', 987)\n",
      "(u'lines', 28)\n"
     ]
    }
   ],
   "source": [
    "from mr_wc import MRWordCountUtility\n",
    "\n",
    "mr_job= MRWordCountUtility(args=[\"mr_wc.py\"])\n",
    "\n",
    "with mr_job.make_runner() as runner:\n",
    "    runner.run()\n",
    "    for line in runner.stream_output():\n",
    "        print mr_job.parse_output_line(line)"
   ]
  }
 ],
 "metadata": {
  "kernelspec": {
   "display_name": "Python 2",
   "language": "python",
   "name": "python2"
  },
  "language_info": {
   "codemirror_mode": {
    "name": "ipython",
    "version": 2
   },
   "file_extension": ".py",
   "mimetype": "text/x-python",
   "name": "python",
   "nbconvert_exporter": "python",
   "pygments_lexer": "ipython2",
   "version": "2.7.11"
  }
 },
 "nbformat": 4,
 "nbformat_minor": 0
}
