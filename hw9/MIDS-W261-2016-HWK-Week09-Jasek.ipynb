{
 "cells": [
  {
   "cell_type": "code",
   "execution_count": 1,
   "metadata": {
    "collapsed": false
   },
   "outputs": [
    {
     "data": {
      "application/javascript": [
       "/**********************************************************************************************\n",
       "Known Mathjax Issue with Chrome - a rounding issue adds a border to the right of mathjax markup\n",
       "https://github.com/mathjax/MathJax/issues/1300\n",
       "A quick hack to fix this based on stackoverflow discussions: \n",
       "http://stackoverflow.com/questions/34277967/chrome-rendering-mathjax-equations-with-a-trailing-vertical-line\n",
       "**********************************************************************************************/\n",
       "\n",
       "$('.math>span').css(\"border-left-color\",\"transparent\")"
      ],
      "text/plain": [
       "<IPython.core.display.Javascript object>"
      ]
     },
     "metadata": {},
     "output_type": "display_data"
    }
   ],
   "source": [
    "%%javascript\n",
    "/**********************************************************************************************\n",
    "Known Mathjax Issue with Chrome - a rounding issue adds a border to the right of mathjax markup\n",
    "https://github.com/mathjax/MathJax/issues/1300\n",
    "A quick hack to fix this based on stackoverflow discussions: \n",
    "http://stackoverflow.com/questions/34277967/chrome-rendering-mathjax-equations-with-a-trailing-vertical-line\n",
    "**********************************************************************************************/\n",
    "\n",
    "$('.math>span').css(\"border-left-color\",\"transparent\")"
   ]
  },
  {
   "cell_type": "code",
   "execution_count": null,
   "metadata": {
    "collapsed": true
   },
   "outputs": [],
   "source": [
    "%reload_ext autoreload\n",
    "%autoreload 2"
   ]
  },
  {
   "cell_type": "markdown",
   "metadata": {},
   "source": [
    "# DATASCI W261 - Machine Learning At Scale\n",
    "## Assignment - Week 09\n",
    "---\n",
    "\n",
    "* **Name:**  Megan Jasek\n",
    "* **Email:**  meganjasek@ischool.berkeley.edu\n",
    "* **Class Name:**  W261-2\n",
    "* **Date:**  7/17/16\n",
    "\n",
    "---\n",
    "### Instructions\n",
    "\n",
    "Due by 07/17/2016\n",
    "\n",
    "[Submission Link - Google Form](https://docs.google.com/forms/d/1ZOr9RnIe_A06AcZDB6K1mJN4vrLeSmS2PD6Xm3eOiis/viewform?usp=send_form) \n",
    "\n",
    "### Documents:\n",
    "* IPython Notebook, published and viewable online.\n",
    "* PDF export of IPython Notebook.\n",
    "    \n",
    "### Useful References\n",
    "\n",
    "* Data-intensive text processing with MapReduce. San Rafael, CA: Morgan & Claypool Publishers. Chapter 5. \n",
    "\n",
    "\n",
    "---"
   ]
  },
  {
   "cell_type": "markdown",
   "metadata": {},
   "source": [
    "<h2 style=\"color:darkblue\">HW 9 Dataset</h2>\n",
    "\n",
    "Note that all referenced files life in the enclosing directory. [Checkout the Data subdirectory on Dropbox](https://www.dropbox.com/sh/2c0k5adwz36lkcw/AAAAKsjQfF9uHfv-X9mCqr9wa?dl=0) or the AWS S3 buckets (details contained each question). "
   ]
  },
  {
   "cell_type": "markdown",
   "metadata": {},
   "source": [
    "<h2 style=\"color:darkblue\"> HW 9.0: Short answer questions </h2>\n",
    "\n",
    "__ What is PageRank and what is it used for in the context of web search?__\n",
    "\n",
    "\n",
    "\n",
    "<hr>\n",
    "\n",
    "__ What modifications have to be made to the webgraph in order to leverage the machinery of Markov Chains to compute the Steady State Distibution? __\n",
    "\n",
    "\n",
    "\n",
    "<hr>\n",
    "\n",
    "__ OPTIONAL: In topic-specific pagerank, how can we ensure that the irreducible property is satifsied? (HINT: see HW9.4) __\n",
    "\n",
    "\n",
    "\n",
    "<hr>\n"
   ]
  },
  {
   "cell_type": "markdown",
   "metadata": {},
   "source": [
    "<h2 style=\"color:darkblue\"> HW 9.1: MRJob implementation of basic PageRank </h2>\n",
    "\n",
    "Write a basic MRJob implementation of the iterative PageRank algorithm that takes sparse adjacency lists as input (as explored in HW 7).\n",
    "\n",
    "Make sure that you implementation utilizes teleportation (1-damping/the number of nodes in the network), and further, distributes the mass of dangling nodes with each iteration so that the output of each iteration is correctly normalized (sums to 1).\n",
    "\n",
    "\n",
    "[NOTE: The PageRank algorithm assumes that a random surfer (walker), starting from a random web page, chooses the next page to which it will move by clicking at random, with probability d,one of the hyperlinks in the current page. This probability is represented by a so-called *damping factor* d, where d ∈ (0, 1). Otherwise, with probability (1 − d), the surfer jumps to any web page in the network. If a page is a dangling end, meaning it has no outgoing hyperlinks, the random surfer selects an arbitrary web page from a uniform distribution and “teleports” to that page]\n",
    "\n",
    "\n",
    "As you build your code, use the test data:\n",
    "\n",
    "> s3://ucb-mids-mls-networks/PageRank-test.txt\n",
    "\n",
    "Or under the Data Subfolder for HW7 on Dropbox with the same file name. \n",
    "> Dropbox: https://www.dropbox.com/sh/2c0k5adwz36lkcw/AAAAKsjQfF9uHfv-X9mCqr9wa?dl=0\n",
    "\n",
    "with teleportation parameter set to 0.15 (1-d, where d, the damping factor is set to 0.85), and crosscheck your work with the true result, displayed in the first image in the [Wikipedia article](https://en.wikipedia.org/wiki/PageRank)\n",
    "and here for reference are the corresponding PageRank probabilities:\n",
    "<pre>\n",
    "\n",
    "A, 0.033\n",
    "B, 0.384\n",
    "C, 0.343\n",
    "D, 0.039\n",
    "E, 0.081\n",
    "F, 0.039\n",
    "G, 0.016\n",
    "H, 0.016\n",
    "I, 0.016\n",
    "J, 0.016\n",
    "K, 0.016\n",
    "\n",
    "</pre>"
   ]
  },
  {
   "cell_type": "markdown",
   "metadata": {},
   "source": [
    "<h2 style=\"color:darkgreen\"> HW 9.1 Implementation </h2>"
   ]
  },
  {
   "cell_type": "markdown",
   "metadata": {},
   "source": [
    "### Create test file:  PageRank-test.txt"
   ]
  },
  {
   "cell_type": "code",
   "execution_count": 3,
   "metadata": {
    "collapsed": false
   },
   "outputs": [
    {
     "name": "stdout",
     "output_type": "stream",
     "text": [
      "Writing PageRank-test.txt\n"
     ]
    }
   ],
   "source": [
    "%%writefile PageRank-test.txt\n",
    "B\t{'C': 1}\n",
    "C\t{'B': 1}\n",
    "D\t{'A': 1, 'B': 1}\n",
    "E\t{'D': 1, 'B': 1, 'F': 1}\n",
    "F\t{'B': 1, 'E': 1}\n",
    "G\t{'B': 1, 'E': 1}\n",
    "H\t{'B': 1, 'E': 1}\n",
    "I\t{'B': 1, 'E': 1}\n",
    "J\t{'E': 1}\n",
    "K\t{'E': 1}"
   ]
  },
  {
   "cell_type": "markdown",
   "metadata": {},
   "source": [
    "### Expected Output from PageRank-test.txt\n",
    "\n",
    "https://en.wikipedia.org/wiki/PageRank\n",
    "\n",
    "and here for reference are the corresponding PageRank probabilities:\n",
    "\n",
    "A, 0.033  \n",
    "B, 0.384  \n",
    "C, 0.343  \n",
    "D, 0.039  \n",
    "E, 0.081  \n",
    "F, 0.039  \n",
    "G, 0.016  \n",
    "H, 0.016  \n",
    "I, 0.016  \n",
    "J, 0.016  \n",
    "K, 0.016  \n",
    "\n",
    "0.999 = 0.033+0.384+0.343+0.039+0.081+0.039+0.016+0.016+0.016+0.016+0.016"
   ]
  },
  {
   "cell_type": "markdown",
   "metadata": {},
   "source": [
    "### Create test file:  Lecture9_10_test.txt"
   ]
  },
  {
   "cell_type": "code",
   "execution_count": 2,
   "metadata": {
    "collapsed": false
   },
   "outputs": [
    {
     "name": "stdout",
     "output_type": "stream",
     "text": [
      "Writing Lecture9_10_test.txt\n"
     ]
    }
   ],
   "source": [
    "%%writefile Lecture9_10_test.txt\n",
    "N1\t{'N2': 1, 'N4': 1}\n",
    "N2\t{'N3': 1, 'N5': 1}\n",
    "N3\t{'N4': 1}\n",
    "N4\t{'N5': 1}\n",
    "N5\t{'N1': 1, 'N2': 1, 'N3': 1}"
   ]
  },
  {
   "cell_type": "markdown",
   "metadata": {},
   "source": [
    "### Expected Output from Lecture9_10_test.txt\n",
    "\n",
    "Iteration 10  \n",
    "N1 [{u'N2': 1, u'N4': 1}, 0.10593707133058988]  \n",
    "N2 [{u'N3': 1, u'N5': 1}, 0.1575895919067216]  \n",
    "N3 [{u'N4': 1}, 0.18432891803840884]  \n",
    "N4 [{u'N5': 1}, 0.23511445473251036]  \n",
    "N5 [{u'N1': 1, u'N2': 1, u'N3': 1}, 0.31702996399176964]  \n",
    "Total Error:  0.00860982510288  "
   ]
  },
  {
   "cell_type": "markdown",
   "metadata": {},
   "source": [
    "### Create test file:  Lecture9_10d_test.txt"
   ]
  },
  {
   "cell_type": "code",
   "execution_count": 46,
   "metadata": {
    "collapsed": false
   },
   "outputs": [
    {
     "name": "stdout",
     "output_type": "stream",
     "text": [
      "Writing Lecture9_10d_test.txt\n"
     ]
    }
   ],
   "source": [
    "%%writefile Lecture9_10d_test.txt\n",
    "N1\t{'N2': 1, 'N4': 1}\n",
    "N2\t{'N3': 1, 'N5': 1}\n",
    "N3\t{'N4': 1}\n",
    "N4\t{'N5': 1, 'N6': 1}\n",
    "N5\t{'N1': 1, 'N2': 1, 'N3': 1}"
   ]
  },
  {
   "cell_type": "code",
   "execution_count": 6,
   "metadata": {
    "collapsed": false
   },
   "outputs": [
    {
     "name": "stdout",
     "output_type": "stream",
     "text": [
      "Overwriting PageRankInit.py\n"
     ]
    }
   ],
   "source": [
    "%%writefile PageRankInit.py\n",
    "from mrjob.job import MRJob\n",
    "from mrjob.step import MRStep\n",
    "import ast\n",
    "import json\n",
    "\n",
    "# This class takes an adjacency list as input and outputs and initialized work file with \n",
    "# the following format:\n",
    "# node_number \\t [adjacency_list, infinity, '', 'U']\n",
    "# One starting node is defined as an argument passed in to the class.  The default is node '1'.\n",
    "# That starting node has the format:\n",
    "# node_number \\t [adjacency_list, 0.0, '', 'Q']\n",
    "# U means Unvisited\n",
    "# Q means Queued in the queue\n",
    "class MRPageRankInit(MRJob):\n",
    "    def configure_options(self):\n",
    "        # Configure a new command line option to capture the stop_index for the shortest path\n",
    "        super(MRPageRankInit, self).configure_options()\n",
    "        self.add_passthrough_option('--platform', type='str', default='hadoop')\n",
    "\n",
    "    def __init__(self, *args, **kwargs):\n",
    "        super(MRPageRankInit, self).__init__(*args, **kwargs)\n",
    "        self.total_nodes_calculated = False\n",
    "        self.total_nodes = 0\n",
    "\n",
    "    # For the node equal to the start index, yield\n",
    "    #    node_number \\t tuple(adj_list, 0.0, \"\", 'Q')\n",
    "    # For all other nodes, yield\n",
    "    #    node_number \\t tuple(adj_list, infinity, \"\", 'U')    \n",
    "    def mapper(self, _, line):\n",
    "        node_num, adj_dict = line.strip().split('\\t')\n",
    "        adj_dict = ast.literal_eval(adj_dict)\n",
    "        self.total_nodes += 1\n",
    "        yield node_num, tuple((adj_dict, 1.0))\n",
    "        yield '*' + node_num, 1\n",
    "        for node in adj_dict:\n",
    "            yield node, tuple(({}, 1.0))\n",
    "            yield '*' + node, 1\n",
    "\n",
    "    def reducer(self, node_num, data):\n",
    "        if node_num[0] == '*':\n",
    "            self.total_nodes += 1\n",
    "        else:\n",
    "            if self.total_nodes_calculated == False:\n",
    "                yield '*total_nodes', self.total_nodes\n",
    "                self.total_nodes_calculated = True\n",
    "            f_adj_dict = {}\n",
    "            for adj_dict, value in data:\n",
    "                if adj_dict != {} and f_adj_dict == {}:\n",
    "                    f_adj_dict = adj_dict\n",
    "            #print node_num, tuple((f_adj_dict, 1.0/self.total_nodes))\n",
    "            yield node_num, tuple((f_adj_dict, 1.0/self.total_nodes))\n",
    "        \n",
    "    # Create the steps for the MRJob.  There is only a mapper in this job.\n",
    "    # Run with 1 reducer when not running in Hadoop\n",
    "    def steps(self):\n",
    "        JOBCONF_STEP_LOCAL = {\n",
    "            'mapreduce.job.reduces': '1'\n",
    "        }\n",
    "        if self.options.platform == 'local':\n",
    "            JOBCONF_STEP = JOBCONF_STEP_LOCAL\n",
    "        else:\n",
    "            JOBCONF_STEP = {}\n",
    "        return [\n",
    "            MRStep(jobconf=JOBCONF_STEP,\n",
    "                   mapper=self.mapper,\n",
    "                   reducer=self.reducer)\n",
    "               ]\n",
    "            \n",
    "if __name__ == '__main__':\n",
    "    MRPageRankInit.run()"
   ]
  },
  {
   "cell_type": "code",
   "execution_count": 71,
   "metadata": {
    "collapsed": false
   },
   "outputs": [
    {
     "name": "stdout",
     "output_type": "stream",
     "text": [
      "No configs found; falling back on auto-configuration\n",
      "Creating temp directory /tmp/PageRankInit.hadoop.20160714.065856.164552\n",
      "Running step 1 of 1...\n",
      "N1 ({u'N2': 1, u'N4': 1}, 0.16666666666666666)\n",
      "N2 ({u'N3': 1, u'N5': 1}, 0.16666666666666666)\n",
      "N3 ({u'N4': 1}, 0.16666666666666666)\n",
      "N4 ({u'N5': 1, u'N6': 1}, 0.16666666666666666)\n",
      "N5 ({u'N1': 1, u'N2': 1, u'N3': 1}, 0.16666666666666666)\n",
      "N6 ({}, 0.16666666666666666)\n",
      "Streaming final output from /tmp/PageRankInit.hadoop.20160714.065856.164552/output...\n",
      "\"*total_nodes\"\t6\n",
      "\"N1\"\t[{\"N2\": 1, \"N4\": 1}, 0.16666666666666666]\n",
      "\"N2\"\t[{\"N3\": 1, \"N5\": 1}, 0.16666666666666666]\n",
      "\"N3\"\t[{\"N4\": 1}, 0.16666666666666666]\n",
      "\"N4\"\t[{\"N5\": 1, \"N6\": 1}, 0.16666666666666666]\n",
      "\"N5\"\t[{\"N1\": 1, \"N2\": 1, \"N3\": 1}, 0.16666666666666666]\n",
      "\"N6\"\t[{}, 0.16666666666666666]\n",
      "Removing temp directory /tmp/PageRankInit.hadoop.20160714.065856.164552...\n"
     ]
    }
   ],
   "source": [
    "#!python PageRankInit.py Lecture9_10_test.txt '--platform=local'\n",
    "#!python PageRankInit.py PageRank-test.txt '--platform=local'\n",
    "!python PageRankInit.py Lecture9_10d_test.txt '--platform=local'"
   ]
  },
  {
   "cell_type": "code",
   "execution_count": 1,
   "metadata": {
    "collapsed": false
   },
   "outputs": [
    {
     "name": "stdout",
     "output_type": "stream",
     "text": [
      "Overwriting PageRankStep1.py\n"
     ]
    }
   ],
   "source": [
    "%%writefile PageRankStep1.py\n",
    "from mrjob.job import MRJob\n",
    "from mrjob.step import MRStep\n",
    "import json\n",
    "\n",
    "class MRPageRankStep1(MRJob):\n",
    "    def configure_options(self):\n",
    "        # Configure a new command line option to capture the stop_index for the shortest path\n",
    "        super(MRPageRankStep1, self).configure_options()\n",
    "        self.add_passthrough_option('--num_converter', type='int', default=1)\n",
    "\n",
    "    def __init__(self, *args, **kwargs):\n",
    "        super(MRPageRankStep1, self).__init__(*args, **kwargs)\n",
    "        self.total_page_rank_dangling = 0.0\n",
    "    \n",
    "    def mapper(self, key, line):\n",
    "        node_num, data = line.strip().split('\\t')\n",
    "        node_num = node_num.strip('\"')\n",
    "        #print node_num, data\n",
    "        if node_num != '*total_nodes':\n",
    "            data = json.loads(data)\n",
    "            adj_dict = data[0]\n",
    "            degree = float(len(adj_dict))\n",
    "            page_rank = data[1]\n",
    "            # If the node is a dangling node, then add its page rank to the dangling mass count\n",
    "            if adj_dict == {}:\n",
    "                self.total_page_rank_dangling += page_rank\n",
    "            # Yield the node to preserve the graph structure\n",
    "            yield node_num, tuple((adj_dict, 0.0))\n",
    "            for node, value in adj_dict.iteritems():\n",
    "                yield node, tuple(({}, page_rank/degree))\n",
    "    \n",
    "    def mapper_final(self):\n",
    "        #print self.options.num_converter\n",
    "        yield '*total_dangling', tuple(({}, self.total_page_rank_dangling))\n",
    "    \n",
    "    def reducer(self, node, data):\n",
    "        #print node\n",
    "        #yield node, None\n",
    "        if node == '*total_dangling':\n",
    "            for adj_dict, value in data:\n",
    "                self.total_page_rank_dangling += float(value)\n",
    "            #print 'dm: ', self.total_page_rank_dangling\n",
    "            self.increment_counter('PageRank_Counters', 'Dangling_Mass', \n",
    "                                   int(self.options.num_converter*self.total_page_rank_dangling))\n",
    "        else:\n",
    "            f_adj_dict = {}\n",
    "            f_page_rank = 0.0\n",
    "            for adj_dict, page_rank in data:\n",
    "                if adj_dict != {} and f_adj_dict == {}:\n",
    "                    f_adj_dict = adj_dict\n",
    "                f_page_rank += float(page_rank)\n",
    "            yield node, tuple((f_adj_dict, f_page_rank))\n",
    "\n",
    "    def steps(self):\n",
    "        JOBCONF_STEP = {        \n",
    "            'mapreduce.job.reduces': '10'\n",
    "        }\n",
    "        return [\n",
    "            MRStep(jobconf=JOBCONF_STEP,\n",
    "                   mapper=self.mapper, mapper_final=self.mapper_final,\n",
    "                   reducer=self.reducer)\n",
    "               ]\n",
    "            \n",
    "if __name__ == '__main__':\n",
    "    MRPageRankStep1.run()"
   ]
  },
  {
   "cell_type": "markdown",
   "metadata": {},
   "source": [
    "### Test PageRankStep1 locally and in HDFS"
   ]
  },
  {
   "cell_type": "code",
   "execution_count": 2,
   "metadata": {
    "collapsed": false
   },
   "outputs": [
    {
     "name": "stdout",
     "output_type": "stream",
     "text": [
      "No configs found; falling back on auto-configuration\n",
      "Creating temp directory /tmp/PageRankStep1.hadoop.20160716.052020.268331\n",
      "Running step 1 of 1...\n",
      "Counters: 1\n",
      "\tPageRank_Counters\n",
      "\t\tDangling_Mass=909090909\n",
      "Streaming final output from /tmp/PageRankStep1.hadoop.20160716.052020.268331/output...\n",
      "\"B\"\t[{\"C\": 1}, 0.3484848484848485]\n",
      "\"C\"\t[{\"B\": 1}, 0.09090909090909091]\n",
      "\"D\"\t[{\"A\": 1, \"B\": 1}, 0.030303030303030304]\n",
      "\"E\"\t[{\"B\": 1, \"D\": 1, \"F\": 1}, 0.36363636363636365]\n",
      "\"A\"\t[{}, 0.045454545454545456]\n",
      "\"H\"\t[{\"B\": 1, \"E\": 1}, 0.0]\n",
      "\"I\"\t[{\"B\": 1, \"E\": 1}, 0.0]\n",
      "\"J\"\t[{\"E\": 1}, 0.0]\n",
      "\"K\"\t[{\"E\": 1}, 0.0]\n",
      "\"F\"\t[{\"B\": 1, \"E\": 1}, 0.030303030303030304]\n",
      "\"G\"\t[{\"B\": 1, \"E\": 1}, 0.0]\n",
      "Removing temp directory /tmp/PageRankStep1.hadoop.20160716.052020.268331...\n"
     ]
    }
   ],
   "source": [
    "iterations = 1\n",
    "total_nodes = 11.0\n",
    "#total_nodes = 15192277.0\n",
    "\n",
    "# Set the damping factor\n",
    "damping_factor = 0.85\n",
    "num_converter = 10000000000\n",
    "#!hdfs dfs -rm -r /user/hadoop/HW9Output/PageRank1\n",
    "#!hdfs dfs -rm -r /user/hadoop/HW9Input/PageRank1\n",
    "#!hdfs dfs -cp /user/hadoop/HW9Results/PageRankInit_test /user/hadoop/HW9Input/PageRank1\n",
    "#!hdfs dfs -copyToLocal /user/hadoop/HW9Input/PageRank1/part-00000 pagerank1_test.txt\n",
    "#!python PageRankInit.py Lecture9_10d_test.txt '--platform=local'\n",
    "!python PageRankStep1.py pagerank1_test.txt '--num_converter=10000000000'\n",
    "#!python PageRankStep1.py hdfs:///user/hadoop/HW9Input/PageRank1 -r hadoop '--num_converter=10000000000'"
   ]
  },
  {
   "cell_type": "code",
   "execution_count": 8,
   "metadata": {
    "collapsed": false
   },
   "outputs": [
    {
     "name": "stdout",
     "output_type": "stream",
     "text": [
      "Overwriting PageRankStep2.py\n"
     ]
    }
   ],
   "source": [
    "%%writefile PageRankStep2.py\n",
    "from mrjob.job import MRJob\n",
    "from mrjob.step import MRStep\n",
    "import json\n",
    "\n",
    "class MRPageRankStep2(MRJob):\n",
    "    def configure_options(self):\n",
    "        # Configure a new command line option to capture the stop_index for the shortest path\n",
    "        super(MRPageRankStep2, self).configure_options()\n",
    "        self.add_passthrough_option('--damping_factor', type='float', default=0.15)\n",
    "        self.add_passthrough_option('--total_nodes', type='float', default=1.0)\n",
    "        self.add_passthrough_option('--dangling_mass', type='float', default=0.0)\n",
    "\n",
    "    def mapper(self, key, line):\n",
    "        node_num, data = line.strip().split('\\t')\n",
    "        node_num = node_num.strip('\"')\n",
    "        #print node_num, data\n",
    "        if node_num != '*total_nodes':\n",
    "            data = json.loads(data)\n",
    "            adj_dict = data[0]\n",
    "            page_rank = data[1]\n",
    "            f_page_rank = (1-self.options.damping_factor)*(1.0/self.options.total_nodes)+ \\\n",
    "                self.options.damping_factor*((self.options.dangling_mass/self.options.total_nodes)+page_rank)\n",
    "            #print node_num, tuple((adj_dict, f_page_rank))                    \n",
    "            yield node_num, tuple((adj_dict, f_page_rank))\n",
    "\n",
    "    def steps(self):\n",
    "        return [\n",
    "            MRStep(mapper=self.mapper)\n",
    "               ]\n",
    "            \n",
    "if __name__ == '__main__':\n",
    "    MRPageRankStep2.run()"
   ]
  },
  {
   "cell_type": "code",
   "execution_count": 9,
   "metadata": {
    "collapsed": false
   },
   "outputs": [
    {
     "name": "stdout",
     "output_type": "stream",
     "text": [
      "A ({}, 0.09090909090909091)\n",
      "B ({u'C': 1}, 0.09090909090909091)\n",
      "C ({u'B': 1}, 0.09090909090909091)\n",
      "D ({u'A': 1, u'B': 1}, 0.09090909090909091)\n",
      "E ({u'B': 1, u'D': 1, u'F': 1}, 0.09090909090909091)\n",
      "F ({u'B': 1, u'E': 1}, 0.09090909090909091)\n",
      "G ({u'B': 1, u'E': 1}, 0.09090909090909091)\n",
      "H ({u'B': 1, u'E': 1}, 0.09090909090909091)\n",
      "I ({u'B': 1, u'E': 1}, 0.09090909090909091)\n",
      "J ({u'E': 1}, 0.09090909090909091)\n",
      "K ({u'E': 1}, 0.09090909090909091)\n",
      "dm 0.0909090909\n",
      "dm 0.0592975206\n",
      "dm 0.0379464062\n",
      "dm 0.0640190695\n",
      "dm 0.0375959647\n",
      "dm 0.0386749363\n",
      "dm 0.0341177257\n",
      "dm 0.0346526855\n",
      "dm 0.0332641479\n",
      "dm 0.0332687067\n",
      "dm 0.0329301017\n",
      "dm 0.0329194443\n",
      "dm 0.0328282893\n",
      "dm 0.0328197384\n",
      "dm 0.0327957341\n",
      "dm 0.0327922737\n",
      "dm 0.0327858041\n",
      "dm 0.0327845371\n",
      "dm 0.0327827832\n",
      "dm 0.0327823577\n",
      "dm 0.032781877\n",
      "dm 0.0327817395\n",
      "dm 0.0327816067\n",
      "dm 0.0327815636\n",
      "dm 0.0327815266\n",
      "dm 0.0327815133\n",
      "dm 0.0327815029\n",
      "dm 0.0327814989\n",
      "dm 0.032781496\n",
      "dm 0.0327814948\n"
     ]
    }
   ],
   "source": [
    "import PageRankStep1\n",
    "import PageRankStep2\n",
    "import PageRankInit\n",
    "reload(PageRankStep1)\n",
    "reload(PageRankStep2)\n",
    "reload(PageRankInit)\n",
    "import json\n",
    "\n",
    "# Set the damping factor\n",
    "damping_factor = 0.85\n",
    "#damping_factor = 1.0\n",
    "epsilon = 0.01\n",
    "iterations = 30\n",
    "num_converter = 10000000000\n",
    "\n",
    "# Set the name of the file that gets passed from iteration to iteration\n",
    "work_filename = 'work_table.txt'\n",
    "\n",
    "# Initialize a list ot store the page_ranks from iteration to iteration\n",
    "page_ranks = []\n",
    "# Call the PageRankInit MRJob\n",
    "#mr_job = PageRankInit.MRPageRankInit(args=['Lecture9_10_test.txt', '--platform', 'local'])\n",
    "#mr_job = PageRankInit.MRPageRankInit(args=['Lecture9_10d_test.txt', '--platform', 'local'])\n",
    "mr_job = PageRankInit.MRPageRankInit(args=['PageRank-test.txt', '--platform', 'local'])\n",
    "with mr_job.make_runner() as runner, open(work_filename, 'w') as f: \n",
    "    runner.run()\n",
    "    # stream_output: get access of the output \n",
    "    for line in runner.stream_output():\n",
    "        key, value =  mr_job.parse_output_line(line)\n",
    "        # Store the total_nodes\n",
    "        if key == '*total_nodes':\n",
    "            total_nodes = float(value)\n",
    "        else:\n",
    "            page_ranks.append(value[1])\n",
    "        f.write(key+'\\t'+json.dumps(value)+'\\n')\n",
    "\n",
    "work_filename_1 = 'work_table_1.txt'\n",
    "work_filename_2 = 'work_table_2.txt'\n",
    "i = 0\n",
    "while(i < iterations):\n",
    "    # Run the PageRankStep1 MRJob\n",
    "    mr_job = PageRankStep1.MRPageRankStep1(args=[work_filename, '--num_converter', str(num_converter)])\n",
    "    with mr_job.make_runner() as runner, open(work_filename_1, 'w') as f: \n",
    "        runner.run()\n",
    "        # stream_output: get access of the output \n",
    "        for line in runner.stream_output():\n",
    "            key, value =  mr_job.parse_output_line(line)\n",
    "            f.write(key+'\\t'+json.dumps(value)+'\\n')\n",
    "    dangling_mass = runner.counters()[0]['PageRank_Counters']['Dangling_Mass']/float(num_converter)\n",
    "    print 'dm', dangling_mass\n",
    "\n",
    "    # Run the PageRankStep2 MRJob\n",
    "    mr_job = PageRankStep2.MRPageRankStep2(args=[work_filename_1, '--damping_factor', damping_factor, '--total_nodes',\n",
    "                                                total_nodes, '--dangling_mass', dangling_mass])\n",
    "    with mr_job.make_runner() as runner, open(work_filename_2, 'w') as f: \n",
    "        runner.run()\n",
    "        # stream_output: get access of the output \n",
    "        for line in runner.stream_output():\n",
    "            key, value =  mr_job.parse_output_line(line)\n",
    "            f.write(key+'\\t'+json.dumps(value)+'\\n')\n",
    "\n",
    "    !mv $work_filename_2 $work_filename\n",
    "    i += 1"
   ]
  },
  {
   "cell_type": "markdown",
   "metadata": {},
   "source": [
    "## HW9.2"
   ]
  },
  {
   "cell_type": "code",
   "execution_count": 48,
   "metadata": {
    "collapsed": false
   },
   "outputs": [
    {
     "data": {
      "image/png": "[encoded data removed]",
      "text/plain": [
       "<matplotlib.figure.Figure at 0x7f6569755c10>"
      ]
     },
     "metadata": {},
     "output_type": "display_data"
    }
   ],
   "source": [
    "%matplotlib inline\n",
    "\n",
    "import networkx as nx\n",
    "import numpy as np\n",
    "import matplotlib.pyplot as plt\n",
    "import json\n",
    "from operator import itemgetter\n",
    "\n",
    "G = nx.DiGraph()\n",
    "node_labels = {}\n",
    "l = []\n",
    "with open('pagerank_test_25iter.txt', 'r') as f:\n",
    "    for line in f.readlines():\n",
    "        node_num, data = line.strip().split('\\t')\n",
    "        node_num = node_num.strip('\"')\n",
    "        data = json.loads(data)\n",
    "        adj_dict = data[0]\n",
    "        page_rank = int(data[1]*1000)/10.0\n",
    "        G.add_node(node_num, pr=page_rank)\n",
    "        l.append([node_num, page_rank])\n",
    "        for node in adj_dict:\n",
    "            G.add_edges_from([(node_num, str(node))])  \n",
    "\n",
    "colors = ['#F50A25', '#F5640A', 'y', 'g', 'b', '#9108A3', 'c', 'm', 'w', '#F748C0', '#999B9E']\n",
    "l = sorted(l, key=itemgetter(1), reverse=True)\n",
    "cur_pr = -1.0\n",
    "cur_color = -1\n",
    "node_colors_dict = {}\n",
    "for item in l:\n",
    "    if item[1] == cur_pr:\n",
    "        node_colors_dict[item[0]] = colors[cur_color]\n",
    "    else:\n",
    "        cur_color += 1\n",
    "        cur_pr = item[1]\n",
    "        node_colors_dict[item[0]] = colors[cur_color]\n",
    "\n",
    "node_sizes = []\n",
    "node_labels = {}\n",
    "node_colors = []\n",
    "for node in G.nodes(data=True):\n",
    "    node_name = node[0]\n",
    "    node_data = node[1]\n",
    "    node_sizes.append(node_data['pr']*500)\n",
    "    node_labels[node_name] = node_name+'\\n'+str(node_data['pr'])+'%'\n",
    "    node_colors.append(node_colors_dict[node_name])\n",
    "\n",
    "plt.figure(figsize=(10,10))\n",
    "pos=nx.spring_layout(G, k=0.55, iterations=40)\n",
    "#pos=nx.circular_layout(G,scale=5)\n",
    "#nx.draw_networkx_labels(G,pos,node_labels,font_size=13,font_weight='bold')\n",
    "nx.draw_networkx_labels(G,pos,node_labels,font_size=15,font_weight='bold')\n",
    "nx.draw(G,pos, node_color=node_colors, node_size=node_sizes, alpha=0.65)\n",
    "plt.show()"
   ]
  },
  {
   "cell_type": "code",
   "execution_count": 1,
   "metadata": {
    "collapsed": false
   },
   "outputs": [
    {
     "name": "stdout",
     "output_type": "stream",
     "text": [
      "16/07/14 14:06:10 WARN util.NativeCodeLoader: Unable to load native-hadoop library for your platform... using builtin-java classes where applicable\r\n"
     ]
    }
   ],
   "source": [
    "#### Create HDFS directories\n",
    "#!hdfs dfs -mkdir /user/hadoop/HW9Output\n",
    "#!hdfs dfs -mkdir /user/hadoop/HW9Input\n",
    "#!hdfs dfs -mkdir /user/hadoop/HW9Results\n",
    "#!hdfs dfs -mkdir /user/hadoop/HW9Data\n",
    "#!hdfs dfs -copyFromLocal PageRank-test.txt /user/hadoop/HW9Data"
   ]
  },
  {
   "cell_type": "markdown",
   "metadata": {},
   "source": [
    "### Test PageRankInit with HDFS"
   ]
  },
  {
   "cell_type": "code",
   "execution_count": 26,
   "metadata": {
    "collapsed": false
   },
   "outputs": [
    {
     "name": "stdout",
     "output_type": "stream",
     "text": [
      "16/07/14 01:18:49 WARN util.NativeCodeLoader: Unable to load native-hadoop library for your platform... using builtin-java classes where applicable\n",
      "rm: `/user/hadoop/HW9Results/PageRankInit_test': No such file or directory\n"
     ]
    },
    {
     "name": "stderr",
     "output_type": "stream",
     "text": [
      "WARNING:mrjob.hadoop:  Unable to load native-hadoop library for your platform... using builtin-java classes where applicable\n",
      "ERROR:mrjob.fs.hadoop:STDERR: 16/07/14 01:19:29 WARN util.NativeCodeLoader: Unable to load native-hadoop library for your platform... using builtin-java classes where applicable\n",
      "\n"
     ]
    },
    {
     "name": "stdout",
     "output_type": "stream",
     "text": [
      "Total nodes:  11\n"
     ]
    }
   ],
   "source": [
    "import PageRank\n",
    "import PageRankInit\n",
    "reload(PageRank)\n",
    "reload(PageRankInit)\n",
    "import json\n",
    "\n",
    "def get_total_nodes(ofile):\n",
    "    ls_output = !hdfs dfs -ls $ofile\n",
    "    num_output_files = len(ls_output)-3\n",
    "    for i in range(num_output_files):\n",
    "        snum = str(i)\n",
    "        zeros = '0'*(5-len(snum))\n",
    "        rfile = ofile+'/part-'+zeros+snum\n",
    "        grep_output = !hdfs dfs -cat $rfile | grep '*total_nodes'\n",
    "        if len(grep_output) == 2:\n",
    "            _, total_nodes = grep_output[1].strip().split('\\t')\n",
    "            break\n",
    "    return total_nodes\n",
    "\n",
    "# Set the damping factor\n",
    "damping_factor = 0.85\n",
    "#damping_factor = 1.0\n",
    "epsilon = 0.01\n",
    "\n",
    "# Set the name of the file that gets passed from iteration to iteration\n",
    "work_filename = 'work_table.txt'\n",
    "\n",
    "# Initialize a list ot store the page_ranks from iteration to iteration\n",
    "page_ranks = []\n",
    "# Call the PageRankInit MRJob\n",
    "ifile = 'hdfs:///user/hadoop/HW9Data/PageRank-test.txt'\n",
    "#ifile = 'hdfs:///user/hadoop/HW7data/all-pages-indexed-out.txt'\n",
    "ofile ='HW9Results/PageRankInit_test'\n",
    "!hdfs dfs -rm -r /user/hadoop/$ofile\n",
    "mr_job = PageRankInit.MRPageRankInit(args=[ifile, '-r', 'hadoop', '--output-dir', ofile])\n",
    "with mr_job.make_runner() as runner, open(work_filename, 'w') as f: \n",
    "    runner.run()\n",
    "    # stream_output: get access of the output \n",
    "    for line in runner.stream_output():\n",
    "        key, value =  mr_job.parse_output_line(line)\n",
    "        # Store the total_nodes\n",
    "        if key == '*total_nodes':\n",
    "            total_nodes = float(value)\n",
    "        else:\n",
    "            page_ranks.append(value[1])\n",
    "        f.write(key+'\\t'+json.dumps(value)+'\\n')\n",
    "\n",
    "total_nodes = get_total_nodes('/user/hadoop/'+ofile)\n",
    "print 'Total nodes: ', total_nodes"
   ]
  },
  {
   "cell_type": "code",
   "execution_count": 9,
   "metadata": {
    "collapsed": false
   },
   "outputs": [
    {
     "name": "stdout",
     "output_type": "stream",
     "text": [
      "16/07/13 23:39:20 WARN util.NativeCodeLoader: Unable to load native-hadoop library for your platform... using builtin-java classes where applicable\n",
      "Found 2 items\n",
      "-rw-r--r--   3 hadoop supergroup          0 2016-07-13 23:38 /user/hadoop/HW9Output/PageRankInit/_SUCCESS\n",
      "-rw-r--r--   3 hadoop supergroup        464 2016-07-13 23:38 /user/hadoop/HW9Output/PageRankInit/part-00000\n"
     ]
    }
   ],
   "source": [
    "!hdfs dfs -ls /user/hadoop/$ofile\n",
    "#!hdfs dfs -cat /user/hadoop/$ofile/part-00000"
   ]
  },
  {
   "cell_type": "markdown",
   "metadata": {},
   "source": [
    "### Create a nohup job to start the Hadoop job in the background"
   ]
  },
  {
   "cell_type": "code",
   "execution_count": 24,
   "metadata": {
    "collapsed": false
   },
   "outputs": [
    {
     "name": "stdout",
     "output_type": "stream",
     "text": [
      "Overwriting start_job_PageRankInit.sh\n"
     ]
    }
   ],
   "source": [
    "%%writefile start_job_PageRankInit.sh\n",
    "#!/bin/bash\n",
    "hdfs dfs -rm -r /user/hadoop/HW9Output/PageRankInit\n",
    "nohup python PageRankInit.py -r hadoop hdfs:///user/hadoop/HW7data/all-pages-indexed-out.txt --output-dir=HW9Output/PageRankInit --no-output > nohup/PageRankInit.out &\n"
   ]
  },
  {
   "cell_type": "code",
   "execution_count": 22,
   "metadata": {
    "collapsed": true
   },
   "outputs": [],
   "source": [
    "!chmod +x start_job_PageRankInit.sh"
   ]
  },
  {
   "cell_type": "code",
   "execution_count": 25,
   "metadata": {
    "collapsed": false
   },
   "outputs": [
    {
     "name": "stdout",
     "output_type": "stream",
     "text": [
      "16/07/14 01:08:18 WARN util.NativeCodeLoader: Unable to load native-hadoop library for your platform... using builtin-java classes where applicable\n",
      "rm: `/user/hadoop/HW9Output/PageRankInit': No such file or directory\n"
     ]
    }
   ],
   "source": [
    "!./start_job_PageRankInit.sh"
   ]
  },
  {
   "cell_type": "code",
   "execution_count": 8,
   "metadata": {
    "collapsed": false
   },
   "outputs": [
    {
     "name": "stdout",
     "output_type": "stream",
     "text": [
      "16/07/14 09:29:20 WARN util.NativeCodeLoader: Unable to load native-hadoop library for your platform... using builtin-java classes where applicable\n",
      "\"*total_nodes\"\t15192277\n",
      "\"1\"\t[{}, 6.582291778908455e-08]\n",
      "\"10\"\t[{\"12\": 3, \"14478968\": 1, \"14965909\": 1, \"5172381\": 2, \"3403886\": 1, \"8031052\": 1, \"6857278\": 2, \"9416257\": 1, \"14481011\": 1, \"12336458\": 1, \"994890\": 1}, 6.582291778908455e-08]\n",
      "\"100\"\t[{}, 6.582291778908455e-08]\n",
      "\"1000\"\t[{}, 6.582291778908455e-08]\n",
      "\"10000\"\t[{}, 6.582291778908455e-08]\n",
      "\"100000\"\t[{\"100001\": 1}, 6.582291778908455e-08]\n",
      "\"1000000\"\t[{\"1000001\": 1}, 6.582291778908455e-08]\n",
      "\"10000000\"\t[{}, 6.582291778908455e-08]\n",
      "\"10000001\"\t[{}, 6.582291778908455e-08]\n",
      "cat: Unable to write to output stream.\n",
      "16/07/14 09:29:23 WARN util.NativeCodeLoader: Unable to load native-hadoop library for your platform... using builtin-java classes where applicable\n",
      "\"*total_nodes\"\t11\n",
      "\"A\"\t[{}, 0.09090909090909091]\n",
      "\"B\"\t[{\"C\": 1}, 0.09090909090909091]\n",
      "\"C\"\t[{\"B\": 1}, 0.09090909090909091]\n",
      "\"D\"\t[{\"A\": 1, \"B\": 1}, 0.09090909090909091]\n",
      "\"E\"\t[{\"B\": 1, \"D\": 1, \"F\": 1}, 0.09090909090909091]\n",
      "\"F\"\t[{\"B\": 1, \"E\": 1}, 0.09090909090909091]\n",
      "\"G\"\t[{\"B\": 1, \"E\": 1}, 0.09090909090909091]\n",
      "\"H\"\t[{\"B\": 1, \"E\": 1}, 0.09090909090909091]\n",
      "\"I\"\t[{\"B\": 1, \"E\": 1}, 0.09090909090909091]\n",
      "['16/07/14 09:29:25 WARN util.NativeCodeLoader: Unable to load native-hadoop library for your platform... using builtin-java classes where applicable', '\"*total_nodes\"\\t15192277']\n"
     ]
    }
   ],
   "source": [
    "#!hdfs dfs -ls /user/hadoop/HW9Output/PageRankInit\n",
    "#!hdfs dfs -cp /user/hadoop/HW9Output/PageRankInit /user/hadoop/HW9Results/PageRankInit_wikipedia\n",
    "!hdfs dfs -cat /user/hadoop/HW9Results/PageRankInit_wikipedia/part-00000 | head\n",
    "!hdfs dfs -cat /user/hadoop/HW9Results/PageRankInit_test/part-00000 | head\n",
    "g = !hdfs dfs -cat /user/hadoop/HW9Results/PageRankInit_wikipedia/part-00000 | grep '*total_nodes'\n",
    "print g"
   ]
  },
  {
   "cell_type": "markdown",
   "metadata": {},
   "source": [
    "### Test PageRank in HDFS"
   ]
  },
  {
   "cell_type": "code",
   "execution_count": 5,
   "metadata": {
    "collapsed": true
   },
   "outputs": [],
   "source": [
    "def get_total_nodes(ofile):\n",
    "    ls_output = !hdfs dfs -ls $ofile\n",
    "    num_output_files = len(ls_output)-3\n",
    "    for i in range(num_output_files):\n",
    "        snum = str(i)\n",
    "        zeros = '0'*(5-len(snum))\n",
    "        rfile = ofile+'/part-'+zeros+snum\n",
    "        grep_output = !hdfs dfs -cat $rfile | grep '*total_nodes'\n",
    "        if len(grep_output) == 2:\n",
    "            _, total_nodes = grep_output[1].strip().split('\\t')\n",
    "            break\n",
    "    return total_nodes"
   ]
  },
  {
   "cell_type": "markdown",
   "metadata": {},
   "source": [
    "### Get the Total Nodes from the wikipedia data"
   ]
  },
  {
   "cell_type": "code",
   "execution_count": 6,
   "metadata": {
    "collapsed": true
   },
   "outputs": [],
   "source": [
    "total_nodes = get_total_nodes('/user/hadoop/HW9Results/PageRankInit_wikipedia')"
   ]
  },
  {
   "cell_type": "code",
   "execution_count": 7,
   "metadata": {
    "collapsed": false
   },
   "outputs": [
    {
     "name": "stdout",
     "output_type": "stream",
     "text": [
      "15192277\n"
     ]
    }
   ],
   "source": [
    "print total_nodes"
   ]
  },
  {
   "cell_type": "markdown",
   "metadata": {},
   "source": [
    "### Test PageRank Steps 1 and 2 in HDFS"
   ]
  },
  {
   "cell_type": "code",
   "execution_count": 27,
   "metadata": {
    "collapsed": false
   },
   "outputs": [
    {
     "name": "stdout",
     "output_type": "stream",
     "text": [
      "16/07/15 14:40:01 WARN util.NativeCodeLoader: Unable to load native-hadoop library for your platform... using builtin-java classes where applicable\n",
      "16/07/15 14:40:02 INFO fs.TrashPolicyDefault: Namenode trash configuration: Deletion interval = 0 minutes, Emptier interval = 0 minutes.\n",
      "Deleted /user/hadoop/HW9Output/PageRank1\n"
     ]
    }
   ],
   "source": [
    "#hdfs dfs -ls /user/hadoop/HW9Input/PageRank1\n",
    "#!hdfs dfs -cat /user/hadoop/HW9Input/PageRank1/part-00000\n",
    "#!hdfs dfs -cat /user/hadoop/HW9Input/PageRank1/part-00001\n",
    "#!hdfs dfs -rm -r /user/hadoop/HW9Input/PageRank1\n",
    "\n",
    "#!hdfs dfs -mv /user/hadoop/HW9Output/PageRank2 /user/hadoop/HW9Input/PageRank1\n",
    "#!hdfs dfs -ls /user/hadoop/HW9Output/PageRank2\n",
    "#!hdfs dfs -cat /user/hadoop/HW9Output/PageRank2/part-00000\n",
    "#!hdfs dfs -cat /user/hadoop/HW9Output/PageRank2/part-00001\n",
    "\n",
    "#!hdfs dfs -rm -r /user/hadoop/HW9Output/PageRank1"
   ]
  },
  {
   "cell_type": "code",
   "execution_count": 3,
   "metadata": {
    "collapsed": false
   },
   "outputs": [
    {
     "name": "stdout",
     "output_type": "stream",
     "text": [
      "16/07/16 00:21:03 WARN util.NativeCodeLoader: Unable to load native-hadoop library for your platform... using builtin-java classes where applicable\n",
      "16/07/16 00:21:04 INFO fs.TrashPolicyDefault: Namenode trash configuration: Deletion interval = 0 minutes, Emptier interval = 0 minutes.\n",
      "Deleted /user/hadoop/HW9Output/PageRank1\n",
      "16/07/16 00:21:05 WARN util.NativeCodeLoader: Unable to load native-hadoop library for your platform... using builtin-java classes where applicable\n",
      "16/07/16 00:21:06 INFO fs.TrashPolicyDefault: Namenode trash configuration: Deletion interval = 0 minutes, Emptier interval = 0 minutes.\n",
      "Deleted /user/hadoop/HW9Output/PageRank2\n",
      "16/07/16 00:21:07 WARN util.NativeCodeLoader: Unable to load native-hadoop library for your platform... using builtin-java classes where applicable\n",
      "16/07/16 00:21:08 INFO fs.TrashPolicyDefault: Namenode trash configuration: Deletion interval = 0 minutes, Emptier interval = 0 minutes.\n",
      "Deleted /user/hadoop/HW9Input/PageRank1\n",
      "16/07/16 00:21:09 WARN util.NativeCodeLoader: Unable to load native-hadoop library for your platform... using builtin-java classes where applicable\n",
      "16/07/16 00:21:10 WARN hdfs.DFSClient: DFSInputStream has been closed already\n",
      "16/07/16 00:21:11 WARN hdfs.DFSClient: DFSInputStream has been closed already\n"
     ]
    },
    {
     "name": "stderr",
     "output_type": "stream",
     "text": [
      "WARNING:mrjob.hadoop:  Unable to load native-hadoop library for your platform... using builtin-java classes where applicable\n"
     ]
    },
    {
     "name": "stdout",
     "output_type": "stream",
     "text": [
      "Iteration  0\n",
      "G"
     ]
    },
    {
     "name": "stderr",
     "output_type": "stream",
     "text": [
      "ERROR:mrjob.fs.hadoop:STDERR: 16/07/16 00:21:50 WARN util.NativeCodeLoader: Unable to load native-hadoop library for your platform... using builtin-java classes where applicable\n",
      "\n"
     ]
    },
    {
     "name": "stdout",
     "output_type": "stream",
     "text": [
      " [{u'B': 1, u'E': 1}, 0.0]\n",
      "H"
     ]
    },
    {
     "name": "stderr",
     "output_type": "stream",
     "text": [
      "ERROR:mrjob.fs.hadoop:STDERR: 16/07/16 00:21:52 WARN util.NativeCodeLoader: Unable to load native-hadoop library for your platform... using builtin-java classes where applicable\n",
      "\n"
     ]
    },
    {
     "name": "stdout",
     "output_type": "stream",
     "text": [
      " [{u'B': 1, u'E': 1}, 0.0]\n",
      "I"
     ]
    },
    {
     "name": "stderr",
     "output_type": "stream",
     "text": [
      "ERROR:mrjob.fs.hadoop:STDERR: 16/07/16 00:21:54 WARN util.NativeCodeLoader: Unable to load native-hadoop library for your platform... using builtin-java classes where applicable\n",
      "\n"
     ]
    },
    {
     "name": "stdout",
     "output_type": "stream",
     "text": [
      " [{u'B': 1, u'E': 1}, 0.0]\n",
      "J"
     ]
    },
    {
     "name": "stderr",
     "output_type": "stream",
     "text": [
      "ERROR:mrjob.fs.hadoop:STDERR: 16/07/16 00:21:56 WARN util.NativeCodeLoader: Unable to load native-hadoop library for your platform... using builtin-java classes where applicable\n",
      "\n"
     ]
    },
    {
     "name": "stdout",
     "output_type": "stream",
     "text": [
      " [{u'E': 1}, 0.0]\n",
      "A"
     ]
    },
    {
     "name": "stderr",
     "output_type": "stream",
     "text": [
      "ERROR:mrjob.fs.hadoop:STDERR: 16/07/16 00:21:58 WARN util.NativeCodeLoader: Unable to load native-hadoop library for your platform... using builtin-java classes where applicable\n",
      "\n"
     ]
    },
    {
     "name": "stdout",
     "output_type": "stream",
     "text": [
      " [{}, 0.045454545454545456]\n",
      "K [{u'E': 1}, 0.0]\n",
      "B"
     ]
    },
    {
     "name": "stderr",
     "output_type": "stream",
     "text": [
      "ERROR:mrjob.fs.hadoop:STDERR: 16/07/16 00:22:00 WARN util.NativeCodeLoader: Unable to load native-hadoop library for your platform... using builtin-java classes where applicable\n",
      "\n"
     ]
    },
    {
     "name": "stdout",
     "output_type": "stream",
     "text": [
      " [{u'C': 1}, 0.3484848484848485]\n",
      "C"
     ]
    },
    {
     "name": "stderr",
     "output_type": "stream",
     "text": [
      "ERROR:mrjob.fs.hadoop:STDERR: 16/07/16 00:22:02 WARN util.NativeCodeLoader: Unable to load native-hadoop library for your platform... using builtin-java classes where applicable\n",
      "\n"
     ]
    },
    {
     "name": "stdout",
     "output_type": "stream",
     "text": [
      " [{u'B': 1}, 0.09090909090909091]\n",
      "D"
     ]
    },
    {
     "name": "stderr",
     "output_type": "stream",
     "text": [
      "ERROR:mrjob.fs.hadoop:STDERR: 16/07/16 00:22:04 WARN util.NativeCodeLoader: Unable to load native-hadoop library for your platform... using builtin-java classes where applicable\n",
      "\n"
     ]
    },
    {
     "name": "stdout",
     "output_type": "stream",
     "text": [
      " [{u'A': 1, u'B': 1}, 0.030303030303030304]\n",
      "E"
     ]
    },
    {
     "name": "stderr",
     "output_type": "stream",
     "text": [
      "ERROR:mrjob.fs.hadoop:STDERR: 16/07/16 00:22:06 WARN util.NativeCodeLoader: Unable to load native-hadoop library for your platform... using builtin-java classes where applicable\n",
      "\n"
     ]
    },
    {
     "name": "stdout",
     "output_type": "stream",
     "text": [
      " [{u'B': 1, u'D': 1, u'F': 1}, 0.36363636363636365]\n",
      "F"
     ]
    },
    {
     "name": "stderr",
     "output_type": "stream",
     "text": [
      "ERROR:mrjob.fs.hadoop:STDERR: 16/07/16 00:22:08 WARN util.NativeCodeLoader: Unable to load native-hadoop library for your platform... using builtin-java classes where applicable\n",
      "\n"
     ]
    },
    {
     "name": "stdout",
     "output_type": "stream",
     "text": [
      " [{u'B': 1, u'E': 1}, 0.030303030303030304]\n",
      "Dangling Mass: "
     ]
    },
    {
     "name": "stderr",
     "output_type": "stream",
     "text": [
      "WARNING:mrjob.hadoop:  Unable to load native-hadoop library for your platform... using builtin-java classes where applicable\n"
     ]
    },
    {
     "name": "stdout",
     "output_type": "stream",
     "text": [
      " 0.0909090909\n",
      "E"
     ]
    },
    {
     "name": "stderr",
     "output_type": "stream",
     "text": [
      "ERROR:mrjob.fs.hadoop:STDERR: 16/07/16 00:22:39 WARN util.NativeCodeLoader: Unable to load native-hadoop library for your platform... using builtin-java classes where applicable\n",
      "\n"
     ]
    },
    {
     "name": "stdout",
     "output_type": "stream",
     "text": [
      " [{u'B': 1, u'D': 1, u'F': 1}, 0.329752066115]\n",
      "A"
     ]
    },
    {
     "name": "stderr",
     "output_type": "stream",
     "text": [
      "ERROR:mrjob.fs.hadoop:STDERR: 16/07/16 00:22:41 WARN util.NativeCodeLoader: Unable to load native-hadoop library for your platform... using builtin-java classes where applicable\n",
      "\n"
     ]
    },
    {
     "name": "stdout",
     "output_type": "stream",
     "text": [
      " [{}, 0.059297520660454545]\n",
      "K [{u'E': 1}, 0.020661157024090913]\n",
      "D"
     ]
    },
    {
     "name": "stderr",
     "output_type": "stream",
     "text": [
      "ERROR:mrjob.fs.hadoop:STDERR: 16/07/16 00:22:43 WARN util.NativeCodeLoader: Unable to load native-hadoop library for your platform... using builtin-java classes where applicable\n",
      "\n"
     ]
    },
    {
     "name": "stdout",
     "output_type": "stream",
     "text": [
      " [{u'A': 1, u'B': 1}, 0.046418732781666666]\n",
      "F"
     ]
    },
    {
     "name": "stderr",
     "output_type": "stream",
     "text": [
      "ERROR:mrjob.fs.hadoop:STDERR: 16/07/16 00:22:45 WARN util.NativeCodeLoader: Unable to load native-hadoop library for your platform... using builtin-java classes where applicable\n",
      "\n"
     ]
    },
    {
     "name": "stdout",
     "output_type": "stream",
     "text": [
      " [{u'B': 1, u'E': 1}, 0.046418732781666666]\n",
      "C"
     ]
    },
    {
     "name": "stderr",
     "output_type": "stream",
     "text": [
      "ERROR:mrjob.fs.hadoop:STDERR: 16/07/16 00:22:47 WARN util.NativeCodeLoader: Unable to load native-hadoop library for your platform... using builtin-java classes where applicable\n",
      "\n"
     ]
    },
    {
     "name": "stdout",
     "output_type": "stream",
     "text": [
      " [{u'B': 1}, 0.09793388429681818]\n",
      "B"
     ]
    },
    {
     "name": "stderr",
     "output_type": "stream",
     "text": [
      "ERROR:mrjob.fs.hadoop:STDERR: 16/07/16 00:22:49 WARN util.NativeCodeLoader: Unable to load native-hadoop library for your platform... using builtin-java classes where applicable\n",
      "\n"
     ]
    },
    {
     "name": "stdout",
     "output_type": "stream",
     "text": [
      " [{u'C': 1}, 0.31687327823621214]\n",
      "G"
     ]
    },
    {
     "name": "stderr",
     "output_type": "stream",
     "text": [
      "ERROR:mrjob.fs.hadoop:STDERR: 16/07/16 00:22:51 WARN util.NativeCodeLoader: Unable to load native-hadoop library for your platform... using builtin-java classes where applicable\n",
      "\n"
     ]
    },
    {
     "name": "stdout",
     "output_type": "stream",
     "text": [
      " [{u'B': 1, u'E': 1}, 0.020661157024090913]\n",
      "H"
     ]
    },
    {
     "name": "stderr",
     "output_type": "stream",
     "text": [
      "ERROR:mrjob.fs.hadoop:STDERR: 16/07/16 00:22:53 WARN util.NativeCodeLoader: Unable to load native-hadoop library for your platform... using builtin-java classes where applicable\n",
      "\n"
     ]
    },
    {
     "name": "stdout",
     "output_type": "stream",
     "text": [
      " [{u'B': 1, u'E': 1}, 0.020661157024090913]\n",
      "I"
     ]
    },
    {
     "name": "stderr",
     "output_type": "stream",
     "text": [
      "ERROR:mrjob.fs.hadoop:STDERR: 16/07/16 00:22:55 WARN util.NativeCodeLoader: Unable to load native-hadoop library for your platform... using builtin-java classes where applicable\n",
      "\n"
     ]
    },
    {
     "name": "stdout",
     "output_type": "stream",
     "text": [
      " [{u'B': 1, u'E': 1}, 0.020661157024090913]\n",
      "J"
     ]
    },
    {
     "name": "stderr",
     "output_type": "stream",
     "text": [
      "ERROR:mrjob.fs.hadoop:STDERR: 16/07/16 00:22:57 WARN util.NativeCodeLoader: Unable to load native-hadoop library for your platform... using builtin-java classes where applicable\n",
      "\n"
     ]
    },
    {
     "name": "stdout",
     "output_type": "stream",
     "text": [
      " [{u'E': 1}, 0.020661157024090913]\n",
      "Done with step 2\n"
     ]
    }
   ],
   "source": [
    "import PageRankStep1\n",
    "import PageRankStep2\n",
    "import PageRankInit\n",
    "reload(PageRankStep1)\n",
    "reload(PageRankStep2)\n",
    "reload(PageRankInit)\n",
    "\n",
    "iterations = 1\n",
    "total_nodes = 11.0\n",
    "#total_nodes = 15192277.0\n",
    "\n",
    "# Set the damping factor\n",
    "damping_factor = 0.85\n",
    "num_converter = 10000000000\n",
    "\n",
    "!hdfs dfs -rm -r /user/hadoop/HW9Output/PageRank1\n",
    "!hdfs dfs -rm -r /user/hadoop/HW9Output/PageRank2\n",
    "!hdfs dfs -rm -r /user/hadoop/HW9Input/PageRank1\n",
    "!hdfs dfs -cp /user/hadoop/HW9Results/PageRankInit_test /user/hadoop/HW9Input/PageRank1\n",
    "\n",
    "i = 0\n",
    "while(i < iterations):\n",
    "    print 'Iteration ', str(i)\n",
    "    # Run the PageRankStep1 MRJob\n",
    "    mr_job1 = PageRankStep1.MRPageRankStep1(args=['hdfs:///user/hadoop/HW9Input/PageRank1', '-r', 'hadoop', \n",
    "                                                  '--num_converter', str(num_converter), '--output-dir', 'HW9Output/PageRank1'])\n",
    "    with mr_job1.make_runner() as runner: \n",
    "        runner.run()\n",
    "        for line in runner.stream_output():\n",
    "            key, value =  mr_job1.parse_output_line(line)\n",
    "            print key, value\n",
    "\n",
    "    dangling_mass = runner.counters()[0]['PageRank_Counters']['Dangling_Mass']/float(num_converter)\n",
    "    print 'Dangling Mass: ', dangling_mass\n",
    "\n",
    "    # Run the PageRankStep2 MRJob\n",
    "    mr_job2 = PageRankStep2.MRPageRankStep2(args=['hdfs:///user/hadoop/HW9Output/PageRank1', '-r', 'hadoop', \n",
    "                                                  '--damping_factor', str(damping_factor), '--total_nodes', \n",
    "                                                  str(total_nodes), '--dangling_mass', str(dangling_mass), \n",
    "                                                  '--output-dir', 'HW9Output/PageRank2'])\n",
    "    with mr_job2.make_runner() as runner: \n",
    "        runner.run()\n",
    "        for line in runner.stream_output():\n",
    "            key, value =  mr_job2.parse_output_line(line)\n",
    "            print key, value\n",
    "    print 'Done with step 2'\n",
    "    \n",
    "    i += 1\n",
    "    if (i < iterations):\n",
    "        !hdfs dfs -rm -r /user/hadoop/HW9Input/PageRank1\n",
    "        !hdfs dfs -mv /user/hadoop/HW9Output/PageRank2 /user/hadoop/HW9Input/PageRank1\n",
    "        !hdfs dfs -rm -r /user/hadoop/HW9Output/PageRank1"
   ]
  },
  {
   "cell_type": "code",
   "execution_count": 12,
   "metadata": {
    "collapsed": false
   },
   "outputs": [
    {
     "name": "stdout",
     "output_type": "stream",
     "text": [
      "16/07/15 14:23:07 WARN util.NativeCodeLoader: Unable to load native-hadoop library for your platform... using builtin-java classes where applicable\n",
      "\"A\"\t[{}, 0.045454545454545456]\n",
      "\"B\"\t[{\"C\": 1}, 0.3484848484848485]\n",
      "\"C\"\t[{\"B\": 1}, 0.09090909090909091]\n",
      "\"D\"\t[{\"A\": 1, \"B\": 1}, 0.030303030303030304]\n",
      "\"E\"\t[{\"B\": 1, \"D\": 1, \"F\": 1}, 0.36363636363636365]\n",
      "\"F\"\t[{\"B\": 1, \"E\": 1}, 0.030303030303030304]\n",
      "\"G\"\t[{\"B\": 1, \"E\": 1}, 0.0]\n",
      "\"H\"\t[{\"B\": 1, \"E\": 1}, 0.0]\n",
      "\"I\"\t[{\"B\": 1, \"E\": 1}, 0.0]\n",
      "\"J\"\t[{\"E\": 1}, 0.0]\n",
      "\"K\"\t[{\"E\": 1}, 0.0]\n"
     ]
    }
   ],
   "source": [
    "#!hdfs dfs -ls /user/hadoop/HW9Output/PageRank1\n",
    "!hdfs dfs -cat /user/hadoop/HW9Output/PageRank1/part-00000"
   ]
  },
  {
   "cell_type": "code",
   "execution_count": 1,
   "metadata": {
    "collapsed": false
   },
   "outputs": [
    {
     "name": "stdout",
     "output_type": "stream",
     "text": [
      "Overwriting PageRank_driver.py\n"
     ]
    }
   ],
   "source": [
    "%%writefile PageRank_driver.py\n",
    "from PageRankStep1 import MRPageRankStep1\n",
    "from PageRankStep2 import MRPageRankStep2\n",
    "import subprocess\n",
    "\n",
    "iterations = 5\n",
    "#total_nodes = 11.0\n",
    "total_nodes = 15192277.0\n",
    "\n",
    "# Set the damping factor\n",
    "damping_factor = 0.85\n",
    "num_converter = 10000000000\n",
    "\n",
    "# Run the PageRank MRJob\n",
    "try:\n",
    "    subprocess.check_call(['hdfs', 'dfs', '-rm', '-r', '/user/hadoop/HW9Output/PageRank1'])\n",
    "except:\n",
    "    pass\n",
    "try:\n",
    "    subprocess.check_call(['hdfs', 'dfs', '-rm', '-r', '/user/hadoop/HW9Output/PageRank2'])\n",
    "except:\n",
    "    pass\n",
    "try:\n",
    "    subprocess.check_call(['hdfs', 'dfs', '-rm', '-r', '/user/hadoop/HW9Input/PageRank1'])\n",
    "except:\n",
    "    pass\n",
    "#subprocess.check_call(['hdfs', 'dfs', '-cp', '/user/hadoop/HW9Results/PageRankInit_test', '/user/hadoop/HW9Input/PageRank1'])\n",
    "#subprocess.check_call(['hdfs', 'dfs', '-cp', '/user/hadoop/HW9Results/PageRankInit_wikipedia', '/user/hadoop/HW9Input/PageRank1'])\n",
    "subprocess.check_call(['hdfs', 'dfs', '-cp', '/user/hadoop/HW9Results/PageRank_wikipedia_5iter', '/user/hadoop/HW9Input/PageRank1'])\n",
    "\n",
    "i = 0\n",
    "while(i < iterations):\n",
    "    print 'Iteration ', str(i)\n",
    "    # Run the PageRankStep1 MRJob\n",
    "    mr_job1 = MRPageRankStep1(args=['hdfs:///user/hadoop/HW9Input/PageRank1', '-r', 'hadoop', '--num_converter', \n",
    "                                    str(num_converter), '--output-dir', 'HW9Output/PageRank1', '--no-output'])\n",
    "    with mr_job1.make_runner() as runner: \n",
    "        runner.run()\n",
    "    dangling_mass = runner.counters()[0]['PageRank_Counters']['Dangling_Mass']/float(num_converter)\n",
    "    print 'Dangling Mass: ', dangling_mass\n",
    "\n",
    "    # Run the PageRankStep2 MRJob\n",
    "    mr_job2 = MRPageRankStep2(args=['hdfs:///user/hadoop/HW9Output/PageRank1', '-r', 'hadoop', '--damping_factor', \n",
    "                                    str(damping_factor), '--total_nodes', str(total_nodes), '--dangling_mass', \n",
    "                                    str(dangling_mass), '--output-dir', 'HW9Output/PageRank2', '--no-output'])\n",
    "    with mr_job2.make_runner() as runner: \n",
    "        runner.run()\n",
    "    print 'Done with step 2'\n",
    "\n",
    "    i += 1\n",
    "    if (i < iterations):\n",
    "        subprocess.check_call(['hdfs', 'dfs', '-rm', '-r', '/user/hadoop/HW9Input/PageRank1'])\n",
    "        subprocess.check_call(['hdfs', 'dfs', '-mv', '/user/hadoop/HW9Output/PageRank2', '/user/hadoop/HW9Input/PageRank1'])\n",
    "        subprocess.check_call(['hdfs', 'dfs', '-rm', '-r', '/user/hadoop/HW9Output/PageRank1'])"
   ]
  },
  {
   "cell_type": "markdown",
   "metadata": {},
   "source": [
    "### Copy results to HW9Results directory in HDFS"
   ]
  },
  {
   "cell_type": "code",
   "execution_count": 1,
   "metadata": {
    "collapsed": false
   },
   "outputs": [
    {
     "name": "stdout",
     "output_type": "stream",
     "text": [
      "16/07/16 10:20:12 WARN util.NativeCodeLoader: Unable to load native-hadoop library for your platform... using builtin-java classes where applicable\n",
      "\"1\"\t[{}, 3.631223358802273e-08]\n",
      "\"10\"\t[{\"12\": 3, \"14478968\": 1, \"14965909\": 1, \"5172381\": 2, \"3403886\": 1, \"8031052\": 1, \"6857278\": 2, \"9416257\": 1, \"14481011\": 1, \"12336458\": 1, \"994890\": 1}, 4.4234261858240435e-08]\n",
      "\"100\"\t[{}, 3.68281746137279e-08]\n",
      "\"1000\"\t[{}, 3.531837489563729e-08]\n",
      "\"10000\"\t[{}, 3.616348749656895e-08]\n",
      "\"100000\"\t[{\"100001\": 1}, 3.602383670884568e-08]\n",
      "\"1000000\"\t[{\"1000001\": 1}, 3.52276082130414e-08]\n",
      "\"10000000\"\t[{}, 3.7576061270828165e-08]\n",
      "\"10000001\"\t[{}, 3.694774555694013e-08]\n",
      "\"10000002\"\t[{}, 3.6369336204118953e-08]\n",
      "cat: Unable to write to output stream.\n"
     ]
    }
   ],
   "source": [
    "#!hdfs dfs -ls /user/hadoop/HW9Output/PageRank2\n",
    "#!hdfs dfs -cp /user/hadoop/HW9Output/PageRank2 /user/hadoop/HW9Results/PageRank_test_25iter\n",
    "#!hdfs dfs -cp /user/hadoop/HW9Input/PageRank1 /user/hadoop/HW9Results/PageRank_wikipedia_1iter\n",
    "#!hdfs dfs -cp /user/hadoop/HW9Output/PageRank2 /user/hadoop/HW9Results/PageRank_wikipedia_5iter\n",
    "#!hdfs dfs -cp /user/hadoop/HW9Output/PageRank2 /user/hadoop/HW9Results/PageRank_wikipedia_10iter\n",
    "#!hdfs dfs -cat /user/hadoop/HW9Output/PageRank2/part-00000\n",
    "#!hdfs dfs -cat /user/hadoop/HW9Output/PageRank2/part-00001\n",
    "!hdfs dfs -cat /user/hadoop/HW9Results/PageRank_wikipedia_5iter/part-00000 | head"
   ]
  },
  {
   "cell_type": "code",
   "execution_count": 3,
   "metadata": {
    "collapsed": false
   },
   "outputs": [
    {
     "name": "stdout",
     "output_type": "stream",
     "text": [
      "Writing start_job_PageRank.sh\n"
     ]
    }
   ],
   "source": [
    "%%writefile start_job_PageRank.sh\n",
    "#!/bin/bash\n",
    "nohup python PageRank_driver.py > nohup/PageRank_driver.out &"
   ]
  },
  {
   "cell_type": "code",
   "execution_count": 4,
   "metadata": {
    "collapsed": true
   },
   "outputs": [],
   "source": [
    "!chmod +x start_job_PageRank.sh"
   ]
  },
  {
   "cell_type": "code",
   "execution_count": 2,
   "metadata": {
    "collapsed": false
   },
   "outputs": [
    {
     "name": "stdout",
     "output_type": "stream",
     "text": [
      "nohup: redirecting stderr to stdout\r\n"
     ]
    }
   ],
   "source": [
    "!./start_job_PageRank.sh"
   ]
  },
  {
   "cell_type": "code",
   "execution_count": 32,
   "metadata": {
    "collapsed": false
   },
   "outputs": [
    {
     "name": "stdout",
     "output_type": "stream",
     "text": [
      "16/07/15 15:43:29 WARN util.NativeCodeLoader: Unable to load native-hadoop library for your platform... using builtin-java classes where applicable\r\n",
      "16/07/15 15:43:30 INFO fs.TrashPolicyDefault: Namenode trash configuration: Deletion interval = 0 minutes, Emptier interval = 0 minutes.\r\n",
      "Deleted /user/hadoop/HW9Output/PageRank1\r\n"
     ]
    }
   ],
   "source": [
    "!cat nohup/PageRank_driver.out"
   ]
  },
  {
   "cell_type": "code",
   "execution_count": 1,
   "metadata": {
    "collapsed": false
   },
   "outputs": [
    {
     "name": "stdout",
     "output_type": "stream",
     "text": [
      "Overwriting PageRankSort.py\n"
     ]
    }
   ],
   "source": [
    "%%writefile PageRankSort.py\n",
    "from mrjob.job import MRJob\n",
    "from mrjob.protocol import RawProtocol\n",
    "from mrjob.step import MRStep\n",
    "from operator import itemgetter\n",
    "import json\n",
    "    \n",
    "# This class outputs the 5-grams from the input file in descending order based\n",
    "# on the number of characters in the 5-gram.\n",
    "class MRPageRankSort(MRJob):\n",
    "    MRJob.SORT_VALUES = True \n",
    "    INTERNAL_PROTOCOL = RawProtocol\n",
    "    OUTPUT_PROTOCOL = RawProtocol\n",
    "\n",
    "    def configure_options(self):\n",
    "        # Configure a new command line option to capture the stop_index for the shortest path\n",
    "        super(MRPageRankSort, self).configure_options()\n",
    "        self.add_passthrough_option('--num_top', type='int', default='100')\n",
    "\n",
    "    def __init__(self, *args, **kwargs):\n",
    "        super(MRPageRankSort, self).__init__(*args, **kwargs)\n",
    "        self.top_nodes = []\n",
    "        self.count_yielded = 0\n",
    "\n",
    "    def mapper_sort(self, _, line):\n",
    "        node_num, data = line.strip().split('\\t')\n",
    "        node_num = node_num.strip('\"')\n",
    "        data = json.loads(data)\n",
    "        page_rank = data[1]*10000000000.0\n",
    "        yield str(node_num), str(page_rank)\n",
    "\n",
    "    def reducer_sort(self, node_num, page_rank):\n",
    "        # Output what is received.  The values are sorted at this point.\n",
    "        for pr in page_rank:\n",
    "            yield node_num, str(float(pr)/10000000000.0)\n",
    "        \n",
    "    def steps(self):\n",
    "        # define the steps this MR job.  The JOBCONF_STEP tells Hadoop how to handle the data during\n",
    "        # the Hadoop shuffle.  In this case the data should be sorted in reverse order\n",
    "        # by the 2nd output (in this case the values are the page ranks).\n",
    "        JOBCONF_STEP = {        \n",
    "            'mapreduce.job.output.key.comparator.class': 'org.apache.hadoop.mapred.lib.KeyFieldBasedComparator',\n",
    "            'mapreduce.partition.keycomparator.options': '-k2,2nr',\n",
    "            'mapreduce.job.maps': '25',\n",
    "            'mapreduce.job.reduces': '1'\n",
    "        }\n",
    "        return [\n",
    "            MRStep(jobconf=JOBCONF_STEP,\n",
    "                   mapper=self.mapper_sort,\n",
    "                   reducer=self.reducer_sort)  \n",
    "        ]\n",
    "\n",
    "if __name__ == '__main__':\n",
    "    MRPageRankSort.run()"
   ]
  },
  {
   "cell_type": "code",
   "execution_count": 14,
   "metadata": {
    "collapsed": false
   },
   "outputs": [
    {
     "name": "stdout",
     "output_type": "stream",
     "text": [
      "No configs found; falling back on auto-configuration\n",
      "Looking for hadoop binary in /usr/local/hadoop/bin...\n",
      "Found hadoop binary: /usr/local/hadoop/bin/hadoop\n",
      "Creating temp directory /tmp/PageRankSort.hadoop.20160716.165918.135310\n",
      "Using Hadoop version 2.7.1\n",
      "Copying local files to hdfs:///user/hadoop/tmp/mrjob/PageRankSort.hadoop.20160716.165918.135310/files/...\n",
      "Looking for Hadoop streaming jar in /usr/local/hadoop...\n",
      "Found Hadoop streaming jar: /usr/local/hadoop/share/hadoop/tools/lib/hadoop-streaming-2.7.1.jar\n",
      "Detected hadoop configuration property names that do not match hadoop version 2.7.1:\n",
      "The have been translated as follows\n",
      " mapred.text.key.partitioner.options: mapreduce.partition.keypartitioner.options\n",
      "Running step 1 of 1...\n",
      "  Unable to load native-hadoop library for your platform... using builtin-java classes where applicable\n",
      "  packageJobJar: [/tmp/hadoop-unjar2019684503211612131/] [] /tmp/streamjob1046873703101917574.jar tmpDir=null\n",
      "  Connecting to ResourceManager at master/50.97.205.254:8032\n",
      "  Connecting to ResourceManager at master/50.97.205.254:8032\n",
      "  Total input paths to process : 1\n",
      "  number of splits:26\n",
      "  mapred.text.key.partitioner.options is deprecated. Instead, use mapreduce.partition.keypartitioner.options\n",
      "  Submitting tokens for job: job_1468645284600_0025\n",
      "  Submitted application application_1468645284600_0025\n",
      "  The url to track the job: http://master:8088/proxy/application_1468645284600_0025/\n",
      "  Running job: job_1468645284600_0025\n",
      "  Job job_1468645284600_0025 running in uber mode : false\n",
      "   map 0% reduce 0%\n",
      "   map 27% reduce 0%\n",
      "   map 81% reduce 0%\n",
      "   map 100% reduce 0%\n",
      "   map 100% reduce 100%\n",
      "  Job job_1468645284600_0025 completed successfully\n",
      "  Output directory: hdfs:///user/hadoop/tmp/mrjob/PageRankSort.hadoop.20160716.165918.135310/output\n",
      "Counters: 50\n",
      "\tFile Input Format Counters \n",
      "\t\tBytes Read=7085\n",
      "\tFile Output Format Counters \n",
      "\t\tBytes Written=240\n",
      "\tFile System Counters\n",
      "\t\tFILE: Number of bytes read=236\n",
      "\t\tFILE: Number of bytes written=3268771\n",
      "\t\tFILE: Number of large read operations=0\n",
      "\t\tFILE: Number of read operations=0\n",
      "\t\tFILE: Number of write operations=0\n",
      "\t\tHDFS: Number of bytes read=9685\n",
      "\t\tHDFS: Number of bytes written=240\n",
      "\t\tHDFS: Number of large read operations=0\n",
      "\t\tHDFS: Number of read operations=81\n",
      "\t\tHDFS: Number of write operations=2\n",
      "\tJob Counters \n",
      "\t\tData-local map tasks=16\n",
      "\t\tLaunched map tasks=26\n",
      "\t\tLaunched reduce tasks=1\n",
      "\t\tRack-local map tasks=10\n",
      "\t\tTotal megabyte-seconds taken by all map tasks=109404160\n",
      "\t\tTotal megabyte-seconds taken by all reduce tasks=2862080\n",
      "\t\tTotal time spent by all map tasks (ms)=106840\n",
      "\t\tTotal time spent by all maps in occupied slots (ms)=106840\n",
      "\t\tTotal time spent by all reduce tasks (ms)=2795\n",
      "\t\tTotal time spent by all reduces in occupied slots (ms)=2795\n",
      "\t\tTotal vcore-seconds taken by all map tasks=106840\n",
      "\t\tTotal vcore-seconds taken by all reduce tasks=2795\n",
      "\tMap-Reduce Framework\n",
      "\t\tCPU time spent (ms)=15210\n",
      "\t\tCombine input records=0\n",
      "\t\tCombine output records=0\n",
      "\t\tFailed Shuffles=0\n",
      "\t\tGC time elapsed (ms)=3612\n",
      "\t\tInput split bytes=2600\n",
      "\t\tMap input records=10\n",
      "\t\tMap output bytes=210\n",
      "\t\tMap output materialized bytes=386\n",
      "\t\tMap output records=10\n",
      "\t\tMerged Map outputs=26\n",
      "\t\tPhysical memory (bytes) snapshot=7077240832\n",
      "\t\tReduce input groups=10\n",
      "\t\tReduce input records=10\n",
      "\t\tReduce output records=10\n",
      "\t\tReduce shuffle bytes=386\n",
      "\t\tShuffled Maps =26\n",
      "\t\tSpilled Records=20\n",
      "\t\tTotal committed heap usage (bytes)=5376573440\n",
      "\t\tVirtual memory (bytes) snapshot=57334550528\n",
      "\tShuffle Errors\n",
      "\t\tBAD_ID=0\n",
      "\t\tCONNECTION=0\n",
      "\t\tIO_ERROR=0\n",
      "\t\tWRONG_LENGTH=0\n",
      "\t\tWRONG_MAP=0\n",
      "\t\tWRONG_REDUCE=0\n",
      "Streaming final output from hdfs:///user/hadoop/tmp/mrjob/PageRankSort.hadoop.20160716.165918.135310/output...\n",
      "10\t4.42342618582e-08\n",
      "10000000\t3.75760612708e-08\n",
      "10000001\t3.69477455569e-08\n",
      "100\t3.68281746137e-08\n",
      "10000002\t3.63693362041e-08\n",
      "1\t3.6312233588e-08\n",
      "10000\t3.61634874966e-08\n",
      "100000\t3.60238367088e-08\n",
      "1000\t3.53183748956e-08\n",
      "1000000\t3.5227608213e-08\n",
      "STDERR: 16/07/16 11:59:51 WARN util.NativeCodeLoader: Unable to load native-hadoop library for your platform... using builtin-java classes where applicable\n",
      "\n",
      "Removing HDFS temp directory hdfs:///user/hadoop/tmp/mrjob/PageRankSort.hadoop.20160716.165918.135310...\n",
      "Removing temp directory /tmp/PageRankSort.hadoop.20160716.165918.135310...\n"
     ]
    }
   ],
   "source": [
    "#!python PageRankSort.py sort_test.txt\n",
    "#!python PageRankSort.py pagerank_test_25iter.txt '--num_top=5'\n",
    "#!python PageRankSort.py hdfs:///user/hadoop/HW9Results/PageRank_test_25iter -r hadoop '--num_top=5'\n",
    "!python PageRankSort.py hdfs:///user/hadoop/HW9Input/sort_test.txt -r hadoop"
   ]
  },
  {
   "cell_type": "code",
   "execution_count": 21,
   "metadata": {
    "collapsed": false
   },
   "outputs": [
    {
     "name": "stdout",
     "output_type": "stream",
     "text": [
      "Overwriting start_job_PageRankSort.sh\n"
     ]
    }
   ],
   "source": [
    "%%writefile start_job_PageRankSort.sh\n",
    "#!/bin/bash\n",
    "hdfs dfs -rm -r /user/hadoop/HW9Output/PageRankSort\n",
    "nohup python PageRankSort.py -r hadoop hdfs:///user/hadoop/HW9Results/PageRank_wikipedia_10iter --output-dir=HW9Output/PageRankSort --no-output > nohup/PageRankSort"
   ]
  },
  {
   "cell_type": "code",
   "execution_count": 20,
   "metadata": {
    "collapsed": true
   },
   "outputs": [],
   "source": [
    "!chmod +x start_job_PageRankSort.sh"
   ]
  },
  {
   "cell_type": "code",
   "execution_count": 22,
   "metadata": {
    "collapsed": false
   },
   "outputs": [
    {
     "name": "stdout",
     "output_type": "stream",
     "text": [
      "16/07/16 12:13:44 WARN util.NativeCodeLoader: Unable to load native-hadoop library for your platform... using builtin-java classes where applicable\n",
      "rm: `/user/hadoop/HW9Output/PageRankSort': No such file or directory\n",
      "nohup: ignoring input and redirecting stderr to stdout\n"
     ]
    }
   ],
   "source": [
    "!./start_job_PageRankSort.sh"
   ]
  },
  {
   "cell_type": "code",
   "execution_count": 5,
   "metadata": {
    "collapsed": false
   },
   "outputs": [
    {
     "name": "stdout",
     "output_type": "stream",
     "text": [
      "16/07/16 17:08:16 WARN util.NativeCodeLoader: Unable to load native-hadoop library for your platform... using builtin-java classes where applicable\n",
      "cat: Unable to write to output stream.\n"
     ]
    }
   ],
   "source": [
    "#!hdfs dfs -ls /user/hadoop/HW9Output/PageRankSort\n",
    "#!hdfs dfs -mv /user/hadoop/HW9Output/PageRankSort /user/hadoop/HW9Results/PageRankSort_iter10\n",
    "#!hdfs dfs -cat /user/hadoop/HW9Output/PageRankSort/part-00000 | head\n",
    "#!hdfs dfs -cat /user/hadoop/HW9Results/PageRankSort_iter10/part-00000 | head -100 > PageRankTop100_iter10.txt\n",
    "#!hdfs dfs -cat /user/hadoop/HW9Results/PageRankSort_iter5/part-00000 | head -100 > PageRankTop100_iter5.txt\n",
    "#!hdfs dfs -cat /user/hadoop/HW9Output/PageRankSort/part-00000 | head -100 > PageRankTop100_iter5.txt"
   ]
  },
  {
   "cell_type": "code",
   "execution_count": 18,
   "metadata": {
    "collapsed": false
   },
   "outputs": [
    {
     "name": "stdout",
     "output_type": "stream",
     "text": [
      "Overwriting PageRankJoin.py\n"
     ]
    }
   ],
   "source": [
    "%%writefile PageRankJoin.py\n",
    "from mrjob.job import MRJob\n",
    "from mrjob.step import MRStep\n",
    "from mrjob.protocol import RawProtocol\n",
    "\n",
    "# This class basically implements a Map-Side Join: Parallel Scans to take advantage of the \n",
    "# already sorted wikipedia indices.txt file.  The indices.txt file is mapped over by the mapper\n",
    "# A file with a sorted list of nodes from the shortest path is passed in.  (Note that the true order\n",
    "# of each node in the shortest path is preserved.)  The nodes from the shortest path are stored\n",
    "# in memory as likely there will not be a large number of these.  As the mapper maps through\n",
    "# each index in the indices.txt file, the first node from the shortest path is checked.  Once that\n",
    "# node is found, the next one is checked.  Since the shortest path list is sorted when the last one\n",
    "# is found, then the mapper can stop.  The reducer just passes through the data from the mapper.  It\n",
    "# is really not needed.  It is just being used as an aggregation point if there are many mappers.\n",
    "class MRPageRankJoin(MRJob):\n",
    "    MRJob.SORT_VALUES = True \n",
    "    INTERNAL_PROTOCOL = RawProtocol\n",
    "    OUTPUT_PROTOCOL = RawProtocol\n",
    "\n",
    "    # Read in the shortest path node list and set class variables to point to the first node in the list.\n",
    "    def __init__(self, *args, **kwargs):\n",
    "        super(MRPageRankJoin, self).__init__(*args, **kwargs)\n",
    "        self.node_list = {}\n",
    "        for node_data in open('PageRankTop.txt', 'r').readlines():\n",
    "            node_num, page_rank = node_data.strip().split('\\t')\n",
    "            self.node_list[node_num] = page_rank\n",
    "    \n",
    "    # Map over the input data and look for index matches in the shortest path nodes.  If one is found\n",
    "    # yield it and move on to the next node in the shortest path.\n",
    "    def mapper(self, _, line):\n",
    "        # format of line from indices.txt:  (article name) \\t (index) \\t (in degree) \\t (out degree)\n",
    "        article_name, index, _, _ = line.strip().split('\\t')\n",
    "        if index in self.node_list:\n",
    "            yield index, str(self.node_list[index])+'\\t'+str(article_name)\n",
    "                    \n",
    "    # Output data from the mapper\n",
    "    def reducer(self, index, data):\n",
    "        for d in data:\n",
    "            yield index, d\n",
    "    \n",
    "    def steps(self):\n",
    "        JOBCONF_STEP = {        \n",
    "            'mapreduce.job.output.key.comparator.class': 'org.apache.hadoop.mapred.lib.KeyFieldBasedComparator',\n",
    "            'mapreduce.partition.keycomparator.options': '-k2,2nr',\n",
    "            'mapreduce.job.maps': '25',\n",
    "            'mapreduce.job.reduces': '1'\n",
    "        }\n",
    "        # Create the steps for the MRJob.\n",
    "        return [MRStep(jobconf=JOBCONF_STEP,\n",
    "                       mapper=self.mapper,\n",
    "                       reducer=self.reducer)]\n",
    "            \n",
    "if __name__ == '__main__':\n",
    "    MRPageRankJoin.run()"
   ]
  },
  {
   "cell_type": "code",
   "execution_count": 19,
   "metadata": {
    "collapsed": false
   },
   "outputs": [],
   "source": [
    "#!cat PageRankTop.text | head"
   ]
  },
  {
   "cell_type": "code",
   "execution_count": 3,
   "metadata": {
    "collapsed": false
   },
   "outputs": [],
   "source": [
    "#!cp PageRankTop100_iter5.txt PageRankTop.text\n",
    "#!python PageRankJoin.py indices_test.txt '--file=PageRankTop.txt'"
   ]
  },
  {
   "cell_type": "markdown",
   "metadata": {},
   "source": [
    "### Store Join results "
   ]
  },
  {
   "cell_type": "code",
   "execution_count": 2,
   "metadata": {
    "collapsed": false
   },
   "outputs": [
    {
     "name": "stdout",
     "output_type": "stream",
     "text": [
      "16/07/17 09:13:14 WARN util.NativeCodeLoader: Unable to load native-hadoop library for your platform... using builtin-java classes where applicable\r\n"
     ]
    }
   ],
   "source": [
    "#!hdfs dfs -mv /user/hadoop/HW9Output/PageRankJoin /user/hadoop/HW9Results/PageRankJoin_iter10\n",
    "#!hdfs dfs -cat /user/hadoop/HW9Results/PageRankJoin_iter5/part-00000 | head\n",
    "#!hdfs dfs -cat /user/hadoop/HW9Results/PageRankJoin_iter5/part-00000 > PageRankJoinTop100_iter5.txt\n",
    "#!hdfs dfs -cat /user/hadoop/HW9Results/PageRankJoin_iter10/part-00000 > PageRankJoinTop100_iter10.txt"
   ]
  },
  {
   "cell_type": "code",
   "execution_count": 10,
   "metadata": {
    "collapsed": false
   },
   "outputs": [
    {
     "name": "stdout",
     "output_type": "stream",
     "text": [
      "Overwriting start_job_PageRankJoin.sh\n"
     ]
    }
   ],
   "source": [
    "%%writefile start_job_PageRankJoin.sh\n",
    "#!/bin/bash\n",
    "hdfs dfs -rm -r /user/hadoop/HW9Output/PageRankJoin\n",
    "cp PageRankTop100_iter10.txt PageRankTop.txt\n",
    "nohup python PageRankJoin.py -r hadoop hdfs:///user/hadoop/HW7data/indices.txt --file=PageRankTop.txt --output-dir=HW9Output/PageRankJoin --no-output > nohup/PageRankJoin"
   ]
  },
  {
   "cell_type": "code",
   "execution_count": 11,
   "metadata": {
    "collapsed": true
   },
   "outputs": [],
   "source": [
    "!chmod +x start_job_PageRankJoin.sh"
   ]
  },
  {
   "cell_type": "code",
   "execution_count": 12,
   "metadata": {
    "collapsed": false
   },
   "outputs": [
    {
     "name": "stdout",
     "output_type": "stream",
     "text": [
      "16/07/17 00:27:05 WARN util.NativeCodeLoader: Unable to load native-hadoop library for your platform... using builtin-java classes where applicable\n",
      "rm: `/user/hadoop/HW9Output/PageRankJoin': No such file or directory\n",
      "nohup: ignoring input and redirecting stderr to stdout\n"
     ]
    }
   ],
   "source": [
    "!./start_job_PageRankJoin.sh"
   ]
  },
  {
   "cell_type": "code",
   "execution_count": 3,
   "metadata": {
    "collapsed": false
   },
   "outputs": [
    {
     "name": "stdout",
     "output_type": "stream",
     "text": [
      "Writing sort_test.txt\n"
     ]
    }
   ],
   "source": [
    "%%writefile sort_test.txt\n",
    "\"1\"\t[{}, 3.631223358802273e-08]\n",
    "\"10\"\t[{\"12\": 3, \"14478968\": 1, \"14965909\": 1, \"5172381\": 2, \"3403886\": 1, \"8031052\": 1, \"6857278\": 2, \"9416257\": 1, \"14481011\": 1, \"12336458\": 1, \"994890\": 1}, 4.4234261858240435e-08]\n",
    "\"100\"\t[{}, 3.68281746137279e-08]\n",
    "\"1000\"\t[{}, 3.531837489563729e-08]\n",
    "\"10000\"\t[{}, 3.616348749656895e-08]\n",
    "\"100000\"\t[{\"100001\": 1}, 3.602383670884568e-08]\n",
    "\"1000000\"\t[{\"1000001\": 1}, 3.52276082130414e-08]\n",
    "\"10000000\"\t[{}, 3.7576061270828165e-08]\n",
    "\"10000001\"\t[{}, 3.694774555694013e-08]\n",
    "\"10000002\"\t[{}, 3.6369336204118953e-08]"
   ]
  },
  {
   "cell_type": "code",
   "execution_count": 9,
   "metadata": {
    "collapsed": false
   },
   "outputs": [
    {
     "name": "stdout",
     "output_type": "stream",
     "text": [
      "16/07/16 01:17:47 WARN util.NativeCodeLoader: Unable to load native-hadoop library for your platform... using builtin-java classes where applicable\n",
      "~Miboujin~ Niku Dorei\t15192268\t1\t0\n",
      "~VS~ Members\t15192269\t1\t0\n",
      "~Weta (journal)\t15192270\t1\t0\n",
      "~Z~ Zetto\t15192271\t1\t0\n",
      "~binding~\t15192272\t2\t0\n",
      "~chromatik d zabu.tmp\t15192273\t1\t0\n",
      "~refrain~ The songs were inspired by Evangelion\t15192274\t4\t1\n",
      "~scape\t15192275\t8\t0\n",
      "~~ gender\t15192276\t1\t0\n",
      "~~\t15192277\t1\t0\n"
     ]
    }
   ],
   "source": [
    "#!hdfs dfs -cat /user/hadoop/HW9Results/PageRank_test_25iter/part-00000 > pagerank_test_25iter.txt\n",
    "#!hdfs dfs -cat /user/hadoop/HW9Results/PageRank_test_25iter/part-00001 >> pagerank_test_25iter.txt\n",
    "!hdfs dfs -cat /user/hadoop/HW7data/indices.txt | tail"
   ]
  },
  {
   "cell_type": "markdown",
   "metadata": {},
   "source": [
    "<h2 style=\"color:darkgreen\">  HW 9.1 Analysis </h2>\n",
    "\n",
    "\n",
    "\n",
    "\n",
    "<br><br>"
   ]
  },
  {
   "cell_type": "markdown",
   "metadata": {},
   "source": [
    "<h2 style=\"color:darkblue\"> HW 9.2: Exploring PageRank teleportation and network plots </h2>\n",
    "\n",
    "* In order to overcome  problems such as disconnected components, the damping factor (a typical value for d is 0.85) can be varied. \n",
    "* Using the graph in HW1, plot the test graph (using networkx, https://networkx.github.io/) for several values of the damping parameter alpha, so that each nodes radius is proportional to its PageRank score. \n",
    "* In particular you should do this for the following damping factors: [0,0.25,0.5,0.75, 0.85, 1]. \n",
    "* Note your plots should look like the following: https://en.wikipedia.org/wiki/PageRank#/media/File:PageRanks-Example.svg"
   ]
  },
  {
   "cell_type": "markdown",
   "metadata": {},
   "source": [
    "<h2 style=\"color:darkgreen\"> HW 9.2 Implementation </h2>"
   ]
  },
  {
   "cell_type": "code",
   "execution_count": 1,
   "metadata": {
    "collapsed": true
   },
   "outputs": [],
   "source": [
    "## Code goes here"
   ]
  },
  {
   "cell_type": "code",
   "execution_count": 2,
   "metadata": {
    "collapsed": true
   },
   "outputs": [],
   "source": [
    "## Drivers & Runners"
   ]
  },
  {
   "cell_type": "code",
   "execution_count": 3,
   "metadata": {
    "collapsed": true
   },
   "outputs": [],
   "source": [
    "## Run Scripts, S3 Sync"
   ]
  },
  {
   "cell_type": "markdown",
   "metadata": {},
   "source": [
    "<h2 style=\"color:darkgreen\">  HW 9.2 Analysis </h2>\n",
    "\n",
    "\n",
    "\n",
    "\n",
    "<br><br>"
   ]
  },
  {
   "cell_type": "markdown",
   "metadata": {},
   "source": [
    "<h2 style=\"color:darkblue\"> HW 9.3: Applying PageRank to the Wikipedia hyperlinks network </h2>\n",
    "\n",
    "* Run your PageRank implementation on the Wikipedia dataset for 5 iterations, and display the top 100 ranked nodes (with alpha = 0.85).\n",
    "* Run your PageRank implementation on the Wikipedia dataset for 10 iterations, and display the top 100 ranked nodes (with teleportation factor of 0.15).\n",
    "* Have the top 100 ranked pages changed? Comment on your findings. \n",
    "* Plot the pagerank values for the top 100 pages resulting from the 5 iterations run. Then plot the pagerank values for the same 100 pages that resulted from the 10 iterations run.  \n"
   ]
  },
  {
   "cell_type": "markdown",
   "metadata": {},
   "source": [
    "<h2 style=\"color:darkgreen\"> HW 9.3 Implementation </h2>"
   ]
  },
  {
   "cell_type": "code",
   "execution_count": 1,
   "metadata": {
    "collapsed": true
   },
   "outputs": [],
   "source": [
    "## Code goes here"
   ]
  },
  {
   "cell_type": "code",
   "execution_count": 2,
   "metadata": {
    "collapsed": true
   },
   "outputs": [],
   "source": [
    "## Drivers & Runners"
   ]
  },
  {
   "cell_type": "code",
   "execution_count": 3,
   "metadata": {
    "collapsed": true
   },
   "outputs": [],
   "source": [
    "## Run Scripts, S3 Sync"
   ]
  },
  {
   "cell_type": "markdown",
   "metadata": {},
   "source": [
    " <h2 style=\"color:darkgreen\">  HW 9.3 Analysis </h2>\n",
    "\n",
    "\n",
    "\n",
    "\n",
    "<br><br>"
   ]
  },
  {
   "cell_type": "markdown",
   "metadata": {},
   "source": [
    "### Plot Top100 Results"
   ]
  },
  {
   "cell_type": "code",
   "execution_count": 6,
   "metadata": {
    "collapsed": false
   },
   "outputs": [
    {
     "name": "stderr",
     "output_type": "stream",
     "text": [
      "/usr/local/anaconda2/lib/python2.7/site-packages/ipykernel/__main__.py:27: FutureWarning: by argument to sort_index is deprecated, pls use .sort_values(by=...)\n"
     ]
    },
    {
     "data": {
      "text/plain": [
       "<matplotlib.axes._subplots.AxesSubplot at 0x7fc8d4242750>"
      ]
     },
     "execution_count": 6,
     "metadata": {},
     "output_type": "execute_result"
    },
    {
     "data": {
      "image/png": "[encoded data removed]",
      "text/plain": [
       "<matplotlib.figure.Figure at 0x7fc8d4229f90>"
      ]
     },
     "metadata": {},
     "output_type": "display_data"
    }
   ],
   "source": [
    "##### OUTPUT FOR HW9.3 TOP 100 PLOTS #####\n",
    "%matplotlib inline\n",
    "\n",
    "import pandas\n",
    "\n",
    "# Initialize a dictionary to store the top100\n",
    "top100_iter5 = {}\n",
    "with open('PageRankJoinTop100_iter5.txt', 'r') as f:\n",
    "    for line in f.readlines():\n",
    "        index, page_rank, article_name = line.strip().split('\\t')\n",
    "        top100_iter5[article_name] = float(page_rank)\n",
    "#print len(top100_iter5)\n",
    "#print top100_iter5\n",
    "\n",
    "top100_iter10 = {}\n",
    "with open('PageRankJoinTop100_iter10.txt', 'r') as f:\n",
    "    for line in f.readlines():\n",
    "        index, page_rank, article_name = line.strip().split('\\t')\n",
    "        top100_iter10[article_name] = float(page_rank)\n",
    "\n",
    "#http://pandas.pydata.org/pandas-docs/stable/generated/pandas.DataFrame.plot.html\n",
    "\n",
    "df = pandas.DataFrame.from_dict(top100_iter5, orient='index')\n",
    "df.columns = ['Page Rank 5 Iterations']\n",
    "df = df.sort_index(by='Page Rank 5 Iterations', ascending=False)\n",
    "df_10 = pandas.DataFrame.from_dict(top100_iter10, orient='index')\n",
    "df_10.columns = ['Page Rank 10 Iterations']\n",
    "df = pandas.merge(left=df, right=df_10, left_index = True, right_index = True, how='left')\n",
    "df.plot(kind='bar', figsize=(20,8), legend=True, title='Wikipedia Top 100', color=['b', 'r'])"
   ]
  },
  {
   "cell_type": "code",
   "execution_count": 44,
   "metadata": {
    "collapsed": false
   },
   "outputs": [
    {
     "name": "stdout",
     "output_type": "stream",
     "text": [
      "16/07/17 10:16:05 WARN util.NativeCodeLoader: Unable to load native-hadoop library for your platform... using builtin-java classes where applicable\n",
      "4320007\t0.000110569823502\n",
      "2749128\t3.44743200072e-07\n",
      "7279307\t4.71804320007e-08\n",
      "14320007\t3.85800584089e-08\n",
      "11546567\t3.64320007669e-08\n"
     ]
    }
   ],
   "source": [
    "\n",
    "!hdfs dfs -cat /user/hadoop/HW9Results/PageRankSort_iter10/part-00000 | grep 4320007\n",
    "#!hdfs dfs -cat /user/hadoop/HW9Results/PageRank/part-00000 | grep 15070394"
   ]
  },
  {
   "cell_type": "markdown",
   "metadata": {},
   "source": [
    "<h2 style=\"color:darkblue\"> HW 9.4: Topic-specific PageRank implementation using MRJob </h2>\n",
    "\n",
    "Modify your PageRank implementation to produce a topic specific PageRank implementation, as described in:\n",
    "\n",
    "http://www-cs-students.stanford.edu/~taherh/papers/topic-sensitive-pagerank.pdf\n",
    "\n",
    "Note in this article that there is a special caveat to ensure that the transition matrix is irreducible.   \n",
    "This caveat lies in footnote 3 on page 3:\n",
    "```\n",
    "\tA minor caveat: to ensure that M is irreducible when p\n",
    "\tcontains any 0 entries, nodes not reachable from nonzero\n",
    "\tnodes in p should be removed. In practice this is not problematic.\n",
    "```\n",
    "and must be adhered to for convergence to be guaranteed.   \n",
    "\n",
    "Run topic specific PageRank on the following randomly generated network of 100 nodes:\n",
    "\n",
    "> s3://ucb-mids-mls-networks/randNet.txt (also available on Dropbox)\n",
    "\n",
    "which are organized into ten topics, as described in the file:\n",
    "\n",
    "> s3://ucb-mids-mls-networks/randNet_topics.txt  (also available on Dropbox)\n",
    "\n",
    "Since there are 10 topics, your result should be 11 PageRank vectors (one for the vanilla PageRank implementation in 9.1, and one for each topic with the topic specific implementation). Print out the top ten ranking nodes and their topics for each of the 11 versions, and comment on your result. Assume a teleportation factor of 0.15 in all your analyses.\n",
    "\n",
    "One final and important comment here:  please consider the requirements for irreducibility with topic-specific PageRank. In particular, the literature ensures irreducibility by requiring that nodes not reachable from in-topic nodes be removed from the network.\n",
    "\n",
    "This is not a small task, especially as it it must be performed separately for each of the (10) topics.\n",
    "\n",
    "So, instead of using this method for irreducibility, please comment on why the literature's method is difficult to implement, and what what extra computation it will require.   \n",
    "\n",
    "Then for your code, please use the alternative, non-uniform damping vector:\n",
    "\n",
    "```\n",
    "vji = beta*(1/|Tj|); if node i lies in topic Tj\n",
    "\n",
    "vji = (1-beta)*(1/(N - |Tj|)); if node i lies outside of topic Tj\n",
    "```\n",
    "for beta in (0,1) close to 1. \n",
    "\n",
    "With this approach, you will not have to delete any nodes. If beta > 0.5, PageRank is topic-sensitive, and if beta < 0.5, the PageRank is anti-topic-sensitive. For any value of beta irreducibility should hold, so please try beta=0.99, and perhaps some other values locally, on the smaller networks."
   ]
  },
  {
   "cell_type": "markdown",
   "metadata": {},
   "source": [
    "<h2 style=\"color:darkgreen\"> HW 9.4 Implementation </h2>"
   ]
  },
  {
   "cell_type": "code",
   "execution_count": 3,
   "metadata": {
    "collapsed": false
   },
   "outputs": [
    {
     "name": "stdout",
     "output_type": "stream",
     "text": [
      "Overwriting PageRankTopicStep2.py\n"
     ]
    }
   ],
   "source": [
    "%%writefile PageRankTopicStep2.py\n",
    "from mrjob.job import MRJob\n",
    "from mrjob.step import MRStep\n",
    "import json\n",
    "\n",
    "# This class takes in the list of nodes mapped to their topic, damping_factor, total_nodes in the graph,\n",
    "# dangling mass, beta, topic being calculated and the number of nodes in the topic being calculated and\n",
    "# outputs the topic specific page rank for all nodes in the graph.\n",
    "class MRPageRankTopicStep2(MRJob):\n",
    "    def configure_options(self):\n",
    "        # Configure required command line options\n",
    "        super(MRPageRankTopicStep2, self).configure_options()\n",
    "        self.add_passthrough_option('--damping_factor', type='float', default=0.15)\n",
    "        self.add_passthrough_option('--total_nodes', type='float', default=1.0)\n",
    "        self.add_passthrough_option('--dangling_mass', type='float', default=0.0)\n",
    "        self.add_passthrough_option('--beta', type='float', default=0.99)\n",
    "        self.add_passthrough_option('--topic', type='str', default='')\n",
    "        self.add_passthrough_option('--topic_size', type='int', default=1)\n",
    "\n",
    "    def __init__(self, *args, **kwargs):\n",
    "        super(MRPageRankTopicStep2, self).__init__(*args, **kwargs)\n",
    "        # Store the node names and their topics in memory\n",
    "        self.topic_list = {}\n",
    "        with open('randNet_topics.txt', 'r') as f:\n",
    "            for line in f.readlines():\n",
    "                node, topic = line.strip().split('\\t')\n",
    "                self.topic_list[node] = topic\n",
    "\n",
    "    # Map over each node and calculate its final page rank depending on which topic it\n",
    "    # belongs to\n",
    "    def mapper(self, key, line):\n",
    "        node_num, data = line.strip().split('\\t')\n",
    "        node_num = node_num.strip('\"')\n",
    "        #print node_num, data\n",
    "        if node_num != '*total_nodes':\n",
    "            data = json.loads(data)\n",
    "            adj_dict = data[0]\n",
    "            page_rank = data[1]\n",
    "            # If there is no topic, use the non-topic specific page rank calculation\n",
    "            if self.options.topic == 'Vanilla':\n",
    "                f_page_rank = (1-self.options.damping_factor)*(1.0/self.options.total_nodes)+ \\\n",
    "                    self.options.damping_factor*((self.options.dangling_mass/self.options.total_nodes)+page_rank)\n",
    "            # If the node is in the topic that is being calculated, then bias the teleport matrix using \n",
    "            # the total_nodes_in_topic\n",
    "            elif self.topic_list[node_num] == self.options.topic:\n",
    "                teleport = (self.options.beta/self.options.topic_size)\n",
    "                f_page_rank = (1-self.options.damping_factor)*teleport+ \\\n",
    "                    self.options.damping_factor*((self.options.dangling_mass/self.options.total_nodes)+page_rank)\n",
    "            # If the node is NOT in the topic that is being calculated, then bias the teleport matrix using \n",
    "            # the (total_nodes - total_nodes_in_topic)\n",
    "            else:\n",
    "                teleport = (1-self.options.beta)*(1/(self.options.total_nodes-self.options.topic_size))\n",
    "                f_page_rank = (1-self.options.damping_factor)*teleport+ \\\n",
    "                    self.options.damping_factor*((self.options.dangling_mass/self.options.total_nodes)+page_rank)\n",
    "            #print node_num, tuple((adj_dict, f_page_rank))                    \n",
    "            yield node_num, tuple((adj_dict, f_page_rank))\n",
    "    \n",
    "    # Only a mapper is needed here\n",
    "    def steps(self):\n",
    "        return [\n",
    "            MRStep(mapper=self.mapper)\n",
    "               ]\n",
    "            \n",
    "if __name__ == '__main__':\n",
    "    MRPageRankTopicStep2.run()"
   ]
  },
  {
   "cell_type": "code",
   "execution_count": 4,
   "metadata": {
    "collapsed": false
   },
   "outputs": [],
   "source": [
    "# This function prints the contents of filename to a table sorted by page rank.\n",
    "def print_table(filename, topic_name):\n",
    "    # Import tabulate to create a table\n",
    "    from tabulate import tabulate\n",
    "    from operator import itemgetter\n",
    "\n",
    "    # Create a variable 'headers' to store the headers of the table\n",
    "    headers = ['Node Name', 'Topic', 'Page Rank']\n",
    "    # Initialize a list called data to hold the data for the rows of the table\n",
    "    data = []\n",
    "    with open(filename, 'r') as f:\n",
    "        for line in f.readlines():\n",
    "            node_num, topic, data_list = line.strip().split('\\t')\n",
    "            node_num = node_num.strip('\"')\n",
    "            data_list = json.loads(data_list)\n",
    "            page_rank = data_list[1]\n",
    "            data.append([node_num, topic, str(page_rank)])\n",
    "    \n",
    "    # Sort the data by page ranks\n",
    "    data = sorted(data, key=itemgetter(2), reverse=True)\n",
    "\n",
    "    # Print the table\n",
    "    print('Top 10 Page Ranks - Topic %s' % (topic_name))\n",
    "    # Only print the top 10 results\n",
    "    print(tabulate(data[:10], headers=headers))\n",
    "    print('')"
   ]
  },
  {
   "cell_type": "code",
   "execution_count": 5,
   "metadata": {
    "collapsed": false
   },
   "outputs": [
    {
     "name": "stdout",
     "output_type": "stream",
     "text": [
      "Top 10 Page Ranks - Topic Vanilla\n",
      "  Node Name    Topic    Page Rank\n",
      "-----------  -------  -----------\n",
      "         15        3    0.0163563\n",
      "         74       10    0.0159692\n",
      "         63        4    0.0157709\n",
      "        100        8    0.0153765\n",
      "         85        7    0.0151785\n",
      "          9        2    0.0150325\n",
      "         58        2    0.0148282\n",
      "         71        2    0.0144909\n",
      "         61        8    0.014407\n",
      "         52        1    0.014311\n",
      "\n",
      "Top 10 Page Ranks - Topic 1\n",
      "  Node Name    Topic    Page Rank\n",
      "-----------  -------  -----------\n",
      "         32        1    0.0206459\n",
      "         77        1    0.0205476\n",
      "         52        1    0.0197543\n",
      "         92        1    0.0195292\n",
      "         10        1    0.0185655\n",
      "         27        1    0.0185225\n",
      "         85        7    0.0178405\n",
      "         98        1    0.0176924\n",
      "         46        1    0.0175141\n",
      "         74       10    0.0160281\n",
      "\n",
      "Top 10 Page Ranks - Topic 2\n",
      "  Node Name    Topic    Page Rank\n",
      "-----------  -------  -----------\n",
      "         58        2    0.0308475\n",
      "         71        2    0.0296653\n",
      "          9        2    0.0292969\n",
      "         73        2    0.0289148\n",
      "         12        2    0.0268889\n",
      "         59        2    0.0257997\n",
      "         75        2    0.0248496\n",
      "         82        2    0.0228582\n",
      "         52        1    0.0163221\n",
      "         17       10    0.0151587\n",
      "\n",
      "Top 10 Page Ranks - Topic 3\n",
      "  Node Name    Topic    Page Rank\n",
      "-----------  -------  -----------\n",
      "         15        3    0.0315291\n",
      "         70        3    0.0270766\n",
      "         86        3    0.026528\n",
      "         91        3    0.0244633\n",
      "         66        3    0.0241485\n",
      "          2        3    0.0237051\n",
      "         31        3    0.0227671\n",
      "         40        3    0.0221785\n",
      "         20        3    0.019745\n",
      "         74       10    0.0159\n",
      "\n",
      "Top 10 Page Ranks - Topic 4\n",
      "  Node Name    Topic    Page Rank\n",
      "-----------  -------  -----------\n",
      "         63        4    0.026202\n",
      "         83        4    0.0217601\n",
      "         65        4    0.0206238\n",
      "         78        4    0.0202101\n",
      "         41        4    0.0199085\n",
      "         84        4    0.0195199\n",
      "         79        4    0.0184287\n",
      "         38        4    0.0175154\n",
      "         15        3    0.0167522\n",
      "         72        4    0.0166947\n",
      "\n",
      "Top 10 Page Ranks - Topic 5\n",
      "  Node Name    Topic    Page Rank\n",
      "-----------  -------  -----------\n",
      "         99        5    0.0289633\n",
      "         90        5    0.028345\n",
      "         88        5    0.0271687\n",
      "         51        5    0.0268308\n",
      "         45        5    0.0255533\n",
      "          5        5    0.02392\n",
      "         34        5    0.0239097\n",
      "          4        5    0.0233633\n",
      "         80        5    0.0228396\n",
      "        100        8    0.0167415\n",
      "\n",
      "Top 10 Page Ranks - Topic 6\n",
      "  Node Name    Topic    Page Rank\n",
      "-----------  -------  -----------\n",
      "         13        6    0.0345716\n",
      "         56        6    0.0328539\n",
      "         37        6    0.0317772\n",
      "         11        6    0.0313396\n",
      "         69        6    0.0301208\n",
      "         23        6    0.0283489\n",
      "         15        3    0.0172426\n",
      "         85        7    0.0169894\n",
      "         52        1    0.0166022\n",
      "         74       10    0.015461\n",
      "\n",
      "Top 10 Page Ranks - Topic 7\n",
      "  Node Name    Topic    Page Rank\n",
      "-----------  -------  -----------\n",
      "         85        7    0.0267942\n",
      "         25        7    0.0266088\n",
      "         28        7    0.0248273\n",
      "         53        7    0.0247676\n",
      "         35        7    0.0242008\n",
      "         97        7    0.023395\n",
      "         47        7    0.022865\n",
      "         55        7    0.0225608\n",
      "         30        7    0.0221348\n",
      "         50        7    0.0200891\n",
      "\n",
      "Top 10 Page Ranks - Topic 8\n",
      "  Node Name    Topic    Page Rank\n",
      "-----------  -------  -----------\n",
      "        100        8    0.032866\n",
      "         61        8    0.0278586\n",
      "         39        8    0.0271955\n",
      "          8        8    0.0271531\n",
      "         62        8    0.0253468\n",
      "         87        8    0.0252984\n",
      "          6        8    0.0235069\n",
      "         54        8    0.0228917\n",
      "         18        8    0.0206227\n",
      "          9        2    0.0153798\n",
      "\n",
      "Top 10 Page Ranks - Topic 9\n",
      "  Node Name    Topic    Page Rank\n",
      "-----------  -------  -----------\n",
      "         94        9    0.0301989\n",
      "         14        9    0.0294952\n",
      "         42        9    0.0291978\n",
      "         21        9    0.0283996\n",
      "         57        9    0.0274618\n",
      "         96        9    0.0262609\n",
      "         24        9    0.0257731\n",
      "         63        4    0.0171615\n",
      "         61        8    0.0163773\n",
      "         74       10    0.0142777\n",
      "\n",
      "Top 10 Page Ranks - Topic 10\n",
      "  Node Name    Topic    Page Rank\n",
      "-----------  -------  -----------\n",
      "         74       10    0.0263318\n",
      "         17       10    0.0235905\n",
      "         49       10    0.0235743\n",
      "         95       10    0.0206293\n",
      "          7       10    0.0199138\n",
      "         43       10    0.0193642\n",
      "         68       10    0.0190383\n",
      "         48       10    0.019005\n",
      "          1       10    0.0189981\n",
      "          3       10    0.0186396\n",
      "\n"
     ]
    }
   ],
   "source": [
    "import PageRankStep1\n",
    "import PageRankTopicStep2\n",
    "import PageRankInit\n",
    "reload(PageRankStep1)\n",
    "reload(PageRankTopicStep2)\n",
    "reload(PageRankInit)\n",
    "import json\n",
    "\n",
    "# Set the damping factor, beta and number of iterations\n",
    "damping_factor = 0.85\n",
    "beta = 0.99\n",
    "iterations = 10\n",
    "num_converter = 10000000000\n",
    "\n",
    "# Set the names of the files that gets passed from iteration to iteration\n",
    "work_filename = 'work_table.txt'\n",
    "work_filename_1 = 'work_table_1.txt'\n",
    "work_filename_2 = 'work_table_2.txt'\n",
    "\n",
    "# Call the PageRankInit MRJob and calculate total_nodes\n",
    "mr_job = PageRankInit.MRPageRankInit(args=['randNet.txt', '--platform', 'local'])\n",
    "with mr_job.make_runner() as runner, open(work_filename, 'w') as f: \n",
    "    runner.run()\n",
    "    # stream_output: get access of the output \n",
    "    for line in runner.stream_output():\n",
    "        key, value =  mr_job.parse_output_line(line)\n",
    "        # Store the total_nodes\n",
    "        if key == '*total_nodes':\n",
    "            total_nodes = float(value)\n",
    "        f.write(key+'\\t'+json.dumps(value)+'\\n')\n",
    "#print 'total nodes', total_nodes\n",
    "\n",
    "# Create a list of topic names and their sizes (number of nodes in the topic)\n",
    "topics = [['Vanilla',100], ['1',17], ['2',8], ['3',9], ['4',13], ['5',9], ['6',6], ['7',10], ['8',9], ['9',7], ['10',12]]\n",
    "# For each topic, calculate the topic specific page rank\n",
    "for [topic, topic_size] in topics:\n",
    "    i = 0\n",
    "    while(i < iterations):\n",
    "        # Run the PageRankStep1 MRJob\n",
    "        mr_job = PageRankStep1.MRPageRankStep1(args=[work_filename, '--num_converter', str(num_converter)])\n",
    "        with mr_job.make_runner() as runner, open(work_filename_1, 'w') as f: \n",
    "            runner.run()\n",
    "            # stream_output: get access of the output \n",
    "            for line in runner.stream_output():\n",
    "                key, value =  mr_job.parse_output_line(line)\n",
    "                f.write(key+'\\t'+json.dumps(value)+'\\n')\n",
    "        dangling_mass = runner.counters()[0]['PageRank_Counters']['Dangling_Mass']/float(num_converter)\n",
    "\n",
    "        # Run the PageRankStep2 MRJob\n",
    "        mr_job = PageRankTopicStep2.MRPageRankTopicStep2(args=[work_filename_1, '--file=randNet_topics.txt', \n",
    "                                                               '--damping_factor', damping_factor, '--total_nodes', \n",
    "                                                               total_nodes, '--dangling_mass', dangling_mass, \n",
    "                                                               '--beta', beta, '--topic', topic, '--topic_size', \n",
    "                                                               str(topic_size)])\n",
    "        with mr_job.make_runner() as runner, open(work_filename_2, 'w') as f: \n",
    "            runner.run()\n",
    "            # stream_output: get access of the output \n",
    "            for line in runner.stream_output():\n",
    "                key, value =  mr_job.parse_output_line(line)\n",
    "                f.write(key+'\\t'+json.dumps(value)+'\\n')\n",
    "\n",
    "        !mv $work_filename_2 $work_filename\n",
    "        i += 1\n",
    "    # Copy the final file to another file for storage and sort it\n",
    "    !cp $work_filename $topic'.txt'\n",
    "    !sort -k1,1n $topic'.txt' > $topic'2.txt' \n",
    "    # Join the file with its topic\n",
    "    !cut -f2 $topic'2.txt' | paste randNet_topics.txt - > 'pageranktopic_'$topic'.txt'\n",
    "    # Print the results in a table\n",
    "    print_table('pageranktopic_'+topic+'.txt', topic)"
   ]
  },
  {
   "cell_type": "markdown",
   "metadata": {},
   "source": [
    "### END OF HOMEWORK"
   ]
  },
  {
   "cell_type": "code",
   "execution_count": null,
   "metadata": {
    "collapsed": true
   },
   "outputs": [],
   "source": [
    "i = 0\n",
    "# Set stop condition to False\n",
    "Stop = False\n",
    "while(False):\n",
    "#while(Stop == False):\n",
    "#while(i < 40):\n",
    "    work_table = {}\n",
    "    # Store the previous page ranks to compare of the stop conditions\n",
    "    old_page_ranks = page_ranks\n",
    "    page_ranks = []\n",
    "    # Print the iteration number\n",
    "    print('Iteration %d' % (i))\n",
    "    with mr_job.make_runner() as runner: \n",
    "        runner.run()\n",
    "        # stream_output: get access of the output \n",
    "        for line in runner.stream_output():\n",
    "            key,value =  mr_job.parse_output_line(line)\n",
    "            #print key, value\n",
    "            work_table[key] = value\n",
    "            page_ranks.append(value[1])\n",
    "        \n",
    "        # Update work_table for the next iteration\n",
    "        with open(work_filename, 'w') as f:\n",
    "            for key, value in work_table.iteritems():\n",
    "                f.write(key+'\\t'+json.dumps(value)+'\\n')\n",
    "        \n",
    "        # Check the stop critera against the threshold epsilon\n",
    "        Stop = stop_criterion_reached(old_page_ranks, page_ranks, epsilon)\n",
    "        #print('Sum of page ranks: %f' % (sum(page_ranks)))\n",
    "    i += 1\n",
    "\n",
    "# Print the final results\n",
    "#print page_ranks\n",
    "#print('Sum of page ranks: %f' % (sum(page_ranks)))"
   ]
  },
  {
   "cell_type": "code",
   "execution_count": null,
   "metadata": {
    "collapsed": true
   },
   "outputs": [],
   "source": [
    "def stop_criterion_reached(old_page_ranks, page_ranks, epsilon):\n",
    "    Stop = False\n",
    "    total_error = 0.0\n",
    "    for pr1, pr2 in zip(old_page_ranks, page_ranks):\n",
    "        total_error += abs(pr1-pr2)\n",
    "    print 'Total Error: ', total_error\n",
    "    if total_error < epsilon:\n",
    "        Stop = True\n",
    "    return Stop"
   ]
  }
 ],
 "metadata": {
  "kernelspec": {
   "display_name": "Python 2",
   "language": "python",
   "name": "python2"
  },
  "language_info": {
   "codemirror_mode": {
    "name": "ipython",
    "version": 2
   },
   "file_extension": ".py",
   "mimetype": "text/x-python",
   "name": "python",
   "nbconvert_exporter": "python",
   "pygments_lexer": "ipython2",
   "version": "2.7.11"
  }
 },
 "nbformat": 4,
 "nbformat_minor": 0
}
