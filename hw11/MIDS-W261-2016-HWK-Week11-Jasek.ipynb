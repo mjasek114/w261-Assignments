{
 "cells": [
  {
   "cell_type": "code",
   "execution_count": 51,
   "metadata": {
    "collapsed": false
   },
   "outputs": [
    {
     "data": {
      "application/javascript": [
       "/**********************************************************************************************\n",
       "Known Mathjax Issue with Chrome - a rounding issue adds a border to the right of mathjax markup\n",
       "https://github.com/mathjax/MathJax/issues/1300\n",
       "A quick hack to fix this based on stackoverflow discussions: \n",
       "http://stackoverflow.com/questions/34277967/chrome-rendering-mathjax-equations-with-a-trailing-vertical-line\n",
       "**********************************************************************************************/\n",
       "\n",
       "$('.math>span').css(\"border-left-color\",\"transparent\")"
      ],
      "text/plain": [
       "<IPython.core.display.Javascript object>"
      ]
     },
     "metadata": {},
     "output_type": "display_data"
    }
   ],
   "source": [
    "%%javascript\n",
    "/**********************************************************************************************\n",
    "Known Mathjax Issue with Chrome - a rounding issue adds a border to the right of mathjax markup\n",
    "https://github.com/mathjax/MathJax/issues/1300\n",
    "A quick hack to fix this based on stackoverflow discussions: \n",
    "http://stackoverflow.com/questions/34277967/chrome-rendering-mathjax-equations-with-a-trailing-vertical-line\n",
    "**********************************************************************************************/\n",
    "\n",
    "$('.math>span').css(\"border-left-color\",\"transparent\")"
   ]
  },
  {
   "cell_type": "code",
   "execution_count": 52,
   "metadata": {
    "collapsed": true
   },
   "outputs": [],
   "source": [
    "%reload_ext autoreload\n",
    "%autoreload 2"
   ]
  },
  {
   "cell_type": "markdown",
   "metadata": {},
   "source": [
    "# MIDS - w261 Machine Learning At Scale\n",
    "__Course Lead:__ Dr James G. Shanahan (__email__ Jimi via  James.Shanahan _AT_ gmail.com)\n",
    "\n",
    "## Assignment - HW11\n",
    "\n",
    "\n",
    "---\n",
    "__Name:__  Megan Jasek   \n",
    "__Class:__ MIDS w261 - Summer 2016 - Group 2  \n",
    "__Email:__  meganjasek@iSchool.Berkeley.edu     \n",
    "__Week:__   11"
   ]
  },
  {
   "cell_type": "markdown",
   "metadata": {},
   "source": [
    "# Table of Contents <a name=\"TOC\"></a> \n",
    "\n",
    "1.  [HW Intructions](#1)   \n",
    "2.  [HW References](#2)\n",
    "3.  [HW Problems](#3)   \n",
    "    HW11.0.  [Broadcast versus Caching in Spark ](#HW11.0)    \n",
    "    HW11.1.  [HW11.2 Gradient descent](#HW11.1)   \n",
    "    HW11.2.  [Gradient descent](#HW11.2)    \n",
    "    HW11.3.  [Logistic Regression](#HW11.3)    \n",
    "    HW11.4.  [SVMs](#HW11.4)  \n",
    "    HW11.5.  [OPTIONAL  Distributed Perceptron algorithm](#HW11.5)  \n",
    "    HW11.6.  [OPTIONAL  Evalution of perceptron algorihtms on PennTreeBank POS corpus](#HW11.6)  \n",
    "    HW11.7.  [OPTIONAL Kernal Adatron](#HW11.7)\n",
    "   \n",
    "    HW11.8.  [OPTIONAL Create an animation of gradient descent for the Perceptron](#HW11.8)\n"
   ]
  },
  {
   "cell_type": "markdown",
   "metadata": {},
   "source": [
    "\n",
    "<a name=\"1\">\n",
    "# 1 Instructions\n",
    "[Back to Table of Contents](#TOC)\n",
    "\n",
    "MIDS UC Berkeley, Machine Learning at Scale\n",
    "DATSCIW261 ASSIGNMENT #11\n",
    "\n",
    "Version 2016-07-27 (FINAL)\n",
    "\n",
    "\n",
    " === INSTRUCTIONS for SUBMISSIONS ===\n",
    "Follow the instructions for submissions carefully.\n",
    "\n",
    "https://docs.google.com/forms/d/1ZOr9RnIe_A06AcZDB6K1mJN4vrLeSmS2PD6Xm3eOiis/viewform?usp=send_form \n",
    "\n",
    "\n",
    "=== IMPORTANT ===\n",
    "\n",
    "TYPE-2 Fun option: Submit HW11 using a Zeppelin notebook (See Live slides for install instructions)\n",
    "\n",
    "TYPE-1.5 Fun option: Complete HW11.8 only (no need to complete the rest of the questions)\n",
    "\n",
    "HW11 can be completed locally on your computer\n",
    "### Documents:\n",
    "* IPython Notebook, published and viewable online.\n",
    "* PDF export of IPython Notebook.\n",
    "    \n",
    "<a name=\"2\">\n",
    "# 2 Useful References\n",
    "[Back to Table of Contents](#TOC)\n",
    "\n",
    "* Karau, Holden, Konwinski, Andy, Wendell, Patrick, & Zaharia, Matei. (2015). Learning Spark: Lightning-fast big data analysis. Sebastopol, CA: O’Reilly Publishers.\n",
    "* Hastie, Trevor, Tibshirani, Robert, & Friedman, Jerome. (2009). The elements of statistical learning: Data mining, inference, and prediction (2nd ed.). Stanford, CA: Springer Science+Business Media. (Download for free [here](http://statweb.stanford.edu/~tibs/ElemStatLearn/printings/ESLII_print10.pdf))"
   ]
  },
  {
   "cell_type": "markdown",
   "metadata": {},
   "source": [
    "<a name=\"3\">\n",
    "# HW Problems\n",
    "[Back to Table of Contents](#TOC)"
   ]
  },
  {
   "cell_type": "markdown",
   "metadata": {},
   "source": [
    "<a name=\"HW11.0\"></a><h2 style=\"color:darkblue\"> HW11.0: Broadcast versus Caching in Spark </h2>\n",
    "[Back to Table of Contents](#TOC)\n",
    "\n",
    "\n",
    "HW11.0  \n",
    "\n",
    "Q: __What is the difference between broadcasting and caching data in Spark? Give an example (in the context of machine learning) of each mechanism (at a highlevel). Feel free to cut and paste code examples from the lectures to support your answer.__\n",
    "\n",
    "**ANSWER:**  \n",
    "??see slide 29 of lecture 11\n",
    "\n",
    "Q: __Review the following Spark-notebook-based implementation of KMeans and use the broadcast pattern to make this implementation more efficient. Please describe your changes in English first, implement, comment your code and highlight your changes:\n",
    "\n",
    "Notebook\n",
    "https://www.dropbox.com/s/41q9lgyqhy8ed5g/EM-Kmeans.ipynb?dl=0\n",
    "\n",
    "Notebook via NBViewer\n",
    "http://nbviewer.ipython.org/urls/dl.dropbox.com/s/41q9lgyqhy8ed5g/EM-Kmeans.ipynb\n"
   ]
  },
  {
   "cell_type": "code",
   "execution_count": 1,
   "metadata": {
    "collapsed": false
   },
   "outputs": [
    {
     "name": "stdout",
     "output_type": "stream",
     "text": [
      "<pyspark.context.SparkContext object at 0x7fef1fe06990>\n",
      "<pyspark.sql.context.SQLContext object at 0x7fef1fe069d0>\n"
     ]
    }
   ],
   "source": [
    "import pyspark\n",
    "from pyspark.sql import SQLContext\n",
    "\n",
    "# We can give a name to our app (to find it in Spark WebUI) and configure execution mode\n",
    "# In this case, it is local multicore execution with \"local[*]\"\n",
    "app_name = \"HW11\"\n",
    "master = \"local[*]\"\n",
    "conf = pyspark.SparkConf().setAppName(app_name).setMaster(master)\n",
    "sc.stop()\n",
    "sc = pyspark.SparkContext(conf=conf)\n",
    "sqlContext = SQLContext(sc)\n",
    "\n",
    "print sc\n",
    "print sqlContext"
   ]
  },
  {
   "cell_type": "markdown",
   "metadata": {},
   "source": [
    "<a name=\"HW11.1\"> <h2 style=\"color:darkgreen\">HW11.1 Loss Functions</h2>\n",
    "[Back to Table of Contents](#TOC)\n",
    " \n",
    "In the context of binary classification problems, does the linear SVM learning algorithm yield the same result as a L2 penalized logistic regesssion learning algorithm? \n",
    "\n",
    "In your reponse, please discuss the loss functions, and the learnt models, and separating surfaces between the two classes.\n",
    "\n",
    "In the context of binary classification problems, does the linear SVM learning algorithm yield the same result as a perceptron learning algorithm? \n",
    "\n",
    "[OPTIONAL]: generate an artifical binary classification dataset with 2 input features and plot the learnt separating surface for both a linear SVM and for  logistic regression. Comment on the learnt surfaces. Please feel free to do this in Python (no need to use Spark)."
   ]
  },
  {
   "cell_type": "code",
   "execution_count": 53,
   "metadata": {
    "collapsed": true
   },
   "outputs": [],
   "source": [
    "## Code goes here"
   ]
  },
  {
   "cell_type": "code",
   "execution_count": 54,
   "metadata": {
    "collapsed": true
   },
   "outputs": [],
   "source": [
    "## Drivers & Runners"
   ]
  },
  {
   "cell_type": "code",
   "execution_count": 55,
   "metadata": {
    "collapsed": true
   },
   "outputs": [],
   "source": [
    "## Run Scripts, S3 Sync"
   ]
  },
  {
   "cell_type": "markdown",
   "metadata": {},
   "source": [
    "<a name=\"HW11.2\"><h2 style=\"color:darkgreen\">HW11.2 Gradient descent</h2>\n",
    "[Back to Table of Contents](#TOC)\n",
    "\n",
    "In the context of logistic regression describe and define three flavors of penalized loss functions.  Are these all supported in Spark MLLib (include online references to support your answers)?\n",
    "\n",
    "Descibe probabilitic interpretations of the L1 and L2 priors for penalized logistic regression (HINT: see synchronous slides for week 11 for details)\n"
   ]
  },
  {
   "cell_type": "code",
   "execution_count": 56,
   "metadata": {
    "collapsed": true
   },
   "outputs": [],
   "source": [
    "## Code goes here"
   ]
  },
  {
   "cell_type": "code",
   "execution_count": 57,
   "metadata": {
    "collapsed": true
   },
   "outputs": [],
   "source": [
    "## Drivers & Runners"
   ]
  },
  {
   "cell_type": "code",
   "execution_count": 58,
   "metadata": {
    "collapsed": true
   },
   "outputs": [],
   "source": [
    "## Run Scripts, S3 Sync"
   ]
  },
  {
   "cell_type": "markdown",
   "metadata": {},
   "source": [
    "<a name=\"HW11.3\"> <h2 style=\"color:darkblue\"> HW11.3 Logistic Regression</h2>\n",
    "[Back to Table of Contents](#TOC)\n",
    "\n",
    "Generate 2 sets of linearly separable data with 100 data points each using the data generation code provided below and plot each in separate plots. Call one the training set and the other the testing set.\n",
    "\n",
    "```python\n",
    "def generateData(n):\n",
    "\"\"\" \n",
    "  generates a 2D linearly separable dataset with n samples. \n",
    "  The third element of the sample is the label\n",
    "\"\"\"\n",
    "xb = (rand(n)*2-1)/2-0.5\n",
    "yb = (rand(n)*2-1)/2+0.5\n",
    "xr = (rand(n)*2-1)/2+0.5\n",
    "yr = (rand(n)*2-1)/2-0.5\n",
    "inputs = []\n",
    "for i in range(len(xb)):\n",
    "  inputs.append([xb[i],yb[i],1])\n",
    "  inputs.append([xr[i],yr[i],-1])\n",
    "return inputs\n",
    "\n",
    "```\n",
    "Modify this data generation code to generating non-linearly separable training and testing datasets (with approximately 10% of the data falling on the wrong side of the separating hyperplane. Plot the resulting datasets. \n",
    "\n",
    "NOTE: For the remainder of this problem please use the non-linearly separable training and testing datasets.\n",
    "\n",
    "Using MLLib train up a LASSO logistic regression model with the training dataset and evaluate with the testing set. What is a good number of iterations for training the logistic regression model? Justify with plots and words. \n",
    "\n",
    "Derive and implement in Spark a weighted LASSO logistic regression. Implement a convergence test of your choice to check for termination within your training algorithm. \n",
    "\n",
    "Weight the above training dataset as follows:  Weight each example using the inverse vector length (Euclidean norm): \n",
    "\n",
    ">weight(X)= 1/||X||, \n",
    "\n",
    ">where ||X|| = SQRT(X.X)= SQRT(X1^2 + X2^2)\n",
    "\n",
    ">Here X is vector made up of X1 and X2.\n",
    "\n",
    "Evaluate your homegrown weighted  LASSO logistic regression on the test dataset. Report misclassification error (1 - Accuracy) and how many iterations does it took to converge.\n",
    "\n",
    "Does Spark MLLib have a weighted LASSO logistic regression implementation. If so use it and report your findings on the weighted training set and test set. "
   ]
  },
  {
   "cell_type": "markdown",
   "metadata": {},
   "source": [
    "### HW11: Helper functions for "
   ]
  },
  {
   "cell_type": "code",
   "execution_count": 2,
   "metadata": {
    "collapsed": true
   },
   "outputs": [],
   "source": [
    "%matplotlib inline\n",
    "import pylab\n",
    "\n",
    "# Plot data points but don't display them\n",
    "def plot_data_no_show(samples, shape_str, color_str_pos, color_str_neg, title):\n",
    "    for data in samples:\n",
    "        color_str = color_str_pos\n",
    "        if data[2] == -1:\n",
    "            color_str = color_str_neg\n",
    "        pylab.plot(data[0], data[1], shape_str, color = color_str)\n",
    "    pylab.title(title)\n",
    "\n",
    "# Plot data points and display them\n",
    "def plot_data(samples, shape_str, color_str_pos, color_str_neg, title):\n",
    "    plot_data_no_show(samples, shape_str, color_str_pos, color_str_neg, title)\n",
    "    pylab.show()"
   ]
  },
  {
   "cell_type": "markdown",
   "metadata": {},
   "source": [
    "### HW11.3:  Generate testing set and training set"
   ]
  },
  {
   "cell_type": "code",
   "execution_count": 3,
   "metadata": {
    "collapsed": false
   },
   "outputs": [],
   "source": [
    "import numpy as np\n",
    "\n",
    "# Set a random seed so results are consistent across multiple runs\n",
    "np.random.seed(114)\n",
    "\n",
    "def generateData(n, filename):\n",
    "    \"\"\"\n",
    "        generates a 2D linearly separable dataset with n samples. \n",
    "        The third element of the sample is the label\n",
    "    \"\"\"\n",
    "    # Write the datapoints to filename.  Swap the position of the label to the 1st element\n",
    "    # when writing to the file for later use.\n",
    "    with open(filename, 'w') as f:\n",
    "        xb = (np.random.rand(n)*2-1)/2-0.5\n",
    "        yb = (np.random.rand(n)*2-1)/2+0.5\n",
    "        xr = (np.random.rand(n)*2-1)/2+0.5\n",
    "        yr = (np.random.rand(n)*2-1)/2-0.5\n",
    "        inputs = []\n",
    "        for i in range(len(xb)):\n",
    "            inputs.append([xb[i],yb[i],1])\n",
    "            inputs.append([xr[i],yr[i],-1])\n",
    "            f.write('%f, %f, %f\\n' % (1.0, xb[i], yb[i]))\n",
    "            f.write('%f, %f, %f\\n' % (-1.0, xr[i], yr[i]))\n",
    "    return inputs\n",
    "\n",
    "def generateNonSeperableData(n, filename):\n",
    "    \"\"\"\n",
    "        generates a 2D linearly non-separable dataset with n samples. \n",
    "        The third element of the sample is the label\n",
    "    \"\"\"\n",
    "    # Write the datapoints to filename.  Swap the position of the label to the 1st element\n",
    "    # when writing to the file for later use.\n",
    "    with open(filename, 'w') as f:\n",
    "        xb = (np.random.rand(n)*2-1)/2-0.5\n",
    "        yb = (np.random.rand(n)*2-1)/2+0.5\n",
    "        xr = (np.random.rand(n)*2-1)/2+0.5\n",
    "        yr = (np.random.rand(n)*2-1)/2-0.5\n",
    "        inputs = []\n",
    "        for i in range(len(xb)):\n",
    "            # For 10% of the data points, swap the label from 1 to -1, so that they\n",
    "            # end up on the other side of the decision boundary\n",
    "            if i < n/10:\n",
    "                inputs.append([xb[i],yb[i],-1])\n",
    "                inputs.append([xr[i],yr[i],1]) \n",
    "                f.write('%f, %f, %f\\n' % (-1.0, xb[i], yb[i]))\n",
    "                f.write('%f, %f, %f\\n' % (1.0, xr[i], yr[i]))\n",
    "            else:\n",
    "                inputs.append([xb[i],yb[i],1])\n",
    "                inputs.append([xr[i],yr[i],-1])\n",
    "                f.write('%f, %f, %f\\n' % (1.0, xb[i], yb[i]))\n",
    "                f.write('%f, %f, %f\\n' % (-1.0, xr[i], yr[i]))\n",
    "    return inputs\n",
    "\n",
    "train_sep = generateData(100, 'train_sep.csv')\n",
    "test_sep = generateData(100, 'test_sep.csv')\n",
    "\n",
    "train_nonsep = generateNonSeperableData(100, 'train_nonsep.csv')\n",
    "test_nonsep = generateNonSeperableData(100, 'test_nonsep.csv')"
   ]
  },
  {
   "cell_type": "markdown",
   "metadata": {},
   "source": [
    "### Ensure saved data looks like data"
   ]
  },
  {
   "cell_type": "code",
   "execution_count": 4,
   "metadata": {
    "collapsed": false
   },
   "outputs": [
    {
     "name": "stdout",
     "output_type": "stream",
     "text": [
      "-1.000000, -0.188855, 0.751381\n",
      "1.000000, 0.698844, -0.635319\n",
      "-1.000000, -0.107933, 0.680309\n",
      "1.000000, 0.767001, -0.388543\n",
      "-1.000000, -0.858433, 0.093738\n",
      "1.000000, 0.853818, -0.531093\n",
      "-1.000000, -0.247488, 0.855441\n",
      "1.000000, 0.366293, -0.862940\n",
      "-1.000000, -0.515735, 0.581051\n",
      "1.000000, 0.177106, -0.178579\n",
      "[[-0.18885535408213894, 0.75138103972381898, -1], [0.69884447245057313, -0.63531860218099301, 1], [-0.1079330026758003, 0.68030875016661563, -1], [0.76700133332821019, -0.38854319989174135, 1], [-0.85843256143087054, 0.093738113075481744, -1], [0.85381840329285486, -0.53109280649980672, 1], [-0.24748831114473868, 0.85544059064005507, -1], [0.36629303135498592, -0.86294011458347664, 1], [-0.51573492524438325, 0.58105141674437422, -1], [0.17710567347728712, -0.17857920775095637, 1]]\n",
      "-1.000000, -0.466468, 0.534917\n",
      "1.000000, 0.362947, -0.567020\n",
      "-1.000000, -0.879934, 0.376590\n",
      "1.000000, 0.127291, -0.732235\n",
      "-1.000000, -0.483179, 0.943964\n",
      "1.000000, 0.535324, -0.267108\n",
      "-1.000000, -0.447742, 0.967363\n",
      "1.000000, 0.299638, -0.301412\n",
      "-1.000000, -0.738284, 0.870525\n",
      "1.000000, 0.475062, -0.356766\n",
      "[[-0.46646843439063967, 0.53491682624148529, -1], [0.36294708654810581, -0.56702028944231486, 1], [-0.87993392369426249, 0.37658982890726445, -1], [0.12729094659127471, -0.73223454071963534, 1], [-0.4831786191716706, 0.94396438896332313, -1], [0.53532448313708692, -0.26710830491652171, 1], [-0.44774164959168072, 0.96736260341538916, -1], [0.299637949622789, -0.30141156112612577, 1], [-0.73828396556759557, 0.87052495242598349, -1], [0.47506182577038736, -0.35676581238817506, 1]]\n"
     ]
    }
   ],
   "source": [
    "!head train_nonsep.csv\n",
    "print train_nonsep[0:10]\n",
    "!head test_nonsep.csv\n",
    "print test_nonsep[0:10]"
   ]
  },
  {
   "cell_type": "markdown",
   "metadata": {},
   "source": [
    "### HW11.3:  Plot the seperable data"
   ]
  },
  {
   "cell_type": "code",
   "execution_count": 5,
   "metadata": {
    "collapsed": false
   },
   "outputs": [
    {
     "data": {
      "image/png": "[encoded data removed]",
      "text/plain": [
       "<matplotlib.figure.Figure at 0x7fef1ebd4d10>"
      ]
     },
     "metadata": {},
     "output_type": "display_data"
    },
    {
     "data": {
      "image/png": "[encoded data removed]",
      "text/plain": [
       "<matplotlib.figure.Figure at 0x7fef1ebd4e10>"
      ]
     },
     "metadata": {},
     "output_type": "display_data"
    }
   ],
   "source": [
    "# Set the color for positive and negative training examples\n",
    "color_str_pos = '#562FE0'\n",
    "color_str_neg = '#E02F61'\n",
    "\n",
    "# Plot the data\n",
    "plot_data(train_sep, 'o', color_str_pos, color_str_neg, 'Training set - Seperable Data')\n",
    "plot_data(test_sep, 'o', color_str_pos, color_str_neg, 'Testing set - Seperable Data')"
   ]
  },
  {
   "cell_type": "markdown",
   "metadata": {},
   "source": [
    "### HW11.3:  Plot the non-seperable data"
   ]
  },
  {
   "cell_type": "code",
   "execution_count": 6,
   "metadata": {
    "collapsed": false
   },
   "outputs": [
    {
     "data": {
      "image/png": "[encoded data removed]",
      "text/plain": [
       "<matplotlib.figure.Figure at 0x7fef1ebd4e90>"
      ]
     },
     "metadata": {},
     "output_type": "display_data"
    },
    {
     "data": {
      "image/png": "[encoded data removed]",
      "text/plain": [
       "<matplotlib.figure.Figure at 0x7fef1c64eb10>"
      ]
     },
     "metadata": {},
     "output_type": "display_data"
    }
   ],
   "source": [
    "# Set the color for positive and negative training examples\n",
    "color_str_pos = '#562FE0'\n",
    "color_str_neg = '#E02F61'\n",
    "\n",
    "# Plot the data\n",
    "plot_data(train_nonsep, 'o', color_str_pos, color_str_neg, 'Training set - Non-Seperable Data')\n",
    "plot_data(test_nonsep, 'o', color_str_pos, color_str_neg, 'Testing set - Non-Seperable Data')"
   ]
  },
  {
   "cell_type": "code",
   "execution_count": 11,
   "metadata": {
    "collapsed": false
   },
   "outputs": [],
   "source": [
    "%matplotlib inline\n",
    "import matplotlib.pyplot as plt\n",
    "def plot_weights_no_show(w, color_str, shape_str, num_iter=-1):\n",
    "    x1 = [-1, 1]\n",
    "    x2 = [-(i * w[0] + w[2]) / w[1] for i in x1]\n",
    "    if num_iter != -1:\n",
    "        plt.plot(x1, x2, color_str+shape_str, label=\"After \"+str(num_iter)+\" Iterations\", linewidth=2.0)\n",
    "    else:\n",
    "        plt.plot(x1, x2, linewidth=2.0)        \n",
    "\n",
    "#def plot_weights(w):\n",
    "#    plot_weights_no_show(w)\n",
    "#    plt.xlabel(\"x1\")\n",
    "#    plt.ylabel(\"x2\")\n",
    "#    plt.grid()\n",
    "#    plt.show()"
   ]
  },
  {
   "cell_type": "markdown",
   "metadata": {},
   "source": [
    "### HW11.3:  MLLib LASSO logistic regression model"
   ]
  },
  {
   "cell_type": "code",
   "execution_count": 23,
   "metadata": {
    "collapsed": false
   },
   "outputs": [
    {
     "name": "stdout",
     "output_type": "stream",
     "text": [
      "Iteration  1\n",
      "Testing Error = 0.155\n",
      "Model Weights:  [0.27017159215,2.67374256643]\n",
      "Iteration  3\n",
      "Testing Error = 0.1\n",
      "Model Weights:  [-0.992067832414,2.75757611752]\n",
      "Iteration  5\n",
      "Testing Error = 0.1\n",
      "Model Weights:  [-2.17954829311,1.65032302984]\n",
      "Iteration  6\n",
      "Testing Error = 0.1\n",
      "Model Weights:  [-2.2555696219,1.40299397128]\n",
      "Iteration  7\n",
      "Testing Error = 0.1\n",
      "Model Weights:  [-2.23249497482,1.43640930506]\n",
      "Iteration  8\n",
      "Testing Error = 0.1\n",
      "Model Weights:  [-2.22721258144,1.43817495253]\n"
     ]
    },
    {
     "data": {
      "image/png": "[encoded data removed]",
      "text/plain": [
       "<matplotlib.figure.Figure at 0x7fef15432850>"
      ]
     },
     "metadata": {},
     "output_type": "display_data"
    }
   ],
   "source": [
    "%matplotlib inline\n",
    "import matplotlib.pyplot as plt\n",
    "from pyspark.mllib.classification import LogisticRegressionWithLBFGS, LogisticRegressionWithSGD, LogisticRegressionModel\n",
    "from pyspark.mllib.regression import LabeledPoint\n",
    "\n",
    "# Parse the data\n",
    "def parse_point(point):\n",
    "    label = point[2]\n",
    "    if label == -1:\n",
    "        label = 0\n",
    "    # A labeled point contains the label and an array of values as the features\n",
    "    return LabeledPoint(label, point[0:2])\n",
    "\n",
    "\n",
    "#train_data = sc.parallelize(train_nonsep)\n",
    "train_data = sc.parallelize(train_nonsep).map(parse_point)\n",
    "#test_data = sc.parallelize(test_nonsep)\n",
    "test_data = sc.parallelize(test_nonsep).map(parse_point)\n",
    "\n",
    "# Plot the data points, but don't display them yet\n",
    "plot_data_no_show(train_nonsep, 'o', color_str_pos, color_str_neg, '')\n",
    "\n",
    "initial_weights = [1,1]\n",
    "plot_weights_no_show([initial_weights[0], initial_weights[1], 0.0], 'k', '-', 0)\n",
    "\n",
    "iterations = [1, 3, 5, 6, 7, 8]\n",
    "colors = ['c', 'm', 'r', 'g', 'b', 'y']\n",
    "for i, num_iter in enumerate(iterations):\n",
    "    print 'Iteration ', str(num_iter)\n",
    "    # Build the model\n",
    "    model = LogisticRegressionWithLBFGS.train(train_data, iterations=num_iter, initialWeights=initial_weights, regType='l1')\n",
    "\n",
    "    # Evaluating the model on training data\n",
    "    labelsAndPreds = train_data.map(lambda p: (p.label, model.predict(p.features)))\n",
    "    trainErr = labelsAndPreds.filter(lambda (v, p): v != p).count() / float(train_data.count())\n",
    "    #print(\"Training Error = \" + str(trainErr))\n",
    "\n",
    "    # Evaluating the model on testing data\n",
    "    labelsAndPreds = test_data.map(lambda p: (p.label, model.predict(p.features)))\n",
    "    testErr = labelsAndPreds.filter(lambda (v, p): v != p).count() / float(test_data.count())\n",
    "    print(\"Testing Error = \" + str(testErr))\n",
    "\n",
    "    plot_weights_no_show([model.weights[0], model.weights[1], model.intercept], colors[i], '--', num_iter)\n",
    "    print 'Model Weights: ', model.weights\n",
    "\n",
    "plt.legend(bbox_to_anchor=(1.05, 1), loc=2, fontsize=20, borderaxespad=0.)\n",
    "plt.xlabel(\"x1\")\n",
    "plt.ylabel(\"x2\")\n",
    "plt.grid()\n",
    "plt.show()\n",
    "    \n",
    "# Save and load model\n",
    "#model.save(sc, \"target/tmp/pythonLogisticRegressionWithLBFGSModel1\")\n",
    "#sameModel = LogisticRegressionModel.load(sc,\n",
    "#                                         \"target/tmp/pythonLogisticRegressionWithLBFGSModel\")"
   ]
  },
  {
   "cell_type": "code",
   "execution_count": 9,
   "metadata": {
    "collapsed": false
   },
   "outputs": [
    {
     "data": {
      "image/png": "[encoded data removed]",
      "text/plain": [
       "<matplotlib.figure.Figure at 0x7f2b6935fd90>"
      ]
     },
     "metadata": {},
     "output_type": "display_data"
    }
   ],
   "source": [
    "import numpy as np\n",
    "#w = np.array([8, -3, -1])\n",
    "w = np.array([-1.21377829324,1.19645867558, 0])\n",
    "#w = np.array([0, -1.21377829324,1.19645867558])\n",
    "dataWeights(w)"
   ]
  },
  {
   "cell_type": "markdown",
   "metadata": {},
   "source": [
    "### HW11.3:  Homegrown LASSO logistic regression model"
   ]
  },
  {
   "cell_type": "code",
   "execution_count": null,
   "metadata": {
    "collapsed": true
   },
   "outputs": [],
   "source": [
    "# Plot model\n",
    "y = [-(i * w[0] + model.intercept) / w[1] for i in x] (edited)  \n",
    "plt.plot(x,y) \n",
    "where intercept is either 0, or w[2] if you have a third element\n",
    " \n",
    "or, to write it differently: \n",
    "w = model\n",
    "a = -w[0] / w[1]\n",
    "xx = np.linspace(-1, 1)\n",
    "yy = a * xx - w[2] / w[1]\n",
    "plt.plot(xx, yy, 'k-')"
   ]
  },
  {
   "cell_type": "code",
   "execution_count": 19,
   "metadata": {
    "collapsed": true
   },
   "outputs": [],
   "source": [
    "from collections import namedtuple\n",
    "import numpy as np\n",
    "Point = namedtuple('Point', 'x y')\n",
    "\n",
    "def readPoint(line):\n",
    "    d = line.split(',')\n",
    "    x = [float(i) for i in d[1:]]\n",
    "    x.append(1.0)  #bias term\n",
    "    return Point(x, float(d[0]))\n",
    "\n",
    "def logisticRegressionGDReg(data, wInitial=None, learningRate=0.05, iterations=50, regParam=0.01, regType=None):\n",
    "    featureLen = len(data.take(1)[0].x)\n",
    "    n = data.count()\n",
    "    if wInitial is None:\n",
    "        w = np.random.normal(size=featureLen) # w should be broadcasted if it is large\n",
    "    else:\n",
    "        w = wInitial\n",
    "    for i in range(iterations):\n",
    "        wBroadcast = sc.broadcast(w)\n",
    "        gradient = data.map(lambda p: (1 / (1 + np.exp(-p.y*np.dot(wBroadcast.value, p.x)))-1) * p.y * np.array(p.x))\\\n",
    "                    .reduce(lambda a, b: a + b)\n",
    "        if regType == \"Ridge\":\n",
    "            wReg = w * 1\n",
    "            wReg[-1] = 0 #last value of weight vector is bias term, ignored in regularization\n",
    "        elif regType == \"Lasso\":\n",
    "            wReg = w * 1\n",
    "            wReg[-1] = 0 #last value of weight vector is bias term, ignored in regularization\n",
    "            wReg = (wReg>0).astype(int) * 2-1\n",
    "        else:\n",
    "            wReg = np.zeros(w.shape[0])\n",
    "        gradient = gradient + regParam * wReg  #gradient:  GD of Sqaured Error+ GD of regularized term \n",
    "        w = w - learningRate * gradient / n\n",
    "    return w"
   ]
  },
  {
   "cell_type": "code",
   "execution_count": 20,
   "metadata": {
    "collapsed": true
   },
   "outputs": [],
   "source": [
    "%matplotlib inline\n",
    "\n",
    "import matplotlib.pyplot as plt\n",
    "\n",
    "def iterationsPlot(fileName, truew):\n",
    "    x1 = [-4, 4]\n",
    "    \n",
    "    w = truew\n",
    "    x2 = [-(i * w[0] + w[2]) / w[1] for i in x1]\n",
    "    plt.plot(x1, x2, 'b', label=\"True line\", linewidth=4.0)\n",
    "    \n",
    "    np.random.seed(800)\n",
    "    w = np.random.normal(0,1,3)\n",
    "    x2 = [-(i * w[0] + w[2]) / w[1] for i in x1]\n",
    "    plt.plot(x1, x2, 'r--', label=\"After 0 Iterations\", linewidth=2.0)\n",
    "    \n",
    "    data = sc.textFile(fileName).map(readPoint).cache()\n",
    "    w = logisticRegressionGDReg(data, w, iterations=30)\n",
    "    x2 = [-(i * w[0] + w[2]) / w[1] for i in x1]\n",
    "    plt.plot(x1, x2, 'g--', label=\"After 1 Iterations\", linewidth=2.0)\n",
    "    \n",
    "    w = logisticRegressionGDReg(data, w, iterations=30)\n",
    "    x2 = [-(i * w[0] + w[2]) / w[1] for i in x1]\n",
    "    plt.plot(x1, x2, 'm--', label=\"After 2 Iterations\", linewidth=2.0)\n",
    "    \n",
    "    w = logisticRegressionGDReg(data, w, iterations=30)\n",
    "    x2 = [-(i * w[0] + w[2]) / w[1] for i in x1]\n",
    "    plt.plot(x1, x2, 'y--', label=\"After 3 Iterations\", linewidth=2.0)\n",
    "    \n",
    "    plt.legend(bbox_to_anchor=(1.05, 1), loc=2, fontsize=20, borderaxespad=0.)\n",
    "    plt.xlabel(\"x1\")\n",
    "    plt.ylabel(\"x2\")\n",
    "    plt.grid()\n",
    "    plt.show()"
   ]
  },
  {
   "cell_type": "code",
   "execution_count": 4,
   "metadata": {
    "collapsed": false
   },
   "outputs": [
    {
     "data": {
      "image/png": "[encoded data removed]",
      "text/plain": [
       "<matplotlib.figure.Figure at 0x7f2b695318d0>"
      ]
     },
     "metadata": {},
     "output_type": "display_data"
    }
   ],
   "source": [
    "import numpy as np\n",
    "w = np.array([8, -3, -1])\n",
    "#w = np.array([0, 0, 0])\n",
    "#dataWeights(w)\n",
    "iterationsPlot('train_nonsep.csv',w)"
   ]
  },
  {
   "cell_type": "markdown",
   "metadata": {},
   "source": [
    "<a name=\"HW10.4\"><h2 style=\"color:darkblue\"> HW11.4 SVMs  </h2>\n",
    "[Back to Table of Contents](#TOC)\n",
    "\n",
    "Use the non-linearly separable training and testing datasets from HW11.3 in this problem.\n",
    "\n",
    "Using MLLib  train up a soft SVM model with the training dataset and evaluate with the testing set. What is a good number of iterations for training the SVM model? Justify with plots and words. \n",
    "\n",
    "Derive and Implement in Spark a weighted soft linear svm classification learning algorithm.\n",
    "Evaluate your homegrown weighted soft linear svm classification learning algorithm on the weighted training dataset and test dataset from HW11.3. Report misclassification error (1 - Accuracy) and how many iterations does it took to converge?  How many support vectors do you end up?\n",
    "\n",
    "Does Spark MLLib have a weighted soft SVM learner. If so use it and report your findings on the weighted training set and test set. "
   ]
  },
  {
   "cell_type": "code",
   "execution_count": 65,
   "metadata": {
    "collapsed": true
   },
   "outputs": [],
   "source": [
    "## Code goes here"
   ]
  },
  {
   "cell_type": "code",
   "execution_count": 66,
   "metadata": {
    "collapsed": true
   },
   "outputs": [],
   "source": [
    "## Drivers & Runners"
   ]
  },
  {
   "cell_type": "code",
   "execution_count": 67,
   "metadata": {
    "collapsed": true
   },
   "outputs": [],
   "source": [
    "## Run Scripts, S3 Sync"
   ]
  },
  {
   "cell_type": "markdown",
   "metadata": {},
   "source": [
    "<a name=\"HW11.5\"><h2 style=\"color:darkgreen\"> HW11.5  [OPTIONAL] Distributed Perceptron algorithm. </h2>\n",
    "[Back to Table of Contents](#TOC)\n",
    "\n",
    "Using the following papers as background:\n",
    "http://static.googleusercontent.com/external_content/untrusted_dlcp/research.google.com/en//pubs/archive/36266.pdf\n",
    "\n",
    "https://www.dropbox.com/s/a5pdcp0r8ptudgj/gesmundo-tomeh-eacl-2012.pdf?dl=0\n",
    "\n",
    "http://www.slideshare.net/matsubaray/distributed-perceptron \n",
    "\n",
    "Implement each of the following flavors of perceptron learning algorithm:\n",
    "\n",
    "1. Serial (All Data): This is the classifier returned if trained serially on all the available data.  On a single computer for example (Mistake driven)\n",
    "2. Serial (Sub Sampling): Shard the data, select one shard randomly and train serially. \n",
    "3. Parallel (Parameter Mix): Learn a perceptron locally on each shard: \n",
    "Once learning is complete combine each learnt percepton using a uniform weighting\n",
    "4. Parallel (Iterative Parameter Mix) as described in the above papers."
   ]
  },
  {
   "cell_type": "code",
   "execution_count": 71,
   "metadata": {
    "collapsed": true
   },
   "outputs": [],
   "source": [
    "## Code goes here"
   ]
  },
  {
   "cell_type": "code",
   "execution_count": 72,
   "metadata": {
    "collapsed": true
   },
   "outputs": [],
   "source": [
    "## Drivers & Runners"
   ]
  },
  {
   "cell_type": "code",
   "execution_count": 73,
   "metadata": {
    "collapsed": true
   },
   "outputs": [],
   "source": [
    "## Run Scripts, S3 Sync"
   ]
  },
  {
   "cell_type": "markdown",
   "metadata": {},
   "source": [
    "<a name=\"HW11.6\"><h2 style=\"color:darkblue\"> HW11.6 [OPTIONAL: consider doing this in a group]  Evalution of perceptron algorihtms on PennTreeBank POS corpus </h2>\n",
    "[Back to Table of Contents](#TOC)\n",
    "\n",
    "Reproduce the experiments reported in the following paper:\n",
    "\n",
    "*Prediction with MapReduce - Andrea Gesmundo and  Nadi Tomeh*\n",
    "\n",
    "http://www.aclweb.org/anthology/E12-2020 \n",
    "\n",
    "These experiments focus on the prediction accuracy on a part-of-speech\n",
    "(POS) task using the PennTreeBank corpus. They use sections 0-18 of the Wall\n",
    "Street Journal for training, and sections 22-24 for testing.\n",
    " \n"
   ]
  },
  {
   "cell_type": "markdown",
   "metadata": {},
   "source": [
    "<a name=\"HW11.7\"><h2 style=\"color:darkgreen\"> HW11.7 [OPTIONAL: consider doing this in a group] Kernal Adatron  </h2>\n",
    "[Back to Table of Contents](#TOC)\n",
    "\n",
    "Implement the Kernal Adatron in Spark (contact Jimi for details)\n"
   ]
  },
  {
   "cell_type": "markdown",
   "metadata": {},
   "source": [
    "<a name=\"HW11.8\"><h2 style=\"color:darkgreen\"> HW11.8 [OPTIONAL] Create an animation of gradient descent for the Perceptron learning or for the logistic regression </h2>\n",
    "[Back to Table of Contents](#TOC)\n",
    "    \n",
    "11.8 [OPTIONAL] Create an animation of gradient descent for the Perceptron learning or for the logistic regression learning with the following 3 training examples. Present the progress in terms of the 2 dimensional input space in terms of a contour plot and also in terms of the 3D surface plot. See Live slides for an example.\n",
    "\n",
    "Here is a sample training dataset that can be used:\n",
    "-2, 3, +1\n",
    "-1, -1, -1\n",
    "2, -3, 1\n",
    "\n",
    "Please feel free to use \n",
    " + R (yes R!)\n",
    " + d3\n",
    " + https://plot.ly/python/\n",
    " + Matplotlib\n",
    "\n",
    "I am happy for folks to collaborate on HW11.8 also.\n",
    "\n",
    "It would be great to get the 3D surface and contours lines (with solution region and label normalized data) all in the same graph"
   ]
  },
  {
   "cell_type": "code",
   "execution_count": 77,
   "metadata": {
    "collapsed": true
   },
   "outputs": [],
   "source": [
    "## Code goes here"
   ]
  },
  {
   "cell_type": "code",
   "execution_count": 78,
   "metadata": {
    "collapsed": true
   },
   "outputs": [],
   "source": [
    "## Drivers & Runners"
   ]
  },
  {
   "cell_type": "code",
   "execution_count": 79,
   "metadata": {
    "collapsed": true
   },
   "outputs": [],
   "source": [
    "## Run Scripts, S3 Sync"
   ]
  },
  {
   "cell_type": "markdown",
   "metadata": {},
   "source": [
    "[Back to Table of Contents](#TOC)\n",
    "<center><div class='jumbotron'><h2 style='color:green'>-------  END OF HOWEWORK --------</h2></div></center>"
   ]
  },
  {
   "cell_type": "code",
   "execution_count": null,
   "metadata": {
    "collapsed": true
   },
   "outputs": [],
   "source": []
  }
 ],
 "metadata": {
  "kernelspec": {
   "display_name": "Python 2",
   "language": "python",
   "name": "python2"
  },
  "language_info": {
   "codemirror_mode": {
    "name": "ipython",
    "version": 2
   },
   "file_extension": ".py",
   "mimetype": "text/x-python",
   "name": "python",
   "nbconvert_exporter": "python",
   "pygments_lexer": "ipython2",
   "version": "2.7.12"
  }
 },
 "nbformat": 4,
 "nbformat_minor": 0
}
