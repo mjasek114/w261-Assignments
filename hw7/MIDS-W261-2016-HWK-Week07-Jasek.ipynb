{
 "cells": [
  {
   "cell_type": "markdown",
   "metadata": {},
   "source": [
    "# HW7 DATASCI W261: Machine Learning at Scale  \n",
    " \n",
    "* **Name:**  Megan Jasek\n",
    "* **Email:**  meganjasek@ischool.berkeley.edu\n",
    "* **Class Name:**  W261-2\n",
    "* **Week Number:**  9\n",
    "* **Homework Number:**  7\n",
    "* **Date:**  7/10/16"
   ]
  },
  {
   "cell_type": "markdown",
   "metadata": {},
   "source": [
    "<h1 style=\"color:#021353;\">General Description</h1>\n",
    "<div style=\"margin:10px;border-left:5px solid #eee;\">\n",
    "<pre style=\"font-family:sans-serif;background-color:transparent\">\n",
    "In this assignment you will explore networks and develop MRJob code for \n",
    "finding shortest path graph distances. To build up to large data \n",
    "you will develop your code on some very simple, toy networks.\n",
    "After this you will take your developed code forward and modify it and \n",
    "apply it to two larger datasets (performing EDA along the way).\n",
    "\n",
    "<h3>Undirected toy network dataset</h3>\n",
    "\n",
    "\n",
    "In an undirected network all links are symmetric, \n",
    "i.e., for a pair of nodes 'A' and 'B,' both of the links:\n",
    "\n",
    "A -> B and B -> A\n",
    "\n",
    "will exist. \n",
    "\n",
    "The toy data are available in a sparse (stripes) representation:\n",
    "\n",
    "(node) \\t (dictionary of links)\n",
    "\n",
    "on AWS/Dropbox via the url:\n",
    "\n",
    "s3://ucb-mids-mls-networks/undirected_toy.txt\n",
    "On under the Data Subfolder for HW7 on Dropbox with the same file name. \n",
    "The Data folder is in: https://db.tt/Kxu48mL1)\n",
    "\n",
    "In the dictionary, target nodes are keys, link weights are values \n",
    "(here, all weights are 1, i.e., the network is unweighted).\n",
    "\n",
    "\n",
    "<h3>Directed toy network dataset</h3>\n",
    "\n",
    "In a directed network all links are not necessarily symmetric, \n",
    "i.e., for a pair of nodes 'A' and 'B,' it is possible for only one of:\n",
    "\n",
    "A -> B or B -> A\n",
    "\n",
    "to exist. \n",
    "\n",
    "These toy data are available in a sparse (stripes) representation:\n",
    "\n",
    "(node) \\t (dictionary of links)\n",
    "\n",
    "on AWS/Dropbox via the url:\n",
    "\n",
    "s3://ucb-mids-mls-networks/directed_toy.txt\n",
    "Or under the Data Subfolder for HW7 on Dropbox with the same file name\n",
    "(On Dropbox https://www.dropbox.com/sh/2c0k5adwz36lkcw/AAAAKsjQfF9uHfv-X9mCqr9wa?dl=0)\n",
    "\n",
    "In the dictionary, target nodes are keys, link weights are values \n",
    "(here, all weights are 1, i.e., the network is unweighted).\n",
    "</pre>\n",
    "</div>"
   ]
  },
  {
   "cell_type": "markdown",
   "metadata": {},
   "source": [
    "### Create test files"
   ]
  },
  {
   "cell_type": "code",
   "execution_count": 1,
   "metadata": {
    "collapsed": false
   },
   "outputs": [
    {
     "name": "stdout",
     "output_type": "stream",
     "text": [
      "Overwriting directed_toy.txt\n"
     ]
    }
   ],
   "source": [
    "%%writefile directed_toy.txt\n",
    "1\t{'2': 1, '6': 1}\n",
    "2\t{'1': 1, '3': 1, '4': 1}\n",
    "3\t{'2': 1, '4': 1}\n",
    "4\t{'2': 1, '5': 1}\n",
    "5\t{'1': 1, '2': 1, '4': 1}"
   ]
  },
  {
   "cell_type": "code",
   "execution_count": 26,
   "metadata": {
    "collapsed": false
   },
   "outputs": [
    {
     "name": "stdout",
     "output_type": "stream",
     "text": [
      "Overwriting d2_toy.txt\n"
     ]
    }
   ],
   "source": [
    "%%writefile d2_toy.txt\n",
    "A\t{'B': 1, 'E': 1000}\n",
    "B\t{'C': 1}\n",
    "C\t{'D': 1}\n",
    "D\t{'E': 1}\n",
    "E\t{'F': 1}"
   ]
  },
  {
   "cell_type": "code",
   "execution_count": 3,
   "metadata": {
    "collapsed": false
   },
   "outputs": [
    {
     "name": "stdout",
     "output_type": "stream",
     "text": [
      "Writing d2a_toy.txt\n"
     ]
    }
   ],
   "source": [
    "%%writefile d2a_toy.txt\n",
    "A\t{'B': 1, 'E': 4}\n",
    "B\t{'C': 1}\n",
    "C\t{'D': 1}\n",
    "D\t{'E': 1}\n",
    "E\t{'F': 1}"
   ]
  },
  {
   "cell_type": "code",
   "execution_count": 30,
   "metadata": {
    "collapsed": false
   },
   "outputs": [
    {
     "name": "stdout",
     "output_type": "stream",
     "text": [
      "Writing d3_toy.txt\n"
     ]
    }
   ],
   "source": [
    "%%writefile d3_toy.txt\n",
    "A\t{'B': 10, 'C': 5}\n",
    "B\t{'C': 2, 'D': 1}\n",
    "C\t{'B': 3, 'D': 9, 'E': 2}\n",
    "D\t{'E': 4}\n",
    "E\t{'A': 7, 'D': 6}"
   ]
  },
  {
   "cell_type": "code",
   "execution_count": 1,
   "metadata": {
    "collapsed": false
   },
   "outputs": [
    {
     "name": "stdout",
     "output_type": "stream",
     "text": [
      "Writing d4_toy.txt\n"
     ]
    }
   ],
   "source": [
    "%%writefile d4_toy.txt\n",
    "1\t{\"2\": 1, \"5\": 100}\n",
    "2\t{\"1\": 1, \"3\": 1, \"5\": 1, \"4\": 1}\n",
    "3\t{\"2\": 1, \"4\": 1}\n",
    "4\t{\"3\": 1, \"2\": 1, \"5\": 1}\n",
    "5\t{\"1\": 100, \"2\": 1, \"4\": 1, \"6\":1}\n",
    "6\t{\"5\": 1, \"7\": 1}\n",
    "7\t{\"6\": 1}"
   ]
  },
  {
   "cell_type": "code",
   "execution_count": 2,
   "metadata": {
    "collapsed": false
   },
   "outputs": [
    {
     "name": "stdout",
     "output_type": "stream",
     "text": [
      "Overwriting undirected_toy.txt\n"
     ]
    }
   ],
   "source": [
    "%%writefile undirected_toy.txt\n",
    "1\t{'2': 1,'5': 1}\n",
    "2\t{'1': 1,'3': 1,'4': 1,'5': 1}\n",
    "3\t{'2': 1, '4': 1}\n",
    "4\t{'2': 1,'3': 1,'5': 1}\n",
    "5\t{'1': 1, '2': 1, '4': 1}"
   ]
  },
  {
   "cell_type": "markdown",
   "metadata": {},
   "source": [
    "<h1 style=\"color:#021353;\">HW 7.0: Shortest path graph distances (toy networks)</h1>\n",
    "<div style=\"margin:10px;border-left:5px solid #eee;\">\n",
    "<pre style=\"font-family:sans-serif;background-color:transparent\">\n",
    "In this part of your assignment you will develop the base of your code for the week.\n",
    "\n",
    "Write MRJob classes to find shortest path graph distances, as described in the lectures. In addition to finding the distances, your code should also output a distance-minimizing path between the source and target.\n",
    "Work locally for this part of the assignment, and use both of the undirected and directed toy networks.\n",
    "\n",
    "To proof you code's function, run the following jobs\n",
    "\n",
    "- shortest path in the undirected network from node 1 to node 4\n",
    "Solution: 1,5,4. NOTE: There is another shortest path also (HINT: 1->5->4)! Either will suffice (you will find this also in the remaining problems. E.g., 7.2 and 7.4.\n",
    " \n",
    "\n",
    "- shortest path in the directed network from node 1 to node 5\n",
    "Solution: 1,2,4,5\n",
    "\n",
    "and report your output---make sure it is correct!\n",
    "\n",
    "<h3>Main dataset 1: NLTK synonyms</h3>\n",
    "\n",
    "In the next part of this assignment you will explore a network derived from the NLTK synonym database used for evaluation in HW 5. At a high level, this network is undirected, defined so that there exists link between two nodes/words if the pair or words are a synonym. These data may be found at the location:\n",
    "\n",
    "<a href=\"s3://ucb-mids-mls-networks/synNet/synNet.txt\">s3://ucb-mids-mls-networks/synNet/synNet.txt</a>\n",
    "<a href=\"s3://ucb-mids-mls-networks/synNet/indices.txt\">s3://ucb-mids-mls-networks/synNet/indices.txt</a>\n",
    "On under the Data Subfolder for HW7 on Dropbox with the same file names\n",
    "\n",
    "where synNet.txt contains a sparse representation of the network:\n",
    "\n",
    "(index) \\t (dictionary of links)\n",
    "\n",
    "in indexed form, and indices.txt contains a lookup list\n",
    "\n",
    "(word) \\t (index)\n",
    "\n",
    "of indices and words. This network is small enough for you to explore and run\n",
    "scripts locally, but will also be good for a systems test (for later) on AWS.\n",
    "\n",
    "In the dictionary, target nodes are keys, link weights are values \n",
    "(here, all weights are 1, i.e., the network is unweighted).\n",
    "</pre>\n",
    "</div>"
   ]
  },
  {
   "cell_type": "markdown",
   "metadata": {},
   "source": [
    "- shortest path in the undirected network from node 1 to node 4\n",
    "Solution: 1,5,4. NOTE: There is another shortest path also (HINT: 1->5->4)! Either will suffice (you will find this also in the remaining problems. E.g., 7.2 and 7.4.  \n",
    "**ANSWER:**  The shortest path from 1 to 4 is: 1->2->4  \n",
    "\n",
    "- shortest path in the directed network from node 1 to node 5  \n",
    "Solution: 1,2,4,5  \n",
    "**ANSWER:**  The shortest path from 1 to 5 is: 1->2->4->5"
   ]
  },
  {
   "cell_type": "markdown",
   "metadata": {},
   "source": [
    "### Create Single Source Shortest Path (SSSP) Initialization Class"
   ]
  },
  {
   "cell_type": "code",
   "execution_count": 1,
   "metadata": {
    "collapsed": false
   },
   "outputs": [
    {
     "name": "stdout",
     "output_type": "stream",
     "text": [
      "Overwriting SSSPInit.py\n"
     ]
    }
   ],
   "source": [
    "%%writefile SSSPInit.py\n",
    "from mrjob.job import MRJob\n",
    "from mrjob.step import MRStep\n",
    "import ast\n",
    "\n",
    "# This class takes an adjacency list as input and outputs and initialized work file with \n",
    "# the following format:\n",
    "# node_number \\t [adjacency_list, infinity, '', 'U']\n",
    "# One starting node is defined as an argument passed in to the class.  The default is node '1'.\n",
    "# That starting node has the format:\n",
    "# node_number \\t [adjacency_list, 0.0, '', 'Q']\n",
    "# U means Unvisited\n",
    "# Q means Queued in the queue\n",
    "class MRSSSPInit(MRJob):\n",
    "    def configure_options(self):\n",
    "        # Configure a new command line option called 'start_index' to indicate the starting\n",
    "        # index of the SSSP algorithm.\n",
    "        # Configure a new command line option called 'unweighted' to make the graph unweighted.\n",
    "        # If this is set to '1', then all distances from node to node are set to a weight of 1.\n",
    "        super(MRSSSPInit, self).configure_options()\n",
    "        self.add_passthrough_option('--start_index', type='str', default='1')\n",
    "        self.add_passthrough_option('--unweighted', type='str', default='0')\n",
    "    \n",
    "    def __init__(self, *args, **kwargs):\n",
    "        super(MRSSSPInit, self).__init__(*args, **kwargs)\n",
    "        self.start_index = self.options.start_index\n",
    "        self.unweighted = self.options.unweighted\n",
    "\n",
    "    # For the node equal to the start index, yield\n",
    "    #    node_number \\t tuple(adj_list, 0.0, \"\", 'Q')\n",
    "    # For all other nodes, yield\n",
    "    #    node_number \\t tuple(adj_list, infinity, \"\", 'U')    \n",
    "    def mapper(self, _, line):\n",
    "        node_num, adj_dict = line.strip().split('\\t')\n",
    "        adj_dict = ast.literal_eval(adj_dict)\n",
    "        # If the graph is unweighted, then set all weights to 1\n",
    "        if self.unweighted == '1':\n",
    "            for key in adj_dict:\n",
    "                adj_dict[key] = 1\n",
    "        if node_num == self.start_index:\n",
    "            yield node_num, tuple((adj_dict, 0.0, \"\", 'Q'))\n",
    "        else:\n",
    "            yield node_num, tuple((adj_dict, float('inf'), \"\", 'U'))\n",
    "    \n",
    "    # Create the steps for the MRJob.  There is only a mapper in this job.\n",
    "    def steps(self):\n",
    "        return [\n",
    "            MRStep(mapper=self.mapper)\n",
    "               ]\n",
    "            \n",
    "if __name__ == '__main__':\n",
    "    MRSSSPInit.run()"
   ]
  },
  {
   "cell_type": "markdown",
   "metadata": {},
   "source": [
    "### Create Single Source Shortest Path (SSSP) Class"
   ]
  },
  {
   "cell_type": "code",
   "execution_count": 2,
   "metadata": {
    "collapsed": false
   },
   "outputs": [
    {
     "name": "stdout",
     "output_type": "stream",
     "text": [
      "Overwriting SSSP.py\n"
     ]
    }
   ],
   "source": [
    "%%writefile SSSP.py\n",
    "from mrjob.job import MRJob\n",
    "from mrjob.step import MRStep\n",
    "from collections import Counter\n",
    "import ast\n",
    "import json\n",
    "\n",
    "# This class implements the Single Source Shortest Path (SSSP) breadth-first search\n",
    "# algorithm for an unweighted graph in MapReduce.  The functions of the mapper and reducer\n",
    "# are explained below.  Once a node is put in to the V state its shortest path has been found\n",
    "# (this is not true for a weighted graph)\n",
    "class MRSSSP(MRJob):\n",
    "    def configure_options(self):\n",
    "        # Configure a new command line option to capture the stop_index for the shortest path\n",
    "        super(MRSSSP, self).configure_options()\n",
    "        self.add_passthrough_option('--stop_index', type='str', default='no_stop_index')\n",
    "    \n",
    "    def __init__(self, *args, **kwargs):\n",
    "        # Set the stop_index as a class variable\n",
    "        super(MRSSSP, self).__init__(*args, **kwargs)\n",
    "        self.stop_index = self.options.stop_index\n",
    "\n",
    "    def mapper(self, _, line):\n",
    "        # If a node is in the Q state then yield 2 things.  1.  The adjacency list, the\n",
    "        # minimum distance and the shortest path plus its own node name as this is the shortest\n",
    "        # path that will be found.  2.  All of the nodes in its adj_list each with the following:\n",
    "        # An empty adjacency list, the current min_dist plus the distance to this node, the\n",
    "        # current shortest path plus the path to this node, state of Q.\n",
    "        node_num, data = line.strip().split('\\t')\n",
    "        data = json.loads(data)\n",
    "        node_num = node_num.strip('\"')\n",
    "        adj_dict = data[0]\n",
    "        min_dist = data[1]\n",
    "        short_path = data[2]\n",
    "        state = data[3]\n",
    "        if state == 'Q':\n",
    "            yield node_num, tuple((adj_dict, min_dist, short_path+node_num, 'V'))\n",
    "            for node, dist in adj_dict.iteritems():\n",
    "                yield node, tuple(({}, float(min_dist)+float(dist), short_path+node_num+'->', 'Q'))\n",
    "        else:\n",
    "            yield node_num, tuple((adj_dict, min_dist, short_path, state))\n",
    "    \n",
    "    # For each element in the data list, do the following:\n",
    "    # - Use the adjacency list for a node that is not {}, there will always be one.\n",
    "    # - Find the minimum distance of all of the elements of the list, use the shortest\n",
    "    # path and state from this element as well.\n",
    "    # If an element is in the Q state and there is no_stop_index, then increment the\n",
    "    # 'Number_In_Q' counter\n",
    "    # If an element is in the V state (meaning its shortest path has already been found) and\n",
    "    # it is the stopping index, then increment the 'Stop_Index_Found' counter.\n",
    "    def reducer(self, node, data):\n",
    "        f_adj_dict = Counter()\n",
    "        f_min_dist = float('inf')\n",
    "        f_short_path = ''\n",
    "        f_state = 'U'\n",
    "        for adj_dict, min_dist, short_path, state in data:\n",
    "            if adj_dict != {} and f_adj_dict == {}:\n",
    "                f_adj_dict = adj_dict\n",
    "            min_dist = float(min_dist)\n",
    "            if min_dist < f_min_dist:\n",
    "                f_min_dist = min_dist\n",
    "                f_short_path = short_path\n",
    "                f_state = state\n",
    "        if f_state == 'Q' and self.stop_index == 'no_stop_index':\n",
    "            self.increment_counter('SSSP_Counters', 'Number_In_Q', 1)\n",
    "        elif f_state == 'V' and self.stop_index == node:\n",
    "            self.increment_counter('SSSP_Counters', 'Stop_Index_Found', 1)            \n",
    "        yield node, tuple((f_adj_dict, f_min_dist, f_short_path, f_state))\n",
    "\n",
    "    def steps(self):\n",
    "        # Create the steps for the MRJob.  There is only one MRJob here containing\n",
    "        # a mapper and a reducer.\n",
    "        return [\n",
    "            MRStep(mapper=self.mapper,\n",
    "                   reducer=self.reducer)\n",
    "               ]\n",
    "            \n",
    "if __name__ == '__main__':\n",
    "    MRSSSP.run()"
   ]
  },
  {
   "cell_type": "markdown",
   "metadata": {},
   "source": [
    "### Driver:  directed_toy.txt from 1 to 5"
   ]
  },
  {
   "cell_type": "code",
   "execution_count": 15,
   "metadata": {
    "collapsed": false
   },
   "outputs": [
    {
     "name": "stdout",
     "output_type": "stream",
     "text": [
      "Iteration 0\n",
      "4 [{u'2': 1, u'5': 1}, inf, u'', u'U']\n",
      "5 [{u'1': 1, u'2': 1, u'4': 1}, inf, u'', u'U']\n",
      "6 [{}, 1.0, u'1->', u'Q']\n",
      "1 [{u'2': 1, u'6': 1}, 0.0, u'1', u'V']\n",
      "2 [{u'1': 1, u'3': 1, u'4': 1}, 1.0, u'1->', u'Q']\n",
      "3 [{u'2': 1, u'4': 1}, inf, u'', u'U']\n",
      "Iteration 1\n",
      "4 [{u'2': 1, u'5': 1}, 2.0, u'1->2->', u'Q']\n",
      "5 [{u'1': 1, u'2': 1, u'4': 1}, inf, u'', u'U']\n",
      "6 [{}, 1.0, u'1->6', u'V']\n",
      "1 [{u'2': 1, u'6': 1}, 0.0, u'1', u'V']\n",
      "2 [{u'1': 1, u'3': 1, u'4': 1}, 1.0, u'1->2', u'V']\n",
      "3 [{u'2': 1, u'4': 1}, 2.0, u'1->2->', u'Q']\n",
      "Iteration 2\n",
      "4 [{u'2': 1, u'5': 1}, 2.0, u'1->2->4', u'V']\n",
      "5 [{u'1': 1, u'2': 1, u'4': 1}, 3.0, u'1->2->4->', u'Q']\n",
      "6 [{}, 1.0, u'1->6', u'V']\n",
      "1 [{u'2': 1, u'6': 1}, 0.0, u'1', u'V']\n",
      "2 [{u'1': 1, u'3': 1, u'4': 1}, 1.0, u'1->2', u'V']\n",
      "3 [{u'2': 1, u'4': 1}, 2.0, u'1->2->3', u'V']\n",
      "Iteration 3\n",
      "4 [{u'2': 1, u'5': 1}, 2.0, u'1->2->4', u'V']\n",
      "5 [{u'1': 1, u'2': 1, u'4': 1}, 3.0, u'1->2->4->5', u'V']\n",
      "6 [{}, 1.0, u'1->6', u'V']\n",
      "1 [{u'2': 1, u'6': 1}, 0.0, u'1', u'V']\n",
      "2 [{u'1': 1, u'3': 1, u'4': 1}, 1.0, u'1->2', u'V']\n",
      "3 [{u'2': 1, u'4': 1}, 2.0, u'1->2->3', u'V']\n",
      "\n",
      "The shortest path from 1 to 5 is: 1->2->4->5\n"
     ]
    }
   ],
   "source": [
    "%reload_ext autoreload\n",
    "%autoreload 2\n",
    "from SSSP import MRSSSP\n",
    "from SSSPInit import MRSSSPInit\n",
    "import json\n",
    "\n",
    "# Set the name of the file that gets passed from iteration to iteration\n",
    "work_filename = 'work_table.txt'\n",
    "\n",
    "# Initialize the work table file\n",
    "# d2_toy.txt, d2a_toy.txt and d3_toy.txt start with 'A', all others start\n",
    "# with the default of '1'\n",
    "start_index = '1'\n",
    "#mr_job = MRSSSPInit(args=['d2_toy.txt', '--start_index', start_index, '--unweighted', '1'])\n",
    "mr_job = MRSSSPInit(args=['directed_toy.txt', '--start_index', start_index, '--unweighted', '1'])\n",
    "with mr_job.make_runner() as runner, open(work_filename, 'w') as f: \n",
    "    runner.run()\n",
    "    # stream_output: get access of the output \n",
    "    for line in runner.stream_output():\n",
    "        key, value =  mr_job.parse_output_line(line)\n",
    "        f.write(key+'\\t'+json.dumps(value)+'\\n')\n",
    "\n",
    "# Run the SSSP MRJob\n",
    "#stop_index = 'no_stop_index'\n",
    "stop_index = '5'\n",
    "mr_job = MRSSSP(args=[work_filename, '--stop_index', stop_index])\n",
    "    \n",
    "# Update work table file iteratively\n",
    "i = 0\n",
    "# Set stop condition to False\n",
    "Stop = False\n",
    "while(Stop==False):\n",
    "    work_table = {}\n",
    "    # Print the iteration number\n",
    "    print('Iteration %d' % (i))\n",
    "    with mr_job.make_runner() as runner: \n",
    "        runner.run()\n",
    "        # stream_output: get access of the output \n",
    "        for line in runner.stream_output():\n",
    "            key,value =  mr_job.parse_output_line(line)\n",
    "            print key, value\n",
    "            work_table[key] = value\n",
    "            if stop_index == 'no_stop_index':\n",
    "                Stop = True\n",
    "                if value[3] == 'Q':\n",
    "                    Stop = False \n",
    "            else:\n",
    "                if value[3] == 'V' and key == stop_index:\n",
    "                    Stop = True\n",
    "        \n",
    "        # Update work_table for the next iteration\n",
    "        with open(work_filename, 'w') as f:\n",
    "            for key, value in work_table.iteritems():\n",
    "                f.write(key+'\\t'+json.dumps(value)+'\\n')\n",
    "    i += 1\n",
    "    \n",
    "if stop_index != 'no_stop_index':\n",
    "    print\n",
    "    print('The shortest path from %s to %s is: %s' % (start_index, stop_index, work_table[stop_index][2]))"
   ]
  },
  {
   "cell_type": "markdown",
   "metadata": {},
   "source": [
    "### Driver:  undirected_toy.txt from 1 to 4"
   ]
  },
  {
   "cell_type": "code",
   "execution_count": 16,
   "metadata": {
    "collapsed": false
   },
   "outputs": [
    {
     "name": "stdout",
     "output_type": "stream",
     "text": [
      "Iteration 0\n",
      "4 [{u'3': 1, u'2': 1, u'5': 1}, inf, u'', u'U']\n",
      "5 [{u'1': 1, u'2': 1, u'4': 1}, 1.0, u'1->', u'Q']\n",
      "1 [{u'2': 1, u'5': 1}, 0.0, u'1', u'V']\n",
      "2 [{u'1': 1, u'3': 1, u'5': 1, u'4': 1}, 1.0, u'1->', u'Q']\n",
      "3 [{u'2': 1, u'4': 1}, inf, u'', u'U']\n",
      "Iteration 1\n",
      "4 [{u'3': 1, u'2': 1, u'5': 1}, 2.0, u'1->2->', u'Q']\n",
      "5 [{u'1': 1, u'2': 1, u'4': 1}, 1.0, u'1->5', u'V']\n",
      "1 [{u'2': 1, u'5': 1}, 0.0, u'1', u'V']\n",
      "2 [{u'1': 1, u'3': 1, u'5': 1, u'4': 1}, 1.0, u'1->2', u'V']\n",
      "3 [{u'2': 1, u'4': 1}, 2.0, u'1->2->', u'Q']\n",
      "Iteration 2\n",
      "4 [{u'3': 1, u'2': 1, u'5': 1}, 2.0, u'1->2->4', u'V']\n",
      "5 [{u'1': 1, u'2': 1, u'4': 1}, 1.0, u'1->5', u'V']\n",
      "1 [{u'2': 1, u'5': 1}, 0.0, u'1', u'V']\n",
      "2 [{u'1': 1, u'3': 1, u'5': 1, u'4': 1}, 1.0, u'1->2', u'V']\n",
      "3 [{u'2': 1, u'4': 1}, 2.0, u'1->2->3', u'V']\n",
      "\n",
      "The shortest path from 1 to 4 is: 1->2->4\n"
     ]
    }
   ],
   "source": [
    "%reload_ext autoreload\n",
    "%autoreload 2\n",
    "from SSSP import MRSSSP\n",
    "from SSSPInit import MRSSSPInit\n",
    "import json\n",
    "\n",
    "# Set the name of the file that gets passed from iteration to iteration\n",
    "work_filename = 'work_table.txt'\n",
    "\n",
    "# Initialize the work table file\n",
    "# d2_toy.txt, d2a_toy.txt and d3_toy.txt start with 'A', all others start\n",
    "# with the default of '1'\n",
    "start_index = '1'\n",
    "mr_job = MRSSSPInit(args=['undirected_toy.txt', '--start_index', start_index])\n",
    "with mr_job.make_runner() as runner, open(work_filename, 'w') as f: \n",
    "    runner.run()\n",
    "    # stream_output: get access of the output \n",
    "    for line in runner.stream_output():\n",
    "        key, value =  mr_job.parse_output_line(line)\n",
    "        f.write(key+'\\t'+json.dumps(value)+'\\n')\n",
    "\n",
    "# Run the SSSP MRJob\n",
    "stop_index = '4'\n",
    "mr_job = MRSSSP(args=[work_filename, '--stop_index', stop_index])\n",
    "    \n",
    "# Update work table file iteratively\n",
    "i = 0\n",
    "# Set stop condition to False\n",
    "Stop = False\n",
    "while(Stop==False):\n",
    "    work_table = {}\n",
    "    # Print the iteration number\n",
    "    print('Iteration %d' % (i))\n",
    "    with mr_job.make_runner() as runner: \n",
    "        runner.run()\n",
    "        # stream_output: get access of the output \n",
    "        for line in runner.stream_output():\n",
    "            key,value =  mr_job.parse_output_line(line)\n",
    "            print key, value\n",
    "            work_table[key] = value\n",
    "            if stop_index == 'no_stop_index':\n",
    "                Stop = True\n",
    "                if value[3] == 'Q':\n",
    "                    Stop = False \n",
    "            else:\n",
    "                if value[3] == 'V' and key == stop_index:\n",
    "                    Stop = True\n",
    "        \n",
    "        # Update work_table for the next iteration\n",
    "        with open(work_filename, 'w') as f:\n",
    "            for key, value in work_table.iteritems():\n",
    "                f.write(key+'\\t'+json.dumps(value)+'\\n')\n",
    "    i += 1\n",
    "\n",
    "# Print the final shortest path\n",
    "if stop_index != 'no_stop_index':\n",
    "    print\n",
    "    print('The shortest path from %s to %s is: %s' % (start_index, stop_index, work_table[stop_index][2]))"
   ]
  },
  {
   "cell_type": "markdown",
   "metadata": {},
   "source": [
    "<h1 style=\"color:#021353;\">HW 7.1: Exploratory data analysis (NLTK synonyms)</h1>\n",
    "<div style=\"margin:10px;border-left:5px solid #eee;\">\n",
    "<pre style=\"font-family:sans-serif;background-color:transparent\">\n",
    "Using MRJob, explore the synonyms network data.\n",
    "Consider plotting the degree distribution (does it follow a power law?),\n",
    "and determine some of the key features, like:\n",
    "\n",
    "number of nodes, \n",
    "number links,\n",
    "or the average degree (i.e., the average number of links per node),\n",
    "etc...\n",
    "\n",
    "As you develop your code, please be sure to run it locally first (though on the whole dataset). \n",
    "Once you have gotten you code to run locally, deploy it on AWS as a systems test\n",
    "in preparation for our next dataset (which will require AWS).\n",
    "</pre>\n",
    "</div>"
   ]
  },
  {
   "cell_type": "markdown",
   "metadata": {},
   "source": [
    "**ANSWER:**  \n",
    "\n",
    "**Total Nodes:** 8,271  \n",
    "**Total Edges:** 30,567.00  \n",
    "**Average Degree:** 7.39  \n",
    "**Degree distribution:** see section below labeled: 'OUTPUT FOR HW7.1 DEGREE DISTRIBUTION'"
   ]
  },
  {
   "cell_type": "markdown",
   "metadata": {},
   "source": [
    "### Create a class for EDA of the SynNet.txt file"
   ]
  },
  {
   "cell_type": "code",
   "execution_count": 2,
   "metadata": {
    "collapsed": false
   },
   "outputs": [
    {
     "name": "stdout",
     "output_type": "stream",
     "text": [
      "Overwriting EDAGraph.py\n"
     ]
    }
   ],
   "source": [
    "%%writefile EDAGraph.py\n",
    "from mrjob.job import MRJob\n",
    "from mrjob.step import MRStep\n",
    "import ast\n",
    "\n",
    "# This class outputs the Total Nodes, Total Edges and Average Degree of an undirected\n",
    "# graph.\n",
    "class MREDAGraph(MRJob):\n",
    "    # Initialize variables to store the total nodes and total edges\n",
    "    def __init__(self, *args, **kwargs):\n",
    "        super(MREDAGraph, self).__init__(*args, **kwargs)\n",
    "        self.total_nodes = 0\n",
    "        self.total_edges = 0\n",
    "        \n",
    "    # Calculate the degree of the node, then yield the degree and update\n",
    "    # the total nodes by 1 and the total edges by the degree.\n",
    "    def mapper(self, _, line):\n",
    "        node_num, adj_dict = line.strip().split('\\t')\n",
    "        degree = len(ast.literal_eval(adj_dict))\n",
    "        yield str(degree), 1\n",
    "        self.total_nodes += 1\n",
    "        self.total_edges += degree\n",
    "    \n",
    "# This class outputs the Total Nodes, Total Edges and Average Degree of an undirected\n",
    "# graph.\n",
    "class MREDAGraph(MRJob):\n",
    "    # Initialize variables to store the total nodes and total edges\n",
    "    def __init__(self, *args, **kwargs):\n",
    "        super(MREDAGraph, self).__init__(*args, **kwargs)\n",
    "        self.total_nodes = 0\n",
    "        self.total_edges = 0\n",
    "        \n",
    "    # Calculate the degree of the node, then yield the degree and update\n",
    "    # the total nodes by 1 and the total edges by the degree.\n",
    "    def mapper(self, _, line):\n",
    "        node_num, adj_dict = line.strip().split('\\t')\n",
    "        degree = len(ast.literal_eval(adj_dict))\n",
    "        yield str(degree), 1\n",
    "        self.total_nodes += 1\n",
    "        self.total_edges += degree\n",
    "    \n",
    "    # In-memory combiner.  Output the total nodes and total edges for all input\n",
    "    # to this mapper.  Include the ** at the beginning of the name of the key\n",
    "    # so that the reducer will see these keys first.  This is an order inversion\n",
    "    # pattern.\n",
    "    def mapper_final(self):\n",
    "        yield '**total_nodes', self.total_nodes\n",
    "        yield '*total_edges', self.total_edges\n",
    "    \n",
    "    # Aggregate the data for each key.\n",
    "    def combiner(self, key, data):\n",
    "        yield key, sum(data)\n",
    "    \n",
    "    # Calculate the total nodes first using order inversion and yield the result.\n",
    "    # Calculate the total edges and average degree and yield them.  Then sum\n",
    "    # the frequencies of the node degrees and yield them.\n",
    "    def reducer(self, key, data):\n",
    "        if key == '**total_nodes':\n",
    "            self.total_nodes = sum(data)\n",
    "            yield '*total_nodes', self.total_nodes\n",
    "        elif key == '*total_edges':\n",
    "            self.total_edges = float(sum(data))\n",
    "            yield key, self.total_edges/2.0\n",
    "            yield '*average_degree', self.total_edges/self.total_nodes\n",
    "        else:\n",
    "            yield key, sum(data)\n",
    "\n",
    "    # Create the steps for the MRJob.\n",
    "    def steps(self):\n",
    "        return [\n",
    "            MRStep(mapper=self.mapper, mapper_final=self.mapper_final,\n",
    "                   combiner=self.combiner,\n",
    "                   reducer=self.reducer)\n",
    "               ]\n",
    "            \n",
    "if __name__ == '__main__':\n",
    "    MREDAGraph.run()"
   ]
  },
  {
   "cell_type": "code",
   "execution_count": 3,
   "metadata": {
    "collapsed": false
   },
   "outputs": [
    {
     "name": "stdout",
     "output_type": "stream",
     "text": [
      "Total Nodes: 8271\n",
      "Total Edges: 30567.00\n",
      "Average Degree: 7.39\n"
     ]
    }
   ],
   "source": [
    "%reload_ext autoreload\n",
    "%autoreload 2\n",
    "from EDAGraph import MREDAGraph\n",
    "\n",
    "# Run the EDAGraph MRJob\n",
    "#mr_job = MREDAGraph(args=['synNet_100.txt'])\n",
    "mr_job = MREDAGraph(args=['synNet.txt'])\n",
    "\n",
    "# Initialize a dictionary to store the degree distribution\n",
    "degree_dist = {}\n",
    "with mr_job.make_runner() as runner: \n",
    "    runner.run()\n",
    "    # stream_output: get access of the output \n",
    "    for line in runner.stream_output():\n",
    "        key, value =  mr_job.parse_output_line(line)\n",
    "        #print key, value\n",
    "        if key == '*total_nodes':\n",
    "            print('Total Nodes: %d' % (value))\n",
    "        elif key == '*total_edges':\n",
    "            print('Total Edges: %.2f' % (value))\n",
    "        elif key == '*average_degree':\n",
    "            print('Average Degree: %.2f' % (value))\n",
    "            pass\n",
    "        else:\n",
    "            degree_dist[int(key)] = value\n",
    "#print len(degree_dist)\n",
    "#print degree_dist"
   ]
  },
  {
   "cell_type": "code",
   "execution_count": 4,
   "metadata": {
    "collapsed": false
   },
   "outputs": [
    {
     "data": {
      "text/plain": [
       "<matplotlib.axes._subplots.AxesSubplot at 0x7f83ef021d50>"
      ]
     },
     "execution_count": 4,
     "metadata": {},
     "output_type": "execute_result"
    },
    {
     "data": {
      "image/png": "[encoded data removed]",
      "text/plain": [
       "<matplotlib.figure.Figure at 0x7f83ef021690>"
      ]
     },
     "metadata": {},
     "output_type": "display_data"
    }
   ],
   "source": [
    "##### OUTPUT FOR HW7.1 DEGREE DISTRIBUTION #####\n",
    "%matplotlib inline\n",
    "import pandas\n",
    "\n",
    "#http://pandas.pydata.org/pandas-docs/stable/generated/pandas.DataFrame.plot.html\n",
    "\n",
    "# Plot a histogram of the degrees and their frequencies\n",
    "df = pandas.DataFrame.from_dict(degree_dist, orient='index')\n",
    "df = df.sort_index()\n",
    "df.plot(kind='bar', figsize=(20,8), legend=False, \n",
    "        title='Degree Distribution')"
   ]
  },
  {
   "cell_type": "markdown",
   "metadata": {},
   "source": [
    "<h1 style=\"color:#021353;\">HW 7.2: Shortest path graph distances (NLTK synonyms)</h1>\n",
    "<div style=\"margin:10px;border-left:5px solid #eee;\">\n",
    "<pre style=\"font-family:sans-serif;background-color:transparent\">\n",
    "Write (reuse your code from 7.0) an MRJob class to find shortest path graph distances, \n",
    "and apply it to the NLTK synonyms network dataset. \n",
    "\n",
    "Proof your code's function by running the job:\n",
    "\n",
    "- shortest path starting at \"walk\" (index=7827) and ending at \"make\" (index=536),\n",
    "\n",
    "and showing you code's output. Once again, your output should include the path and the distance.\n",
    "\n",
    "As you develop your code, please be sure to run it locally first (though on the whole dataset). \n",
    "Once you have gotten you code to run locally, deploy it on AWS as a systems test\n",
    "in preparation for our next dataset (which will require AWS).\n",
    "\n",
    "=====================================\n",
    "<strong>NOTE: Dataset 2 English Wikipedia hyperlink network.data </strong>\n",
    "The dataset is available via Dropbox at:\n",
    "\n",
    "https://www.dropbox.com/sh/2c0k5adwz36lkcw/AAAAKsjQfF9uHfv-X9mCqr9wa?dl=0\n",
    "\n",
    "For the remainder of this assignment you will explore the English Wikipedia hyperlink network.\n",
    "\n",
    "The dataset is built from the Sept. 2015 XML snapshot of English Wikipedia.\n",
    "For this directed network, a link between articles: \n",
    "\n",
    "A -> B\n",
    "\n",
    "is defined by the existence of a hyperlink in A pointing to B.\n",
    "This network also exists in the indexed format:\n",
    "\n",
    "Data: <a href=\"s3://ucb-mids-mls-networks/wikipedia/all-pages-indexed-out.txt\">s3://ucb-mids-mls-networks/wikipedia/all-pages-indexed-out.txt</a>\n",
    "Data: <a href=\"s3://ucb-mids-mls-networks/wikipedia/all-pages-indexed-in.txt\">s3://ucb-mids-mls-networks/wikipedia/all-pages-indexed-in.txt</a>\n",
    "Data: <a href=\"s3://ucb-mids-mls-networks/wikipedia/indices.txt\">s3://ucb-mids-mls-networks/wikipedia/indices.txt</a>\n",
    "\n",
    "but has an index with more detailed data:\n",
    "\n",
    "(article name) \\t (index) \\t (in degree) \\t (out degree)\n",
    "\n",
    "In the dictionary, target nodes are keys, link weights are values .\n",
    "Here, a weight indicates the number of time a page links to another.\n",
    "However, for the sake of this assignment, treat this an unweighted network,\n",
    "and set all weights to 1 upon data input.\n",
    "\n",
    "</pre>\n",
    "</div>"
   ]
  },
  {
   "cell_type": "markdown",
   "metadata": {},
   "source": [
    "- **SynNet dataset:**  shortest path starting at \"walk\" (index=7827) and ending at \"make\" (index=536)  \n",
    "**ANSWER:**  \n",
    "The shortest path from 7827 to 536 is: 7827->1426->1668->536  \n",
    "The shortest path from 'walk' to 'make' is: 'walk'->'pass'->'Give'->'make'"
   ]
  },
  {
   "cell_type": "code",
   "execution_count": 5,
   "metadata": {
    "collapsed": false
   },
   "outputs": [],
   "source": [
    "%reload_ext autoreload\n",
    "%autoreload 2\n",
    "from SSSPInit import MRSSSPInit\n",
    "import json\n",
    "\n",
    "# Set the name of the file that gets passed from iteration to iteration\n",
    "work_filename = 'work_table.txt'\n",
    "\n",
    "# Initialize the work table file\n",
    "start_index = '7827'\n",
    "mr_job = MRSSSPInit(args=['synNet.txt', '--start_index', start_index])\n",
    "#mr_job = MRSSSPInit(args=['synNet_100.txt', '--start_index', '10'])\n",
    "\n",
    "with mr_job.make_runner() as runner, open(work_filename, 'w') as f: \n",
    "    runner.run()\n",
    "    # stream_output: get access of the output \n",
    "    for line in runner.stream_output():\n",
    "        key, value =  mr_job.parse_output_line(line)\n",
    "        f.write(key+'\\t'+json.dumps(value)+'\\n')"
   ]
  },
  {
   "cell_type": "code",
   "execution_count": 6,
   "metadata": {
    "collapsed": false
   },
   "outputs": [
    {
     "name": "stdout",
     "output_type": "stream",
     "text": [
      "Iteration 0\n",
      "Iteration 1\n",
      "Iteration 2\n",
      "Iteration 3\n",
      "\n",
      "The shortest path from 7827 to 536 is: 7827->1426->1668->536\n"
     ]
    }
   ],
   "source": [
    "%reload_ext autoreload\n",
    "%autoreload 2\n",
    "from SSSP import MRSSSP\n",
    "import json\n",
    "\n",
    "# Set the name of the file that gets passed from iteration to iteration\n",
    "work_filename = 'work_table.txt'\n",
    "\n",
    "# Run the SSSP MRJob\n",
    "#stop_index = 'no_stop_index'\n",
    "stop_index = '536'\n",
    "mr_job = MRSSSP(args=[work_filename, '--stop_index', stop_index])\n",
    "    \n",
    "# Update work table file iteratively\n",
    "i = 0\n",
    "# Set start condition to True\n",
    "Stop = False\n",
    "while(Stop==False):\n",
    "    work_table = {}\n",
    "    # Print the iteration number\n",
    "    print('Iteration %d' % (i))\n",
    "    with mr_job.make_runner() as runner: \n",
    "        runner.run()\n",
    "        # stream_output: get access of the output \n",
    "        for line in runner.stream_output():\n",
    "            key,value =  mr_job.parse_output_line(line)\n",
    "            #print key, value\n",
    "            work_table[key] = value\n",
    "            if stop_index == 'no_stop_index':\n",
    "                Stop = True\n",
    "                if value[3] == 'Q':\n",
    "                    Stop = False \n",
    "            else:\n",
    "                if value[3] == 'V' and key == stop_index:\n",
    "                    Stop = True\n",
    "        \n",
    "        # Update work_table for the next iteration\n",
    "        with open(work_filename, 'w') as f:\n",
    "            for key, value in work_table.iteritems():\n",
    "                f.write(key+'\\t'+json.dumps(value)+'\\n')\n",
    "    i += 1\n",
    "\n",
    "# Print the final shortest path\n",
    "if stop_index != 'no_stop_index':\n",
    "    print\n",
    "    print('The shortest path from %s to %s is: %s' % (start_index, stop_index, work_table[stop_index][2]))"
   ]
  },
  {
   "cell_type": "code",
   "execution_count": 7,
   "metadata": {
    "collapsed": false
   },
   "outputs": [
    {
     "name": "stdout",
     "output_type": "stream",
     "text": [
      "3536\t[{\"1436\": 1, \"1437\": 1, \"769\": 1, \"1438\": 1, \"1865\": 1, \"1864\": 1, \"1870\": 1, \"1869\": 1, \"402\": 1}, Infinity, \"\", \"U\"]\r\n",
      "2536\t[{\"2622\": 1, \"2621\": 1, \"156\": 1, \"3399\": 1, \"4010\": 1, \"3947\": 1, \"2609\": 1, \"4058\": 1, \"5461\": 1, \"2533\": 1, \"137\": 1, \"5336\": 1, \"2947\": 1, \"226\": 1, \"617\": 1, \"268\": 1, \"1192\": 1, \"1150\": 1}, 4.0, \"7827->1426->1706->137->\", \"Q\"]\r\n",
      "1536\t[{\"2713\": 1, \"6581\": 1, \"2716\": 1, \"1543\": 1, \"2714\": 1, \"2715\": 1, \"1271\": 1, \"4010\": 1, \"2034\": 1, \"1933\": 1, \"3533\": 1, \"3532\": 1, \"156\": 1, \"2032\": 1, \"2031\": 1, \"1934\": 1, \"2533\": 1, \"1534\": 1, \"2033\": 1}, 4.0, \"7827->1426->3551->1271->\", \"Q\"]\r\n",
      "5536\t[{\"1704\": 1, \"3520\": 1, \"5957\": 1, \"2771\": 1, \"2195\": 1, \"5535\": 1, \"5961\": 1, \"5963\": 1, \"95\": 1, \"1699\": 1, \"5967\": 1}, 3.0, \"7827->1426->1699->5536\", \"V\"]\r\n",
      "536\t[{\"215\": 1, \"3648\": 1, \"662\": 1, \"3658\": 1, \"3656\": 1, \"3657\": 1, \"3651\": 1, \"3652\": 1, \"3653\": 1, \"3555\": 1, \"3554\": 1, \"6002\": 1, \"3552\": 1, \"6000\": 1, \"6001\": 1, \"404\": 1, \"2248\": 1, \"2249\": 1, \"4180\": 1, \"2246\": 1, \"2247\": 1, \"3993\": 1, \"3992\": 1, \"3760\": 1, \"3761\": 1, \"1313\": 1, \"3481\": 1, \"3769\": 1, \"3483\": 1, \"3482\": 1, \"3485\": 1, \"121\": 1, \"265\": 1, \"264\": 1, \"3647\": 1, \"1554\": 1, \"5593\": 1, \"5592\": 1, \"5594\": 1, \"5596\": 1, \"57\": 1, \"534\": 1, \"533\": 1, \"532\": 1, \"531\": 1, \"1668\": 1, \"2257\": 1, \"2256\": 1, \"2255\": 1, \"2254\": 1, \"2253\": 1, \"2252\": 1, \"2794\": 1, \"5912\": 1, \"3775\": 1, \"3774\": 1, \"4320\": 1, \"585\": 1, \"4651\": 1, \"4652\": 1, \"770\": 1, \"3471\": 1, \"3478\": 1, \"5281\": 1, \"448\": 1, \"3749\": 1, \"3742\": 1, \"3743\": 1, \"3740\": 1, \"3741\": 1, \"3310\": 1, \"6003\": 1, \"1647\": 1, \"3551\": 1, \"5911\": 1, \"4420\": 1, \"4421\": 1, \"641\": 1, \"2251\": 1, \"2250\": 1, \"2160\": 1, \"3593\": 1, \"4318\": 1, \"3595\": 1, \"3594\": 1, \"3751\": 1, \"3750\": 1, \"3599\": 1, \"3598\": 1, \"64\": 1, \"5208\": 1, \"69\": 1, \"657\": 1, \"653\": 1, \"659\": 1, \"631\": 1, \"3601\": 1, \"3600\": 1, \"4608\": 1, \"4609\": 1, \"3688\": 1, \"5364\": 1, \"722\": 1, \"6058\": 1, \"6057\": 1, \"6056\": 1, \"2439\": 1, \"1209\": 1, \"3739\": 1, \"1162\": 1, \"5211\": 1, \"1661\": 1, \"5210\": 1, \"3738\": 1, \"3737\": 1, \"1199\": 1, \"5354\": 1, \"5353\": 1, \"1811\": 1, \"5351\": 1, \"1195\": 1, \"3241\": 1, \"4316\": 1, \"4317\": 1, \"3621\": 1, \"4319\": 1, \"3622\": 1, \"616\": 1, \"73\": 1, \"5209\": 1, \"1810\": 1, \"4791\": 1, \"5352\": 1, \"6004\": 1, \"5366\": 1, \"1801\": 1, \"5365\": 1, \"1681\": 1, \"1685\": 1, \"1477\": 1, \"474\": 1, \"1688\": 1, \"3553\": 1}, 3.0, \"7827->1426->1668->536\", \"V\"]\r\n",
      "6536\t[{\"6537\": 1}, Infinity, \"\", \"U\"]\r\n",
      "4536\t[{\"1788\": 1, \"1496\": 1, \"2195\": 1, \"5433\": 1, \"4538\": 1, \"5434\": 1, \"4537\": 1, \"3975\": 1, \"3977\": 1, \"3976\": 1, \"5966\": 1, \"5967\": 1, \"5380\": 1, \"5381\": 1, \"5382\": 1, \"5383\": 1, \"3621\": 1, \"3622\": 1, \"265\": 1, \"6864\": 1, \"6865\": 1, \"5957\": 1, \"5959\": 1, \"5958\": 1, \"1664\": 1, \"4488\": 1, \"3981\": 1, \"2794\": 1}, 4.0, \"7827->1426->1668->265->\", \"Q\"]\r\n",
      "7536\t[{\"3354\": 1, \"5655\": 1}, Infinity, \"\", \"U\"]\r\n"
     ]
    }
   ],
   "source": [
    "!grep '536\t' work_table.txt"
   ]
  },
  {
   "cell_type": "code",
   "execution_count": 7,
   "metadata": {
    "collapsed": false
   },
   "outputs": [
    {
     "name": "stdout",
     "output_type": "stream",
     "text": [
      "3382\t[{\"4909\": 1, \"3383\": 1, \"3381\": 1}, Infinity, \"\", \"U\"]\r\n"
     ]
    }
   ],
   "source": [
    "# Store the results in a file called 'work_table7-2.txt'\n",
    "!mv work_table.txt work_table7-2.txt\n",
    "!head -1 work_table7-2.txt"
   ]
  },
  {
   "cell_type": "markdown",
   "metadata": {},
   "source": [
    "<h1 style=\"color:#021353;\">HW 7.3: Exploratory data analysis (Wikipedia)</h1>\n",
    "<div style=\"margin:10px;border-left:5px solid #eee;\">\n",
    "<pre style=\"font-family:sans-serif;background-color:transparent\">\n",
    "Using MRJob, explore the Wikipedia network data on the AWS cloud. Reuse your code from HW 7.1---does is scale well? \n",
    "\n",
    "Be cautioned that Wikipedia is a directed network, where links are not symmetric. \n",
    "So, even though a node may be linked to, it will not appear as a primary record itself if it has no out-links. \n",
    "\n",
    "This means that you may have to ADJUST your code (depending on its design). \n",
    "\n",
    "To be sure of your code's functionality in this context, run a systems test on the directed_toy.txt network.\n",
    "</pre>\n",
    "</div>"
   ]
  },
  {
   "cell_type": "markdown",
   "metadata": {},
   "source": [
    "### Get the Wikipedia data"
   ]
  },
  {
   "cell_type": "code",
   "execution_count": 22,
   "metadata": {
    "collapsed": false
   },
   "outputs": [],
   "source": [
    "#!cd /data\n",
    "#!wget http://ucb-mids-mls-networks.s3.amazonaws.com/wikipedia/all-pages-indexed-out.txt\n",
    "#!wget http://ucb-mids-mls-networks.s3.amazonaws.com/wikipedia/all-pages-indexed-in.txt\n",
    "#!wget http://ucb-mids-mls-networks.s3.amazonaws.com/wikipedia/indices.txt\n",
    "#!cd /home/hadoop/w261-Assignments/hw7"
   ]
  },
  {
   "cell_type": "markdown",
   "metadata": {},
   "source": [
    "### Load the Wikipedia data in to HDFS"
   ]
  },
  {
   "cell_type": "code",
   "execution_count": 42,
   "metadata": {
    "collapsed": false
   },
   "outputs": [
    {
     "name": "stdout",
     "output_type": "stream",
     "text": [
      "16/07/05 00:46:31 WARN util.NativeCodeLoader: Unable to load native-hadoop library for your platform... using builtin-java classes where applicable\n",
      "16/07/05 00:46:34 WARN util.NativeCodeLoader: Unable to load native-hadoop library for your platform... using builtin-java classes where applicable\n"
     ]
    }
   ],
   "source": [
    "#!hdfs dfs -mkdir /user/hadoop/HW7data\n",
    "#!hdfs dfs -mkdir /user/hadoop/HW7Results\n",
    "#!hdfs dfs -mkdir /user/hadoop/HW7Output\n",
    "#!hdfs dfs -copyFromLocal /data/indices.txt /user/hadoop/HW7data\n",
    "#!hdfs dfs -copyFromLocal /data/all-pages-indexed-in.txt /user/hadoop/HW7data\n",
    "#!hdfs dfs -copyFromLocal /data/all-pages-indexed-out.txt /user/hadoop/HW7data\n",
    "#!hdfs dfs -copyFromLocal synNet.txt /user/hadoop/HW7data"
   ]
  },
  {
   "cell_type": "code",
   "execution_count": 35,
   "metadata": {
    "collapsed": false
   },
   "outputs": [
    {
     "name": "stdout",
     "output_type": "stream",
     "text": [
      "Overwriting EDADirectedGraph.py\n"
     ]
    }
   ],
   "source": [
    "%%writefile EDADirectedGraph.py\n",
    "from mrjob.job import MRJob\n",
    "from mrjob.step import MRStep\n",
    "from collections import Counter\n",
    "import ast\n",
    "\n",
    "class MREDADirectedGraph(MRJob):\n",
    "    def __init__(self, *args, **kwargs):\n",
    "        super(MREDADirectedGraph, self).__init__(*args, **kwargs)\n",
    "        self.total_nodes = 0\n",
    "        self.total_edges = 0\n",
    "        \n",
    "    #load data and output the nearest centroid index and data point plus a count of 1. \n",
    "    def mapper(self, _, line):\n",
    "        node_num, adj_dict = line.strip().split('\\t')\n",
    "        adj_dict = ast.literal_eval(adj_dict)\n",
    "        yield '**' + node_num, 1\n",
    "        for node in adj_dict:\n",
    "            yield '**' + node, 1\n",
    "        degree = len(adj_dict)\n",
    "        yield str(degree), 1\n",
    "        self.total_edges += degree\n",
    "    \n",
    "    def mapper_final(self):\n",
    "        yield '*total_edges', self.total_edges\n",
    "    \n",
    "    def combiner(self, key, data):\n",
    "        yield key, sum(data)\n",
    "    \n",
    "    #Aggregate sum for each cluster and then calculate the new centroids\n",
    "    def reducer(self, key, data):\n",
    "        if key[:2] == '**':\n",
    "            self.total_nodes += 1\n",
    "        elif key == '*total_edges':\n",
    "            yield '*total_nodes', self.total_nodes\n",
    "            self.total_edges = float(sum(data))\n",
    "            yield key, self.total_edges\n",
    "        else:\n",
    "            yield key, sum(data)\n",
    "\n",
    "    def steps(self):\n",
    "        # Create the steps for the MRJob.  There is only one MRJob here containing\n",
    "        # a mapper, a combiner and a reducer.\n",
    "        JOBCONF_STEP = {        \n",
    "            'mapreduce.job.maps': '100',\n",
    "            'mapreduce.job.reduces': '1'\n",
    "        }\n",
    "        return [\n",
    "            MRStep(jobconf=JOBCONF_STEP,\n",
    "                   mapper=self.mapper, mapper_final=self.mapper_final,\n",
    "                   combiner=self.combiner,\n",
    "                   reducer=self.reducer)\n",
    "               ]\n",
    "            \n",
    "if __name__ == '__main__':\n",
    "    MREDADirectedGraph.run()"
   ]
  },
  {
   "cell_type": "code",
   "execution_count": 44,
   "metadata": {
    "collapsed": false
   },
   "outputs": [
    {
     "name": "stdout",
     "output_type": "stream",
     "text": [
      "16/07/05 00:52:15 WARN util.NativeCodeLoader: Unable to load native-hadoop library for your platform... using builtin-java classes where applicable\n",
      "rm: `/user/hadoop/HW7Output/EDADirectedGraph': No such file or directory\n"
     ]
    },
    {
     "name": "stderr",
     "output_type": "stream",
     "text": [
      "WARNING:mrjob.hadoop:  Unable to load native-hadoop library for your platform... using builtin-java classes where applicable\n",
      "ERROR:mrjob.fs.hadoop:STDERR: 16/07/05 00:54:23 WARN util.NativeCodeLoader: Unable to load native-hadoop library for your platform... using builtin-java classes where applicable\n",
      "\n"
     ]
    },
    {
     "name": "stdout",
     "output_type": "stream",
     "text": [
      "Total Nodes: 8271\n",
      "Total Edges Directed: 61134.00\n",
      "Total Edges Undirected: 30567.00\n",
      "Average Degree: 7.39\n",
      "83\n",
      "{68: 3, 1: 1421, 2: 1127, 131: 1, 4: 783, 5: 637, 6: 488, 7: 429, 8: 309, 9: 296, 10: 254, 11: 200, 12: 158, 13: 135, 14: 111, 143: 2, 16: 104, 17: 70, 18: 70, 19: 62, 20: 39, 21: 51, 22: 34, 23: 40, 24: 42, 25: 26, 26: 31, 27: 26, 28: 17, 29: 21, 30: 20, 31: 14, 32: 21, 33: 14, 34: 11, 35: 10, 164: 1, 37: 13, 38: 13, 39: 7, 40: 6, 41: 8, 42: 8, 43: 10, 44: 7, 45: 4, 46: 8, 47: 2, 48: 5, 49: 4, 50: 5, 51: 7, 52: 3, 53: 6, 54: 2, 55: 4, 56: 5, 57: 3, 58: 2, 59: 3, 60: 2, 61: 2, 62: 3, 63: 1, 64: 1, 65: 2, 66: 2, 196: 1, 71: 1, 76: 2, 78: 2, 83: 1, 87: 1, 88: 1, 36: 15, 90: 1, 15: 108, 93: 1, 95: 1, 3: 906, 110: 2, 117: 1, 127: 1}\n"
     ]
    }
   ],
   "source": [
    "%reload_ext autoreload\n",
    "%autoreload 2\n",
    "from EDADirectedGraph import MREDADirectedGraph\n",
    "\n",
    "# Run the KMeans MRJob\n",
    "#mr_job = MREDADirectedGraph(args=['synNet_100.txt'])\n",
    "#mr_job = MREDADirectedGraph(args=['synNet.txt'])\n",
    "#mr_job = MREDADirectedGraph(args=['synNet.txt', '-r', 'hadoop'])\n",
    "ofile ='HW7Output/EDADirectedGraph'\n",
    "!hdfs dfs -rm -r /user/hadoop/$ofile\n",
    "mr_job = MREDADirectedGraph(args=['hdfs:///user/hadoop/HW7data/synNet.txt', '-r', 'hadoop', '--output-dir', ofile])\n",
    "#mr_job = MREDADirectedGraph(args=['hdfs:///user/hadoop/HW7data/all-pages-indexed-out.txt', '-r', 'hadoop'])\n",
    "\n",
    "degree_dist = {}\n",
    "total_unique_nodes = 0\n",
    "total_edges = 0\n",
    "with mr_job.make_runner() as runner: \n",
    "    runner.run()\n",
    "    # stream_output: get access of the output \n",
    "    for line in runner.stream_output():\n",
    "        key, value =  mr_job.parse_output_line(line)\n",
    "        #print key, value\n",
    "        if key == '*total_nodes':\n",
    "            total_unique_nodes += value\n",
    "        elif key == '*total_edges':\n",
    "            total_edges += value\n",
    "        else:\n",
    "            degree_dist[int(key)] = value\n",
    "\n",
    "print('Total Nodes: %d' % (total_unique_nodes))\n",
    "print('Total Edges Directed: %.2f' % (total_edges))\n",
    "print('Total Edges Undirected: %.2f' % (total_edges/2.0))\n",
    "print('Average Degree: %.2f' % (total_edges/total_unique_nodes))\n",
    "print len(degree_dist)\n",
    "print degree_dist"
   ]
  },
  {
   "cell_type": "code",
   "execution_count": 53,
   "metadata": {
    "collapsed": false,
    "scrolled": true
   },
   "outputs": [
    {
     "name": "stdout",
     "output_type": "stream",
     "text": [
      "16/07/05 01:55:15 WARN util.NativeCodeLoader: Unable to load native-hadoop library for your platform... using builtin-java classes where applicable\n",
      "16/07/05 01:55:16 WARN hdfs.DFSClient: DFSInputStream has been closed already\n"
     ]
    }
   ],
   "source": [
    "#!hdfs dfs -cat $ofile/part-00000 | head -20\n",
    "#!hdfs dfs -cp $ofile/part-00000 /user/hadoop/HW7Results/synNet_EDA.txt\n",
    "#!hdfs dfs -cat /user/hadoop/HW7Results/synNet_EDA.txt | head -20\n",
    "#!hdfs dfs -copyToLocal $ofile/part-00000 wikipedia_EDA.txt\n",
    "#!hdfs dfs -copyToLocal /user/hadoop/HW7Results/synNet_EDA.txt synNet_EDA.txt"
   ]
  },
  {
   "cell_type": "code",
   "execution_count": 59,
   "metadata": {
    "collapsed": false
   },
   "outputs": [
    {
     "name": "stdout",
     "output_type": "stream",
     "text": [
      "Total Nodes: 15192277\n",
      "Total Edges Directed: 142114057.00\n",
      "Total Edges Undirected: 71057028.50\n",
      "Average Degree: 9.35\n",
      "2062\n",
      "{1: 869993, 2: 123110, 3: 160376, 4: 174474, 5: 191640, 6: 193050, 7: 201193, 8: 232863, 9: 215577, 10: 193438, 11: 186724, 12: 178481, 13: 211048, 14: 145958, 15: 134809, 16: 122792, 17: 113188, 18: 104479, 19: 97760, 20: 91767, 21: 86038, 22: 80052, 23: 75382, 24: 70876, 25: 66873, 26: 62577, 27: 58612, 28: 54757, 29: 51875, 30: 49193, 31: 46219, 32: 44474, 33: 41568, 34: 39023, 35: 36503, 36: 33887, 37: 32495, 38: 30612, 39: 29248, 40: 27655, 41: 26173, 42: 25111, 43: 24037, 44: 22626, 45: 21350, 46: 20572, 47: 19603, 48: 18922, 49: 17985, 50: 17257, 51: 16724, 52: 15714, 53: 15089, 54: 14613, 55: 14010, 56: 13623, 57: 12718, 58: 12652, 59: 12156, 60: 11525, 61: 11151, 62: 10746, 63: 10431, 64: 10249, 65: 9784, 66: 9277, 67: 9066, 68: 8760, 69: 8368, 70: 8048, 71: 7760, 72: 7517, 73: 7350, 74: 7043, 75: 6866, 76: 6727, 77: 6510, 78: 6257, 79: 6204, 80: 5978, 81: 5847, 82: 5611, 83: 5455, 84: 5195, 85: 5135, 86: 4866, 87: 4856, 88: 4708, 89: 4635, 90: 4576, 91: 4462, 92: 4346, 93: 4125, 94: 4024, 95: 3883, 96: 3939, 97: 3737, 98: 3756, 99: 3600, 100: 3657, 101: 3550, 102: 3331, 103: 3238, 104: 3205, 105: 3069, 106: 2984, 107: 2907, 108: 2911, 109: 2765, 110: 2900, 111: 2769, 112: 2699, 113: 2549, 114: 2538, 115: 2564, 116: 2438, 117: 2328, 118: 2385, 119: 2210, 120: 2197, 121: 2143, 122: 2139, 123: 2110, 124: 2131, 125: 2011, 126: 2031, 127: 1986, 128: 2023, 129: 1972, 130: 1987, 131: 1927, 132: 1825, 133: 1715, 134: 1725, 135: 1675, 136: 1703, 137: 1556, 138: 1669, 139: 1513, 140: 1483, 141: 1494, 142: 1378, 143: 1464, 144: 1336, 145: 1322, 146: 1371, 147: 1306, 148: 1337, 149: 1294, 150: 1228, 151: 1271, 152: 1203, 153: 1248, 154: 1174, 155: 1176, 156: 1082, 157: 1128, 158: 1056, 159: 1129, 160: 1051, 161: 1045, 162: 1051, 163: 1034, 164: 1022, 165: 961, 166: 947, 167: 964, 168: 934, 169: 903, 170: 911, 171: 889, 172: 926, 173: 875, 174: 841, 175: 785, 176: 835, 177: 827, 178: 759, 179: 843, 180: 814, 181: 853, 182: 761, 183: 767, 184: 782, 185: 731, 186: 695, 187: 719, 188: 679, 189: 708, 190: 705, 191: 653, 192: 680, 193: 690, 194: 676, 195: 665, 196: 611, 197: 608, 198: 638, 199: 598, 200: 620, 201: 617, 202: 603, 203: 597, 204: 571, 205: 553, 206: 581, 207: 534, 208: 564, 209: 542, 210: 493, 211: 543, 212: 533, 213: 565, 214: 509, 215: 494, 216: 512, 217: 515, 218: 502, 219: 477, 220: 473, 221: 473, 222: 478, 223: 487, 224: 451, 225: 418, 226: 448, 227: 404, 228: 423, 229: 425, 230: 438, 231: 447, 232: 414, 233: 425, 234: 435, 235: 372, 236: 365, 237: 399, 238: 397, 239: 388, 240: 396, 241: 358, 242: 352, 243: 364, 244: 396, 245: 414, 246: 390, 247: 332, 248: 345, 249: 347, 250: 340, 251: 328, 252: 301, 253: 329, 254: 324, 255: 334, 256: 305, 257: 317, 258: 299, 259: 319, 260: 291, 261: 299, 262: 310, 263: 285, 264: 337, 265: 272, 266: 280, 267: 262, 268: 302, 269: 250, 270: 276, 271: 266, 272: 294, 273: 260, 274: 266, 275: 282, 276: 224, 277: 257, 278: 227, 279: 249, 280: 222, 281: 223, 282: 246, 283: 230, 284: 255, 285: 238, 286: 234, 287: 222, 288: 251, 289: 235, 290: 222, 291: 239, 292: 212, 293: 235, 294: 204, 295: 215, 296: 209, 297: 216, 298: 222, 299: 207, 300: 211, 301: 230, 302: 191, 303: 204, 304: 206, 305: 206, 306: 190, 307: 178, 308: 179, 309: 175, 310: 173, 311: 168, 312: 180, 313: 153, 314: 177, 315: 162, 316: 162, 317: 170, 318: 166, 319: 152, 320: 152, 321: 146, 322: 164, 323: 145, 324: 149, 325: 143, 326: 164, 327: 158, 328: 161, 329: 169, 330: 154, 331: 158, 332: 154, 333: 148, 334: 149, 335: 144, 336: 158, 337: 146, 338: 126, 339: 152, 340: 127, 341: 130, 342: 108, 343: 129, 344: 109, 345: 112, 346: 131, 347: 145, 348: 141, 349: 99, 350: 130, 351: 130, 352: 112, 353: 115, 354: 132, 355: 132, 356: 122, 357: 114, 358: 117, 359: 110, 360: 128, 361: 113, 362: 121, 363: 103, 364: 121, 365: 107, 366: 115, 367: 107, 368: 98, 369: 121, 370: 121, 371: 109, 372: 113, 373: 102, 374: 101, 375: 94, 376: 83, 377: 91, 378: 111, 379: 89, 380: 88, 381: 80, 382: 103, 383: 90, 384: 87, 385: 90, 386: 92, 387: 83, 388: 89, 389: 75, 390: 81, 391: 66, 392: 94, 393: 69, 394: 91, 395: 77, 396: 90, 397: 73, 398: 85, 399: 84, 400: 75, 401: 73, 402: 85, 403: 84, 404: 67, 405: 73, 406: 80, 407: 69, 408: 66, 409: 84, 410: 78, 411: 68, 412: 69, 413: 73, 414: 72, 415: 72, 416: 65, 417: 74, 418: 80, 419: 62, 420: 59, 421: 61, 422: 64, 423: 49, 424: 70, 425: 70, 426: 47, 427: 66, 428: 53, 429: 62, 430: 49, 431: 62, 432: 65, 433: 55, 434: 50, 435: 44, 436: 58, 437: 60, 438: 72, 439: 46, 440: 51, 441: 49, 442: 55, 443: 64, 444: 53, 445: 68, 446: 50, 447: 53, 448: 52, 449: 61, 450: 60, 451: 48, 452: 45, 453: 59, 454: 46, 455: 49, 456: 60, 457: 50, 458: 59, 459: 41, 460: 46, 461: 52, 462: 57, 463: 57, 464: 53, 465: 56, 466: 40, 467: 49, 468: 66, 469: 59, 470: 45, 471: 49, 472: 49, 473: 42, 474: 37, 475: 37, 476: 37, 477: 44, 478: 53, 479: 42, 480: 50, 481: 40, 482: 52, 483: 61, 484: 49, 485: 47, 486: 49, 487: 45, 488: 33, 489: 41, 490: 28, 491: 38, 492: 30, 493: 37, 494: 36, 495: 35, 496: 49, 497: 41, 498: 46, 499: 44, 500: 37, 501: 41, 502: 28, 503: 26, 504: 43, 505: 37, 506: 41, 507: 33, 508: 40, 509: 33, 510: 38, 511: 41, 512: 31, 513: 24, 514: 42, 515: 35, 516: 29, 517: 37, 518: 34, 519: 30, 520: 47, 521: 47, 522: 31, 523: 39, 524: 26, 525: 33, 526: 38, 527: 38, 528: 35, 529: 36, 530: 27, 531: 24, 532: 26, 533: 31, 534: 32, 535: 47, 536: 27, 537: 35, 538: 24, 539: 33, 540: 32, 541: 26, 542: 31, 543: 26, 544: 31, 545: 26, 546: 33, 547: 23, 548: 23, 549: 24, 550: 32, 551: 28, 552: 31, 553: 28, 554: 34, 555: 33, 556: 28, 557: 30, 558: 26, 559: 36, 560: 23, 561: 26, 562: 34, 563: 24, 564: 27, 565: 23, 566: 31, 567: 19, 568: 22, 569: 28, 570: 19, 571: 19, 572: 18, 573: 26, 574: 31, 575: 26, 576: 25, 577: 25, 578: 25, 579: 21, 580: 32, 581: 30, 582: 19, 583: 24, 584: 22, 585: 28, 586: 23, 587: 16, 588: 27, 589: 22, 590: 24, 591: 21, 592: 18, 593: 29, 594: 21, 595: 24, 596: 20, 597: 23, 598: 22, 599: 24, 600: 17, 601: 29, 602: 21, 603: 17, 604: 24, 605: 16, 606: 25, 607: 15, 608: 15, 609: 24, 610: 20, 611: 13, 612: 25, 613: 24, 614: 16, 615: 21, 616: 20, 617: 19, 618: 24, 619: 21, 620: 24, 621: 17, 622: 23, 623: 20, 624: 17, 625: 27, 626: 21, 627: 13, 628: 16, 629: 15, 630: 23, 631: 21, 632: 21, 633: 21, 634: 23, 635: 20, 636: 14, 637: 21, 638: 20, 639: 19, 640: 13, 641: 17, 642: 23, 643: 20, 644: 20, 645: 16, 646: 21, 647: 25, 648: 15, 649: 17, 650: 17, 651: 13, 652: 18, 653: 17, 654: 14, 655: 18, 656: 17, 657: 9, 658: 13, 659: 18, 660: 16, 661: 14, 662: 23, 663: 22, 664: 16, 665: 11, 666: 16, 667: 14, 668: 16, 669: 13, 670: 17, 671: 18, 672: 18, 673: 26, 674: 16, 675: 14, 676: 17, 677: 18, 678: 17, 679: 11, 680: 17, 681: 19, 682: 20, 683: 16, 684: 15, 685: 18, 686: 17, 687: 20, 688: 13, 689: 12, 690: 23, 691: 14, 692: 19, 693: 14, 694: 18, 695: 11, 696: 26, 697: 8, 698: 15, 699: 14, 700: 16, 701: 24, 702: 10, 703: 16, 704: 14, 705: 17, 706: 12, 707: 20, 708: 15, 709: 14, 710: 16, 711: 17, 712: 8, 713: 16, 714: 19, 715: 13, 716: 15, 717: 15, 718: 17, 719: 15, 720: 10, 721: 17, 722: 20, 723: 14, 724: 18, 725: 21, 726: 14, 727: 12, 728: 15, 729: 14, 730: 11, 731: 17, 732: 15, 733: 10, 734: 17, 735: 17, 736: 17, 737: 15, 738: 14, 739: 15, 740: 15, 741: 13, 742: 17, 743: 10, 744: 16, 745: 18, 746: 12, 747: 12, 748: 6, 749: 16, 750: 14, 751: 10, 752: 14, 753: 8, 754: 11, 755: 20, 756: 19, 757: 16, 758: 13, 759: 20, 760: 10, 761: 13, 762: 19, 763: 8, 764: 4, 765: 8, 766: 10, 767: 7, 768: 7, 769: 10, 770: 13, 771: 8, 772: 19, 773: 14, 774: 13, 775: 9, 776: 11, 777: 9, 778: 11, 779: 17, 780: 9, 781: 10, 782: 17, 783: 10, 784: 13, 785: 10, 786: 8, 787: 13, 788: 7, 789: 9, 790: 9, 791: 8, 792: 11, 793: 8, 794: 11, 795: 8, 796: 6, 797: 6, 798: 7, 799: 7, 800: 11, 801: 13, 802: 9, 803: 5, 804: 13, 805: 14, 806: 5, 807: 8, 808: 12, 809: 12, 810: 8, 811: 12, 812: 11, 813: 9, 814: 8, 815: 6, 816: 10, 817: 7, 818: 7, 819: 14, 820: 8, 821: 12, 822: 7, 823: 15, 824: 9, 825: 9, 826: 10, 827: 7, 828: 7, 829: 11, 830: 5, 831: 12, 832: 6, 833: 3, 834: 4, 835: 8, 836: 5, 837: 10, 838: 7, 839: 9, 840: 5, 841: 11, 842: 10, 843: 8, 844: 9, 845: 11, 846: 7, 847: 10, 848: 3, 849: 9, 850: 6, 851: 12, 852: 4, 853: 12, 854: 9, 855: 4, 856: 7, 857: 9, 858: 5, 859: 9, 860: 7, 861: 6, 862: 2, 863: 10, 864: 9, 865: 6, 866: 6, 867: 8, 868: 10, 869: 10, 870: 8, 871: 9, 872: 4, 873: 5, 874: 6, 875: 8, 876: 8, 877: 8, 878: 8, 879: 10, 880: 5, 881: 4, 882: 5, 883: 5, 884: 1, 885: 9, 886: 7, 887: 6, 888: 6, 889: 7, 890: 12, 891: 7, 892: 8, 893: 8, 894: 5, 895: 7, 896: 5, 897: 7, 898: 12, 899: 4, 900: 6, 901: 3, 902: 6, 903: 5, 904: 8, 905: 6, 906: 7, 907: 9, 908: 9, 909: 5, 910: 4, 911: 8, 912: 10, 913: 5, 914: 5, 915: 9, 916: 7, 917: 6, 918: 6, 919: 4, 920: 11, 921: 8, 922: 5, 923: 9, 925: 4, 926: 10, 927: 6, 928: 3, 929: 9, 930: 7, 931: 9, 932: 7, 933: 5, 934: 4, 935: 8, 936: 5, 937: 7, 938: 4, 939: 5, 940: 8, 941: 9, 942: 4, 943: 5, 944: 6, 945: 7, 946: 3, 947: 6, 948: 4, 949: 7, 950: 4, 951: 7, 952: 5, 953: 5, 954: 2, 955: 3, 956: 6, 957: 7, 958: 4, 959: 6, 960: 7, 961: 4, 962: 7, 963: 5, 964: 1, 965: 7, 966: 5, 967: 6, 968: 6, 969: 4, 970: 6, 971: 6, 972: 2, 973: 3, 974: 6, 975: 8, 976: 7, 977: 8, 978: 4, 979: 8, 980: 2, 981: 4, 982: 1, 983: 3, 984: 5, 985: 7, 986: 6, 987: 7, 988: 6, 989: 3, 990: 4, 991: 4, 992: 4, 993: 4, 994: 4, 995: 6, 996: 4, 997: 1, 998: 5, 999: 3, 1000: 7, 1001: 7, 1002: 8, 1003: 5, 1004: 4, 1005: 7, 1006: 5, 1007: 3, 1008: 3, 1009: 4, 1010: 5, 1011: 5, 1012: 3, 1013: 3, 1014: 4, 1015: 5, 1016: 6, 1017: 5, 1018: 2, 1019: 7, 1020: 2, 1021: 5, 1022: 10, 1023: 5, 1024: 5, 1025: 1, 1026: 6, 1027: 3, 1028: 4, 1029: 7, 1030: 2, 1031: 12, 1032: 5, 1033: 4, 1034: 4, 1035: 3, 1036: 5, 1037: 4, 1038: 2, 1039: 4, 1040: 7, 1041: 3, 1042: 5, 1043: 4, 1044: 1, 1045: 2, 1047: 1, 1048: 4, 1049: 5, 1050: 3, 1051: 2, 1052: 6, 1053: 6, 1054: 3, 1055: 4, 1056: 1, 1057: 4, 1058: 3, 1059: 2, 1060: 2, 1061: 8, 1062: 1, 1063: 3, 1064: 2, 1065: 4, 1066: 4, 1067: 4, 1068: 7, 1069: 6, 1070: 4, 1071: 4, 1072: 2, 1073: 3, 1074: 3, 1075: 4, 1076: 5, 1077: 5, 1078: 5, 1079: 6, 1080: 3, 1081: 7, 1082: 3, 1083: 3, 1084: 7, 1085: 4, 1086: 5, 1087: 4, 1088: 5, 1089: 6, 1090: 1, 1091: 1, 1092: 2, 1093: 3, 1094: 2, 1095: 3, 1096: 4, 1097: 2, 1098: 4, 1099: 5, 1100: 7, 1101: 8, 1102: 4, 1103: 5, 1104: 2, 1105: 1, 1106: 3, 1107: 3, 1108: 3, 1109: 5, 1110: 5, 1111: 2, 1112: 2, 1113: 4, 1114: 3, 1115: 6, 1116: 3, 1117: 2, 1118: 3, 1119: 3, 1120: 6, 1121: 1, 1122: 4, 1123: 4, 1124: 3, 1125: 3, 1126: 5, 1127: 4, 1128: 2, 1129: 1, 1130: 3, 1131: 4, 1132: 7, 1133: 3, 1134: 3, 1135: 3, 1136: 4, 1137: 2, 1138: 8, 1139: 6, 1140: 5, 1141: 3, 1142: 4, 1143: 4, 1144: 3, 1145: 2, 1146: 4, 1147: 2, 1148: 2, 1149: 6, 1150: 3, 1151: 4, 1152: 3, 1154: 4, 1155: 7, 1157: 7, 1158: 2, 1159: 5, 1160: 3, 1161: 2, 1162: 5, 1164: 2, 1165: 4, 1166: 3, 1167: 3, 1169: 3, 1170: 3, 1171: 2, 1172: 2, 1173: 4, 1174: 2, 1175: 5, 1176: 4, 1177: 2, 1179: 2, 1180: 3, 1181: 3, 1182: 2, 1183: 5, 1184: 3, 1185: 2, 1186: 5, 1187: 3, 1188: 3, 1190: 2, 1191: 3, 1192: 1, 1193: 2, 1195: 3, 1196: 2, 1198: 3, 1199: 2, 1200: 2, 1201: 5, 1202: 2, 1203: 6, 1204: 1, 1205: 5, 1206: 4, 1207: 2, 1208: 2, 1209: 4, 1210: 3, 1211: 2, 1212: 1, 1213: 2, 1214: 4, 1215: 4, 1216: 2, 1217: 2, 1218: 3, 1219: 1, 1220: 3, 1221: 5, 1222: 1, 1223: 3, 1224: 8, 1225: 7, 1226: 4, 1227: 3, 1228: 1, 1229: 1, 1230: 3, 1231: 3, 1232: 2, 1233: 2, 1234: 2, 1235: 3, 1236: 2, 1237: 1, 1238: 4, 1240: 1, 1241: 4, 1242: 4, 1243: 2, 1245: 4, 1246: 6, 1247: 2, 1248: 3, 1249: 1, 1250: 5, 1251: 2, 1252: 4, 1253: 4, 1255: 3, 1257: 5, 1259: 3, 1260: 4, 1261: 5, 1262: 2, 1263: 2, 1264: 2, 1265: 3, 1266: 2, 1267: 3, 1268: 5, 1269: 4, 1270: 3, 1271: 4, 1272: 2, 1273: 1, 1274: 1, 1275: 4, 1276: 5, 1277: 3, 1278: 3, 1280: 4, 1281: 4, 1282: 1, 1283: 3, 1285: 2, 1286: 4, 1287: 3, 1289: 4, 1290: 1, 1291: 3, 1293: 1, 1294: 3, 1295: 4, 1298: 2, 1299: 2, 1300: 3, 1301: 1, 1302: 1, 1303: 3, 1304: 1, 1305: 1, 1306: 1, 1307: 1, 1308: 2, 1309: 1, 1310: 3, 1311: 1, 1313: 3, 1315: 3, 1317: 2, 1318: 5, 1319: 2, 1320: 4, 1321: 3, 1322: 2, 1323: 4, 1324: 4, 1325: 5, 1326: 3, 1327: 1, 1328: 3, 1329: 1, 1330: 4, 1331: 3, 1332: 3, 1333: 1, 1334: 2, 1335: 3, 1336: 2, 1337: 2, 1338: 4, 1339: 1, 1340: 3, 1341: 3, 1342: 1, 1343: 2, 1344: 6, 1345: 2, 1346: 3, 1347: 1, 1348: 1, 1349: 1, 1350: 2, 1351: 4, 1353: 1, 1354: 3, 1355: 1, 1356: 1, 1357: 2, 1359: 1, 1361: 1, 1362: 3, 1363: 2, 1364: 2, 1365: 3, 1366: 1, 1367: 5, 1369: 1, 1370: 2, 1371: 2, 1372: 2, 1375: 3, 1376: 2, 1377: 3, 1379: 1, 1380: 2, 1381: 3, 1382: 1, 1383: 2, 1384: 2, 1385: 2, 1386: 3, 1388: 2, 1391: 1, 1392: 1, 1393: 3, 1394: 2, 1396: 2, 1397: 1, 1398: 1, 1399: 3, 1400: 1, 1401: 3, 1402: 3, 1406: 3, 1407: 2, 1408: 1, 1409: 3, 1410: 2, 1412: 2, 1413: 3, 1415: 2, 1416: 3, 1418: 3, 1419: 3, 1421: 2, 1422: 4, 1423: 1, 1426: 2, 1427: 1, 1430: 2, 1432: 1, 1433: 1, 1434: 1, 1435: 2, 1436: 1, 1437: 1, 1439: 2, 1441: 1, 1442: 1, 1443: 2, 1445: 1, 1446: 2, 1447: 2, 1449: 1, 1450: 3, 1452: 1, 1453: 1, 1454: 1, 1455: 2, 1456: 1, 1457: 3, 1458: 2, 1459: 2, 1460: 4, 1461: 1, 1462: 1, 1464: 1, 1466: 1, 1467: 3, 1469: 2, 1470: 2, 1471: 2, 1472: 2, 1473: 3, 1474: 2, 1475: 2, 1478: 3, 1479: 1, 1480: 1, 1482: 1, 1486: 2, 1487: 2, 1488: 3, 1492: 2, 1493: 4, 1494: 1, 1495: 2, 1496: 2, 1497: 4, 1498: 1, 1499: 2, 1501: 3, 1502: 3, 1503: 3, 1504: 1, 1505: 1, 1507: 2, 1509: 1, 1510: 4, 1513: 2, 1515: 4, 1518: 1, 1519: 1, 1520: 1, 1521: 1, 1522: 1, 1523: 1, 1524: 2, 1525: 3, 1526: 3, 1527: 2, 1528: 1, 1529: 2, 1530: 3, 1531: 1, 1532: 3, 1533: 1, 1534: 2, 1535: 2, 1537: 1, 1539: 1, 1541: 4, 1542: 2, 1543: 1, 1544: 1, 1546: 1, 1547: 3, 1548: 1, 1549: 1, 1551: 2, 1552: 1, 1553: 2, 1554: 3, 1555: 4, 1559: 4, 1560: 1, 1561: 1, 1563: 1, 1564: 1, 1566: 3, 1567: 1, 1569: 1, 1571: 2, 1572: 2, 1573: 1, 1574: 4, 1576: 1, 1577: 1, 1580: 2, 1581: 2, 1582: 2, 1584: 1, 1585: 1, 1586: 2, 1588: 3, 1589: 1, 1592: 2, 1593: 2, 1594: 1, 1595: 2, 1596: 1, 1597: 1, 1598: 1, 1599: 1, 1600: 1, 1601: 2, 1602: 1, 1603: 1, 1605: 1, 1607: 2, 1608: 2, 1609: 2, 1610: 1, 1612: 1, 1613: 1, 1614: 2, 1615: 3, 1616: 2, 1617: 1, 1618: 4, 1619: 2, 1620: 1, 1621: 1, 1624: 1, 1625: 2, 1627: 1, 1628: 2, 1629: 4, 1630: 1, 1632: 1, 1633: 1, 1634: 2, 1635: 1, 1636: 1, 1637: 1, 1639: 1, 1640: 2, 1641: 3, 1642: 5, 1643: 1, 1644: 3, 1645: 1, 1647: 1, 1649: 1, 1651: 1, 1653: 1, 1655: 2, 1656: 1, 1657: 3, 1658: 1, 1660: 1, 1662: 1, 1663: 2, 1665: 2, 1666: 1, 1667: 2, 1670: 1, 1671: 1, 1673: 2, 1675: 2, 1676: 1, 1677: 2, 1678: 3, 1680: 1, 1682: 2, 1684: 1, 1685: 2, 1687: 1, 1688: 2, 1692: 2, 1693: 1, 1696: 1, 1697: 2, 1698: 2, 1699: 1, 1700: 1, 1701: 1, 1704: 1, 1705: 1, 1706: 1, 1707: 3, 1708: 1, 1709: 1, 1711: 2, 1713: 3, 1715: 2, 1718: 1, 1721: 2, 1722: 1, 1724: 1, 1727: 1, 1728: 1, 1729: 1, 1730: 1, 1736: 2, 1737: 1, 1741: 2, 1744: 1, 1745: 2, 1746: 1, 1747: 2, 1748: 1, 1749: 1, 1750: 1, 1751: 1, 1752: 2, 1753: 2, 1756: 1, 1758: 3, 1759: 1, 1760: 1, 1761: 1, 1763: 2, 1764: 1, 1765: 1, 1766: 1, 1767: 2, 1768: 1, 1771: 1, 1773: 1, 1778: 1, 1780: 2, 1782: 2, 1785: 1, 1787: 1, 1794: 2, 1796: 2, 1798: 3, 1800: 1, 1801: 1, 1809: 2, 1811: 1, 1812: 3, 1813: 1, 1814: 1, 1815: 1, 1816: 1, 1817: 1, 1818: 1, 1823: 2, 1825: 1, 1827: 1, 1828: 2, 1829: 1, 1830: 1, 1831: 1, 1832: 1, 1833: 1, 1835: 1, 1838: 1, 1839: 1, 1841: 3, 1843: 1, 1844: 2, 1845: 1, 1846: 1, 1847: 1, 1853: 2, 1854: 1, 1856: 2, 1857: 1, 1858: 1, 1860: 2, 1861: 1, 1863: 1, 1864: 1, 1868: 1, 1869: 1, 1873: 1, 1874: 1, 1878: 1, 1879: 2, 1880: 1, 1881: 1, 1890: 1, 1891: 1, 1892: 1, 1895: 2, 1897: 1, 1898: 1, 1900: 1, 1904: 1, 1906: 2, 1908: 2, 1909: 2, 1912: 1, 1916: 1, 1917: 2, 1918: 1, 1919: 2, 1920: 1, 1926: 1, 1928: 2, 1929: 1, 1930: 1, 1931: 1, 1932: 1, 1933: 1, 1936: 1, 1937: 1, 1939: 2, 1941: 1, 1949: 2, 1951: 1, 1953: 1, 1957: 2, 1960: 1, 1963: 1, 1966: 1, 1967: 2, 1973: 1, 1974: 1, 1975: 1, 1977: 2, 1978: 1, 1979: 2, 1981: 1, 1982: 1, 1983: 1, 1986: 2, 1987: 1, 1988: 1, 1990: 2, 1994: 1, 1995: 1, 1996: 2, 1997: 3, 2000: 1, 2004: 3, 2007: 1, 2008: 1, 2011: 1, 2014: 1, 2018: 1, 2019: 1, 2020: 3, 2023: 1, 2024: 1, 2028: 2, 2029: 1, 2030: 3, 2033: 1, 2041: 1, 2042: 1, 2044: 1, 2046: 1, 2053: 1, 2054: 1, 2059: 1, 2061: 2, 2063: 1, 2067: 2, 2070: 1, 2072: 1, 2076: 1, 2079: 3, 2081: 1, 2082: 1, 2083: 2, 2086: 1, 2087: 1, 2089: 1, 2091: 1, 2098: 1, 2100: 1, 2103: 1, 2107: 1, 2108: 2, 2114: 1, 2116: 1, 2118: 2, 2126: 1, 2127: 1, 2131: 1, 2132: 1, 2136: 2, 2139: 1, 2140: 2, 2148: 1, 2149: 1, 2151: 1, 2153: 1, 2155: 1, 2156: 1, 2158: 1, 2162: 1, 2165: 1, 2167: 1, 2173: 1, 2174: 1, 2179: 1, 2180: 1, 2183: 2, 2187: 1, 2191: 1, 2193: 1, 2197: 1, 2201: 1, 2206: 1, 2209: 1, 2213: 1, 2214: 2, 2215: 1, 2217: 1, 2219: 1, 2221: 1, 2225: 1, 2228: 2, 2233: 1, 2235: 1, 2241: 1, 2244: 1, 2246: 1, 2249: 1, 2252: 1, 2255: 2, 2257: 2, 2259: 1, 2260: 1, 2262: 1, 2264: 1, 2267: 1, 2269: 1, 2273: 1, 2285: 2, 2286: 1, 2287: 1, 2292: 1, 2305: 1, 2313: 1, 2314: 1, 2316: 1, 2317: 1, 2328: 1, 2330: 1, 2333: 2, 2338: 1, 2340: 1, 2346: 1, 2356: 1, 2363: 1, 2370: 1, 2372: 1, 2373: 1, 2374: 1, 2376: 1, 2383: 1, 2384: 1, 2390: 1, 2395: 1, 2397: 1, 2398: 1, 2400: 1, 2406: 1, 2407: 1, 2411: 1, 2427: 1, 2430: 1, 2437: 1, 2441: 1, 2444: 1, 2448: 1, 2452: 1, 2456: 1, 2458: 1, 2463: 1, 2464: 1, 2471: 1, 2475: 1, 2476: 1, 2478: 1, 2479: 1, 2494: 1, 2495: 1, 2500: 1, 2501: 1, 2505: 1, 2512: 1, 2528: 1, 2530: 1, 2536: 1, 2544: 1, 2548: 1, 2549: 1, 2552: 1, 2553: 1, 2562: 1, 2571: 1, 2572: 1, 2574: 1, 2584: 1, 2587: 1, 2590: 1, 2595: 1, 2597: 1, 2603: 1, 2604: 1, 2605: 1, 2607: 1, 2617: 1, 2629: 1, 2637: 1, 2639: 1, 2645: 2, 2653: 1, 2665: 1, 2679: 1, 2681: 1, 2688: 1, 2693: 2, 2694: 1, 2699: 1, 2700: 1, 2707: 1, 2711: 2, 2717: 1, 2725: 1, 2728: 1, 2732: 1, 2739: 1, 2746: 1, 2755: 1, 2762: 1, 2776: 1, 2784: 1, 2788: 1, 2790: 1, 2798: 1, 2804: 1, 2805: 1, 2818: 1, 2835: 1, 2855: 1, 2856: 1, 2860: 2, 2887: 1, 2897: 1, 2901: 1, 2907: 1, 2932: 1, 2933: 1, 2934: 2, 2954: 1, 2960: 1, 2961: 1, 2971: 1, 2984: 1, 2992: 1, 2995: 1, 2997: 1, 2999: 1, 3015: 1, 3018: 1, 3027: 1, 3030: 1, 3044: 1, 3049: 1, 3068: 1, 3074: 1, 3076: 1, 3089: 1, 3115: 2, 3127: 1, 3160: 1, 3165: 2, 3166: 1, 3178: 1, 3196: 1, 3198: 1, 3206: 1, 3219: 1, 3237: 1, 3242: 1, 3259: 1, 3278: 1, 3280: 1, 3281: 1, 3289: 1, 3319: 1, 3334: 1, 3342: 1, 3371: 1, 3374: 1, 3379: 1, 3391: 1, 3402: 1, 3408: 1, 3426: 1, 3448: 1, 3478: 1, 3487: 1, 3506: 1, 3522: 1, 3566: 1, 3574: 1, 3575: 1, 3581: 1, 3589: 1, 3596: 1, 3608: 1, 3625: 1, 3644: 1, 3690: 1, 3734: 1, 3736: 1, 3789: 1, 3835: 1, 3851: 1, 3930: 1, 3981: 1, 3995: 1, 3997: 1, 4007: 1, 4058: 1, 4059: 1, 4065: 1, 4073: 1, 4093: 1, 4108: 1, 4123: 1, 4161: 1, 4165: 1, 4172: 1, 4195: 1, 4210: 1, 4283: 1, 4311: 1, 4342: 1, 4356: 1, 4416: 1, 4465: 1, 4468: 1, 4537: 1, 4558: 1, 4590: 1, 4606: 1, 4681: 1, 4700: 1, 4706: 1, 4817: 1, 5054: 1, 5164: 1, 5197: 1, 5344: 1, 5348: 1, 5399: 1, 5418: 1, 5518: 1, 5530: 1, 5573: 1, 5597: 1, 5598: 1, 5692: 1, 5839: 1, 5855: 1, 5875: 1, 5877: 1, 7132: 1}\n"
     ]
    },
    {
     "data": {
      "text/plain": [
       "<matplotlib.axes._subplots.AxesSubplot at 0x7ff7c7300850>"
      ]
     },
     "execution_count": 59,
     "metadata": {},
     "output_type": "execute_result"
    },
    {
     "data": {
      "image/png": "[encoded data removed]",
      "text/plain": [
       "<matplotlib.figure.Figure at 0x7ff7c1477b90>"
      ]
     },
     "metadata": {},
     "output_type": "display_data"
    }
   ],
   "source": [
    "##### OUTPUT FOR HW5.3 5-GRAM LENGTH DISTRIBUTIONS #####\n",
    "%matplotlib inline\n",
    "import pandas\n",
    "\n",
    "# Initialize a dictionary to store the lengths and frequencies\n",
    "degree_dist = {}\n",
    "#filename = 'synNet_EDA.txt'\n",
    "filename = 'wikipedia_EDA.txt'\n",
    "with open(filename, 'r') as f:\n",
    "    for line in f.readlines():\n",
    "        key,value =  line.strip().split('\\t',2)\n",
    "        key = key.strip('\"')\n",
    "        if key == '*total_nodes':\n",
    "            total_unique_nodes = int(value)\n",
    "        elif key == '*total_edges':\n",
    "            total_edges = float(value)\n",
    "        else:\n",
    "            degree_dist[int(key)] = int(value)\n",
    "\n",
    "print('Total Nodes: %d' % (total_unique_nodes))\n",
    "print('Total Edges Directed: %.2f' % (total_edges))\n",
    "print('Total Edges Undirected: %.2f' % (total_edges/2.0))\n",
    "print('Average Degree: %.2f' % (total_edges/total_unique_nodes))\n",
    "print len(degree_dist)\n",
    "print degree_dist\n",
    "\n",
    "#http://pandas.pydata.org/pandas-docs/stable/generated/pandas.DataFrame.plot.html\n",
    "\n",
    "# Plot a histogram of the lengths and their frequencies\n",
    "df = pandas.DataFrame.from_dict(degree_dist, orient='index')\n",
    "df = df.sort_index()\n",
    "df.plot(kind='bar', figsize=(20,8), legend=False, \n",
    "        title='Degree Distribution')"
   ]
  },
  {
   "cell_type": "markdown",
   "metadata": {},
   "source": [
    "<h1 style=\"color:#021353;\">HW 7.4: Shortest path graph distances (Wikipedia)</h1>\n",
    "<div style=\"margin:10px;border-left:5px solid #eee;\">\n",
    "<pre style=\"font-family:sans-serif;background-color:transparent\">\n",
    "Using MRJob, find shortest path graph distances in the Wikipedia network on the AWS cloud.\n",
    "Reuse your code from 7.2, but once again be warned of Wikipedia being a directed network.\n",
    "To be sure of your code's functionality in this context, run a systems test on the directed_toy.txt network.\n",
    "\n",
    "When running your code on the Wikipedia network, proof its function by running the job:\n",
    "\n",
    "- shortest path from \"Ireland\" (index=6176135) to \"University of California, Berkeley\" (index=13466359),\n",
    "\n",
    "and show your code's output. Show the shortest path in terms of just page IDS but also in terms of the name of page (show of your MapReduce join skills!!)\n",
    "\n",
    "Once your code is running, find some other shortest paths and report your results.\n",
    "</pre>\n",
    "</div>"
   ]
  },
  {
   "cell_type": "markdown",
   "metadata": {},
   "source": [
    "shortest path from \"Ireland\" (index=6176135) to \"University of California, Berkeley\" (index=13466359)  \n",
    "6176135->11607791->13466359  \n",
    "Seamus Heaney   11607791        793     335  \n",
    "\n",
    "shortest path from \"Ireland\" (index=6176135) to \"zika virus\" (index=15190949)\n",
    "Early Middle Ages       3958065 1006    768  \n",
    "List of epidemics       7844602 47      564  \n",
    "Chikungunya     2786273 34      217  \n",
    "zika virus      15190949        1       0  \n",
    "6176135->3958065->7844602->2786273->15190949  \n",
    "\n",
    "The Gypsy's Warning     12786273        1       0  \n",
    "\n",
    "shortest path from \"Ireland\" (index=6176135) to \"Who's Your Daddy?\" 13958065  \n",
    "Thin Lizzy      12944239        1141    355  \n",
    "Kiss (band)     7173161 2910    505  \n",
    "Lordi   8011223 351     228  \n",
    "Deadache        3529375 20      62  \n",
    "Who's Your Daddy?       13958065        4       15  \n",
    "\n",
    "\"13958065\"\t[{\"13958064\": 1, \"13958066\": 1, \"13958056\": 1, \"13958060\": 1, \"13958058\": 1, \"13958062\": 1, \"1887659\": 1, \"7067041\": 1, \"13958059\": 1, \"11210989\": 1, \"13958054\": 1, \"13958057\": 1, \"2839837\": 1, \"13958137\": 1, \"13958045\": 1}, 5.0, \"6176135->12944239->7173161->8011223->3529375->13958065\", \"V\"]\n",
    "\n",
    "Just for some type 3 fun reporting.  I let my algo run for 69 iterations with no stop-index.   Here are the results of the file from that iteration:  \n",
    "Qs:  3  \n",
    "Vs:  13,259,666  \n",
    "Us:  1,204,989  \n",
    "\n",
    "3 f'ing Qs and 1 million Us.  I wonder how long it would take for that thing to finish.  It was running for about 20 hours.\n",
    "\n",
    "**Shortest Path:**  \n",
    "Ireland (index=6176135)  \n",
    "Seamus Heaney (index=11607791)  \n",
    "University of California, Berkeley (index=13466359)  \n",
    "\n",
    "**Shortest Path:**  \n",
    "Ireland (index=6176135)  \n",
    "Early Middle Ages (index=3958065)  \n",
    "List of epidemics (index=7844602)  \n",
    "Chikungunya (index=2786273)  \n",
    "zika virus (index=15190949)  \n",
    "\n",
    "**Shortest Path:**  \n",
    "Ireland (index=6176135)  \n",
    "Thin Lizzy (index=12944239)  \n",
    "Kiss (band) (index=7173161)  \n",
    "Lordi (index=8011223)  \n",
    "Deadache (index=3529375)  \n",
    "Who's Your Daddy? (index=13958065)  "
   ]
  },
  {
   "cell_type": "code",
   "execution_count": 26,
   "metadata": {
    "collapsed": false
   },
   "outputs": [
    {
     "name": "stdout",
     "output_type": "stream",
     "text": [
      "16/07/05 21:36:24 WARN util.NativeCodeLoader: Unable to load native-hadoop library for your platform... using builtin-java classes where applicable\r\n"
     ]
    }
   ],
   "source": [
    "!hdfs dfs -copyFromLocal directed_toy.txt /user/hadoop/HW7data"
   ]
  },
  {
   "cell_type": "code",
   "execution_count": 6,
   "metadata": {
    "collapsed": false,
    "scrolled": true
   },
   "outputs": [
    {
     "ename": "NameError",
     "evalue": "name 'mr_job' is not defined",
     "output_type": "error",
     "traceback": [
      "\u001b[1;31m---------------------------------------------------------------------------\u001b[0m",
      "\u001b[1;31mNameError\u001b[0m                                 Traceback (most recent call last)",
      "\u001b[1;32m<ipython-input-6-f7a96d0c9797>\u001b[0m in \u001b[0;36m<module>\u001b[1;34m()\u001b[0m\n\u001b[0;32m     12\u001b[0m \u001b[1;31m#mr_job = MRSSSPInit(args=['synNet_20.txt', '--start_index', '10'])\u001b[0m\u001b[1;33m\u001b[0m\u001b[1;33m\u001b[0m\u001b[0m\n\u001b[0;32m     13\u001b[0m \u001b[1;33m\u001b[0m\u001b[0m\n\u001b[1;32m---> 14\u001b[1;33m \u001b[1;32mwith\u001b[0m \u001b[0mmr_job\u001b[0m\u001b[1;33m.\u001b[0m\u001b[0mmake_runner\u001b[0m\u001b[1;33m(\u001b[0m\u001b[1;33m)\u001b[0m \u001b[1;32mas\u001b[0m \u001b[0mrunner\u001b[0m\u001b[1;33m,\u001b[0m \u001b[0mopen\u001b[0m\u001b[1;33m(\u001b[0m\u001b[0mwork_filename\u001b[0m\u001b[1;33m,\u001b[0m \u001b[1;34m'w'\u001b[0m\u001b[1;33m)\u001b[0m \u001b[1;32mas\u001b[0m \u001b[0mf\u001b[0m\u001b[1;33m:\u001b[0m\u001b[1;33m\u001b[0m\u001b[0m\n\u001b[0m\u001b[0;32m     15\u001b[0m     \u001b[0mrunner\u001b[0m\u001b[1;33m.\u001b[0m\u001b[0mrun\u001b[0m\u001b[1;33m(\u001b[0m\u001b[1;33m)\u001b[0m\u001b[1;33m\u001b[0m\u001b[0m\n\u001b[0;32m     16\u001b[0m     \u001b[1;31m# stream_output: get access of the output\u001b[0m\u001b[1;33m\u001b[0m\u001b[1;33m\u001b[0m\u001b[0m\n",
      "\u001b[1;31mNameError\u001b[0m: name 'mr_job' is not defined"
     ]
    }
   ],
   "source": [
    "%reload_ext autoreload\n",
    "%autoreload 2\n",
    "from SSSPInit import MRSSSPInit\n",
    "\n",
    "work_filename = 'work_table.txt'\n",
    "ofile ='HW7Output/SSSPInit'\n",
    "!hdfs dfs -rm -r /user/hadoop/$ofile\n",
    "mr_job = MRSSSPInit(args=['hdfs:///user/hadoop/HW7data/synNet.txt', '-r', 'hadoop', '--start_index=7827', '--output-dir', ofile])\n",
    "#mr_job = MRSSSPInit(args=['hdfs:///user/hadoop/HW7data/directed_toy.txt', '-r', 'hadoop', '--output-dir', ofile])\n",
    "#mr_job = MRSSSPInit(args=['synNet.txt', '--start_index', '7827'])\n",
    "#mr_job = MRSSSPInit(args=['synNet_100.txt', '--start_index', '10'])\n",
    "#mr_job = MRSSSPInit(args=['synNet_20.txt', '--start_index', '10'])\n",
    "\n",
    "with mr_job.make_runner() as runner, open(work_filename, 'w') as f: \n",
    "    runner.run()\n",
    "    # stream_output: get access of the output \n",
    "    for line in runner.stream_output():\n",
    "        key, value =  mr_job.parse_output_line(line)\n",
    "        print key, value\n",
    "        f.write(key+'\\t'+json.dumps(value)+'\\n')\n",
    "        #f.write(key+'\\t'+str(value)+'\\n')\n",
    "    print(runner.counters())"
   ]
  },
  {
   "cell_type": "code",
   "execution_count": 19,
   "metadata": {
    "collapsed": false,
    "scrolled": true
   },
   "outputs": [
    {
     "name": "stdout",
     "output_type": "stream",
     "text": [
      "16/07/07 11:40:38 WARN util.NativeCodeLoader: Unable to load native-hadoop library for your platform... using builtin-java classes where applicable\n",
      "16/07/07 11:40:39 INFO fs.TrashPolicyDefault: Namenode trash configuration: Deletion interval = 0 minutes, Emptier interval = 0 minutes.\n",
      "Deleted /user/hadoop/HW7Results/SSSPInit_wikipedia_gypsy\n"
     ]
    }
   ],
   "source": [
    "#!hdfs dfs -mkdir /user/hadoop/HW7Input\n",
    "#!hdfs dfs -cp /user/hadoop/HW7Output/SSSPInit /user/hadoop/HW7Input/SSSPInit\n",
    "#!hdfs dfs -rm -r /user/hadoop/HW7Results/SSSPInit_synNet\n",
    "#!hdfs dfs -cp /user/hadoop/HW7Output/SSSPInit /user/hadoop/HW7Results/SSSPInit_synNet\n",
    "#!hdfs dfs -cat /user/hadoop/HW7Results/SSSPInit_d_toy/part-00001\n",
    "\n",
    "#!hdfs dfs -cp /user/hadoop/HW7Output/SSSPInit /user/hadoop/HW7Results/SSSPInit_wikipedia\n",
    "#!hdfs dfs -cat /user/hadoop/HW7Output/SSSPInit/part-00001 | head -5\n",
    "\n",
    "#!hdfs dfs -ls /user/hadoop/HW7Output/SSSPInit\n",
    "#!hdfs dfs -cp /user/hadoop/HW7Output/SSSPInit /user/hadoop/HW7Results/SSSPInit_wikipedia_gypsy\n",
    "#!hdfs dfs -cat /user/hadoop/HW7Results/SSSPInit_wikipedia_gypsy/part-00015 | grep -c Q\n",
    "!hdfs dfs -rm -r /user/hadoop/HW7Results/SSSPInit_wikipedia_gypsy\n",
    "\n",
    "\n",
    "#!hdfs dfs -rm -r /user/hadoop/HW7Results/SSSPInit_d_toy\n",
    "#!hdfs dfs -cp /user/hadoop/HW7Output/SSSPInit /user/hadoop/HW7Results/SSSPInit_d_toy\n",
    "#!hdfs dfs -ls /user/hadoop/HW7Output/SSSPInit\n",
    "#!hdfs dfs -ls /user/hadoop/HW7Results/SSSPInit_synNet\n",
    "#!hdfs dfs -cat /user/hadoop/HW7Output/SSSPInit/part-00000 | head -5\n",
    "#!hdfs dfs -copyToLocal /user/hadoop/HW7Output/SSSPInit/part-00001 SSSP_d_toy2.txt"
   ]
  },
  {
   "cell_type": "code",
   "execution_count": 39,
   "metadata": {
    "collapsed": false,
    "scrolled": false
   },
   "outputs": [],
   "source": [
    "ofile ='HW7Output/SSSPInit'\n",
    "#!hdfs dfs -cat $ofile/part-00000 | grep Q\n",
    "#!hdfs dfs -cat $ofile/part-00001 | grep Q\n",
    "#!hdfs dfs -cat $ofile/part-00002 | grep Q\n",
    "#!hdfs dfs -cat $ofile/part-00003 | grep Q\n",
    "#!hdfs dfs -cat $ofile/part-00004 | grep Q\n",
    "#!hdfs dfs -cat $ofile/part-00005 | grep Q\n",
    "#!hdfs dfs -cat $ofile/part-00006 | grep Q\n",
    "#!hdfs dfs -cat $ofile/part-00007 | grep Q\n",
    "#!hdfs dfs -cat $ofile/part-00008 | grep Q\n",
    "#!hdfs dfs -cat $ofile/part-00009 | grep Q\n",
    "#!hdfs dfs -cat $ofile/part-00010 | grep Q\n",
    "#!hdfs dfs -cat $ofile/part-00011 | grep Q\n",
    "#!hdfs dfs -cat $ofile/part-00012 | grep Q\n",
    "#!hdfs dfs -cat $ofile/part-00013 | grep Q\n",
    "#!hdfs dfs -cat $ofile/part-00014 | grep Q\n",
    "#!hdfs dfs -cat $ofile/part-00015 | grep Q\n",
    "#!hdfs dfs -cat $ofile/part-00000 | head\n",
    "#!hdfs dfs -cat $ofile/part-00001 | head\n",
    "#!cat work_table_init_synNet.txt | head\n",
    "#!hdfs dfs -cat $ofile/part-00001 | grep Q\n",
    "#!hdfs dfs -cp $ofile/part-00000 /user/hadoop/HW7Results/synNet_EDA.txt\n",
    "#!hdfs dfs -cat /user/hadoop/HW7Results/synNet_EDA.txt | head -20\n",
    "#!hdfs dfs -copyToLocal $ofile/part-00000 wikipedia_EDA.txt\n",
    "#!hdfs dfs -copyToLocal /user/hadoop/HW7Results/synNet_EDA.txt synNet_EDA.txt"
   ]
  },
  {
   "cell_type": "code",
   "execution_count": 20,
   "metadata": {
    "collapsed": false
   },
   "outputs": [
    {
     "name": "stdout",
     "output_type": "stream",
     "text": [
      "5781290\n",
      "16/07/05 12:00:02 WARN util.NativeCodeLoader: Unable to load native-hadoop library for your platform... using builtin-java classes where applicable\n"
     ]
    }
   ],
   "source": [
    "print(369906+374353+372948+369808+367461+364305+370867+373471+371803+369771+372389+370621+372097+374391+369104+217995)\n",
    "#!hdfs dfs -cat $ofile/part-00015 | grep Q"
   ]
  },
  {
   "cell_type": "code",
   "execution_count": 30,
   "metadata": {
    "collapsed": false
   },
   "outputs": [
    {
     "name": "stdout",
     "output_type": "stream",
     "text": [
      "73\t{'14417532': 1}\tinf\t\tU\n"
     ]
    }
   ],
   "source": [
    "s = \"73\\t{'14417532': 1}\\tinf\\t\\tU\"\n",
    "s = s.strip('\"')\n",
    "print s"
   ]
  },
  {
   "cell_type": "code",
   "execution_count": 34,
   "metadata": {
    "collapsed": false
   },
   "outputs": [
    {
     "name": "stdout",
     "output_type": "stream",
     "text": [
      "16/07/05 13:29:49 WARN util.NativeCodeLoader: Unable to load native-hadoop library for your platform... using builtin-java classes where applicable\n",
      "16/07/05 13:29:50 WARN hdfs.DFSClient: DFSInputStream has been closed already\n",
      "16/07/05 13:29:52 WARN util.NativeCodeLoader: Unable to load native-hadoop library for your platform... using builtin-java classes where applicable\n",
      "16/07/05 13:29:53 WARN hdfs.DFSClient: DFSInputStream has been closed already\n"
     ]
    }
   ],
   "source": [
    "#!hdfs dfs -cat /user/hadoop/HW7Input/SSSP/part-00000 | head -10\n",
    "!hdfs dfs -copyToLocal hdfs:///user/hadoop/HW7Input/SSSP/part-00000 SSSP_synNet1.txt\n",
    "!hdfs dfs -copyToLocal hdfs:///user/hadoop/HW7Input/SSSP/part-00001 SSSP_synNet2.txt"
   ]
  },
  {
   "cell_type": "code",
   "execution_count": 5,
   "metadata": {
    "collapsed": false
   },
   "outputs": [
    {
     "name": "stdout",
     "output_type": "stream",
     "text": [
      "16/07/05 16:54:34 WARN util.NativeCodeLoader: Unable to load native-hadoop library for your platform... using builtin-java classes where applicable\n",
      "\"1\"\t[{\"3\": 1, \"2\": 1, \"4\": 1}, Infinity, \"\", \"U\"]\n",
      "\"10\"\t[{\"11\": 1, \"13\": 1, \"12\": 1, \"15\": 1, \"14\": 1, \"17\": 1, \"16\": 1}, Infinity, \"\", \"U\"]\n",
      "\"100\"\t[{\"3827\": 1, \"2872\": 1, \"2871\": 1, \"2870\": 1, \"2875\": 1, \"2874\": 1, \"617\": 1, \"2441\": 1, \"5550\": 1, \"5336\": 1, \"93\": 1, \"92\": 1, \"3720\": 1, \"3722\": 1, \"2873\": 1, \"3122\": 1, \"2443\": 1, \"4647\": 1, \"360\": 1}, Infinity, \"\", \"U\"]\n",
      "\"1000\"\t[{\"997\": 1, \"1003\": 1, \"1004\": 1, \"999\": 1, \"1002\": 1, \"1001\": 1}, Infinity, \"\", \"U\"]\n",
      "\"1001\"\t[{\"997\": 1, \"999\": 1, \"998\": 1, \"1000\": 1}, Infinity, \"\", \"U\"]\n",
      "cat: Unable to write to output stream.\n",
      "16/07/05 16:54:36 WARN util.NativeCodeLoader: Unable to load native-hadoop library for your platform... using builtin-java classes where applicable\n",
      "null\t\"1\\t{'2': 1, '3': 1, '4': 1}\\tinf\\t\\tU\"\n",
      "null\t\"2\\t{'1': 1, '3': 1, '4': 1, '310': 1, '311': 1}\\tinf\\t\\tU\"\n",
      "null\t\"3\\t{'1': 1, '2': 1, '4': 1}\\tinf\\t\\tU\"\n",
      "null\t\"4\\t{'1': 1, '2': 1, '3': 1, '311': 1}\\tinf\\t\\tU\"\n",
      "null\t\"5\\t{'6': 1}\\tinf\\t\\tU\"\n",
      "cat: Unable to write to output stream.\n"
     ]
    }
   ],
   "source": [
    "#!hdfs dfs -rm -r /user/hadoop/HW7Input/SSSP\n",
    "#!hdfs dfs -cp /user/hadoop/HW7Results/SSSPInit_synNet /user/hadoop/HW7Input/SSSP\n",
    "#!hdfs dfs -ls /user/hadoop/HW7Input/SSSP\n",
    "#!hdfs dfs -mkdir /user/hadoop/TestDir\n",
    "#!hdfs dfs -mv /user/hadoop/HW7Input/SSSP /user/hadoop/TestDir\n",
    "#!hdfs dfs -ls /user/hadoop/TestDir\n",
    "!hdfs dfs -cat /user/hadoop/HW7Input/SSSP/part-00000 | head -5\n",
    "!hdfs dfs -cat /user/hadoop/HW7Results/SSSPInit_synNet/part-00000 | head -5"
   ]
  },
  {
   "cell_type": "code",
   "execution_count": 30,
   "metadata": {
    "collapsed": false
   },
   "outputs": [
    {
     "name": "stdout",
     "output_type": "stream",
     "text": [
      "16/07/06 23:04:03 WARN util.NativeCodeLoader: Unable to load native-hadoop library for your platform... using builtin-java classes where applicable\n",
      "\"1\"\t[{\"2\": 1, \"6\": 1}, 0.0, \"\", \"Q\"]\n",
      "\"2\"\t[{\"1\": 1, \"3\": 1, \"4\": 1}, Infinity, \"\", \"U\"]\n",
      "\"3\"\t[{\"2\": 1, \"4\": 1}, Infinity, \"\", \"U\"]\n",
      "16/07/06 23:04:05 WARN util.NativeCodeLoader: Unable to load native-hadoop library for your platform... using builtin-java classes where applicable\n",
      "\"4\"\t[{\"2\": 1, \"5\": 1}, Infinity, \"\", \"U\"]\n",
      "\"5\"\t[{\"1\": 1, \"2\": 1, \"4\": 1}, Infinity, \"\", \"U\"]\n"
     ]
    }
   ],
   "source": [
    "!hdfs dfs -cat /user/hadoop/HW7Results/SSSPInit_d_toy/part-00000\n",
    "!hdfs dfs -cat /user/hadoop/HW7Results/SSSPInit_d_toy/part-00001"
   ]
  },
  {
   "cell_type": "code",
   "execution_count": 37,
   "metadata": {
    "collapsed": false
   },
   "outputs": [
    {
     "name": "stdout",
     "output_type": "stream",
     "text": [
      "16/07/06 23:35:10 WARN util.NativeCodeLoader: Unable to load native-hadoop library for your platform... using builtin-java classes where applicable\n",
      "16/07/06 23:35:10 INFO fs.TrashPolicyDefault: Namenode trash configuration: Deletion interval = 0 minutes, Emptier interval = 0 minutes.\n",
      "Deleted /user/hadoop/HW7Output/SSSP\n",
      "16/07/06 23:35:12 WARN util.NativeCodeLoader: Unable to load native-hadoop library for your platform... using builtin-java classes where applicable\n",
      "16/07/06 23:35:13 INFO fs.TrashPolicyDefault: Namenode trash configuration: Deletion interval = 0 minutes, Emptier interval = 0 minutes.\n",
      "Deleted /user/hadoop/HW7Input/SSSP\n",
      "16/07/06 23:35:14 WARN util.NativeCodeLoader: Unable to load native-hadoop library for your platform... using builtin-java classes where applicable\n",
      "16/07/06 23:35:15 WARN hdfs.DFSClient: DFSInputStream has been closed already\n",
      "16/07/06 23:35:16 WARN hdfs.DFSClient: DFSInputStream has been closed already\n",
      "16/07/06 23:35:16 WARN hdfs.DFSClient: DFSInputStream has been closed already\n"
     ]
    },
    {
     "name": "stderr",
     "output_type": "stream",
     "text": [
      "WARNING:mrjob.hadoop:  Unable to load native-hadoop library for your platform... using builtin-java classes where applicable\n"
     ]
    },
    {
     "name": "stdout",
     "output_type": "stream",
     "text": [
      "Iteration 0\n",
      "{'Map-Reduce Framework': {'Spilled Records': 14, 'Total committed heap usage (bytes)': 721944576, 'Reduce output records': 6, 'GC time elapsed (ms)': 218, 'Reduce input records': 7, 'Combine input records': 0, 'Reduce input groups': 6, 'Map output bytes': 274, 'CPU time spent (ms)': 2380, 'Combine output records': 0, 'Input split bytes': 306, 'Map input records': 5, 'Map output materialized bytes': 306, 'Physical memory (bytes) snapshot': 956506112, 'Shuffled Maps ': 3, 'Map output records': 7, 'Reduce shuffle bytes': 306, 'Virtual memory (bytes) snapshot': 8471924736, 'Failed Shuffles': 0, 'Merged Map outputs': 3}, 'File Output Format Counters ': {'Bytes Written': 246}, 'Job Counters ': {'Total time spent by all maps in occupied slots (ms)': 7350, 'Total vcore-seconds taken by all map tasks': 7350, 'Launched map tasks': 3, 'Launched reduce tasks': 1, 'Total vcore-seconds taken by all reduce tasks': 3437, 'Total megabyte-seconds taken by all reduce tasks': 3519488, 'Total megabyte-seconds taken by all map tasks': 7526400, 'Total time spent by all reduce tasks (ms)': 3437, 'Total time spent by all map tasks (ms)': 7350, 'Data-local map tasks': 3, 'Total time spent by all reduces in occupied slots (ms)': 3437}, 'File System Counters': {'FILE: Number of write operations': 0, 'HDFS: Number of write operations': 2, 'FILE: Number of read operations': 0, 'HDFS: Number of bytes read': 546, 'HDFS: Number of read operations': 12, 'FILE: Number of bytes written': 480845, 'HDFS: Number of large read operations': 0, 'HDFS: Number of bytes written': 246, 'FILE: Number of large read operations': 0, 'FILE: Number of bytes read': 294}, 'File Input Format Counters ': {'Bytes Read': 240}, 'Shuffle Errors': {'WRONG_MAP': 0, 'WRONG_LENGTH': 0, 'BAD_ID': 0, 'IO_ERROR': 0, 'WRONG_REDUCE': 0, 'CONNECTION': 0}}\n",
      "16/07/06 23:35:51 WARN util.NativeCodeLoader: Unable to load native-hadoop library for your platform... using builtin-java classes where applicable\n",
      "16/07/06 23:35:52 INFO fs.TrashPolicyDefault: Namenode trash configuration: Deletion interval = 0 minutes, Emptier interval = 0 minutes.\n",
      "Deleted /user/hadoop/HW7Input/SSSP\n",
      "16/07/06 23:35:53 WARN util.NativeCodeLoader: Unable to load native-hadoop library for your platform... using builtin-java classes where applicable\n"
     ]
    },
    {
     "name": "stderr",
     "output_type": "stream",
     "text": [
      "WARNING:mrjob.hadoop:  Unable to load native-hadoop library for your platform... using builtin-java classes where applicable\n"
     ]
    },
    {
     "name": "stdout",
     "output_type": "stream",
     "text": [
      "Iteration 1\n",
      "{'SSSP_Counters': {'Stop_Index_Found': 1}, 'Map-Reduce Framework': {'Spilled Records': 18, 'Total committed heap usage (bytes)': 525860864, 'Reduce output records': 6, 'GC time elapsed (ms)': 321, 'Reduce input records': 9, 'Combine input records': 0, 'Reduce input groups': 6, 'Map output bytes': 335, 'CPU time spent (ms)': 2060, 'Combine output records': 0, 'Input split bytes': 204, 'Map input records': 6, 'Map output materialized bytes': 365, 'Physical memory (bytes) snapshot': 656580608, 'Shuffled Maps ': 2, 'Map output records': 9, 'Reduce shuffle bytes': 365, 'Virtual memory (bytes) snapshot': 6291689472, 'Failed Shuffles': 0, 'Merged Map outputs': 2}, 'File Output Format Counters ': {'Bytes Written': 250}, 'Job Counters ': {'Total time spent by all maps in occupied slots (ms)': 11211, 'Total vcore-seconds taken by all map tasks': 11211, 'Launched map tasks': 2, 'Launched reduce tasks': 1, 'Total vcore-seconds taken by all reduce tasks': 4328, 'Total megabyte-seconds taken by all reduce tasks': 4431872, 'Total megabyte-seconds taken by all map tasks': 11480064, 'Total time spent by all reduce tasks (ms)': 4328, 'Total time spent by all map tasks (ms)': 11211, 'Data-local map tasks': 2, 'Total time spent by all reduces in occupied slots (ms)': 4328}, 'File System Counters': {'FILE: Number of write operations': 0, 'HDFS: Number of write operations': 2, 'FILE: Number of read operations': 0, 'HDFS: Number of bytes read': 573, 'HDFS: Number of read operations': 9, 'FILE: Number of bytes written': 360891, 'HDFS: Number of large read operations': 0, 'HDFS: Number of bytes written': 250, 'FILE: Number of large read operations': 0, 'FILE: Number of bytes read': 359}, 'File Input Format Counters ': {'Bytes Read': 369}, 'Shuffle Errors': {'WRONG_MAP': 0, 'WRONG_LENGTH': 0, 'BAD_ID': 0, 'IO_ERROR': 0, 'WRONG_REDUCE': 0, 'CONNECTION': 0}}\n"
     ]
    }
   ],
   "source": [
    "%reload_ext autoreload\n",
    "%autoreload 2\n",
    "from SSSP import MRSSSP\n",
    "\n",
    "# Run the SSSP MRJob\n",
    "!hdfs dfs -rm -r /user/hadoop/HW7Output/SSSP\n",
    "!hdfs dfs -rm -r /user/hadoop/HW7Input/SSSP\n",
    "#!hdfs dfs -cp /user/hadoop/HW7Results/SSSPInit_synNet /user/hadoop/HW7Input/SSSP\n",
    "!hdfs dfs -cp /user/hadoop/HW7Results/SSSPInit_d_toy /user/hadoop/HW7Input/SSSP\n",
    "#!hdfs dfs -cp /user/hadoop/HW7Results/SSSPInit_wikipedia /user/hadoop/HW7Input/SSSP\n",
    "mr_job = MRSSSP(args=['hdfs:///user/hadoop/HW7Input/SSSP', '-r', 'hadoop', '--output-dir', 'HW7Output/SSSP', '--no-output'])\n",
    "stop_index = '6'\n",
    "mr_job = MRSSSP(args=['hdfs:///user/hadoop/HW7Input/SSSP', '-r', 'hadoop', '--stop_index', stop_index, '--output-dir', 'HW7Output/SSSP', '--no-output'])\n",
    "    \n",
    "# Update work table file iteratively\n",
    "i = 0\n",
    "# Set start condition to True\n",
    "Stop = False\n",
    "while(Stop==False):\n",
    "    # Print the iteration number\n",
    "    print('Iteration %d' % (i))\n",
    "    with mr_job.make_runner() as runner: \n",
    "        runner.run()\n",
    "        print runner.counters()[0]\n",
    "        if stop_index == '':\n",
    "            Stop = True\n",
    "            if 'SSSP_Counters' in runner.counters()[0]:\n",
    "                Stop = False\n",
    "        else:\n",
    "            if 'SSSP_Counters' in runner.counters()[0]:\n",
    "                Stop = True\n",
    "    if (Stop==False):\n",
    "        !hdfs dfs -rm -r /user/hadoop/HW7Input/SSSP\n",
    "        !hdfs dfs -mv /user/hadoop/HW7Output/SSSP /user/hadoop/HW7Input/SSSP\n",
    "    i += 1"
   ]
  },
  {
   "cell_type": "code",
   "execution_count": 36,
   "metadata": {
    "collapsed": false
   },
   "outputs": [
    {
     "name": "stdout",
     "output_type": "stream",
     "text": [
      "16/07/06 23:34:37 WARN util.NativeCodeLoader: Unable to load native-hadoop library for your platform... using builtin-java classes where applicable\n",
      "\"1\"\t[{\"2\": 1, \"6\": 1}, 0.0, \"1\", \"V\"]\n",
      "\"2\"\t[{\"1\": 1, \"3\": 1, \"4\": 1}, 1.0, \"1->2\", \"V\"]\n",
      "\"3\"\t[{\"2\": 1, \"4\": 1}, 2.0, \"1->2->3\", \"V\"]\n",
      "\"4\"\t[{\"2\": 1, \"5\": 1}, 2.0, \"1->2->4\", \"V\"]\n",
      "\"5\"\t[{\"1\": 1, \"2\": 1, \"4\": 1}, 3.0, \"1->2->4->\", \"Q\"]\n",
      "\"6\"\t[{}, 1.0, \"1->6\", \"V\"]\n"
     ]
    }
   ],
   "source": [
    "!hdfs dfs -cat /user/hadoop/HW7Output/SSSP/part-00000"
   ]
  },
  {
   "cell_type": "code",
   "execution_count": 22,
   "metadata": {
    "collapsed": false
   },
   "outputs": [
    {
     "name": "stdout",
     "output_type": "stream",
     "text": [
      "Overwriting SSSP_driver.py\n"
     ]
    }
   ],
   "source": [
    "%%writefile SSSP_driver.py\n",
    "from SSSP import MRSSSP\n",
    "import subprocess\n",
    "\n",
    "# Run the SSSP MRJob\n",
    "try:\n",
    "    subprocess.check_call(['hdfs', 'dfs', '-rm', '-r', '/user/hadoop/HW7Output/SSSP'])\n",
    "except:\n",
    "    pass\n",
    "try:\n",
    "    subprocess.check_call(['hdfs', 'dfs', '-rm', '-r', '/user/hadoop/HW7Input/SSSP'])\n",
    "except:\n",
    "    pass\n",
    "#subprocess.check_call(['hdfs', 'dfs', '-cp', '/user/hadoop/HW7Results/SSSPInit_synNet', '/user/hadoop/HW7Input/SSSP'])\n",
    "#subprocess.check_call(['hdfs', 'dfs', '-cp', '/user/hadoop/HW7Results/SSSPInit_d_toy', '/user/hadoop/HW7Input/SSSP'])\n",
    "subprocess.check_call(['hdfs', 'dfs', '-cp', '/user/hadoop/HW7Results/SSSPInit_wikipedia', '/user/hadoop/HW7Input/SSSP'])\n",
    "# Berkeley\n",
    "#stop_index = '13466359'\n",
    "# Zika virus\n",
    "#stop_index = '15190949'\n",
    "# Who's Your Daddy\n",
    "stop_index = '13958065'\n",
    "mr_job = MRSSSP(args=['hdfs:///user/hadoop/HW7Input/SSSP', '-r', 'hadoop', '--stop_index', stop_index, '--output-dir', 'HW7Output/SSSP', '--no-output'])\n",
    "#mr_job = MRSSSP(args=['hdfs:///user/hadoop/HW7Input/SSSP', '-r', 'hadoop', '--output-dir', 'HW7Output/SSSP', '--no-output'])\n",
    "    \n",
    "i = 0\n",
    "# Set stop condition to False\n",
    "Stop = False\n",
    "while(Stop==False):\n",
    "    # Print the iteration number\n",
    "    print('Iteration %d' % (i))\n",
    "    with mr_job.make_runner() as runner: \n",
    "        runner.run()\n",
    "        if stop_index == '':\n",
    "            Stop = True\n",
    "            if 'SSSP_Counters' in runner.counters()[0]:\n",
    "                Stop = False\n",
    "        else:\n",
    "            if 'SSSP_Counters' in runner.counters()[0]:\n",
    "                Stop = True\n",
    "    if (Stop==False):\n",
    "        subprocess.check_call(['hdfs', 'dfs', '-rm', '-r', '/user/hadoop/HW7Input/SSSP'])\n",
    "        subprocess.check_call(['hdfs', 'dfs', '-mv', '/user/hadoop/HW7Output/SSSP', '/user/hadoop/HW7Input/SSSP'])\n",
    "    i += 1"
   ]
  },
  {
   "cell_type": "code",
   "execution_count": 26,
   "metadata": {
    "collapsed": false
   },
   "outputs": [
    {
     "name": "stdout",
     "output_type": "stream",
     "text": [
      "6176135->12944239->7173161->8011223->3529375->13958065\n",
      "[u'6176135', u'12944239', u'7173161', u'8011223', u'3529375', u'13958065']\n"
     ]
    }
   ],
   "source": []
  },
  {
   "cell_type": "code",
   "execution_count": 3,
   "metadata": {
    "collapsed": false
   },
   "outputs": [
    {
     "name": "stdout",
     "output_type": "stream",
     "text": [
      "16/07/07 21:14:54 WARN util.NativeCodeLoader: Unable to load native-hadoop library for your platform... using builtin-java classes where applicable\n",
      "\"13958065\"\t[{\"13958064\": 1, \"13958066\": 1, \"13958056\": 1, \"13958060\": 1, \"13958058\": 1, \"13958062\": 1, \"1887659\": 1, \"7067041\": 1, \"13958059\": 1, \"11210989\": 1, \"13958054\": 1, \"13958057\": 1, \"2839837\": 1, \"13958137\": 1, \"13958045\": 1}, 5.0, \"6176135->12944239->7173161->8011223->3529375->13958065\", \"V\"]\n"
     ]
    }
   ],
   "source": [
    "#!hdfs dfs -rm -r /user/hadoop/HW7Output/SSSP\n",
    "#!hdfs dfs -ls /user/hadoop/HW7Output/SSSP\n",
    "#!hdfs dfs -cat /user/hadoop/HW7Output/SSSP/part-00000 | head -3\n",
    "!hdfs dfs -cat /user/hadoop/HW7Output/SSSP/part-00000 | grep '\"13958065\"\t'\n",
    "#!hdfs dfs -cp /user/hadoop/HW7Output/SSSP /user/hadoop/HW7Results/SSSP_wikipedia_daddy\n",
    "\n",
    "#!hdfs dfs -ls /user/hadoop/HW7Results/SSSPInit_synNet\n",
    "#!hdfs dfs -cat /user/hadoop/HW7Results/SSSPInit_synNet/part-00000 | head -3\n",
    "#!hdfs dfs -cat /user/hadoop/HW7Results/SSSPInit_synNet/part-00001 | grep Q\n",
    "\n",
    "#!hdfs dfs -ls /user/hadoop/HW7Results/SSSPInit_d_toy\n",
    "#!hdfs dfs -cat /user/hadoop/HW7Results/SSSPInit_d_toy/part-00000\n",
    "#!hdfs dfs -cat /user/hadoop/HW7Results/SSSPInit_d_toy/part-00001\n",
    "\n",
    "#!hdfs dfs -ls /user/hadoop/HW7Input/SSSP\n",
    "#!hdfs dfs -cat /user/hadoop/HW7Input/SSSP/part-00000 | head -3\n",
    "#!hdfs dfs -cat /user/hadoop/HW7Input/SSSP/part-00000 | grep Q\n",
    "#!hdfs dfs -copyToLocal /user/hadoop/HW7Input/SSSP/part-00001 SSSP_d_toy_iter1b.txt"
   ]
  },
  {
   "cell_type": "markdown",
   "metadata": {},
   "source": [
    "### Create test files for MRJob Join class"
   ]
  },
  {
   "cell_type": "code",
   "execution_count": 42,
   "metadata": {
    "collapsed": false
   },
   "outputs": [
    {
     "name": "stdout",
     "output_type": "stream",
     "text": [
      "Overwriting index_test.txt\n"
     ]
    }
   ],
   "source": [
    "%%writefile index_test.txt\n",
    "George IV of the United Kingdom#Early life\t5000000\t2\t0\n",
    "George IV of the United Kingdom#Regency crisis of 1788\t5000001\t6\t0\n",
    "George IV of the United Kingdom#Regency\t5000002\t5\t0\n",
    "George IV\t5000003\t111\t0\n",
    "George IV#Reign\t5000004\t1\t0\n",
    "George IV, Brixton\t5000005\t1\t8\n",
    "George IV, Count of Erbach-Fürstenau\t5000006\t1\t11\n",
    "George IX of Imereti\t5000007\t11\t18\n",
    "George IX of Kartli\t5000008\t16\t12\n",
    "George IX\t5000009\t1\t2\n",
    "George Iacob\t5000010\t1\t0\n",
    "George Iacobescu\t5000011\t6\t22\n",
    "George Iacovou\t5000012\t7\t0\n",
    "George Iain Murray, 10th Duke of Atholl\t5000013\t1\t0\n",
    "George Ian Andrews\t5000014\t1\t0\n",
    "George Ian MacLean\t5000015\t7\t8\n",
    "George Iane\t5000016\t1\t0\n",
    "George Iashvili\t5000017\t1\t0"
   ]
  },
  {
   "cell_type": "code",
   "execution_count": 70,
   "metadata": {
    "collapsed": false
   },
   "outputs": [
    {
     "name": "stdout",
     "output_type": "stream",
     "text": [
      "Overwriting SSSP_node_list.txt\n"
     ]
    }
   ],
   "source": [
    "%%writefile SSSP_node_list.txt\n",
    "[{\"5000002\": 1}, {\"5000006\": 4}, {\"5000007\": 0}, {\"5000009\": 2}, {\"5000010\": 3}]"
   ]
  },
  {
   "cell_type": "code",
   "execution_count": 89,
   "metadata": {
    "collapsed": false
   },
   "outputs": [
    {
     "name": "stdout",
     "output_type": "stream",
     "text": [
      "Overwriting SSSPJoin.py\n"
     ]
    }
   ],
   "source": [
    "%%writefile SSSPJoin.py\n",
    "from mrjob.job import MRJob\n",
    "from mrjob.step import MRStep\n",
    "import json\n",
    "\n",
    "class MRSSSPJoin(MRJob):\n",
    "    def __init__(self, *args, **kwargs):\n",
    "        super(MRSSSPJoin, self).__init__(*args, **kwargs)\n",
    "        self.node_list = json.loads(open('SSSP_node_list.txt').readline())\n",
    "        self.cur_node_index = 0\n",
    "        self.cur_node_name, self.cur_node_order = self.node_list[self.cur_node_index].items()[0]\n",
    "        self.node_list_len = len(self.node_list)\n",
    "    \n",
    "    #load data and output the nearest centroid index and data point plus a count of 1. \n",
    "    def mapper(self, _, line):\n",
    "        # format of line from indices.txt:  (article name) \\t (index) \\t (in degree) \\t (out degree)\n",
    "        article_name, index, _, _ = line.strip().split('\\t')\n",
    "        if index == self.cur_node_name:\n",
    "            yield self.cur_node_order, tuple((self.cur_node_name, article_name))\n",
    "            self.cur_node_index +=1\n",
    "            if self.cur_node_index == self.node_list_len:\n",
    "                return\n",
    "            else:\n",
    "                self.cur_node_name, self.cur_node_order = self.node_list[self.cur_node_index].items()[0]\n",
    "    \n",
    "    def reducer(self, _, data):\n",
    "        for d in data:\n",
    "            yield None, d\n",
    "    \n",
    "    def steps(self):\n",
    "        JOB_CONF = {\n",
    "            'mapreduce.job.maps': 1,\n",
    "            'mapreduce.job.reduces': 1\n",
    "            }\n",
    "        # Create the steps for the MRJob.  There is only one MRJob here containing\n",
    "        # a mapper and a reducer.\n",
    "        return [MRStep(jobconf=JOB_CONF,\n",
    "                       mapper=self.mapper,\n",
    "                       reducer=self.reducer)]\n",
    "            \n",
    "if __name__ == '__main__':\n",
    "    MRSSSPJoin.run()"
   ]
  },
  {
   "cell_type": "code",
   "execution_count": 92,
   "metadata": {
    "collapsed": true
   },
   "outputs": [],
   "source": [
    "import json\n",
    "def write_node_list(result_dir, stop_index, filename):\n",
    "    grep_output = !hdfs dfs -cat /user/hadoop/HW7Results/$result_dir/part-00000 | grep '\"$stop_index\"\t'\n",
    "    _, data = grep_output[1].strip().split('\\t')\n",
    "    data = json.loads(data)\n",
    "    node_list = data[2].split('->')\n",
    "    node_list = sorted([{int(node): i} for i, node in enumerate(node_list)])\n",
    "    with open(filename, 'w') as f:\n",
    "        f.write(json.dumps(node_list)+'\\n')"
   ]
  },
  {
   "cell_type": "code",
   "execution_count": 98,
   "metadata": {
    "collapsed": false,
    "scrolled": true
   },
   "outputs": [
    {
     "name": "stdout",
     "output_type": "stream",
     "text": [
      "Shortest Path:\n",
      "Ireland (index=6176135)\n",
      "Seamus Heaney (index=11607791)\n",
      "University of California, Berkeley (index=13466359)\n"
     ]
    }
   ],
   "source": [
    "%reload_ext autoreload\n",
    "%autoreload 2\n",
    "from SSSPJoin import MRSSSPJoin\n",
    "write_node_list('SSSP_wikipedia_berkeley', '13466359', 'SSSP_node_list.txt')\n",
    "mr_job = MRSSSPJoin(args=['/data/hw7/indices.txt', '--file=SSSP_node_list.txt'])\n",
    "#mr_job = MRSSSPJoin(args=['index_test.txt', '--file=SSSP_node_list.txt'])\n",
    "with mr_job.make_runner() as runner: \n",
    "    runner.run()\n",
    "    print('Shortest Path:')\n",
    "    # stream_output: get access of the output \n",
    "    for line in runner.stream_output():\n",
    "        _, value =  mr_job.parse_output_line(line)\n",
    "        print('%s (index=%s)' % (value[1], value[0]))"
   ]
  },
  {
   "cell_type": "code",
   "execution_count": 97,
   "metadata": {
    "collapsed": false,
    "scrolled": true
   },
   "outputs": [
    {
     "name": "stdout",
     "output_type": "stream",
     "text": [
      "Shortest Path:\n",
      "Ireland (index=6176135)\n",
      "Early Middle Ages (index=3958065)\n",
      "List of epidemics (index=7844602)\n",
      "Chikungunya (index=2786273)\n",
      "zika virus (index=15190949)\n"
     ]
    }
   ],
   "source": [
    "%reload_ext autoreload\n",
    "%autoreload 2\n",
    "from SSSPJoin import MRSSSPJoin\n",
    "write_node_list('SSSP_wikipedia_zikavirus', '15190949', 'SSSP_node_list.txt')\n",
    "mr_job = MRSSSPJoin(args=['/data/hw7/indices.txt', '--file=SSSP_node_list.txt'])\n",
    "with mr_job.make_runner() as runner: \n",
    "    runner.run()\n",
    "    print('Shortest Path:')\n",
    "    # stream_output: get access of the output \n",
    "    for line in runner.stream_output():\n",
    "        _, value =  mr_job.parse_output_line(line)\n",
    "        print('%s (index=%s)' % (value[1], value[0]))"
   ]
  },
  {
   "cell_type": "code",
   "execution_count": 96,
   "metadata": {
    "collapsed": false,
    "scrolled": true
   },
   "outputs": [
    {
     "name": "stdout",
     "output_type": "stream",
     "text": [
      "Shortest Path:\n",
      "Ireland (index=6176135)\n",
      "Thin Lizzy (index=12944239)\n",
      "Kiss (band) (index=7173161)\n",
      "Lordi (index=8011223)\n",
      "Deadache (index=3529375)\n",
      "Who's Your Daddy? (index=13958065)\n"
     ]
    }
   ],
   "source": [
    "%reload_ext autoreload\n",
    "%autoreload 2\n",
    "from SSSPJoin import MRSSSPJoin\n",
    "write_node_list('SSSP_wikipedia_daddy', '13958065', 'SSSP_node_list.txt')\n",
    "mr_job = MRSSSPJoin(args=['/data/hw7/indices.txt', '--file=SSSP_node_list.txt'])\n",
    "with mr_job.make_runner() as runner: \n",
    "    runner.run()\n",
    "    print('Shortest Path:')\n",
    "    # stream_output: get access of the output \n",
    "    for line in runner.stream_output():\n",
    "        _, value =  mr_job.parse_output_line(line)\n",
    "        print('%s (index=%s)' % (value[1], value[0]))"
   ]
  },
  {
   "cell_type": "markdown",
   "metadata": {},
   "source": [
    "<h1 style=\"color:#021353;\">HW 7.5: Conceptual exercise: Largest single-source network distances</h1>\n",
    "<div style=\"margin:10px;border-left:5px solid #eee;\">\n",
    "<pre style=\"font-family:sans-serif;background-color:transparent\">\n",
    "Suppose you wanted to find the largest network distance from a single source,\n",
    "i.e., a node that is the furthest (but still reachable) from a single source.\n",
    "\n",
    "How would you implement this task? \n",
    "How is this different from finding the shortest path graph distances?\n",
    "\n",
    "Is this task more difficult to implement than the shortest path distance?\n",
    "\n",
    "As you respond, please comment on program structure, runtimes, iterations, general system requirements, etc...\n",
    "</pre>\n",
    "</div>"
   ]
  },
  {
   "cell_type": "markdown",
   "metadata": {},
   "source": [
    "<h1 style=\"color:#021353;\">HW 7.5.1: </h1>\n",
    "<div style=\"margin:10px;border-left:5px solid #eee;\">\n",
    "<pre style=\"font-family:sans-serif;background-color:transparent\">\n",
    "Can we utilize combiners in the HW 7 to perform the shortest path implementation?\n",
    "Does order inversion help with the HW 7 shortest path implementation?\n",
    "</pre>\n",
    "</div>"
   ]
  },
  {
   "cell_type": "markdown",
   "metadata": {},
   "source": [
    "<h1 style=\"color:#021353;\">HW 7.5.2: OPTIONAL </h1>\n",
    "<div style=\"margin:10px;border-left:5px solid #eee;\">\n",
    "<pre style=\"font-family:sans-serif;background-color:transparent\">\n",
    "Implement combiners in the context of HW 7.5 and contrast the performance of this implementation versus the implementation with no combiners. \n",
    "\n",
    "Please report the cluster configuration and runtimes in tabular format for both experiments and comment on your findings.\n",
    "</pre>\n",
    "</div>"
   ]
  },
  {
   "cell_type": "markdown",
   "metadata": {},
   "source": [
    "<h1 style=\"color:#021353;\">HW 7.6: Computational exercise: Largest single-source network distances: OPTIONAL </h1>\n",
    "<div style=\"margin:10px;border-left:5px solid #eee;\">\n",
    "<pre style=\"font-family:sans-serif;background-color:transparent\">\n",
    "Using MRJob, write a code to find the largest graph distance and distance-maximizing nodes from a single-source.\n",
    "Test your code first on the toy networks and synonyms network to proof its function.\n",
    "</pre>\n",
    "</div>"
   ]
  },
  {
   "cell_type": "markdown",
   "metadata": {
    "collapsed": true
   },
   "source": [
    "==================END HW 7=================="
   ]
  },
  {
   "cell_type": "code",
   "execution_count": 27,
   "metadata": {
    "collapsed": false
   },
   "outputs": [
    {
     "name": "stdout",
     "output_type": "stream",
     "text": [
      "['16/07/07 22:09:22 WARN util.NativeCodeLoader: Unable to load native-hadoop library for your platform... using builtin-java classes where applicable', '\"13958065\"\\t[{\"13958064\": 1, \"13958066\": 1, \"13958056\": 1, \"13958060\": 1, \"13958058\": 1, \"13958062\": 1, \"1887659\": 1, \"7067041\": 1, \"13958059\": 1, \"11210989\": 1, \"13958054\": 1, \"13958057\": 1, \"2839837\": 1, \"13958137\": 1, \"13958045\": 1}, 5.0, \"6176135->12944239->7173161->8011223->3529375->13958065\", \"V\"]']\n"
     ]
    }
   ],
   "source": [
    "#%%writefile SSSP_driver.py\n",
    "import subprocess\n",
    "\n",
    "#from subprocess import call\n",
    "#call([\"aws\", \"s3\", \"rm\", \"s3://w261kzm/week7/output/\", \"--recursive\"])\t\n",
    "\n",
    "stop_index = '13958065'\n",
    "\n",
    "# Run the SSSP MRJob\n",
    "grep_output = !hdfs dfs -cat /user/hadoop/HW7Output/SSSP/part-00000 | grep '\"$stop_index\"\t'\n",
    "print grep_output"
   ]
  }
 ],
 "metadata": {
  "kernelspec": {
   "display_name": "Python 2",
   "language": "python",
   "name": "python2"
  },
  "language_info": {
   "codemirror_mode": {
    "name": "ipython",
    "version": 2
   },
   "file_extension": ".py",
   "mimetype": "text/x-python",
   "name": "python",
   "nbconvert_exporter": "python",
   "pygments_lexer": "ipython2",
   "version": "2.7.11"
  }
 },
 "nbformat": 4,
 "nbformat_minor": 0
}
