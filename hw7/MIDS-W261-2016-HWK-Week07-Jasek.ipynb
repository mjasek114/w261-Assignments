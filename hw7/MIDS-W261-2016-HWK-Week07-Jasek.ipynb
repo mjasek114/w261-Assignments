{
 "cells": [
  {
   "cell_type": "markdown",
   "metadata": {},
   "source": [
    "# HW7 DATASCI W261: Machine Learning at Scale  \n",
    " \n",
    "* **Name:**  Megan Jasek\n",
    "* **Email:**  meganjasek@ischool.berkeley.edu\n",
    "* **Class Name:**  W261-2\n",
    "* **Week Number:**  9\n",
    "* **Homework Number:**  7\n",
    "* **Date:**  7/10/16"
   ]
  },
  {
   "cell_type": "markdown",
   "metadata": {},
   "source": [
    "<h1 style=\"color:#021353;\">General Description</h1>\n",
    "<div style=\"margin:10px;border-left:5px solid #eee;\">\n",
    "<pre style=\"font-family:sans-serif;background-color:transparent\">\n",
    "In this assignment you will explore networks and develop MRJob code for \n",
    "finding shortest path graph distances. To build up to large data \n",
    "you will develop your code on some very simple, toy networks.\n",
    "After this you will take your developed code forward and modify it and \n",
    "apply it to two larger datasets (performing EDA along the way).\n",
    "\n",
    "<h3>Undirected toy network dataset</h3>\n",
    "\n",
    "\n",
    "In an undirected network all links are symmetric, \n",
    "i.e., for a pair of nodes 'A' and 'B,' both of the links:\n",
    "\n",
    "A -> B and B -> A\n",
    "\n",
    "will exist. \n",
    "\n",
    "The toy data are available in a sparse (stripes) representation:\n",
    "\n",
    "(node) \\t (dictionary of links)\n",
    "\n",
    "on AWS/Dropbox via the url:\n",
    "\n",
    "s3://ucb-mids-mls-networks/undirected_toy.txt\n",
    "On under the Data Subfolder for HW7 on Dropbox with the same file name. \n",
    "The Data folder is in: https://db.tt/Kxu48mL1)\n",
    "\n",
    "In the dictionary, target nodes are keys, link weights are values \n",
    "(here, all weights are 1, i.e., the network is unweighted).\n",
    "\n",
    "\n",
    "<h3>Directed toy network dataset</h3>\n",
    "\n",
    "In a directed network all links are not necessarily symmetric, \n",
    "i.e., for a pair of nodes 'A' and 'B,' it is possible for only one of:\n",
    "\n",
    "A -> B or B -> A\n",
    "\n",
    "to exist. \n",
    "\n",
    "These toy data are available in a sparse (stripes) representation:\n",
    "\n",
    "(node) \\t (dictionary of links)\n",
    "\n",
    "on AWS/Dropbox via the url:\n",
    "\n",
    "s3://ucb-mids-mls-networks/directed_toy.txt\n",
    "Or under the Data Subfolder for HW7 on Dropbox with the same file name\n",
    "(On Dropbox https://www.dropbox.com/sh/2c0k5adwz36lkcw/AAAAKsjQfF9uHfv-X9mCqr9wa?dl=0)\n",
    "\n",
    "In the dictionary, target nodes are keys, link weights are values \n",
    "(here, all weights are 1, i.e., the network is unweighted).\n",
    "</pre>\n",
    "</div>"
   ]
  },
  {
   "cell_type": "markdown",
   "metadata": {},
   "source": [
    "### Create test files"
   ]
  },
  {
   "cell_type": "code",
   "execution_count": 1,
   "metadata": {
    "collapsed": false
   },
   "outputs": [
    {
     "name": "stdout",
     "output_type": "stream",
     "text": [
      "Overwriting directed_toy.txt\n"
     ]
    }
   ],
   "source": [
    "%%writefile directed_toy.txt\n",
    "1\t{'2': 1, '6': 1}\n",
    "2\t{'1': 1, '3': 1, '4': 1}\n",
    "3\t{'2': 1, '4': 1}\n",
    "4\t{'2': 1, '5': 1}\n",
    "5\t{'1': 1, '2': 1, '4': 1}"
   ]
  },
  {
   "cell_type": "code",
   "execution_count": 26,
   "metadata": {
    "collapsed": false
   },
   "outputs": [
    {
     "name": "stdout",
     "output_type": "stream",
     "text": [
      "Overwriting d2_toy.txt\n"
     ]
    }
   ],
   "source": [
    "%%writefile d2_toy.txt\n",
    "A\t{'B': 1, 'E': 1000}\n",
    "B\t{'C': 1}\n",
    "C\t{'D': 1}\n",
    "D\t{'E': 1}\n",
    "E\t{'F': 1}"
   ]
  },
  {
   "cell_type": "code",
   "execution_count": 3,
   "metadata": {
    "collapsed": false
   },
   "outputs": [
    {
     "name": "stdout",
     "output_type": "stream",
     "text": [
      "Writing d2a_toy.txt\n"
     ]
    }
   ],
   "source": [
    "%%writefile d2a_toy.txt\n",
    "A\t{'B': 1, 'E': 4}\n",
    "B\t{'C': 1}\n",
    "C\t{'D': 1}\n",
    "D\t{'E': 1}\n",
    "E\t{'F': 1}"
   ]
  },
  {
   "cell_type": "code",
   "execution_count": 30,
   "metadata": {
    "collapsed": false
   },
   "outputs": [
    {
     "name": "stdout",
     "output_type": "stream",
     "text": [
      "Writing d3_toy.txt\n"
     ]
    }
   ],
   "source": [
    "%%writefile d3_toy.txt\n",
    "A\t{'B': 10, 'C': 5}\n",
    "B\t{'C': 2, 'D': 1}\n",
    "C\t{'B': 3, 'D': 9, 'E': 2}\n",
    "D\t{'E': 4}\n",
    "E\t{'A': 7, 'D': 6}"
   ]
  },
  {
   "cell_type": "code",
   "execution_count": 1,
   "metadata": {
    "collapsed": false
   },
   "outputs": [
    {
     "name": "stdout",
     "output_type": "stream",
     "text": [
      "Writing d4_toy.txt\n"
     ]
    }
   ],
   "source": [
    "%%writefile d4_toy.txt\n",
    "1\t{\"2\": 1, \"5\": 100}\n",
    "2\t{\"1\": 1, \"3\": 1, \"5\": 1, \"4\": 1}\n",
    "3\t{\"2\": 1, \"4\": 1}\n",
    "4\t{\"3\": 1, \"2\": 1, \"5\": 1}\n",
    "5\t{\"1\": 100, \"2\": 1, \"4\": 1, \"6\":1}\n",
    "6\t{\"5\": 1, \"7\": 1}\n",
    "7\t{\"6\": 1}"
   ]
  },
  {
   "cell_type": "code",
   "execution_count": 2,
   "metadata": {
    "collapsed": false
   },
   "outputs": [
    {
     "name": "stdout",
     "output_type": "stream",
     "text": [
      "Overwriting undirected_toy.txt\n"
     ]
    }
   ],
   "source": [
    "%%writefile undirected_toy.txt\n",
    "1\t{'2': 1,'5': 1}\n",
    "2\t{'1': 1,'3': 1,'4': 1,'5': 1}\n",
    "3\t{'2': 1, '4': 1}\n",
    "4\t{'2': 1,'3': 1,'5': 1}\n",
    "5\t{'1': 1, '2': 1, '4': 1}"
   ]
  },
  {
   "cell_type": "markdown",
   "metadata": {},
   "source": [
    "<h1 style=\"color:#021353;\">HW 7.0: Shortest path graph distances (toy networks)</h1>\n",
    "<div style=\"margin:10px;border-left:5px solid #eee;\">\n",
    "<pre style=\"font-family:sans-serif;background-color:transparent\">\n",
    "In this part of your assignment you will develop the base of your code for the week.\n",
    "\n",
    "Write MRJob classes to find shortest path graph distances, as described in the lectures. In addition to finding the distances, your code should also output a distance-minimizing path between the source and target.\n",
    "Work locally for this part of the assignment, and use both of the undirected and directed toy networks.\n",
    "\n",
    "To proof you code's function, run the following jobs\n",
    "\n",
    "- shortest path in the undirected network from node 1 to node 4\n",
    "Solution: 1,5,4. NOTE: There is another shortest path also (HINT: 1->5->4)! Either will suffice (you will find this also in the remaining problems. E.g., 7.2 and 7.4.\n",
    " \n",
    "\n",
    "- shortest path in the directed network from node 1 to node 5\n",
    "Solution: 1,2,4,5\n",
    "\n",
    "and report your output---make sure it is correct!\n",
    "\n",
    "<h3>Main dataset 1: NLTK synonyms</h3>\n",
    "\n",
    "In the next part of this assignment you will explore a network derived from the NLTK synonym database used for evaluation in HW 5. At a high level, this network is undirected, defined so that there exists link between two nodes/words if the pair or words are a synonym. These data may be found at the location:\n",
    "\n",
    "<a href=\"s3://ucb-mids-mls-networks/synNet/synNet.txt\">s3://ucb-mids-mls-networks/synNet/synNet.txt</a>\n",
    "<a href=\"s3://ucb-mids-mls-networks/synNet/indices.txt\">s3://ucb-mids-mls-networks/synNet/indices.txt</a>\n",
    "On under the Data Subfolder for HW7 on Dropbox with the same file names\n",
    "\n",
    "where synNet.txt contains a sparse representation of the network:\n",
    "\n",
    "(index) \\t (dictionary of links)\n",
    "\n",
    "in indexed form, and indices.txt contains a lookup list\n",
    "\n",
    "(word) \\t (index)\n",
    "\n",
    "of indices and words. This network is small enough for you to explore and run\n",
    "scripts locally, but will also be good for a systems test (for later) on AWS.\n",
    "\n",
    "In the dictionary, target nodes are keys, link weights are values \n",
    "(here, all weights are 1, i.e., the network is unweighted).\n",
    "</pre>\n",
    "</div>"
   ]
  },
  {
   "cell_type": "markdown",
   "metadata": {},
   "source": [
    "- shortest path in the undirected network from node 1 to node 4\n",
    "Solution: 1,5,4. NOTE: There is another shortest path also (HINT: 1->5->4)! Either will suffice (you will find this also in the remaining problems. E.g., 7.2 and 7.4.  \n",
    "**ANSWER:**  The shortest path from 1 to 4 is: 1->2->4  \n",
    "\n",
    "- shortest path in the directed network from node 1 to node 5  \n",
    "Solution: 1,2,4,5  \n",
    "**ANSWER:**  The shortest path from 1 to 5 is: 1->2->4->5"
   ]
  },
  {
   "cell_type": "markdown",
   "metadata": {},
   "source": [
    "### Create Single Source Shortest Path (SSSP) Initialization Class"
   ]
  },
  {
   "cell_type": "code",
   "execution_count": 1,
   "metadata": {
    "collapsed": false
   },
   "outputs": [
    {
     "name": "stdout",
     "output_type": "stream",
     "text": [
      "Overwriting SSSPInit.py\n"
     ]
    }
   ],
   "source": [
    "%%writefile SSSPInit.py\n",
    "from mrjob.job import MRJob\n",
    "from mrjob.step import MRStep\n",
    "import ast\n",
    "\n",
    "# This class takes an adjacency list as input and outputs and initialized work file with \n",
    "# the following format:\n",
    "# node_number \\t [adjacency_list, infinity, '', 'U']\n",
    "# One starting node is defined as an argument passed in to the class.  The default is node '1'.\n",
    "# That starting node has the format:\n",
    "# node_number \\t [adjacency_list, 0.0, '', 'Q']\n",
    "# U means Unvisited\n",
    "# Q means Queued in the queue\n",
    "class MRSSSPInit(MRJob):\n",
    "    def configure_options(self):\n",
    "        # Configure a new command line option called 'start_index' to indicate the starting\n",
    "        # index of the SSSP algorithm.\n",
    "        # Configure a new command line option called 'unweighted' to make the graph unweighted.\n",
    "        # If this is set to '1', then all distances from node to node are set to a weight of 1.\n",
    "        super(MRSSSPInit, self).configure_options()\n",
    "        self.add_passthrough_option('--start_index', type='str', default='1')\n",
    "        self.add_passthrough_option('--unweighted', type='str', default='0')\n",
    "    \n",
    "    def __init__(self, *args, **kwargs):\n",
    "        super(MRSSSPInit, self).__init__(*args, **kwargs)\n",
    "        self.start_index = self.options.start_index\n",
    "        self.unweighted = self.options.unweighted\n",
    "\n",
    "    # For the node equal to the start index, yield\n",
    "    #    node_number \\t tuple(adj_list, 0.0, \"\", 'Q')\n",
    "    # For all other nodes, yield\n",
    "    #    node_number \\t tuple(adj_list, infinity, \"\", 'U')    \n",
    "    def mapper(self, _, line):\n",
    "        node_num, adj_dict = line.strip().split('\\t')\n",
    "        adj_dict = ast.literal_eval(adj_dict)\n",
    "        # If the graph is unweighted, then set all weights to 1\n",
    "        if self.unweighted == '1':\n",
    "            for key in adj_dict:\n",
    "                adj_dict[key] = 1\n",
    "        if node_num == self.start_index:\n",
    "            yield node_num, tuple((adj_dict, 0.0, \"\", 'Q'))\n",
    "        else:\n",
    "            yield node_num, tuple((adj_dict, float('inf'), \"\", 'U'))\n",
    "    \n",
    "    # Create the steps for the MRJob.  There is only a mapper in this job.\n",
    "    def steps(self):\n",
    "        return [\n",
    "            MRStep(mapper=self.mapper)\n",
    "               ]\n",
    "            \n",
    "if __name__ == '__main__':\n",
    "    MRSSSPInit.run()"
   ]
  },
  {
   "cell_type": "markdown",
   "metadata": {},
   "source": [
    "### Create Single Source Shortest Path (SSSP) Class"
   ]
  },
  {
   "cell_type": "code",
   "execution_count": 2,
   "metadata": {
    "collapsed": false
   },
   "outputs": [
    {
     "name": "stdout",
     "output_type": "stream",
     "text": [
      "Overwriting SSSP.py\n"
     ]
    }
   ],
   "source": [
    "%%writefile SSSP.py\n",
    "from mrjob.job import MRJob\n",
    "from mrjob.step import MRStep\n",
    "from collections import Counter\n",
    "import ast\n",
    "import json\n",
    "\n",
    "# This class implements the Single Source Shortest Path (SSSP) breadth-first search\n",
    "# algorithm for an unweighted graph in MapReduce.  The functions of the mapper and reducer\n",
    "# are explained below.  Once a node is put in to the V state its shortest path has been found\n",
    "# (this is not true for a weighted graph)\n",
    "class MRSSSP(MRJob):\n",
    "    def configure_options(self):\n",
    "        # Configure a new command line option to capture the stop_index for the shortest path\n",
    "        super(MRSSSP, self).configure_options()\n",
    "        self.add_passthrough_option('--stop_index', type='str', default='no_stop_index')\n",
    "    \n",
    "    def __init__(self, *args, **kwargs):\n",
    "        # Set the stop_index as a class variable\n",
    "        super(MRSSSP, self).__init__(*args, **kwargs)\n",
    "        self.stop_index = self.options.stop_index\n",
    "\n",
    "    def mapper(self, _, line):\n",
    "        # If a node is in the Q state then yield 2 things.  1.  The adjacency list, the\n",
    "        # minimum distance and the shortest path plus its own node name as this is the shortest\n",
    "        # path that will be found.  2.  All of the nodes in its adj_list each with the following:\n",
    "        # An empty adjacency list, the current min_dist plus the distance to this node, the\n",
    "        # current shortest path plus the path to this node, state of Q.\n",
    "        node_num, data = line.strip().split('\\t')\n",
    "        data = json.loads(data)\n",
    "        node_num = node_num.strip('\"')\n",
    "        adj_dict = data[0]\n",
    "        min_dist = data[1]\n",
    "        short_path = data[2]\n",
    "        state = data[3]\n",
    "        if state == 'Q':\n",
    "            yield node_num, tuple((adj_dict, min_dist, short_path+node_num, 'V'))\n",
    "            for node, dist in adj_dict.iteritems():\n",
    "                yield node, tuple(({}, float(min_dist)+float(dist), short_path+node_num+'->', 'Q'))\n",
    "        else:\n",
    "            yield node_num, tuple((adj_dict, min_dist, short_path, state))\n",
    "    \n",
    "    # For each element in the data list, do the following:\n",
    "    # - Use the adjacency list for a node that is not {}, there will always be one.\n",
    "    # - Find the minimum distance of all of the elements of the list, use the shortest\n",
    "    # path and state from this element as well.\n",
    "    # If an element is in the Q state and there is no_stop_index, then increment the\n",
    "    # 'Number_In_Q' counter\n",
    "    # If an element is in the V state (meaning its shortest path has already been found) and\n",
    "    # it is the stopping index, then increment the 'Stop_Index_Found' counter.\n",
    "    def reducer(self, node, data):\n",
    "        f_adj_dict = Counter()\n",
    "        f_min_dist = float('inf')\n",
    "        f_short_path = ''\n",
    "        f_state = 'U'\n",
    "        for adj_dict, min_dist, short_path, state in data:\n",
    "            if adj_dict != {} and f_adj_dict == {}:\n",
    "                f_adj_dict = adj_dict\n",
    "            min_dist = float(min_dist)\n",
    "            if min_dist < f_min_dist:\n",
    "                f_min_dist = min_dist\n",
    "                f_short_path = short_path\n",
    "                f_state = state\n",
    "        if f_state == 'Q' and self.stop_index == 'no_stop_index':\n",
    "            self.increment_counter('SSSP_Counters', 'Number_In_Q', 1)\n",
    "        elif f_state == 'V' and self.stop_index == node:\n",
    "            self.increment_counter('SSSP_Counters', 'Stop_Index_Found', 1)            \n",
    "        yield node, tuple((f_adj_dict, f_min_dist, f_short_path, f_state))\n",
    "\n",
    "    def steps(self):\n",
    "        # Create the steps for the MRJob.  There is only one MRJob here containing\n",
    "        # a mapper and a reducer.\n",
    "        return [\n",
    "            MRStep(mapper=self.mapper,\n",
    "                   reducer=self.reducer)\n",
    "               ]\n",
    "            \n",
    "if __name__ == '__main__':\n",
    "    MRSSSP.run()"
   ]
  },
  {
   "cell_type": "markdown",
   "metadata": {},
   "source": [
    "### Driver:  directed_toy.txt from 1 to 5"
   ]
  },
  {
   "cell_type": "code",
   "execution_count": 15,
   "metadata": {
    "collapsed": false
   },
   "outputs": [
    {
     "name": "stdout",
     "output_type": "stream",
     "text": [
      "Iteration 0\n",
      "4 [{u'2': 1, u'5': 1}, inf, u'', u'U']\n",
      "5 [{u'1': 1, u'2': 1, u'4': 1}, inf, u'', u'U']\n",
      "6 [{}, 1.0, u'1->', u'Q']\n",
      "1 [{u'2': 1, u'6': 1}, 0.0, u'1', u'V']\n",
      "2 [{u'1': 1, u'3': 1, u'4': 1}, 1.0, u'1->', u'Q']\n",
      "3 [{u'2': 1, u'4': 1}, inf, u'', u'U']\n",
      "Iteration 1\n",
      "4 [{u'2': 1, u'5': 1}, 2.0, u'1->2->', u'Q']\n",
      "5 [{u'1': 1, u'2': 1, u'4': 1}, inf, u'', u'U']\n",
      "6 [{}, 1.0, u'1->6', u'V']\n",
      "1 [{u'2': 1, u'6': 1}, 0.0, u'1', u'V']\n",
      "2 [{u'1': 1, u'3': 1, u'4': 1}, 1.0, u'1->2', u'V']\n",
      "3 [{u'2': 1, u'4': 1}, 2.0, u'1->2->', u'Q']\n",
      "Iteration 2\n",
      "4 [{u'2': 1, u'5': 1}, 2.0, u'1->2->4', u'V']\n",
      "5 [{u'1': 1, u'2': 1, u'4': 1}, 3.0, u'1->2->4->', u'Q']\n",
      "6 [{}, 1.0, u'1->6', u'V']\n",
      "1 [{u'2': 1, u'6': 1}, 0.0, u'1', u'V']\n",
      "2 [{u'1': 1, u'3': 1, u'4': 1}, 1.0, u'1->2', u'V']\n",
      "3 [{u'2': 1, u'4': 1}, 2.0, u'1->2->3', u'V']\n",
      "Iteration 3\n",
      "4 [{u'2': 1, u'5': 1}, 2.0, u'1->2->4', u'V']\n",
      "5 [{u'1': 1, u'2': 1, u'4': 1}, 3.0, u'1->2->4->5', u'V']\n",
      "6 [{}, 1.0, u'1->6', u'V']\n",
      "1 [{u'2': 1, u'6': 1}, 0.0, u'1', u'V']\n",
      "2 [{u'1': 1, u'3': 1, u'4': 1}, 1.0, u'1->2', u'V']\n",
      "3 [{u'2': 1, u'4': 1}, 2.0, u'1->2->3', u'V']\n",
      "\n",
      "The shortest path from 1 to 5 is: 1->2->4->5\n"
     ]
    }
   ],
   "source": [
    "%reload_ext autoreload\n",
    "%autoreload 2\n",
    "from SSSP import MRSSSP\n",
    "from SSSPInit import MRSSSPInit\n",
    "import json\n",
    "\n",
    "# Set the name of the file that gets passed from iteration to iteration\n",
    "work_filename = 'work_table.txt'\n",
    "\n",
    "# Initialize the work table file\n",
    "# d2_toy.txt, d2a_toy.txt and d3_toy.txt start with 'A', all others start\n",
    "# with the default of '1'\n",
    "start_index = '1'\n",
    "#mr_job = MRSSSPInit(args=['d2_toy.txt', '--start_index', start_index, '--unweighted', '1'])\n",
    "mr_job = MRSSSPInit(args=['directed_toy.txt', '--start_index', start_index, '--unweighted', '1'])\n",
    "with mr_job.make_runner() as runner, open(work_filename, 'w') as f: \n",
    "    runner.run()\n",
    "    # stream_output: get access of the output \n",
    "    for line in runner.stream_output():\n",
    "        key, value =  mr_job.parse_output_line(line)\n",
    "        f.write(key+'\\t'+json.dumps(value)+'\\n')\n",
    "\n",
    "# Run the SSSP MRJob\n",
    "#stop_index = 'no_stop_index'\n",
    "stop_index = '5'\n",
    "mr_job = MRSSSP(args=[work_filename, '--stop_index', stop_index])\n",
    "    \n",
    "# Update work table file iteratively\n",
    "i = 0\n",
    "# Set stop condition to False\n",
    "Stop = False\n",
    "while(Stop==False):\n",
    "    work_table = {}\n",
    "    # Print the iteration number\n",
    "    print('Iteration %d' % (i))\n",
    "    with mr_job.make_runner() as runner: \n",
    "        runner.run()\n",
    "        # stream_output: get access of the output \n",
    "        for line in runner.stream_output():\n",
    "            key,value =  mr_job.parse_output_line(line)\n",
    "            print key, value\n",
    "            work_table[key] = value\n",
    "            if stop_index == 'no_stop_index':\n",
    "                Stop = True\n",
    "                if value[3] == 'Q':\n",
    "                    Stop = False \n",
    "            else:\n",
    "                if value[3] == 'V' and key == stop_index:\n",
    "                    Stop = True\n",
    "        \n",
    "        # Update work_table for the next iteration\n",
    "        with open(work_filename, 'w') as f:\n",
    "            for key, value in work_table.iteritems():\n",
    "                f.write(key+'\\t'+json.dumps(value)+'\\n')\n",
    "    i += 1\n",
    "    \n",
    "if stop_index != 'no_stop_index':\n",
    "    print\n",
    "    print('The shortest path from %s to %s is: %s' % (start_index, stop_index, work_table[stop_index][2]))"
   ]
  },
  {
   "cell_type": "markdown",
   "metadata": {},
   "source": [
    "### Driver:  undirected_toy.txt from 1 to 4"
   ]
  },
  {
   "cell_type": "code",
   "execution_count": 16,
   "metadata": {
    "collapsed": false
   },
   "outputs": [
    {
     "name": "stdout",
     "output_type": "stream",
     "text": [
      "Iteration 0\n",
      "4 [{u'3': 1, u'2': 1, u'5': 1}, inf, u'', u'U']\n",
      "5 [{u'1': 1, u'2': 1, u'4': 1}, 1.0, u'1->', u'Q']\n",
      "1 [{u'2': 1, u'5': 1}, 0.0, u'1', u'V']\n",
      "2 [{u'1': 1, u'3': 1, u'5': 1, u'4': 1}, 1.0, u'1->', u'Q']\n",
      "3 [{u'2': 1, u'4': 1}, inf, u'', u'U']\n",
      "Iteration 1\n",
      "4 [{u'3': 1, u'2': 1, u'5': 1}, 2.0, u'1->2->', u'Q']\n",
      "5 [{u'1': 1, u'2': 1, u'4': 1}, 1.0, u'1->5', u'V']\n",
      "1 [{u'2': 1, u'5': 1}, 0.0, u'1', u'V']\n",
      "2 [{u'1': 1, u'3': 1, u'5': 1, u'4': 1}, 1.0, u'1->2', u'V']\n",
      "3 [{u'2': 1, u'4': 1}, 2.0, u'1->2->', u'Q']\n",
      "Iteration 2\n",
      "4 [{u'3': 1, u'2': 1, u'5': 1}, 2.0, u'1->2->4', u'V']\n",
      "5 [{u'1': 1, u'2': 1, u'4': 1}, 1.0, u'1->5', u'V']\n",
      "1 [{u'2': 1, u'5': 1}, 0.0, u'1', u'V']\n",
      "2 [{u'1': 1, u'3': 1, u'5': 1, u'4': 1}, 1.0, u'1->2', u'V']\n",
      "3 [{u'2': 1, u'4': 1}, 2.0, u'1->2->3', u'V']\n",
      "\n",
      "The shortest path from 1 to 4 is: 1->2->4\n"
     ]
    }
   ],
   "source": [
    "%reload_ext autoreload\n",
    "%autoreload 2\n",
    "from SSSP import MRSSSP\n",
    "from SSSPInit import MRSSSPInit\n",
    "import json\n",
    "\n",
    "# Set the name of the file that gets passed from iteration to iteration\n",
    "work_filename = 'work_table.txt'\n",
    "\n",
    "# Initialize the work table file\n",
    "# d2_toy.txt, d2a_toy.txt and d3_toy.txt start with 'A', all others start\n",
    "# with the default of '1'\n",
    "start_index = '1'\n",
    "mr_job = MRSSSPInit(args=['undirected_toy.txt', '--start_index', start_index])\n",
    "with mr_job.make_runner() as runner, open(work_filename, 'w') as f: \n",
    "    runner.run()\n",
    "    # stream_output: get access of the output \n",
    "    for line in runner.stream_output():\n",
    "        key, value =  mr_job.parse_output_line(line)\n",
    "        f.write(key+'\\t'+json.dumps(value)+'\\n')\n",
    "\n",
    "# Run the SSSP MRJob\n",
    "stop_index = '4'\n",
    "mr_job = MRSSSP(args=[work_filename, '--stop_index', stop_index])\n",
    "    \n",
    "# Update work table file iteratively\n",
    "i = 0\n",
    "# Set stop condition to False\n",
    "Stop = False\n",
    "while(Stop==False):\n",
    "    work_table = {}\n",
    "    # Print the iteration number\n",
    "    print('Iteration %d' % (i))\n",
    "    with mr_job.make_runner() as runner: \n",
    "        runner.run()\n",
    "        # stream_output: get access of the output \n",
    "        for line in runner.stream_output():\n",
    "            key,value =  mr_job.parse_output_line(line)\n",
    "            print key, value\n",
    "            work_table[key] = value\n",
    "            if stop_index == 'no_stop_index':\n",
    "                Stop = True\n",
    "                if value[3] == 'Q':\n",
    "                    Stop = False \n",
    "            else:\n",
    "                if value[3] == 'V' and key == stop_index:\n",
    "                    Stop = True\n",
    "        \n",
    "        # Update work_table for the next iteration\n",
    "        with open(work_filename, 'w') as f:\n",
    "            for key, value in work_table.iteritems():\n",
    "                f.write(key+'\\t'+json.dumps(value)+'\\n')\n",
    "    i += 1\n",
    "\n",
    "# Print the final shortest path\n",
    "if stop_index != 'no_stop_index':\n",
    "    print\n",
    "    print('The shortest path from %s to %s is: %s' % (start_index, stop_index, work_table[stop_index][2]))"
   ]
  },
  {
   "cell_type": "markdown",
   "metadata": {},
   "source": [
    "<h1 style=\"color:#021353;\">HW 7.1: Exploratory data analysis (NLTK synonyms)</h1>\n",
    "<div style=\"margin:10px;border-left:5px solid #eee;\">\n",
    "<pre style=\"font-family:sans-serif;background-color:transparent\">\n",
    "Using MRJob, explore the synonyms network data.\n",
    "Consider plotting the degree distribution (does it follow a power law?),\n",
    "and determine some of the key features, like:\n",
    "\n",
    "number of nodes, \n",
    "number links,\n",
    "or the average degree (i.e., the average number of links per node),\n",
    "etc...\n",
    "\n",
    "As you develop your code, please be sure to run it locally first (though on the whole dataset). \n",
    "Once you have gotten you code to run locally, deploy it on AWS as a systems test\n",
    "in preparation for our next dataset (which will require AWS).\n",
    "</pre>\n",
    "</div>"
   ]
  },
  {
   "cell_type": "markdown",
   "metadata": {},
   "source": [
    "**ANSWER:**  \n",
    "\n",
    "**Total Nodes:** 8,271  \n",
    "**Total Edges:** 30,567.00  \n",
    "**Average Degree:** 7.39  \n",
    "**Degree distribution:** see section below labeled: 'OUTPUT FOR HW7.1 DEGREE DISTRIBUTION'  \n",
    "**Power Law:**  Yes, the shape of the Degree distribution below has the shape of a power law distribution.  One that has very few small values with very high frequencies on the left of the distribution near zero and then has many very large values with low frequencies on the right of the distribution."
   ]
  },
  {
   "cell_type": "markdown",
   "metadata": {},
   "source": [
    "### Create a class for EDA of an undirected graph (for the SynNet.txt file)"
   ]
  },
  {
   "cell_type": "code",
   "execution_count": 2,
   "metadata": {
    "collapsed": false
   },
   "outputs": [
    {
     "name": "stdout",
     "output_type": "stream",
     "text": [
      "Overwriting EDAGraph.py\n"
     ]
    }
   ],
   "source": [
    "%%writefile EDAGraph.py\n",
    "from mrjob.job import MRJob\n",
    "from mrjob.step import MRStep\n",
    "import ast\n",
    "\n",
    "# This class outputs the Total Nodes, Total Edges and Average Degree of an undirected\n",
    "# graph.\n",
    "class MREDAGraph(MRJob):\n",
    "    # Initialize variables to store the total nodes and total edges\n",
    "    def __init__(self, *args, **kwargs):\n",
    "        super(MREDAGraph, self).__init__(*args, **kwargs)\n",
    "        self.total_nodes = 0\n",
    "        self.total_edges = 0\n",
    "        \n",
    "    # Calculate the degree of the node, then yield the degree and update\n",
    "    # the total nodes by 1 and the total edges by the degree.\n",
    "    def mapper(self, _, line):\n",
    "        node_num, adj_dict = line.strip().split('\\t')\n",
    "        degree = len(ast.literal_eval(adj_dict))\n",
    "        yield str(degree), 1\n",
    "        self.total_nodes += 1\n",
    "        self.total_edges += degree\n",
    "    \n",
    "# This class outputs the Total Nodes, Total Edges and Average Degree of an undirected\n",
    "# graph.\n",
    "class MREDAGraph(MRJob):\n",
    "    # Initialize variables to store the total nodes and total edges\n",
    "    def __init__(self, *args, **kwargs):\n",
    "        super(MREDAGraph, self).__init__(*args, **kwargs)\n",
    "        self.total_nodes = 0\n",
    "        self.total_edges = 0\n",
    "        \n",
    "    # Calculate the degree of the node, then yield the degree and update\n",
    "    # the total nodes by 1 and the total edges by the degree.\n",
    "    def mapper(self, _, line):\n",
    "        node_num, adj_dict = line.strip().split('\\t')\n",
    "        degree = len(ast.literal_eval(adj_dict))\n",
    "        yield str(degree), 1\n",
    "        self.total_nodes += 1\n",
    "        self.total_edges += degree\n",
    "    \n",
    "    # In-memory combiner.  Output the total nodes and total edges for all input\n",
    "    # to this mapper.  Include the ** at the beginning of the name of the key\n",
    "    # so that the reducer will see these keys first.  This is an order inversion\n",
    "    # pattern.\n",
    "    def mapper_final(self):\n",
    "        yield '**total_nodes', self.total_nodes\n",
    "        yield '*total_edges', self.total_edges\n",
    "    \n",
    "    # Aggregate the data for each key.\n",
    "    def combiner(self, key, data):\n",
    "        yield key, sum(data)\n",
    "    \n",
    "    # Calculate the total nodes first using order inversion and yield the result.\n",
    "    # Calculate the total edges and average degree and yield them.  Then sum\n",
    "    # the frequencies of the node degrees and yield them.\n",
    "    def reducer(self, key, data):\n",
    "        if key == '**total_nodes':\n",
    "            self.total_nodes = sum(data)\n",
    "            yield '*total_nodes', self.total_nodes\n",
    "        elif key == '*total_edges':\n",
    "            self.total_edges = float(sum(data))\n",
    "            yield key, self.total_edges/2.0\n",
    "            yield '*average_degree', self.total_edges/self.total_nodes\n",
    "        else:\n",
    "            yield key, sum(data)\n",
    "\n",
    "    # Create the steps for the MRJob.\n",
    "    def steps(self):\n",
    "        return [\n",
    "            MRStep(mapper=self.mapper, mapper_final=self.mapper_final,\n",
    "                   combiner=self.combiner,\n",
    "                   reducer=self.reducer)\n",
    "               ]\n",
    "            \n",
    "if __name__ == '__main__':\n",
    "    MREDAGraph.run()"
   ]
  },
  {
   "cell_type": "code",
   "execution_count": 3,
   "metadata": {
    "collapsed": false
   },
   "outputs": [
    {
     "name": "stdout",
     "output_type": "stream",
     "text": [
      "Total Nodes: 8271\n",
      "Total Edges: 30567.00\n",
      "Average Degree: 7.39\n"
     ]
    }
   ],
   "source": [
    "%reload_ext autoreload\n",
    "%autoreload 2\n",
    "from EDAGraph import MREDAGraph\n",
    "\n",
    "# Run the EDAGraph MRJob\n",
    "#mr_job = MREDAGraph(args=['synNet_100.txt'])\n",
    "mr_job = MREDAGraph(args=['synNet.txt'])\n",
    "\n",
    "# Initialize a dictionary to store the degree distribution\n",
    "degree_dist = {}\n",
    "with mr_job.make_runner() as runner: \n",
    "    runner.run()\n",
    "    # stream_output: get access of the output \n",
    "    for line in runner.stream_output():\n",
    "        key, value =  mr_job.parse_output_line(line)\n",
    "        #print key, value\n",
    "        if key == '*total_nodes':\n",
    "            print('Total Nodes: %d' % (value))\n",
    "        elif key == '*total_edges':\n",
    "            print('Total Edges: %.2f' % (value))\n",
    "        elif key == '*average_degree':\n",
    "            print('Average Degree: %.2f' % (value))\n",
    "            pass\n",
    "        else:\n",
    "            degree_dist[int(key)] = value\n",
    "#print len(degree_dist)\n",
    "#print degree_dist"
   ]
  },
  {
   "cell_type": "code",
   "execution_count": 4,
   "metadata": {
    "collapsed": false
   },
   "outputs": [
    {
     "data": {
      "text/plain": [
       "<matplotlib.axes._subplots.AxesSubplot at 0x7f83ef021d50>"
      ]
     },
     "execution_count": 4,
     "metadata": {},
     "output_type": "execute_result"
    },
    {
     "data": {
      "image/png": "[encoded data removed]",
      "text/plain": [
       "<matplotlib.figure.Figure at 0x7f83ef021690>"
      ]
     },
     "metadata": {},
     "output_type": "display_data"
    }
   ],
   "source": [
    "##### OUTPUT FOR HW7.1 DEGREE DISTRIBUTION #####\n",
    "%matplotlib inline\n",
    "import pandas\n",
    "\n",
    "#http://pandas.pydata.org/pandas-docs/stable/generated/pandas.DataFrame.plot.html\n",
    "\n",
    "# Plot a histogram of the degrees and their frequencies\n",
    "df = pandas.DataFrame.from_dict(degree_dist, orient='index')\n",
    "df = df.sort_index()\n",
    "df.plot(kind='bar', figsize=(20,8), legend=False, \n",
    "        title='Degree Distribution')"
   ]
  },
  {
   "cell_type": "markdown",
   "metadata": {},
   "source": [
    "<h1 style=\"color:#021353;\">HW 7.2: Shortest path graph distances (NLTK synonyms)</h1>\n",
    "<div style=\"margin:10px;border-left:5px solid #eee;\">\n",
    "<pre style=\"font-family:sans-serif;background-color:transparent\">\n",
    "Write (reuse your code from 7.0) an MRJob class to find shortest path graph distances, \n",
    "and apply it to the NLTK synonyms network dataset. \n",
    "\n",
    "Proof your code's function by running the job:\n",
    "\n",
    "- shortest path starting at \"walk\" (index=7827) and ending at \"make\" (index=536),\n",
    "\n",
    "and showing you code's output. Once again, your output should include the path and the distance.\n",
    "\n",
    "As you develop your code, please be sure to run it locally first (though on the whole dataset). \n",
    "Once you have gotten you code to run locally, deploy it on AWS as a systems test\n",
    "in preparation for our next dataset (which will require AWS).\n",
    "\n",
    "=====================================\n",
    "<strong>NOTE: Dataset 2 English Wikipedia hyperlink network.data </strong>\n",
    "The dataset is available via Dropbox at:\n",
    "\n",
    "https://www.dropbox.com/sh/2c0k5adwz36lkcw/AAAAKsjQfF9uHfv-X9mCqr9wa?dl=0\n",
    "\n",
    "For the remainder of this assignment you will explore the English Wikipedia hyperlink network.\n",
    "\n",
    "The dataset is built from the Sept. 2015 XML snapshot of English Wikipedia.\n",
    "For this directed network, a link between articles: \n",
    "\n",
    "A -> B\n",
    "\n",
    "is defined by the existence of a hyperlink in A pointing to B.\n",
    "This network also exists in the indexed format:\n",
    "\n",
    "Data: <a href=\"s3://ucb-mids-mls-networks/wikipedia/all-pages-indexed-out.txt\">s3://ucb-mids-mls-networks/wikipedia/all-pages-indexed-out.txt</a>\n",
    "Data: <a href=\"s3://ucb-mids-mls-networks/wikipedia/all-pages-indexed-in.txt\">s3://ucb-mids-mls-networks/wikipedia/all-pages-indexed-in.txt</a>\n",
    "Data: <a href=\"s3://ucb-mids-mls-networks/wikipedia/indices.txt\">s3://ucb-mids-mls-networks/wikipedia/indices.txt</a>\n",
    "\n",
    "but has an index with more detailed data:\n",
    "\n",
    "(article name) \\t (index) \\t (in degree) \\t (out degree)\n",
    "\n",
    "In the dictionary, target nodes are keys, link weights are values .\n",
    "Here, a weight indicates the number of time a page links to another.\n",
    "However, for the sake of this assignment, treat this an unweighted network,\n",
    "and set all weights to 1 upon data input.\n",
    "\n",
    "</pre>\n",
    "</div>"
   ]
  },
  {
   "cell_type": "markdown",
   "metadata": {},
   "source": [
    "- **SynNet dataset:**  shortest path starting at \"walk\" (index=7827) and ending at \"make\" (index=536)  \n",
    "**ANSWER:**  \n",
    "The shortest path from 7827 to 536 is: 7827->1426->1668->536  \n",
    "The shortest path from 'walk' to 'make' is: 'walk'->'pass'->'Give'->'make'"
   ]
  },
  {
   "cell_type": "code",
   "execution_count": 5,
   "metadata": {
    "collapsed": false
   },
   "outputs": [],
   "source": [
    "%reload_ext autoreload\n",
    "%autoreload 2\n",
    "from SSSPInit import MRSSSPInit\n",
    "import json\n",
    "\n",
    "# Set the name of the file that gets passed from iteration to iteration\n",
    "work_filename = 'work_table.txt'\n",
    "\n",
    "# Initialize the work table file\n",
    "start_index = '7827'\n",
    "mr_job = MRSSSPInit(args=['synNet.txt', '--start_index', start_index])\n",
    "#mr_job = MRSSSPInit(args=['synNet_100.txt', '--start_index', '10'])\n",
    "\n",
    "with mr_job.make_runner() as runner, open(work_filename, 'w') as f: \n",
    "    runner.run()\n",
    "    # stream_output: get access of the output \n",
    "    for line in runner.stream_output():\n",
    "        key, value =  mr_job.parse_output_line(line)\n",
    "        f.write(key+'\\t'+json.dumps(value)+'\\n')"
   ]
  },
  {
   "cell_type": "code",
   "execution_count": 6,
   "metadata": {
    "collapsed": false
   },
   "outputs": [
    {
     "name": "stdout",
     "output_type": "stream",
     "text": [
      "Iteration 0\n",
      "Iteration 1\n",
      "Iteration 2\n",
      "Iteration 3\n",
      "\n",
      "The shortest path from 7827 to 536 is: 7827->1426->1668->536\n"
     ]
    }
   ],
   "source": [
    "%reload_ext autoreload\n",
    "%autoreload 2\n",
    "from SSSP import MRSSSP\n",
    "import json\n",
    "\n",
    "# Set the name of the file that gets passed from iteration to iteration\n",
    "work_filename = 'work_table.txt'\n",
    "\n",
    "# Run the SSSP MRJob\n",
    "#stop_index = 'no_stop_index'\n",
    "stop_index = '536'\n",
    "mr_job = MRSSSP(args=[work_filename, '--stop_index', stop_index])\n",
    "    \n",
    "# Update work table file iteratively\n",
    "i = 0\n",
    "# Set start condition to True\n",
    "Stop = False\n",
    "while(Stop==False):\n",
    "    work_table = {}\n",
    "    # Print the iteration number\n",
    "    print('Iteration %d' % (i))\n",
    "    with mr_job.make_runner() as runner: \n",
    "        runner.run()\n",
    "        # stream_output: get access of the output \n",
    "        for line in runner.stream_output():\n",
    "            key,value =  mr_job.parse_output_line(line)\n",
    "            #print key, value\n",
    "            work_table[key] = value\n",
    "            if stop_index == 'no_stop_index':\n",
    "                Stop = True\n",
    "                if value[3] == 'Q':\n",
    "                    Stop = False \n",
    "            else:\n",
    "                if value[3] == 'V' and key == stop_index:\n",
    "                    Stop = True\n",
    "        \n",
    "        # Update work_table for the next iteration\n",
    "        with open(work_filename, 'w') as f:\n",
    "            for key, value in work_table.iteritems():\n",
    "                f.write(key+'\\t'+json.dumps(value)+'\\n')\n",
    "    i += 1\n",
    "\n",
    "# Print the final shortest path\n",
    "if stop_index != 'no_stop_index':\n",
    "    print\n",
    "    print('The shortest path from %s to %s is: %s' % (start_index, stop_index, work_table[stop_index][2]))"
   ]
  },
  {
   "cell_type": "code",
   "execution_count": 7,
   "metadata": {
    "collapsed": false
   },
   "outputs": [
    {
     "name": "stdout",
     "output_type": "stream",
     "text": [
      "3536\t[{\"1436\": 1, \"1437\": 1, \"769\": 1, \"1438\": 1, \"1865\": 1, \"1864\": 1, \"1870\": 1, \"1869\": 1, \"402\": 1}, Infinity, \"\", \"U\"]\r\n",
      "2536\t[{\"2622\": 1, \"2621\": 1, \"156\": 1, \"3399\": 1, \"4010\": 1, \"3947\": 1, \"2609\": 1, \"4058\": 1, \"5461\": 1, \"2533\": 1, \"137\": 1, \"5336\": 1, \"2947\": 1, \"226\": 1, \"617\": 1, \"268\": 1, \"1192\": 1, \"1150\": 1}, 4.0, \"7827->1426->1706->137->\", \"Q\"]\r\n",
      "1536\t[{\"2713\": 1, \"6581\": 1, \"2716\": 1, \"1543\": 1, \"2714\": 1, \"2715\": 1, \"1271\": 1, \"4010\": 1, \"2034\": 1, \"1933\": 1, \"3533\": 1, \"3532\": 1, \"156\": 1, \"2032\": 1, \"2031\": 1, \"1934\": 1, \"2533\": 1, \"1534\": 1, \"2033\": 1}, 4.0, \"7827->1426->3551->1271->\", \"Q\"]\r\n",
      "5536\t[{\"1704\": 1, \"3520\": 1, \"5957\": 1, \"2771\": 1, \"2195\": 1, \"5535\": 1, \"5961\": 1, \"5963\": 1, \"95\": 1, \"1699\": 1, \"5967\": 1}, 3.0, \"7827->1426->1699->5536\", \"V\"]\r\n",
      "536\t[{\"215\": 1, \"3648\": 1, \"662\": 1, \"3658\": 1, \"3656\": 1, \"3657\": 1, \"3651\": 1, \"3652\": 1, \"3653\": 1, \"3555\": 1, \"3554\": 1, \"6002\": 1, \"3552\": 1, \"6000\": 1, \"6001\": 1, \"404\": 1, \"2248\": 1, \"2249\": 1, \"4180\": 1, \"2246\": 1, \"2247\": 1, \"3993\": 1, \"3992\": 1, \"3760\": 1, \"3761\": 1, \"1313\": 1, \"3481\": 1, \"3769\": 1, \"3483\": 1, \"3482\": 1, \"3485\": 1, \"121\": 1, \"265\": 1, \"264\": 1, \"3647\": 1, \"1554\": 1, \"5593\": 1, \"5592\": 1, \"5594\": 1, \"5596\": 1, \"57\": 1, \"534\": 1, \"533\": 1, \"532\": 1, \"531\": 1, \"1668\": 1, \"2257\": 1, \"2256\": 1, \"2255\": 1, \"2254\": 1, \"2253\": 1, \"2252\": 1, \"2794\": 1, \"5912\": 1, \"3775\": 1, \"3774\": 1, \"4320\": 1, \"585\": 1, \"4651\": 1, \"4652\": 1, \"770\": 1, \"3471\": 1, \"3478\": 1, \"5281\": 1, \"448\": 1, \"3749\": 1, \"3742\": 1, \"3743\": 1, \"3740\": 1, \"3741\": 1, \"3310\": 1, \"6003\": 1, \"1647\": 1, \"3551\": 1, \"5911\": 1, \"4420\": 1, \"4421\": 1, \"641\": 1, \"2251\": 1, \"2250\": 1, \"2160\": 1, \"3593\": 1, \"4318\": 1, \"3595\": 1, \"3594\": 1, \"3751\": 1, \"3750\": 1, \"3599\": 1, \"3598\": 1, \"64\": 1, \"5208\": 1, \"69\": 1, \"657\": 1, \"653\": 1, \"659\": 1, \"631\": 1, \"3601\": 1, \"3600\": 1, \"4608\": 1, \"4609\": 1, \"3688\": 1, \"5364\": 1, \"722\": 1, \"6058\": 1, \"6057\": 1, \"6056\": 1, \"2439\": 1, \"1209\": 1, \"3739\": 1, \"1162\": 1, \"5211\": 1, \"1661\": 1, \"5210\": 1, \"3738\": 1, \"3737\": 1, \"1199\": 1, \"5354\": 1, \"5353\": 1, \"1811\": 1, \"5351\": 1, \"1195\": 1, \"3241\": 1, \"4316\": 1, \"4317\": 1, \"3621\": 1, \"4319\": 1, \"3622\": 1, \"616\": 1, \"73\": 1, \"5209\": 1, \"1810\": 1, \"4791\": 1, \"5352\": 1, \"6004\": 1, \"5366\": 1, \"1801\": 1, \"5365\": 1, \"1681\": 1, \"1685\": 1, \"1477\": 1, \"474\": 1, \"1688\": 1, \"3553\": 1}, 3.0, \"7827->1426->1668->536\", \"V\"]\r\n",
      "6536\t[{\"6537\": 1}, Infinity, \"\", \"U\"]\r\n",
      "4536\t[{\"1788\": 1, \"1496\": 1, \"2195\": 1, \"5433\": 1, \"4538\": 1, \"5434\": 1, \"4537\": 1, \"3975\": 1, \"3977\": 1, \"3976\": 1, \"5966\": 1, \"5967\": 1, \"5380\": 1, \"5381\": 1, \"5382\": 1, \"5383\": 1, \"3621\": 1, \"3622\": 1, \"265\": 1, \"6864\": 1, \"6865\": 1, \"5957\": 1, \"5959\": 1, \"5958\": 1, \"1664\": 1, \"4488\": 1, \"3981\": 1, \"2794\": 1}, 4.0, \"7827->1426->1668->265->\", \"Q\"]\r\n",
      "7536\t[{\"3354\": 1, \"5655\": 1}, Infinity, \"\", \"U\"]\r\n"
     ]
    }
   ],
   "source": [
    "!grep '536\t' work_table.txt"
   ]
  },
  {
   "cell_type": "code",
   "execution_count": 7,
   "metadata": {
    "collapsed": false
   },
   "outputs": [
    {
     "name": "stdout",
     "output_type": "stream",
     "text": [
      "3382\t[{\"4909\": 1, \"3383\": 1, \"3381\": 1}, Infinity, \"\", \"U\"]\r\n"
     ]
    }
   ],
   "source": [
    "# Store the results in a file called 'work_table7-2.txt'\n",
    "!mv work_table.txt work_table7-2.txt\n",
    "!head -1 work_table7-2.txt"
   ]
  },
  {
   "cell_type": "markdown",
   "metadata": {},
   "source": [
    "<h1 style=\"color:#021353;\">HW 7.3: Exploratory data analysis (Wikipedia)</h1>\n",
    "<div style=\"margin:10px;border-left:5px solid #eee;\">\n",
    "<pre style=\"font-family:sans-serif;background-color:transparent\">\n",
    "Using MRJob, explore the Wikipedia network data on the AWS cloud. Reuse your code from HW 7.1---does is scale well? \n",
    "\n",
    "Be cautioned that Wikipedia is a directed network, where links are not symmetric. \n",
    "So, even though a node may be linked to, it will not appear as a primary record itself if it has no out-links. \n",
    "\n",
    "This means that you may have to ADJUST your code (depending on its design). \n",
    "\n",
    "To be sure of your code's functionality in this context, run a systems test on the directed_toy.txt network.\n",
    "</pre>\n",
    "</div>"
   ]
  },
  {
   "cell_type": "markdown",
   "metadata": {},
   "source": [
    "**ANSWER:**  \n",
    "My code from HW7.1 scales well.  No datasets were being stored in memory in either the mapper or the reducer.  Also, an in-memory combiner (via mapper_final) and a regular combiner (via the combiner method) were used to reduce network traffic and limit the work of the reducer.  \n",
    "\n",
    "The code did need to be modified to work for a directed graph.  The wikipedia 'all-pages-indexed-out.txt' file was used for this problem.  Now, for a directed graph, a count of the unique nodes must be done since not all nodes will exist as a row in the 'all-pages-indexed-out.txt' file.  In this case, all nodes in the adjacency lists are output in the mapper as well.  These nodes and their parent nodes are output with a special string '**' appended to the front of the node name in the mapper, so that the reducer will count these first and obtain the unique node count.  This is an example of the order inversion pattern.  \n",
    "\n",
    "**EDA for Wikipedia data:**  \n",
    "**Total Nodes:** 15,192,277  \n",
    "**Total Edges Directed:** 142,114,057.00  \n",
    "**Average Degree:** 9.35  \n",
    "**Degree Distribution:** See section marked 'OUTPUT FOR HW7.3 EDA and DEGREE DISTRIBUTION'  \n",
    "**Power Law:** Yes, the shape of the Degree distribution below has the shape of a power law distribution. One that has very few small values with very high frequencies on the left of the distribution near zero and then has many very large values with low frequencies on the right of the distribution."
   ]
  },
  {
   "cell_type": "markdown",
   "metadata": {},
   "source": [
    "### Get the Wikipedia data"
   ]
  },
  {
   "cell_type": "code",
   "execution_count": 22,
   "metadata": {
    "collapsed": false
   },
   "outputs": [],
   "source": [
    "#!cd /data\n",
    "#!wget http://ucb-mids-mls-networks.s3.amazonaws.com/wikipedia/all-pages-indexed-out.txt\n",
    "#!wget http://ucb-mids-mls-networks.s3.amazonaws.com/wikipedia/all-pages-indexed-in.txt\n",
    "#!wget http://ucb-mids-mls-networks.s3.amazonaws.com/wikipedia/indices.txt\n",
    "#!cd /home/hadoop/w261-Assignments/hw7"
   ]
  },
  {
   "cell_type": "markdown",
   "metadata": {},
   "source": [
    "### Load the Wikipedia data in to HDFS"
   ]
  },
  {
   "cell_type": "code",
   "execution_count": 42,
   "metadata": {
    "collapsed": false
   },
   "outputs": [
    {
     "name": "stdout",
     "output_type": "stream",
     "text": [
      "16/07/05 00:46:31 WARN util.NativeCodeLoader: Unable to load native-hadoop library for your platform... using builtin-java classes where applicable\n",
      "16/07/05 00:46:34 WARN util.NativeCodeLoader: Unable to load native-hadoop library for your platform... using builtin-java classes where applicable\n"
     ]
    }
   ],
   "source": [
    "#!hdfs dfs -mkdir /user/hadoop/HW7data\n",
    "#!hdfs dfs -mkdir /user/hadoop/HW7Results\n",
    "#!hdfs dfs -mkdir /user/hadoop/HW7Output\n",
    "#!hdfs dfs -copyFromLocal /data/indices.txt /user/hadoop/HW7data\n",
    "#!hdfs dfs -copyFromLocal /data/all-pages-indexed-in.txt /user/hadoop/HW7data\n",
    "#!hdfs dfs -copyFromLocal /data/all-pages-indexed-out.txt /user/hadoop/HW7data\n",
    "#!hdfs dfs -copyFromLocal synNet.txt /user/hadoop/HW7data"
   ]
  },
  {
   "cell_type": "markdown",
   "metadata": {},
   "source": [
    "### Create a class for EDA of a directed graph (the wikipedia data)"
   ]
  },
  {
   "cell_type": "code",
   "execution_count": 11,
   "metadata": {
    "collapsed": false
   },
   "outputs": [
    {
     "name": "stdout",
     "output_type": "stream",
     "text": [
      "Overwriting EDADirectedGraph.py\n"
     ]
    }
   ],
   "source": [
    "%%writefile EDADirectedGraph.py\n",
    "from mrjob.job import MRJob\n",
    "from mrjob.step import MRStep\n",
    "from collections import Counter\n",
    "import ast\n",
    "\n",
    "# This class outputs the Total Nodes and Total Edges of an directed graph.\n",
    "class MREDADirectedGraph(MRJob):\n",
    "    # Initialize variables to store the total nodes and total edges\n",
    "    def __init__(self, *args, **kwargs):\n",
    "        super(MREDADirectedGraph, self).__init__(*args, **kwargs)\n",
    "        self.total_nodes = 0\n",
    "        self.total_edges = 0\n",
    "        \n",
    "    # Yield the node and all of the nodes in its adjacency list with special characters '**'\n",
    "    # and a count of 1.  The special characters ensure that the reducer will see these words first\n",
    "    # and sum their counts first.  This is the order inversion pattern.  Calculate the degree of the\n",
    "    # node, then yield the degree and update the total edges by the degree.\n",
    "    def mapper(self, _, line):\n",
    "        node_num, adj_dict = line.strip().split('\\t')\n",
    "        adj_dict = ast.literal_eval(adj_dict)\n",
    "        yield '**' + node_num, 1\n",
    "        for node in adj_dict:\n",
    "            yield '**' + node, 1\n",
    "        degree = len(adj_dict)\n",
    "        yield str(degree), 1\n",
    "        self.total_edges += degree\n",
    "    \n",
    "    # In-memory combiner.  Output the total edges for all input\n",
    "    # to this mapper.  Include the * at the beginning of the name of the key\n",
    "    # so that the reducer will see these keys first.  This is an order inversion\n",
    "    # pattern.\n",
    "    def mapper_final(self):\n",
    "        yield '*total_edges', self.total_edges\n",
    "    \n",
    "    # Aggregate the data for each key.\n",
    "    def combiner(self, key, data):\n",
    "        yield key, sum(data)\n",
    "    \n",
    "    # Calculate the total unique nodes first using order inversion and yield the result.\n",
    "    # Calculate the total edges and yield it.  Then sum the frequencies of the node\n",
    "    # degrees and yield them.\n",
    "    def reducer(self, key, data):\n",
    "        if key[:2] == '**':\n",
    "            self.total_nodes += 1\n",
    "        elif key == '*total_edges':\n",
    "            yield '*total_nodes', self.total_nodes\n",
    "            self.total_edges = float(sum(data))\n",
    "            yield key, self.total_edges\n",
    "        else:\n",
    "            yield key, sum(data)\n",
    "\n",
    "    # Create the steps for the MRJob.\n",
    "    def steps(self):\n",
    "        JOBCONF_STEP = {        \n",
    "            'mapreduce.job.maps': '100',\n",
    "            'mapreduce.job.reduces': '1'\n",
    "        }\n",
    "        return [\n",
    "            MRStep(jobconf=JOBCONF_STEP,\n",
    "                   mapper=self.mapper, mapper_final=self.mapper_final,\n",
    "                   combiner=self.combiner,\n",
    "                   reducer=self.reducer)\n",
    "               ]\n",
    "            \n",
    "if __name__ == '__main__':\n",
    "    MREDADirectedGraph.run()"
   ]
  },
  {
   "cell_type": "code",
   "execution_count": 12,
   "metadata": {
    "collapsed": false
   },
   "outputs": [
    {
     "name": "stdout",
     "output_type": "stream",
     "text": [
      "16/07/09 19:19:30 WARN util.NativeCodeLoader: Unable to load native-hadoop library for your platform... using builtin-java classes where applicable\n",
      "16/07/09 19:19:31 INFO fs.TrashPolicyDefault: Namenode trash configuration: Deletion interval = 0 minutes, Emptier interval = 0 minutes.\n",
      "Deleted /user/hadoop/HW7Output/EDADirectedGraph\n"
     ]
    },
    {
     "name": "stderr",
     "output_type": "stream",
     "text": [
      "WARNING:mrjob.hadoop:  Unable to load native-hadoop library for your platform... using builtin-java classes where applicable\n",
      "ERROR:mrjob.fs.hadoop:STDERR: 16/07/09 19:21:28 WARN util.NativeCodeLoader: Unable to load native-hadoop library for your platform... using builtin-java classes where applicable\n",
      "\n"
     ]
    },
    {
     "name": "stdout",
     "output_type": "stream",
     "text": [
      "Total Nodes: 8271\n",
      "Total Edges Directed: 61134.00\n",
      "Total Edges Undirected: 30567.00\n",
      "Average Degree: 7.39\n"
     ]
    }
   ],
   "source": [
    "%reload_ext autoreload\n",
    "%autoreload 2\n",
    "from EDADirectedGraph import MREDADirectedGraph\n",
    "\n",
    "# Run the EDADirectedGraph MRJob\n",
    "#mr_job = MREDADirectedGraph(args=['synNet_100.txt'])\n",
    "#mr_job = MREDADirectedGraph(args=['synNet.txt'])\n",
    "#mr_job = MREDADirectedGraph(args=['synNet.txt', '-r', 'hadoop'])\n",
    "ofile ='HW7Output/EDADirectedGraph'\n",
    "!hdfs dfs -rm -r /user/hadoop/$ofile\n",
    "mr_job = MREDADirectedGraph(args=['hdfs:///user/hadoop/HW7data/synNet.txt', '-r', 'hadoop', '--output-dir', ofile])\n",
    "#mr_job = MREDADirectedGraph(args=['hdfs:///user/hadoop/HW7data/all-pages-indexed-out.txt', '-r', 'hadoop'])\n",
    "\n",
    "# Initialize a dictionary to store the degree distribution\n",
    "degree_dist = {}\n",
    "# Initialize variables to store total unique nodes and total edges\n",
    "total_unique_nodes = 0\n",
    "total_edges = 0\n",
    "with mr_job.make_runner() as runner: \n",
    "    runner.run()\n",
    "    # stream_output: get access of the output \n",
    "    for line in runner.stream_output():\n",
    "        key, value =  mr_job.parse_output_line(line)\n",
    "        #print key, value\n",
    "        if key == '*total_nodes':\n",
    "            total_unique_nodes += value\n",
    "        elif key == '*total_edges':\n",
    "            total_edges += value\n",
    "        else:\n",
    "            degree_dist[int(key)] = value\n",
    "\n",
    "print('Total Nodes: %d' % (total_unique_nodes))\n",
    "print('Total Edges Directed: %.2f' % (total_edges))\n",
    "print('Total Edges Undirected: %.2f' % (total_edges/2.0))\n",
    "print('Average Degree: %.2f' % (total_edges/total_unique_nodes))\n",
    "#print len(degree_dist)\n",
    "#print degree_dist"
   ]
  },
  {
   "cell_type": "markdown",
   "metadata": {},
   "source": [
    "### Create a nohup driver file for the Wikipedia EDA job and run it"
   ]
  },
  {
   "cell_type": "code",
   "execution_count": 14,
   "metadata": {
    "collapsed": false
   },
   "outputs": [
    {
     "name": "stdout",
     "output_type": "stream",
     "text": [
      "Overwriting start_job_EDADirectedGraph.sh\n"
     ]
    }
   ],
   "source": [
    "%%writefile start_job_EDADirectedGraph.sh\n",
    "#!/bin/bash\n",
    "# This is a comment\n",
    "\n",
    "hdfs dfs -rm -r /user/hadoop/HW7Output/EDADirectedGraph\n",
    "nohup python EDADirectedGraph.py -r hadoop hdfs:///user/hadoop/HW7data/all-pages-indexed-out.txt --output-dir=HW7Output/EDADirectedGraph --no-output > nohup/EDADirectedGraph.out &\n"
   ]
  },
  {
   "cell_type": "code",
   "execution_count": null,
   "metadata": {
    "collapsed": true
   },
   "outputs": [],
   "source": [
    "#!./start_job_EDADirectedGraph.sh"
   ]
  },
  {
   "cell_type": "code",
   "execution_count": 53,
   "metadata": {
    "collapsed": false,
    "scrolled": true
   },
   "outputs": [
    {
     "name": "stdout",
     "output_type": "stream",
     "text": [
      "16/07/05 01:55:15 WARN util.NativeCodeLoader: Unable to load native-hadoop library for your platform... using builtin-java classes where applicable\n",
      "16/07/05 01:55:16 WARN hdfs.DFSClient: DFSInputStream has been closed already\n"
     ]
    }
   ],
   "source": [
    "##### Copy the results to the HDFS results directory HW7Results and to local disk\n",
    "#!hdfs dfs -cat $ofile/part-00000 | head -20\n",
    "#!hdfs dfs -cp $ofile/part-00000 /user/hadoop/HW7Results/synNet_EDA.txt\n",
    "#!hdfs dfs -cat /user/hadoop/HW7Results/synNet_EDA.txt | head -20\n",
    "#!hdfs dfs -copyToLocal $ofile/part-00000 wikipedia_EDA.txt\n",
    "#!hdfs dfs -copyToLocal /user/hadoop/HW7Results/synNet_EDA.txt synNet_EDA.txt"
   ]
  },
  {
   "cell_type": "code",
   "execution_count": 12,
   "metadata": {
    "collapsed": false
   },
   "outputs": [
    {
     "name": "stdout",
     "output_type": "stream",
     "text": [
      "Total Nodes: 15192277\n",
      "Total Edges Directed: 142114057.00\n",
      "Total Edges Undirected: 71057028.50\n",
      "Average Degree: 9.35\n"
     ]
    },
    {
     "data": {
      "text/plain": [
       "<matplotlib.axes._subplots.AxesSubplot at 0x7f1cf1edbb10>"
      ]
     },
     "execution_count": 12,
     "metadata": {},
     "output_type": "execute_result"
    },
    {
     "data": {
      "image/png": "[encoded data removed]",
      "text/plain": [
       "<matplotlib.figure.Figure at 0x7f1cf9920b90>"
      ]
     },
     "metadata": {},
     "output_type": "display_data"
    }
   ],
   "source": [
    "##### OUTPUT FOR HW7.3 EDA and DEGREE DISTRIBUTION #####\n",
    "%matplotlib inline\n",
    "import pandas as pd\n",
    "\n",
    "# Initialize a dictionary to store the lengths and frequencies\n",
    "degree_dist = {}\n",
    "#filename = 'synNet_EDA.txt'\n",
    "filename = 'wikipedia_EDA.txt'\n",
    "with open(filename, 'r') as f:\n",
    "    for line in f.readlines():\n",
    "        key,value =  line.strip().split('\\t',2)\n",
    "        key = key.strip('\"')\n",
    "        if key == '*total_nodes':\n",
    "            total_unique_nodes = int(value)\n",
    "        elif key == '*total_edges':\n",
    "            total_edges = float(value)\n",
    "        else:\n",
    "            degree_dist[int(key)] = int(value)\n",
    "\n",
    "# Print out the EDA statistics\n",
    "print('Total Nodes: %d' % (total_unique_nodes))\n",
    "print('Total Edges Directed: %.2f' % (total_edges))\n",
    "print('Total Edges Undirected: %.2f' % (total_edges/2.0))\n",
    "print('Average Degree: %.2f' % (total_edges/total_unique_nodes))\n",
    "#print len(degree_dist)\n",
    "#print degree_dist\n",
    "\n",
    "#http://pandas.pydata.org/pandas-docs/stable/generated/pandas.DataFrame.plot.html\n",
    "\n",
    "# Plot a histogram of the lengths and their frequencies\n",
    "df = pd.DataFrame.from_dict(degree_dist, orient='index')\n",
    "df = df.sort_index()\n",
    "# Maximum degree:  7132\n",
    "df.plot(kind='bar', figsize=(20,8), legend=False, xlim=(0, 7150), rot=180,\n",
    "        title='Degree Distribution')"
   ]
  },
  {
   "cell_type": "markdown",
   "metadata": {},
   "source": [
    "<h1 style=\"color:#021353;\">HW 7.4: Shortest path graph distances (Wikipedia)</h1>\n",
    "<div style=\"margin:10px;border-left:5px solid #eee;\">\n",
    "<pre style=\"font-family:sans-serif;background-color:transparent\">\n",
    "Using MRJob, find shortest path graph distances in the Wikipedia network on the AWS cloud.\n",
    "Reuse your code from 7.2, but once again be warned of Wikipedia being a directed network.\n",
    "To be sure of your code's functionality in this context, run a systems test on the directed_toy.txt network.\n",
    "\n",
    "When running your code on the Wikipedia network, proof its function by running the job:\n",
    "\n",
    "- shortest path from \"Ireland\" (index=6176135) to \"University of California, Berkeley\" (index=13466359),\n",
    "\n",
    "and show your code's output. Show the shortest path in terms of just page IDS but also in terms of the name of page (show of your MapReduce\n",
    "join skills!!)\n",
    "\n",
    "Once your code is running, find some other shortest paths and report your results.\n",
    "</pre>\n",
    "</div>"
   ]
  },
  {
   "cell_type": "markdown",
   "metadata": {},
   "source": [
    "**ANSWER:**  \n",
    "- shortest path from \"Ireland\" (index=6176135) to \"University of California, Berkeley\" (index=13466359)  \n",
    "Ireland (index=6176135)  \n",
    "Seamus Heaney (index=11607791)  \n",
    "University of California, Berkeley (index=13466359)  \n",
    "\n",
    "- shortest path from \"Ireland\" (index=6176135) to \"zika virus\" (index=15190949)\n",
    "Ireland (index=6176135)  \n",
    "Early Middle Ages (index=3958065)  \n",
    "List of epidemics (index=7844602)  \n",
    "Chikungunya (index=2786273)  \n",
    "zika virus (index=15190949)  \n",
    "\n",
    "- shortest path from \"Ireland\" (index=6176135) to \"Who's Your Daddy?\" 13958065  \n",
    "Ireland (index=6176135)  \n",
    "Thin Lizzy (index=12944239)  \n",
    "Kiss (band) (index=7173161)  \n",
    "Lordi (index=8011223)  \n",
    "Deadache (index=3529375)  \n",
    "Who's Your Daddy? (index=13958065)  \n",
    "\n",
    "**Type 3 fun:**  I let my SSSP algorithm run for 69 iterations with no stop-index (20 hours).   Here are the results of the file from that iteration:  \n",
    "Q's:  3  \n",
    "V's:  13,259,666  \n",
    "U's:  1,204,989  \n",
    "I wonder how long it would have taken to finish.  It could have been done the next iteration or taken many, many more."
   ]
  },
  {
   "cell_type": "markdown",
   "metadata": {},
   "source": [
    "### Load directed_toy.txt in to HDFS"
   ]
  },
  {
   "cell_type": "code",
   "execution_count": 26,
   "metadata": {
    "collapsed": false
   },
   "outputs": [
    {
     "name": "stdout",
     "output_type": "stream",
     "text": [
      "16/07/05 21:36:24 WARN util.NativeCodeLoader: Unable to load native-hadoop library for your platform... using builtin-java classes where applicable\r\n"
     ]
    }
   ],
   "source": [
    "!hdfs dfs -copyFromLocal directed_toy.txt /user/hadoop/HW7data"
   ]
  },
  {
   "cell_type": "code",
   "execution_count": 26,
   "metadata": {
    "collapsed": false,
    "scrolled": true
   },
   "outputs": [
    {
     "name": "stdout",
     "output_type": "stream",
     "text": [
      "16/07/09 19:55:59 WARN util.NativeCodeLoader: Unable to load native-hadoop library for your platform... using builtin-java classes where applicable\n",
      "16/07/09 19:56:00 INFO fs.TrashPolicyDefault: Namenode trash configuration: Deletion interval = 0 minutes, Emptier interval = 0 minutes.\n",
      "Deleted /user/hadoop/HW7Output/SSSPInit\n"
     ]
    },
    {
     "name": "stderr",
     "output_type": "stream",
     "text": [
      "WARNING:mrjob.hadoop:  Unable to load native-hadoop library for your platform... using builtin-java classes where applicable\n",
      "ERROR:mrjob.fs.hadoop:STDERR: 16/07/09 19:56:30 WARN util.NativeCodeLoader: Unable to load native-hadoop library for your platform... using builtin-java classes where applicable\n",
      "\n"
     ]
    },
    {
     "name": "stdout",
     "output_type": "stream",
     "text": [
      "1 [{u'2': 1, u'6': 1}, 0.0, u'', u'Q']\n",
      "2 [{u'1': 1, u'3': 1, u'4': 1}, inf, u'', u'U']\n",
      "3 [{u'2': 1, u'4': 1}, inf, u'', u'U']\n",
      "4"
     ]
    },
    {
     "name": "stderr",
     "output_type": "stream",
     "text": [
      "ERROR:mrjob.fs.hadoop:STDERR: 16/07/09 19:56:32 WARN util.NativeCodeLoader: Unable to load native-hadoop library for your platform... using builtin-java classes where applicable\n",
      "\n"
     ]
    },
    {
     "name": "stdout",
     "output_type": "stream",
     "text": [
      " [{u'2': 1, u'5': 1}, inf, u'', u'U']\n",
      "5 [{u'1': 1, u'2': 1, u'4': 1}, inf, u'', u'U']\n"
     ]
    }
   ],
   "source": [
    "%reload_ext autoreload\n",
    "%autoreload 2\n",
    "from SSSPInit import MRSSSPInit\n",
    "\n",
    "work_filename = 'work_table.txt'\n",
    "ofile ='HW7Output/SSSPInit'\n",
    "!hdfs dfs -rm -r /user/hadoop/$ofile\n",
    "#mr_job = MRSSSPInit(args=['hdfs:///user/hadoop/HW7data/synNet.txt', '-r', 'hadoop', '--start_index=7827', '--output-dir', ofile])\n",
    "mr_job = MRSSSPInit(args=['hdfs:///user/hadoop/HW7data/directed_toy.txt', '-r', 'hadoop', '--output-dir', ofile])\n",
    "#mr_job = MRSSSPInit(args=['synNet.txt', '--start_index', '7827'])\n",
    "#mr_job = MRSSSPInit(args=['synNet_100.txt', '--start_index', '10'])\n",
    "\n",
    "with mr_job.make_runner() as runner, open(work_filename, 'w') as f: \n",
    "    runner.run()\n",
    "    # stream_output: get access of the output \n",
    "    for line in runner.stream_output():\n",
    "        key, value =  mr_job.parse_output_line(line)\n",
    "        print key, value\n",
    "        f.write(key+'\\t'+json.dumps(value)+'\\n')\n",
    "    #print(runner.counters())"
   ]
  },
  {
   "cell_type": "code",
   "execution_count": 28,
   "metadata": {
    "collapsed": false
   },
   "outputs": [
    {
     "name": "stdout",
     "output_type": "stream",
     "text": [
      "1\t[{\"2\": 1, \"6\": 1}, 0.0, \"\", \"Q\"]\n",
      "2\t[{\"1\": 1, \"3\": 1, \"4\": 1}, Infinity, \"\", \"U\"]\n",
      "3\t[{\"2\": 1, \"4\": 1}, Infinity, \"\", \"U\"]\n",
      "4\t[{\"2\": 1, \"5\": 1}, Infinity, \"\", \"U\"]\n",
      "5\t[{\"1\": 1, \"2\": 1, \"4\": 1}, Infinity, \"\", \"U\"]\n",
      "1\t[{\"2\": 1, \"6\": 1}, 0.0, \"\", \"Q\"]\n"
     ]
    }
   ],
   "source": [
    "!cat work_table.txt | head -10\n",
    "!grep Q work_table.txt"
   ]
  },
  {
   "cell_type": "markdown",
   "metadata": {},
   "source": [
    "### Print and copy output from SSSP Initialization job"
   ]
  },
  {
   "cell_type": "code",
   "execution_count": 19,
   "metadata": {
    "collapsed": false,
    "scrolled": true
   },
   "outputs": [
    {
     "name": "stdout",
     "output_type": "stream",
     "text": [
      "16/07/07 11:40:38 WARN util.NativeCodeLoader: Unable to load native-hadoop library for your platform... using builtin-java classes where applicable\n",
      "16/07/07 11:40:39 INFO fs.TrashPolicyDefault: Namenode trash configuration: Deletion interval = 0 minutes, Emptier interval = 0 minutes.\n",
      "Deleted /user/hadoop/HW7Results/SSSPInit_wikipedia_gypsy\n"
     ]
    }
   ],
   "source": [
    "#!hdfs dfs -mkdir /user/hadoop/HW7Input\n",
    "#!hdfs dfs -cp /user/hadoop/HW7Output/SSSPInit /user/hadoop/HW7Input/SSSPInit\n",
    "#!hdfs dfs -rm -r /user/hadoop/HW7Results/SSSPInit_synNet\n",
    "#!hdfs dfs -cp /user/hadoop/HW7Output/SSSPInit /user/hadoop/HW7Results/SSSPInit_synNet\n",
    "#!hdfs dfs -cat /user/hadoop/HW7Results/SSSPInit_d_toy/part-00001\n",
    "\n",
    "#!hdfs dfs -cp /user/hadoop/HW7Output/SSSPInit /user/hadoop/HW7Results/SSSPInit_wikipedia\n",
    "#!hdfs dfs -cat /user/hadoop/HW7Output/SSSPInit/part-00001 | head -5\n",
    "\n",
    "#!hdfs dfs -ls /user/hadoop/HW7Output/SSSPInit\n",
    "#!hdfs dfs -cp /user/hadoop/HW7Output/SSSPInit /user/hadoop/HW7Results/SSSPInit_wikipedia_gypsy\n",
    "#!hdfs dfs -cat /user/hadoop/HW7Results/SSSPInit_wikipedia_gypsy/part-00015 | grep -c Q\n",
    "#!hdfs dfs -rm -r /user/hadoop/HW7Results/SSSPInit_wikipedia_gypsy\n",
    "\n",
    "#!hdfs dfs -rm -r /user/hadoop/HW7Results/SSSPInit_d_toy\n",
    "#!hdfs dfs -cp /user/hadoop/HW7Output/SSSPInit /user/hadoop/HW7Results/SSSPInit_d_toy\n",
    "#!hdfs dfs -ls /user/hadoop/HW7Output/SSSPInit\n",
    "#!hdfs dfs -ls /user/hadoop/HW7Results/SSSPInit_synNet\n",
    "#!hdfs dfs -cat /user/hadoop/HW7Output/SSSPInit/part-00000 | head -5\n",
    "#!hdfs dfs -copyToLocal /user/hadoop/HW7Output/SSSPInit/part-00001 SSSP_d_toy2.txt"
   ]
  },
  {
   "cell_type": "code",
   "execution_count": 34,
   "metadata": {
    "collapsed": false
   },
   "outputs": [
    {
     "name": "stdout",
     "output_type": "stream",
     "text": [
      "16/07/05 13:29:49 WARN util.NativeCodeLoader: Unable to load native-hadoop library for your platform... using builtin-java classes where applicable\n",
      "16/07/05 13:29:50 WARN hdfs.DFSClient: DFSInputStream has been closed already\n",
      "16/07/05 13:29:52 WARN util.NativeCodeLoader: Unable to load native-hadoop library for your platform... using builtin-java classes where applicable\n",
      "16/07/05 13:29:53 WARN hdfs.DFSClient: DFSInputStream has been closed already\n"
     ]
    }
   ],
   "source": [
    "#!hdfs dfs -cat /user/hadoop/HW7Input/SSSP/part-00000 | head -10\n",
    "!hdfs dfs -copyToLocal hdfs:///user/hadoop/HW7Input/SSSP/part-00000 SSSP_synNet1.txt\n",
    "!hdfs dfs -copyToLocal hdfs:///user/hadoop/HW7Input/SSSP/part-00001 SSSP_synNet2.txt"
   ]
  },
  {
   "cell_type": "markdown",
   "metadata": {},
   "source": [
    "### Test the SSSP job with Hadoop"
   ]
  },
  {
   "cell_type": "code",
   "execution_count": 37,
   "metadata": {
    "collapsed": false
   },
   "outputs": [
    {
     "name": "stdout",
     "output_type": "stream",
     "text": [
      "16/07/06 23:35:10 WARN util.NativeCodeLoader: Unable to load native-hadoop library for your platform... using builtin-java classes where applicable\n",
      "16/07/06 23:35:10 INFO fs.TrashPolicyDefault: Namenode trash configuration: Deletion interval = 0 minutes, Emptier interval = 0 minutes.\n",
      "Deleted /user/hadoop/HW7Output/SSSP\n",
      "16/07/06 23:35:12 WARN util.NativeCodeLoader: Unable to load native-hadoop library for your platform... using builtin-java classes where applicable\n",
      "16/07/06 23:35:13 INFO fs.TrashPolicyDefault: Namenode trash configuration: Deletion interval = 0 minutes, Emptier interval = 0 minutes.\n",
      "Deleted /user/hadoop/HW7Input/SSSP\n",
      "16/07/06 23:35:14 WARN util.NativeCodeLoader: Unable to load native-hadoop library for your platform... using builtin-java classes where applicable\n",
      "16/07/06 23:35:15 WARN hdfs.DFSClient: DFSInputStream has been closed already\n",
      "16/07/06 23:35:16 WARN hdfs.DFSClient: DFSInputStream has been closed already\n",
      "16/07/06 23:35:16 WARN hdfs.DFSClient: DFSInputStream has been closed already\n"
     ]
    },
    {
     "name": "stderr",
     "output_type": "stream",
     "text": [
      "WARNING:mrjob.hadoop:  Unable to load native-hadoop library for your platform... using builtin-java classes where applicable\n"
     ]
    },
    {
     "name": "stdout",
     "output_type": "stream",
     "text": [
      "Iteration 0\n",
      "{'Map-Reduce Framework': {'Spilled Records': 14, 'Total committed heap usage (bytes)': 721944576, 'Reduce output records': 6, 'GC time elapsed (ms)': 218, 'Reduce input records': 7, 'Combine input records': 0, 'Reduce input groups': 6, 'Map output bytes': 274, 'CPU time spent (ms)': 2380, 'Combine output records': 0, 'Input split bytes': 306, 'Map input records': 5, 'Map output materialized bytes': 306, 'Physical memory (bytes) snapshot': 956506112, 'Shuffled Maps ': 3, 'Map output records': 7, 'Reduce shuffle bytes': 306, 'Virtual memory (bytes) snapshot': 8471924736, 'Failed Shuffles': 0, 'Merged Map outputs': 3}, 'File Output Format Counters ': {'Bytes Written': 246}, 'Job Counters ': {'Total time spent by all maps in occupied slots (ms)': 7350, 'Total vcore-seconds taken by all map tasks': 7350, 'Launched map tasks': 3, 'Launched reduce tasks': 1, 'Total vcore-seconds taken by all reduce tasks': 3437, 'Total megabyte-seconds taken by all reduce tasks': 3519488, 'Total megabyte-seconds taken by all map tasks': 7526400, 'Total time spent by all reduce tasks (ms)': 3437, 'Total time spent by all map tasks (ms)': 7350, 'Data-local map tasks': 3, 'Total time spent by all reduces in occupied slots (ms)': 3437}, 'File System Counters': {'FILE: Number of write operations': 0, 'HDFS: Number of write operations': 2, 'FILE: Number of read operations': 0, 'HDFS: Number of bytes read': 546, 'HDFS: Number of read operations': 12, 'FILE: Number of bytes written': 480845, 'HDFS: Number of large read operations': 0, 'HDFS: Number of bytes written': 246, 'FILE: Number of large read operations': 0, 'FILE: Number of bytes read': 294}, 'File Input Format Counters ': {'Bytes Read': 240}, 'Shuffle Errors': {'WRONG_MAP': 0, 'WRONG_LENGTH': 0, 'BAD_ID': 0, 'IO_ERROR': 0, 'WRONG_REDUCE': 0, 'CONNECTION': 0}}\n",
      "16/07/06 23:35:51 WARN util.NativeCodeLoader: Unable to load native-hadoop library for your platform... using builtin-java classes where applicable\n",
      "16/07/06 23:35:52 INFO fs.TrashPolicyDefault: Namenode trash configuration: Deletion interval = 0 minutes, Emptier interval = 0 minutes.\n",
      "Deleted /user/hadoop/HW7Input/SSSP\n",
      "16/07/06 23:35:53 WARN util.NativeCodeLoader: Unable to load native-hadoop library for your platform... using builtin-java classes where applicable\n"
     ]
    },
    {
     "name": "stderr",
     "output_type": "stream",
     "text": [
      "WARNING:mrjob.hadoop:  Unable to load native-hadoop library for your platform... using builtin-java classes where applicable\n"
     ]
    },
    {
     "name": "stdout",
     "output_type": "stream",
     "text": [
      "Iteration 1\n",
      "{'SSSP_Counters': {'Stop_Index_Found': 1}, 'Map-Reduce Framework': {'Spilled Records': 18, 'Total committed heap usage (bytes)': 525860864, 'Reduce output records': 6, 'GC time elapsed (ms)': 321, 'Reduce input records': 9, 'Combine input records': 0, 'Reduce input groups': 6, 'Map output bytes': 335, 'CPU time spent (ms)': 2060, 'Combine output records': 0, 'Input split bytes': 204, 'Map input records': 6, 'Map output materialized bytes': 365, 'Physical memory (bytes) snapshot': 656580608, 'Shuffled Maps ': 2, 'Map output records': 9, 'Reduce shuffle bytes': 365, 'Virtual memory (bytes) snapshot': 6291689472, 'Failed Shuffles': 0, 'Merged Map outputs': 2}, 'File Output Format Counters ': {'Bytes Written': 250}, 'Job Counters ': {'Total time spent by all maps in occupied slots (ms)': 11211, 'Total vcore-seconds taken by all map tasks': 11211, 'Launched map tasks': 2, 'Launched reduce tasks': 1, 'Total vcore-seconds taken by all reduce tasks': 4328, 'Total megabyte-seconds taken by all reduce tasks': 4431872, 'Total megabyte-seconds taken by all map tasks': 11480064, 'Total time spent by all reduce tasks (ms)': 4328, 'Total time spent by all map tasks (ms)': 11211, 'Data-local map tasks': 2, 'Total time spent by all reduces in occupied slots (ms)': 4328}, 'File System Counters': {'FILE: Number of write operations': 0, 'HDFS: Number of write operations': 2, 'FILE: Number of read operations': 0, 'HDFS: Number of bytes read': 573, 'HDFS: Number of read operations': 9, 'FILE: Number of bytes written': 360891, 'HDFS: Number of large read operations': 0, 'HDFS: Number of bytes written': 250, 'FILE: Number of large read operations': 0, 'FILE: Number of bytes read': 359}, 'File Input Format Counters ': {'Bytes Read': 369}, 'Shuffle Errors': {'WRONG_MAP': 0, 'WRONG_LENGTH': 0, 'BAD_ID': 0, 'IO_ERROR': 0, 'WRONG_REDUCE': 0, 'CONNECTION': 0}}\n"
     ]
    }
   ],
   "source": [
    "%reload_ext autoreload\n",
    "%autoreload 2\n",
    "from SSSP import MRSSSP\n",
    "\n",
    "# Run the SSSP MRJob\n",
    "!hdfs dfs -rm -r /user/hadoop/HW7Output/SSSP\n",
    "!hdfs dfs -rm -r /user/hadoop/HW7Input/SSSP\n",
    "#!hdfs dfs -cp /user/hadoop/HW7Results/SSSPInit_synNet /user/hadoop/HW7Input/SSSP\n",
    "!hdfs dfs -cp /user/hadoop/HW7Results/SSSPInit_d_toy /user/hadoop/HW7Input/SSSP\n",
    "#!hdfs dfs -cp /user/hadoop/HW7Results/SSSPInit_wikipedia /user/hadoop/HW7Input/SSSP\n",
    "mr_job = MRSSSP(args=['hdfs:///user/hadoop/HW7Input/SSSP', '-r', 'hadoop', '--output-dir', 'HW7Output/SSSP', '--no-output'])\n",
    "stop_index = '6'\n",
    "mr_job = MRSSSP(args=['hdfs:///user/hadoop/HW7Input/SSSP', '-r', 'hadoop', '--stop_index', stop_index, '--output-dir', 'HW7Output/SSSP', '--no-output'])\n",
    "    \n",
    "# Update work table file iteratively\n",
    "i = 0\n",
    "# Set start condition to True\n",
    "Stop = False\n",
    "while(Stop==False):\n",
    "    # Print the iteration number\n",
    "    print('Iteration %d' % (i))\n",
    "    with mr_job.make_runner() as runner: \n",
    "        runner.run()\n",
    "        print runner.counters()[0]\n",
    "        if stop_index == '':\n",
    "            Stop = True\n",
    "            if 'SSSP_Counters' in runner.counters()[0]:\n",
    "                Stop = False\n",
    "        else:\n",
    "            if 'SSSP_Counters' in runner.counters()[0]:\n",
    "                Stop = True\n",
    "    if (Stop==False):\n",
    "        !hdfs dfs -rm -r /user/hadoop/HW7Input/SSSP\n",
    "        !hdfs dfs -mv /user/hadoop/HW7Output/SSSP /user/hadoop/HW7Input/SSSP\n",
    "    i += 1"
   ]
  },
  {
   "cell_type": "code",
   "execution_count": 36,
   "metadata": {
    "collapsed": false
   },
   "outputs": [
    {
     "name": "stdout",
     "output_type": "stream",
     "text": [
      "16/07/06 23:34:37 WARN util.NativeCodeLoader: Unable to load native-hadoop library for your platform... using builtin-java classes where applicable\n",
      "\"1\"\t[{\"2\": 1, \"6\": 1}, 0.0, \"1\", \"V\"]\n",
      "\"2\"\t[{\"1\": 1, \"3\": 1, \"4\": 1}, 1.0, \"1->2\", \"V\"]\n",
      "\"3\"\t[{\"2\": 1, \"4\": 1}, 2.0, \"1->2->3\", \"V\"]\n",
      "\"4\"\t[{\"2\": 1, \"5\": 1}, 2.0, \"1->2->4\", \"V\"]\n",
      "\"5\"\t[{\"1\": 1, \"2\": 1, \"4\": 1}, 3.0, \"1->2->4->\", \"Q\"]\n",
      "\"6\"\t[{}, 1.0, \"1->6\", \"V\"]\n"
     ]
    }
   ],
   "source": [
    "!hdfs dfs -cat /user/hadoop/HW7Output/SSSP/part-00000"
   ]
  },
  {
   "cell_type": "markdown",
   "metadata": {},
   "source": [
    "### Create SSSP Driver for wikipedia job"
   ]
  },
  {
   "cell_type": "code",
   "execution_count": 22,
   "metadata": {
    "collapsed": false
   },
   "outputs": [
    {
     "name": "stdout",
     "output_type": "stream",
     "text": [
      "Overwriting SSSP_driver.py\n"
     ]
    }
   ],
   "source": [
    "%%writefile SSSP_driver.py\n",
    "from SSSP import MRSSSP\n",
    "import subprocess\n",
    "\n",
    "# Run the SSSP MRJob\n",
    "try:\n",
    "    subprocess.check_call(['hdfs', 'dfs', '-rm', '-r', '/user/hadoop/HW7Output/SSSP'])\n",
    "except:\n",
    "    pass\n",
    "try:\n",
    "    subprocess.check_call(['hdfs', 'dfs', '-rm', '-r', '/user/hadoop/HW7Input/SSSP'])\n",
    "except:\n",
    "    pass\n",
    "#subprocess.check_call(['hdfs', 'dfs', '-cp', '/user/hadoop/HW7Results/SSSPInit_synNet', '/user/hadoop/HW7Input/SSSP'])\n",
    "#subprocess.check_call(['hdfs', 'dfs', '-cp', '/user/hadoop/HW7Results/SSSPInit_d_toy', '/user/hadoop/HW7Input/SSSP'])\n",
    "subprocess.check_call(['hdfs', 'dfs', '-cp', '/user/hadoop/HW7Results/SSSPInit_wikipedia', '/user/hadoop/HW7Input/SSSP'])\n",
    "# Berkeley\n",
    "#stop_index = '13466359'\n",
    "# Zika virus\n",
    "#stop_index = '15190949'\n",
    "# Who's Your Daddy\n",
    "stop_index = '13958065'\n",
    "mr_job = MRSSSP(args=['hdfs:///user/hadoop/HW7Input/SSSP', '-r', 'hadoop', '--stop_index', stop_index, '--output-dir', 'HW7Output/SSSP', '--no-output'])\n",
    "#mr_job = MRSSSP(args=['hdfs:///user/hadoop/HW7Input/SSSP', '-r', 'hadoop', '--output-dir', 'HW7Output/SSSP', '--no-output'])\n",
    "    \n",
    "i = 0\n",
    "# Set stop condition to False\n",
    "Stop = False\n",
    "while(Stop==False):\n",
    "    # Print the iteration number\n",
    "    print('Iteration %d' % (i))\n",
    "    with mr_job.make_runner() as runner: \n",
    "        runner.run()\n",
    "        if stop_index == '':\n",
    "            Stop = True\n",
    "            if 'SSSP_Counters' in runner.counters()[0]:\n",
    "                Stop = False\n",
    "        else:\n",
    "            if 'SSSP_Counters' in runner.counters()[0]:\n",
    "                Stop = True\n",
    "    if (Stop==False):\n",
    "        subprocess.check_call(['hdfs', 'dfs', '-rm', '-r', '/user/hadoop/HW7Input/SSSP'])\n",
    "        subprocess.check_call(['hdfs', 'dfs', '-mv', '/user/hadoop/HW7Output/SSSP', '/user/hadoop/HW7Input/SSSP'])\n",
    "    i += 1"
   ]
  },
  {
   "cell_type": "code",
   "execution_count": 3,
   "metadata": {
    "collapsed": false
   },
   "outputs": [
    {
     "name": "stdout",
     "output_type": "stream",
     "text": [
      "16/07/07 21:14:54 WARN util.NativeCodeLoader: Unable to load native-hadoop library for your platform... using builtin-java classes where applicable\n",
      "\"13958065\"\t[{\"13958064\": 1, \"13958066\": 1, \"13958056\": 1, \"13958060\": 1, \"13958058\": 1, \"13958062\": 1, \"1887659\": 1, \"7067041\": 1, \"13958059\": 1, \"11210989\": 1, \"13958054\": 1, \"13958057\": 1, \"2839837\": 1, \"13958137\": 1, \"13958045\": 1}, 5.0, \"6176135->12944239->7173161->8011223->3529375->13958065\", \"V\"]\n"
     ]
    }
   ],
   "source": [
    "##### Explore HDFS output from previous jobs\n",
    "#!hdfs dfs -rm -r /user/hadoop/HW7Output/SSSP\n",
    "#!hdfs dfs -ls /user/hadoop/HW7Output/SSSP\n",
    "#!hdfs dfs -cat /user/hadoop/HW7Output/SSSP/part-00000 | head -3\n",
    "!hdfs dfs -cat /user/hadoop/HW7Output/SSSP/part-00000 | grep '\"13958065\"\t'\n",
    "#!hdfs dfs -cp /user/hadoop/HW7Output/SSSP /user/hadoop/HW7Results/SSSP_wikipedia_daddy\n",
    "\n",
    "#!hdfs dfs -ls /user/hadoop/HW7Results/SSSPInit_synNet\n",
    "#!hdfs dfs -cat /user/hadoop/HW7Results/SSSPInit_synNet/part-00000 | head -3\n",
    "#!hdfs dfs -cat /user/hadoop/HW7Results/SSSPInit_synNet/part-00001 | grep Q\n",
    "\n",
    "#!hdfs dfs -ls /user/hadoop/HW7Results/SSSPInit_d_toy\n",
    "#!hdfs dfs -cat /user/hadoop/HW7Results/SSSPInit_d_toy/part-00000\n",
    "#!hdfs dfs -cat /user/hadoop/HW7Results/SSSPInit_d_toy/part-00001\n",
    "\n",
    "#!hdfs dfs -ls /user/hadoop/HW7Input/SSSP\n",
    "#!hdfs dfs -cat /user/hadoop/HW7Input/SSSP/part-00000 | head -3\n",
    "#!hdfs dfs -cat /user/hadoop/HW7Input/SSSP/part-00000 | grep Q\n",
    "#!hdfs dfs -copyToLocal /user/hadoop/HW7Input/SSSP/part-00001 SSSP_d_toy_iter1b.txt"
   ]
  },
  {
   "cell_type": "markdown",
   "metadata": {},
   "source": [
    "### Create test files for MRJob Join class"
   ]
  },
  {
   "cell_type": "code",
   "execution_count": 42,
   "metadata": {
    "collapsed": false
   },
   "outputs": [
    {
     "name": "stdout",
     "output_type": "stream",
     "text": [
      "Overwriting index_test.txt\n"
     ]
    }
   ],
   "source": [
    "%%writefile index_test.txt\n",
    "George IV of the United Kingdom#Early life\t5000000\t2\t0\n",
    "George IV of the United Kingdom#Regency crisis of 1788\t5000001\t6\t0\n",
    "George IV of the United Kingdom#Regency\t5000002\t5\t0\n",
    "George IV\t5000003\t111\t0\n",
    "George IV#Reign\t5000004\t1\t0\n",
    "George IV, Brixton\t5000005\t1\t8\n",
    "George IV, Count of Erbach-Fürstenau\t5000006\t1\t11\n",
    "George IX of Imereti\t5000007\t11\t18\n",
    "George IX of Kartli\t5000008\t16\t12\n",
    "George IX\t5000009\t1\t2\n",
    "George Iacob\t5000010\t1\t0\n",
    "George Iacobescu\t5000011\t6\t22\n",
    "George Iacovou\t5000012\t7\t0\n",
    "George Iain Murray, 10th Duke of Atholl\t5000013\t1\t0\n",
    "George Ian Andrews\t5000014\t1\t0\n",
    "George Ian MacLean\t5000015\t7\t8\n",
    "George Iane\t5000016\t1\t0\n",
    "George Iashvili\t5000017\t1\t0"
   ]
  },
  {
   "cell_type": "code",
   "execution_count": 70,
   "metadata": {
    "collapsed": false
   },
   "outputs": [
    {
     "name": "stdout",
     "output_type": "stream",
     "text": [
      "Overwriting SSSP_node_list.txt\n"
     ]
    }
   ],
   "source": [
    "%%writefile SSSP_node_list.txt\n",
    "[{\"5000002\": 1}, {\"5000006\": 4}, {\"5000007\": 0}, {\"5000009\": 2}, {\"5000010\": 3}]"
   ]
  },
  {
   "cell_type": "markdown",
   "metadata": {},
   "source": [
    "### Create class for SSSP Join job"
   ]
  },
  {
   "cell_type": "code",
   "execution_count": 29,
   "metadata": {
    "collapsed": false
   },
   "outputs": [
    {
     "name": "stdout",
     "output_type": "stream",
     "text": [
      "Overwriting SSSPJoin.py\n"
     ]
    }
   ],
   "source": [
    "%%writefile SSSPJoin.py\n",
    "from mrjob.job import MRJob\n",
    "from mrjob.step import MRStep\n",
    "import json\n",
    "\n",
    "# This class basically implements a Map-Side Join: Parallel Scans to take advantage of the \n",
    "# already sorted wikipedia indices.txt file.  The indices.txt file is mapped over by the mapper\n",
    "# A file with a sorted list of nodes from the shortest path is passed in.  (Note that the true order\n",
    "# of each node in the shortest path is preserved.)  The nodes from the shortest path are stored\n",
    "# in memory as likely there will not be a large number of these.  As the mapper maps through\n",
    "# each index in the indices.txt file, the first node from the shortest path is checked.  Once that\n",
    "# node is found, the next one is checked.  Since the shortest path list is sorted when the last one\n",
    "# is found, then the mapper can stop.  The reducer just passes through the data from the mapper.  It\n",
    "# is really not needed.  It is just being used as an aggregation point if there are many mappers.\n",
    "class MRSSSPJoin(MRJob):\n",
    "    # Read in the shortest path node list and set class variables to point to the first node in the list.\n",
    "    def __init__(self, *args, **kwargs):\n",
    "        super(MRSSSPJoin, self).__init__(*args, **kwargs)\n",
    "        self.node_list = json.loads(open('SSSP_node_list.txt').readline())\n",
    "        self.cur_node_index = 0\n",
    "        self.cur_node_name, self.cur_node_order = self.node_list[self.cur_node_index].items()[0]\n",
    "        self.node_list_len = len(self.node_list)\n",
    "    \n",
    "    # Map over the input data and look for index matches in the shortest path nodes.  If one is found\n",
    "    # yield it and move on to the next node in the shortest path.\n",
    "    def mapper(self, _, line):\n",
    "        # format of line from indices.txt:  (article name) \\t (index) \\t (in degree) \\t (out degree)\n",
    "        article_name, index, _, _ = line.strip().split('\\t')\n",
    "        if index == self.cur_node_name:\n",
    "            yield self.cur_node_order, tuple((self.cur_node_name, article_name))\n",
    "            self.cur_node_index +=1\n",
    "            if self.cur_node_index == self.node_list_len:\n",
    "                return\n",
    "            else:\n",
    "                self.cur_node_name, self.cur_node_order = self.node_list[self.cur_node_index].items()[0]\n",
    "    \n",
    "    # Output data from the mapper\n",
    "    def reducer(self, _, data):\n",
    "        for d in data:\n",
    "            yield None, d\n",
    "    \n",
    "    def steps(self):\n",
    "        JOB_CONF = {\n",
    "            'mapreduce.job.maps': 1,\n",
    "            'mapreduce.job.reduces': 1\n",
    "            }\n",
    "        # Create the steps for the MRJob.\n",
    "        return [MRStep(jobconf=JOB_CONF,\n",
    "                       mapper=self.mapper,\n",
    "                       reducer=self.reducer)]\n",
    "            \n",
    "if __name__ == '__main__':\n",
    "    MRSSSPJoin.run()"
   ]
  },
  {
   "cell_type": "code",
   "execution_count": 30,
   "metadata": {
    "collapsed": true
   },
   "outputs": [],
   "source": [
    "import json\n",
    "\n",
    "# This helper method greps an HDFS output directory for a stop index and writes the nodes of the shortest\n",
    "# path and their order to a file.\n",
    "def write_node_list(result_dir, stop_index, filename):\n",
    "    grep_output = !hdfs dfs -cat /user/hadoop/HW7Results/$result_dir/part-00000 | grep '\"$stop_index\"\t'\n",
    "    _, data = grep_output[1].strip().split('\\t')\n",
    "    data = json.loads(data)\n",
    "    node_list = data[2].split('->')\n",
    "    node_list = sorted([{int(node): i} for i, node in enumerate(node_list)])\n",
    "    with open(filename, 'w') as f:\n",
    "        f.write(json.dumps(node_list)+'\\n')"
   ]
  },
  {
   "cell_type": "markdown",
   "metadata": {},
   "source": [
    "### Look up the indices for the 'Ireland' to 'Berkeley' shortest path"
   ]
  },
  {
   "cell_type": "code",
   "execution_count": 98,
   "metadata": {
    "collapsed": false,
    "scrolled": true
   },
   "outputs": [
    {
     "name": "stdout",
     "output_type": "stream",
     "text": [
      "Shortest Path:\n",
      "Ireland (index=6176135)\n",
      "Seamus Heaney (index=11607791)\n",
      "University of California, Berkeley (index=13466359)\n"
     ]
    }
   ],
   "source": [
    "%reload_ext autoreload\n",
    "%autoreload 2\n",
    "from SSSPJoin import MRSSSPJoin\n",
    "write_node_list('SSSP_wikipedia_berkeley', '13466359', 'SSSP_node_list.txt')\n",
    "mr_job = MRSSSPJoin(args=['/data/hw7/indices.txt', '--file=SSSP_node_list.txt'])\n",
    "#mr_job = MRSSSPJoin(args=['index_test.txt', '--file=SSSP_node_list.txt'])\n",
    "with mr_job.make_runner() as runner: \n",
    "    runner.run()\n",
    "    print('Shortest Path:')\n",
    "    # stream_output: get access of the output \n",
    "    for line in runner.stream_output():\n",
    "        _, value =  mr_job.parse_output_line(line)\n",
    "        print('%s (index=%s)' % (value[1], value[0]))"
   ]
  },
  {
   "cell_type": "markdown",
   "metadata": {},
   "source": [
    "### Look up the indices for the 'Ireland' to 'zika virus' shortest path"
   ]
  },
  {
   "cell_type": "code",
   "execution_count": 97,
   "metadata": {
    "collapsed": false,
    "scrolled": true
   },
   "outputs": [
    {
     "name": "stdout",
     "output_type": "stream",
     "text": [
      "Shortest Path:\n",
      "Ireland (index=6176135)\n",
      "Early Middle Ages (index=3958065)\n",
      "List of epidemics (index=7844602)\n",
      "Chikungunya (index=2786273)\n",
      "zika virus (index=15190949)\n"
     ]
    }
   ],
   "source": [
    "%reload_ext autoreload\n",
    "%autoreload 2\n",
    "from SSSPJoin import MRSSSPJoin\n",
    "write_node_list('SSSP_wikipedia_zikavirus', '15190949', 'SSSP_node_list.txt')\n",
    "mr_job = MRSSSPJoin(args=['/data/hw7/indices.txt', '--file=SSSP_node_list.txt'])\n",
    "with mr_job.make_runner() as runner: \n",
    "    runner.run()\n",
    "    print('Shortest Path:')\n",
    "    # stream_output: get access of the output \n",
    "    for line in runner.stream_output():\n",
    "        _, value =  mr_job.parse_output_line(line)\n",
    "        print('%s (index=%s)' % (value[1], value[0]))"
   ]
  },
  {
   "cell_type": "markdown",
   "metadata": {},
   "source": [
    "### Look up the indices for the 'Ireland' to 'Who's Your Daddy?' shortest path"
   ]
  },
  {
   "cell_type": "code",
   "execution_count": 96,
   "metadata": {
    "collapsed": false,
    "scrolled": true
   },
   "outputs": [
    {
     "name": "stdout",
     "output_type": "stream",
     "text": [
      "Shortest Path:\n",
      "Ireland (index=6176135)\n",
      "Thin Lizzy (index=12944239)\n",
      "Kiss (band) (index=7173161)\n",
      "Lordi (index=8011223)\n",
      "Deadache (index=3529375)\n",
      "Who's Your Daddy? (index=13958065)\n"
     ]
    }
   ],
   "source": [
    "%reload_ext autoreload\n",
    "%autoreload 2\n",
    "from SSSPJoin import MRSSSPJoin\n",
    "write_node_list('SSSP_wikipedia_daddy', '13958065', 'SSSP_node_list.txt')\n",
    "mr_job = MRSSSPJoin(args=['/data/hw7/indices.txt', '--file=SSSP_node_list.txt'])\n",
    "with mr_job.make_runner() as runner: \n",
    "    runner.run()\n",
    "    print('Shortest Path:')\n",
    "    # stream_output: get access of the output \n",
    "    for line in runner.stream_output():\n",
    "        _, value =  mr_job.parse_output_line(line)\n",
    "        print('%s (index=%s)' % (value[1], value[0]))"
   ]
  },
  {
   "cell_type": "markdown",
   "metadata": {},
   "source": [
    "<h1 style=\"color:#021353;\">HW 7.5: Conceptual exercise: Largest single-source network distances</h1>\n",
    "<div style=\"margin:10px;border-left:5px solid #eee;\">\n",
    "<pre style=\"font-family:sans-serif;background-color:transparent\">\n",
    "Suppose you wanted to find the largest network distance from a single source,\n",
    "i.e., a node that is the furthest (but still reachable) from a single source.\n",
    "\n",
    "How would you implement this task? \n",
    "How is this different from finding the shortest path graph distances?\n",
    "\n",
    "Is this task more difficult to implement than the shortest path distance?\n",
    "\n",
    "As you respond, please comment on program structure, runtimes, iterations, general system requirements, etc...\n",
    "</pre>\n",
    "</div>"
   ]
  },
  {
   "cell_type": "markdown",
   "metadata": {},
   "source": [
    "**ANSWER:**  \n",
    "There could be 2 interpretations of the longest path.  \n",
    "\n",
    "1.  Find the longest shortest path.  This is the shortest path of the node that is furthest from the source node.  In order to find this target node, the SSSP algorithm needs to be run with no stopping index and until there are no more nodes in the Q state.  For the wikipedia dataset, the program structure of the SSSP algorithm would be the same, the stopping condition would just need to be changed to stop when no Q's were left and maximum path length could be tracked and output at the end of the algorithm.  There are 15,192,277 nodes in the wikipedia dataset.  In theory, the longest shortest path could involve all nodes.  Node 1 could be connected to node 2 and node 3 could be connected to node 4 and so on until node 15,192,276 is connected to node 15,192,277.  This would take 15,192,277 iterations if this were the case.  One would need a much larger and more powerful cluster than was used here because iterations with this cluster were taking about 10-20 minutes each.  This cluster has 6 nodes with 8 CPUs each.  \n",
    "\n",
    "2.  Find the longest path from a single source (to a node that is reachable from the source node).  If the directed graph has cycles, then this problem is NP-hard meaning that it cannot be solved in polynomial time unless P=NP (source:  https://en.wikipedia.org/wiki/Longest_path_problem).  For a directed acyclic graph (DAG), however, there is a solution in polynomial time.  One algorithm would be to convert all of the weights to negative weights and run the SSSP algorithm until there were no more Q's left (source:  https://en.wikipedia.org/wiki/Longest_path_problem).  If the wikipedia dataset were acyclic, which it is not, and you ran this algorithm, then the similiar analysis of iterations, time and system requirements would hold as in #1."
   ]
  },
  {
   "cell_type": "markdown",
   "metadata": {},
   "source": [
    "<h1 style=\"color:#021353;\">HW 7.5.1: </h1>\n",
    "<div style=\"margin:10px;border-left:5px solid #eee;\">\n",
    "<pre style=\"font-family:sans-serif;background-color:transparent\">\n",
    "Can we utilize combiners in the HW 7 to perform the shortest path implementation?\n",
    "Does order inversion help with the HW 7 shortest path implementation?\n",
    "</pre>\n",
    "</div>"
   ]
  },
  {
   "cell_type": "markdown",
   "metadata": {},
   "source": [
    "**ANSWER:**  \n",
    "These are the only combinations that will come to the reducer for a node:\n",
    "1.  A node with a single value in the U state  \n",
    "    In this case, the reducer just passes this node through without changing it.\n",
    "2.  A node with a single value in the V state  \n",
    "    In this case, the reducer just passes this node through without changing it.\n",
    "3.  A node with a single value in the V state and one or more values in the Q state.\n",
    "    In this case, the reducer just uses the information from the V state and ingores the other values.\n",
    "4.  A node with a single value in the U state and one or more values in the Q state.\n",
    "    In this case, the reducer finds the minimum distance and sets the node to the Q state.\n",
    "5.  A node with with one or more values in the Q state\n",
    "    In this case, the reducer finds the minimum distance and sets the node to the Q state.\n",
    "\n",
    "Yes, combiners will be of use in the implementation of HW7 SSSP algorithm.  Combiners could calculate the minimum distances in conditions 4 and 5.  This would reduce network traffic in the Hadoop shuffle and minimize work for the reducer.\n",
    "\n",
    "Order inversion could be used to keep track of the minimum distances for each node.  The mapper could output a special value for each node that contains the known minimum distance for that node and the current shortest path.  This special value would reach the reducer first so the reducer could just accumulate all of these special minimum values and then not have to look at the other values for that node."
   ]
  },
  {
   "cell_type": "markdown",
   "metadata": {
    "collapsed": true
   },
   "source": [
    "==================END HW 7=================="
   ]
  }
 ],
 "metadata": {
  "kernelspec": {
   "display_name": "Python 2",
   "language": "python",
   "name": "python2"
  },
  "language_info": {
   "codemirror_mode": {
    "name": "ipython",
    "version": 2
   },
   "file_extension": ".py",
   "mimetype": "text/x-python",
   "name": "python",
   "nbconvert_exporter": "python",
   "pygments_lexer": "ipython2",
   "version": "2.7.11"
  }
 },
 "nbformat": 4,
 "nbformat_minor": 0
}
