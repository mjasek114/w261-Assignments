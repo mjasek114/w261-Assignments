{
 "cells": [
  {
   "cell_type": "code",
   "execution_count": 51,
   "metadata": {
    "collapsed": false
   },
   "outputs": [
    {
     "data": {
      "application/javascript": [
       "/**********************************************************************************************\n",
       "Known Mathjax Issue with Chrome - a rounding issue adds a border to the right of mathjax markup\n",
       "https://github.com/mathjax/MathJax/issues/1300\n",
       "A quick hack to fix this based on stackoverflow discussions: \n",
       "http://stackoverflow.com/questions/34277967/chrome-rendering-mathjax-equations-with-a-trailing-vertical-line\n",
       "**********************************************************************************************/\n",
       "\n",
       "$('.math>span').css(\"border-left-color\",\"transparent\")"
      ],
      "text/plain": [
       "<IPython.core.display.Javascript object>"
      ]
     },
     "metadata": {},
     "output_type": "display_data"
    }
   ],
   "source": [
    "%%javascript\n",
    "/**********************************************************************************************\n",
    "Known Mathjax Issue with Chrome - a rounding issue adds a border to the right of mathjax markup\n",
    "https://github.com/mathjax/MathJax/issues/1300\n",
    "A quick hack to fix this based on stackoverflow discussions: \n",
    "http://stackoverflow.com/questions/34277967/chrome-rendering-mathjax-equations-with-a-trailing-vertical-line\n",
    "**********************************************************************************************/\n",
    "\n",
    "$('.math>span').css(\"border-left-color\",\"transparent\")"
   ]
  },
  {
   "cell_type": "code",
   "execution_count": 52,
   "metadata": {
    "collapsed": true
   },
   "outputs": [],
   "source": [
    "%reload_ext autoreload\n",
    "%autoreload 2"
   ]
  },
  {
   "cell_type": "markdown",
   "metadata": {},
   "source": [
    "# MIDS - w261 Machine Learning At Scale\n",
    "__Course Lead:__ Dr James G. Shanahan (__email__ Jimi via  James.Shanahan _AT_ gmail.com)\n",
    "\n",
    "## Assignment - HW10\n",
    "\n",
    "\n",
    "---\n",
    "__Name:__  Megan Jasek  \n",
    "__Class:__ MIDS w261 (Section Summer 2016 Group 2)     \n",
    "__Email:__  meganjasek@iSchool.Berkeley.edu     \n",
    "__Week:__   10"
   ]
  },
  {
   "cell_type": "markdown",
   "metadata": {},
   "source": [
    "# Table of Contents <a name=\"TOC\"></a> \n",
    "\n",
    "1.  [HW Introduction](#1)   \n",
    "2.  [HW References](#2)\n",
    "3.  [HW Problems](#3)   \n",
    "    10.0.  [Short Answer Questions](#HW10.0)    \n",
    "    10.1.  [Word Count plus sorting](#HW10.1)   \n",
    "    10.2.  [MLlib-centric Kmeans](#HW10.2)    \n",
    "    10.3.  [Homegrown KMeans in Spark](#HW10.3)    \n",
    "    10.4.  [Making Homegrown KMeans more efficient](#HW10.4)  \n",
    "    10.5.  [OPTIONAL Weighted KMeans](#HW10.5)  \n",
    "    10.6.  [OPTIONAL Linear Regression](#HW10.6)  \n",
    "    10.7.  [OPTIONAL Error surfaces](#HW10.7)\n"
   ]
  },
  {
   "cell_type": "markdown",
   "metadata": {},
   "source": [
    "\n",
    "<a name=\"1\">\n",
    "# 1 Instructions\n",
    "[Back to Table of Contents](#TOC)\n",
    "* Homework submissions are due by Tueday, 07/28/2016 at 11AM (West Coast Time).\n",
    "\n",
    "\n",
    "* Prepare a single Jupyter note, please include questions, and question numbers in the questions and in the responses.\n",
    "Submit your homework notebook via the following form:\n",
    "\n",
    "   + [Submission Link - Google Form](\n",
    "https://docs.google.com/forms/d/1ZOr9RnIe_A06AcZDB6K1mJN4vrLeSmS2PD6Xm3eOiis/viewform?usp=send_form \n",
    ")\n",
    "\n",
    "\n",
    "### Documents:\n",
    "* IPython Notebook, published and viewable online.\n",
    "* PDF export of IPython Notebook.\n",
    "    \n",
    "<a name=\"2\">\n",
    "# 2 Useful References\n",
    "[Back to Table of Contents](#TOC)\n",
    "\n",
    "* Karau, Holden, Konwinski, Andy, Wendell, Patrick, & Zaharia, Matei. (2015). Learning Spark: Lightning-fast big data analysis. Sebastopol, CA: O’Reilly Publishers.\n",
    "* Hastie, Trevor, Tibshirani, Robert, & Friedman, Jerome. (2009). The elements of statistical learning: Data mining, inference, and prediction (2nd ed.). Stanford, CA: Springer Science+Business Media. (Download for free [here](http://statweb.stanford.edu/~tibs/ElemStatLearn/printings/ESLII_print10.pdf))"
   ]
  },
  {
   "cell_type": "markdown",
   "metadata": {},
   "source": [
    "<a name=\"3\">\n",
    "# 3 HW Problems\n",
    "[Back to Table of Contents](#TOC)"
   ]
  },
  {
   "cell_type": "markdown",
   "metadata": {},
   "source": [
    "<a name=\"HW10.0\"></a><h2 style=\"color:darkblue\"> HW10.0: Short answer questions </h2>\n",
    "[Back to Table of Contents](#TOC)\n",
    "\n",
    "\n",
    "__What is Apache Spark and how is it different to Apache Hadoop? __\n",
    "\n",
    "__Fill in the blanks:\n",
    "Spark API consists of interfaces to develop applications based on it in Java, ___ BLANKS __ languages (list languages). __\n",
    "\n",
    "<hr>\n",
    "\n",
    "__Using Spark, resource management can be done either in a single server instance or using a framework such as Mesos or ????? in a distributed manner. __\n",
    "\n",
    "<hr>\n",
    "\n",
    "__What is an RDD and show a fun example of creating one and bringing the first element back to the driver program. __\n",
    "\n",
    "<hr>\n"
   ]
  },
  {
   "cell_type": "markdown",
   "metadata": {},
   "source": [
    "### Create Spark Context"
   ]
  },
  {
   "cell_type": "code",
   "execution_count": 1,
   "metadata": {
    "collapsed": false
   },
   "outputs": [
    {
     "name": "stdout",
     "output_type": "stream",
     "text": [
      "<pyspark.context.SparkContext object at 0x7faf611ca990>\n",
      "<pyspark.sql.context.SQLContext object at 0x7faf611ca9d0>\n"
     ]
    }
   ],
   "source": [
    "import pyspark\n",
    "from pyspark.sql import SQLContext\n",
    "\n",
    "# We can give a name to our app (to find it in Spark WebUI) and configure execution mode\n",
    "# In this case, it is local multicore execution with \"local[*]\"\n",
    "#app_name = \"example-logs\"\n",
    "app_name = \"HW10\"\n",
    "master = \"local[*]\"\n",
    "conf = pyspark.SparkConf().setAppName(app_name).setMaster(master)\n",
    "sc.stop()\n",
    "sc = pyspark.SparkContext(conf=conf)\n",
    "sqlContext = SQLContext(sc)\n",
    "\n",
    "print sc\n",
    "print sqlContext"
   ]
  },
  {
   "cell_type": "code",
   "execution_count": null,
   "metadata": {
    "collapsed": true
   },
   "outputs": [],
   "source": [
    "#sc.stop()"
   ]
  },
  {
   "cell_type": "markdown",
   "metadata": {},
   "source": [
    "<a name=\"HW10.1\"> <h2 style=\"color:darkgreen\">HW10.1 WordCount plus sorting </h2>\n",
    "[Back to Table of Contents](#TOC)\n",
    "\n",
    "The following notebooks will be useful to jumpstart this collection of Homework exercises:\n",
    "\n",
    "\n",
    "* [Example Notebook with Debugging tactics in Spark](http://nbviewer.jupyter.org/urls/dl.dropbox.com/s/jqjllp8kmf1eolk/WordCountDebugging-Example.ipynb)\n",
    "* [Word Count Quiz](http://nbviewer.jupyter.org/urls/dl.dropbox.com/s/vgmpivsi4rvqz0s/WordCountQuiz.ipynb)\n",
    "* [Work Count Solution](http://nbviewer.jupyter.org/urls/dl.dropbox.com/s/dxv3dmp1vluuo8i/WordCountQuiz-Solution.ipynb)\n",
    "\n",
    "---\n",
    "In Spark write the code to count how often each word appears in a text document (or set of documents). Please use this homework document (with no solutions in it) as a the example document to run an experiment.  Report the following: \n",
    "* provide a sorted list of tokens in decreasing order of frequency of occurence limited to [top 20 most frequent only] and [bottom 10 least frequent]. \n",
    "\n",
    "\n",
    "__OPTIONAL__ \n",
    "Feel free to do a secondary sort where words with the same frequncy are sorted alphanumerically increasing. Plseas refer to the [following notebook](http://nbviewer.jupyter.org/urls/dl.dropbox.com/s/uu5afr3ufpm9fy8/SecondarySort.ipynb)\n",
    " for examples of secondary sorts in Spark. Please provide the following [top 20 most frequent terms only] and [bottom 10 least frequent terms]\n",
    "\n",
    "__NOTE__ [Please incorporate all referenced notebooks directly into this master notebook as cells for HW submission. I.e., HW submissions should comprise of just one notebook]__"
   ]
  },
  {
   "cell_type": "markdown",
   "metadata": {},
   "source": [
    "### Wordcount sorted by decreasing order of frequency"
   ]
  },
  {
   "cell_type": "code",
   "execution_count": 7,
   "metadata": {
    "collapsed": false
   },
   "outputs": [
    {
     "name": "stdout",
     "output_type": "stream",
     "text": [
      "1. the - 70\n",
      "2. and - 36\n",
      "3. in - 25\n",
      "4. of - 24\n",
      "5. a - 18\n",
      "6. for - 12\n",
      "7. code - 12\n",
      "8. to - 12\n",
      "9. is - 11\n",
      "10. model - 11\n",
      "11. with - 10\n",
      "12. data - 10\n",
      "13. === - 9\n",
      "14. as - 9\n",
      "15. on - 9\n",
      "16. plot - 9\n",
      "17. this - 8\n",
      "18. = - 8\n",
      "19. Using - 8\n",
      "20. your - 8\n",
      "474. 20, - 1\n",
      "475. descent - 1\n",
      "476. other - 1\n",
      "477. give - 1\n",
      "478. center - 1\n",
      "479. sets - 1\n",
      "480. element - 1\n",
      "481. graphs - 1\n",
      "482. 10.1: - 1\n",
      "483. #10 - 1\n"
     ]
    }
   ],
   "source": [
    "from operator import add\n",
    "wordCount = sc.textFile('MIDS-MLS-HW-10.txt').flatMap(lambda x: x.strip().split()) \\\n",
    "    .map(lambda word: (word, 1)) \\\n",
    "    .reduceByKey(add) \\\n",
    "    .map(lambda (x, y): (y, x)) \\\n",
    "    .sortByKey(False) \\\n",
    "    .map(lambda (x, y): (y, x))\n",
    "results_count = wordCount.count()\n",
    "for i, wc in enumerate(wordCount.collect()):\n",
    "    if (i < 20) or (i >= results_count-10):\n",
    "        print('%d. %s - %d' % (i+1, wc[0], wc[1]))"
   ]
  },
  {
   "cell_type": "markdown",
   "metadata": {},
   "source": [
    "<a name=\"HW10.1.1\"><h2 style=\"color:darkgreen\">HW10.1.1 </h2>\n",
    "[Back to Table of Contents](#TOC)\n",
    "\n",
    "Modify the above word count code to count words that begin with lower case letters (a-z) and report your findings. Again sort the output words in decreasing order of frequency.\n"
   ]
  },
  {
   "cell_type": "markdown",
   "metadata": {},
   "source": [
    "### Wordcount with lower case letters (a-z) sorted by decreasing order of frequency"
   ]
  },
  {
   "cell_type": "code",
   "execution_count": 8,
   "metadata": {
    "collapsed": false
   },
   "outputs": [
    {
     "name": "stdout",
     "output_type": "stream",
     "text": [
      "1. the - 70\n",
      "2. and - 36\n",
      "3. in - 25\n",
      "4. of - 24\n",
      "5. a - 18\n",
      "6. for - 12\n",
      "7. code - 12\n",
      "8. to - 12\n",
      "9. is - 11\n",
      "10. model - 11\n",
      "11. with - 10\n",
      "12. data - 10\n",
      "13. as - 9\n",
      "14. on - 9\n",
      "15. plot - 9\n",
      "16. this - 8\n",
      "17. your - 8\n",
      "18. each - 7\n",
      "19. domain - 6\n",
      "20. from - 6\n",
      "304. applications - 1\n",
      "305. notebook - 1\n",
      "306. such - 1\n",
      "307. descent - 1\n",
      "308. give - 1\n",
      "309. center - 1\n",
      "310. sets - 1\n",
      "311. element - 1\n",
      "312. graphs - 1\n",
      "313. title - 1\n"
     ]
    }
   ],
   "source": [
    "from operator import add\n",
    "import re\n",
    "def filterLowerCase(s):\n",
    "    pattern = re.compile(\"[a-z]\")\n",
    "    return bool(pattern.match(s))\n",
    "\n",
    "wordCount = sc.textFile('MIDS-MLS-HW-10.txt').flatMap(lambda x: x.strip().split()) \\\n",
    "    .filter(filterLowerCase) \\\n",
    "    .map(lambda word: (word, 1)) \\\n",
    "    .reduceByKey(add) \\\n",
    "    .map(lambda (x, y): (y, x)) \\\n",
    "    .sortByKey(False) \\\n",
    "    .map(lambda (x, y): (y, x))\n",
    "results_count = wordCount.count()\n",
    "for i, wc in enumerate(wordCount.collect()):\n",
    "    if (i < 20) or (i >= results_count-10):\n",
    "        print('%d. %s - %d' % (i+1, wc[0], wc[1]))"
   ]
  },
  {
   "cell_type": "markdown",
   "metadata": {},
   "source": [
    "<a name=\"HW10.2\"> <h2 style=\"color:darkblue\"> HW10.2: MLlib-centric KMeans</h2>\n",
    "[Back to Table of Contents](#TOC)\n",
    "\n",
    "Using the following  MLlib-centric KMeans code snippet: \n",
    "\n",
    "<pre>\n",
    "from pyspark.mllib.clustering import KMeans, KMeansModel\n",
    "from numpy import array\n",
    "from math import sqrt\n",
    "\n",
    "\n",
    "# Load and parse the data\n",
    "# NOTE  kmeans_data.txt is available here \n",
    "#          https://www.dropbox.com/s/q85t0ytb9apggnh/kmeans_data.txt?dl=0 \n",
    "data = sc.textFile(\"kmeans_data.txt\")  \n",
    "parsedData = data.map(lambda line: array([float(x) for x in line.split(' ')]))\n",
    "\n",
    "# Build the model (cluster the data)\n",
    "clusters = KMeans.train(parsedData, 2, maxIterations=10,\n",
    "        runs=10, initializationMode=\"random\")\n",
    "\n",
    "# Evaluate clustering by computing Within Set Sum of Squared Errors\n",
    "def error(point):\n",
    "    center = clusters.centers[clusters.predict(point)]\n",
    "    return sqrt(sum([x**2 for x in (point - center)]))\n",
    "\n",
    "WSSSE = parsedData.map(lambda point: error(point)).reduce(lambda x, y: x + y)\n",
    "print(\"Within Set Sum of Squared Error = \" + str(WSSSE))\n",
    "\n",
    "# Save and load model\n",
    "clusters.save(sc, \"myModelPath\")\n",
    "sameModel = KMeansModel.load(sc, \"myModelPath\")\n",
    "\n",
    "</pre>\n",
    "\n",
    "__NOTE__ <p> The  __kmeans_data.txt__ is available here https://www.dropbox.com/s/q85t0ytb9apggnh/kmeans_data.txt?dl=0 \n",
    "\n",
    "__TASKS__\n",
    "* Run this code snippet and list the clusters that your find.\n",
    "* compute the Within Set Sum of Squared Errors for the found clusters. Comment on your findings."
   ]
  },
  {
   "cell_type": "code",
   "execution_count": 9,
   "metadata": {
    "collapsed": false
   },
   "outputs": [
    {
     "name": "stdout",
     "output_type": "stream",
     "text": [
      "Within Set Sum of Squared Error = 0.692820323028\n",
      "[array([ 0.1,  0.1,  0.1]), array([ 9.1,  9.1,  9.1])]\n"
     ]
    }
   ],
   "source": [
    "from pyspark.mllib.clustering import KMeans, KMeansModel\n",
    "from numpy import array\n",
    "from math import sqrt\n",
    "\n",
    "# Load and parse the data\n",
    "# NOTE  kmeans_data.txt is available here \n",
    "#          https://www.dropbox.com/s/q85t0ytb9apggnh/kmeans_data.txt?dl=0 \n",
    "data = sc.textFile(\"kmeans_data.txt\")  \n",
    "parsedData = data.map(lambda line: array([float(x) for x in line.split(' ')]))\n",
    "\n",
    "# Build the model (cluster the data)\n",
    "clusters = KMeans.train(parsedData, 2, maxIterations=10,\n",
    "        runs=10, initializationMode=\"random\")\n",
    "\n",
    "# Evaluate clustering by computing Within Set Sum of Squared Errors\n",
    "def error(point):\n",
    "    center = clusters.centers[clusters.predict(point)]\n",
    "    return sqrt(sum([x**2 for x in (point - center)]))\n",
    "\n",
    "WSSSE = parsedData.map(lambda point: error(point)).reduce(lambda x, y: x + y)\n",
    "print(\"Within Set Sum of Squared Error = \" + str(WSSSE))\n",
    "print clusters.centers\n",
    "\n",
    "# Save and load model\n",
    "modelDirectory = 'kmeans_mllib_model'\n",
    "!rm -rf $modelDirectory\n",
    "clusters.save(sc, modelDirectory)\n",
    "sameModel = KMeansModel.load(sc, modelDirectory)"
   ]
  },
  {
   "cell_type": "markdown",
   "metadata": {},
   "source": [
    "<a name=\"HW10.3\"><h2 style=\"color:darkgreen\"> HW10.3: Homegrown KMeans in Spark </h2>\n",
    "[Back to Table of Contents](#TOC)\n",
    "\n",
    "Download the following KMeans [notebook](http://nbviewer.jupyter.org/urls/dl.dropbox.com/s/3nsthvp8g2rrrdh/EM-Kmeans.ipynb).\n",
    "\n",
    "Generate 3 clusters with 100 (one hundred) data points per cluster (using the code provided). Plot the data.\n",
    "Then run MLlib's Kmean implementation on this data  and report your results as follows:\n",
    "\n",
    "* plot the resulting clusters after 1 iteration, 10 iterations, after 20 iterations, after 100 iterations.\n",
    "* in each plot please report the Within Set Sum of Squared Errors for the found clusters (as part of the title WSSSE). Comment on the progress of this measure as  the KMEans algorithms runs for more iterations. Then plot the WSSSE as a function of the iteration (1, 10, 20, 30, 40, 50, 100).\n",
    "\n"
   ]
  },
  {
   "cell_type": "markdown",
   "metadata": {},
   "source": [
    "### Data Generation"
   ]
  },
  {
   "cell_type": "code",
   "execution_count": 2,
   "metadata": {
    "collapsed": false
   },
   "outputs": [],
   "source": [
    "import numpy as np\n",
    "np.random.seed(114)\n",
    "size1 = size2 = size3 = 100\n",
    "samples1 = np.random.multivariate_normal([4, 0], [[1, 0],[0, 1]], size1)\n",
    "data = samples1\n",
    "samples2 = np.random.multivariate_normal([6, 6], [[1, 0],[0, 1]], size2)\n",
    "data = np.append(data,samples2, axis=0)\n",
    "samples3 = np.random.multivariate_normal([0, 4], [[1, 0],[0, 1]], size3)\n",
    "data = np.append(data,samples3, axis=0)\n",
    "# Randomlize data\n",
    "data = data[np.random.permutation(size1+size2+size3),]\n",
    "np.savetxt('kmeans_point_data.csv',data,delimiter = ',')"
   ]
  },
  {
   "cell_type": "markdown",
   "metadata": {},
   "source": [
    "### Data Visualization"
   ]
  },
  {
   "cell_type": "code",
   "execution_count": 3,
   "metadata": {
    "collapsed": false
   },
   "outputs": [
    {
     "data": {
      "image/png": "[encoded data removed]",
      "text/plain": [
       "<matplotlib.figure.Figure at 0x7faf535c9cd0>"
      ]
     },
     "metadata": {},
     "output_type": "display_data"
    }
   ],
   "source": [
    "%matplotlib inline\n",
    "import pylab \n",
    "pylab.plot(samples1[:, 0], samples1[:, 1],'*', color = 'red')\n",
    "pylab.plot(samples2[:, 0], samples2[:, 1],'o',color = 'blue')\n",
    "pylab.plot(samples3[:, 0], samples3[:, 1],'+',color = 'green')\n",
    "pylab.show()"
   ]
  },
  {
   "cell_type": "code",
   "execution_count": 4,
   "metadata": {
    "collapsed": true
   },
   "outputs": [],
   "source": [
    "%matplotlib inline\n",
    "import pylab\n",
    "#plot centroids and data points for each iteration\n",
    "def plot_iteration(means):\n",
    "    pylab.plot(samples1[:, 0], samples1[:, 1], '.', color = 'blue')\n",
    "    pylab.plot(samples2[:, 0], samples2[:, 1], '.', color = 'blue')\n",
    "    pylab.plot(samples3[:, 0], samples3[:, 1],'.', color = 'blue')\n",
    "    pylab.plot(means[0][0], means[0][1],'*',markersize =10,color = 'red')\n",
    "    pylab.plot(means[1][0], means[1][1],'*',markersize =10,color = 'red')\n",
    "    pylab.plot(means[2][0], means[2][1],'*',markersize =10,color = 'red')\n",
    "    pylab.show()"
   ]
  },
  {
   "cell_type": "code",
   "execution_count": 64,
   "metadata": {
    "collapsed": false
   },
   "outputs": [
    {
     "name": "stdout",
     "output_type": "stream",
     "text": [
      "Iteration 1\n",
      "Within Set Sum of Squared Error = 383.588528204\n",
      "Centroids:\n",
      "[[-0.10677626  3.88282935]\n",
      " [ 5.89751298  6.13291108]\n",
      " [ 3.95045042  0.0444371 ]]\n"
     ]
    },
    {
     "data": {
      "image/png": "[encoded data removed]",
      "text/plain": [
       "<matplotlib.figure.Figure at 0x7f33239fac90>"
      ]
     },
     "metadata": {},
     "output_type": "display_data"
    },
    {
     "name": "stdout",
     "output_type": "stream",
     "text": [
      "Iteration 10\n",
      "Within Set Sum of Squared Error = 383.375135444\n",
      "Centroids:\n",
      "[[ 3.95045042  0.0444371 ]\n",
      " [ 5.96333346  6.13920441]\n",
      " [-0.05196282  3.92192865]]\n"
     ]
    },
    {
     "data": {
      "image/png": "[encoded data removed]",
      "text/plain": [
       "<matplotlib.figure.Figure at 0x7f33238996d0>"
      ]
     },
     "metadata": {},
     "output_type": "display_data"
    },
    {
     "name": "stdout",
     "output_type": "stream",
     "text": [
      "Iteration 20\n",
      "Within Set Sum of Squared Error = 383.375135444\n",
      "Centroids:\n",
      "[[-0.05196282  3.92192865]\n",
      " [ 3.95045042  0.0444371 ]\n",
      " [ 5.96333346  6.13920441]]\n"
     ]
    },
    {
     "data": {
      "image/png": "[encoded data removed]",
      "text/plain": [
       "<matplotlib.figure.Figure at 0x7f332817a890>"
      ]
     },
     "metadata": {},
     "output_type": "display_data"
    },
    {
     "name": "stdout",
     "output_type": "stream",
     "text": [
      "Iteration 100\n",
      "Within Set Sum of Squared Error = 383.375135444\n",
      "Centroids:\n",
      "[[-0.05196282  3.92192865]\n",
      " [ 3.95045042  0.0444371 ]\n",
      " [ 5.96333346  6.13920441]]\n"
     ]
    },
    {
     "data": {
      "image/png": "[encoded data removed]",
      "text/plain": [
       "<matplotlib.figure.Figure at 0x7f33223e4890>"
      ]
     },
     "metadata": {},
     "output_type": "display_data"
    },
    {
     "data": {
      "image/png": "[encoded data removed]",
      "text/plain": [
       "<matplotlib.figure.Figure at 0x7f3323ac5c10>"
      ]
     },
     "metadata": {},
     "output_type": "display_data"
    }
   ],
   "source": [
    "%matplotlib inline\n",
    "import pylab \n",
    "from pyspark.mllib.clustering import KMeans, KMeansModel\n",
    "from numpy import array\n",
    "from math import sqrt\n",
    "\n",
    "# Load and parse the data\n",
    "data = sc.textFile(\"kmeans_point_data.csv\")  \n",
    "parsedData = data.map(lambda line: array([float(x) for x in line.split(',')]))\n",
    "\n",
    "WSSSE_dict = {}\n",
    "clusters_dict = {}\n",
    "iterations = [1, 10, 20, 30, 40, 50, 100]\n",
    "#iterations = [1]\n",
    "for i in iterations:\n",
    "    # Build the model (cluster the data into 3 clusters)\n",
    "    clusters = KMeans.train(parsedData, 3, maxIterations=i, runs=10, initializationMode=\"random\")\n",
    "    clusters_dict[i] = clusters\n",
    "\n",
    "    # Evaluate clustering by computing Within Set Sum of Squared Errors\n",
    "    def error(point):\n",
    "        center = clusters.centers[clusters.predict(point)]\n",
    "        return sqrt(sum([x**2 for x in (point - center)]))\n",
    "\n",
    "    WSSSE = parsedData.map(lambda point: error(point)).reduce(lambda x, y: x + y)\n",
    "    WSSSE_dict[i] = WSSSE\n",
    "\n",
    "    # Plot the points only for iterations 1, 10, 20 and 100\n",
    "    if i in [1, 10, 20, 100]:\n",
    "        print 'Iteration', str(i)\n",
    "        print(\"Within Set Sum of Squared Error = \" + str(WSSSE))\n",
    "        print 'Centroids:'\n",
    "        print np.array(clusters.centers)\n",
    "        plot_iteration(clusters.centers)\n",
    "    \n",
    "    # Save and load model\n",
    "    modelDirectory = 'kmeans_mllib_model_' + str(i)\n",
    "    !rm -rf $modelDirectory\n",
    "    clusters.save(sc, modelDirectory)\n",
    "    #sameModel = KMeansModel.load(sc, modelDirectory)\n",
    "\n",
    "for i in iterations:\n",
    "    pylab.plot(i,WSSSE_dict[i],'o',color = 'blue')\n",
    "pylab.title('WSSSE vs. Iterations (1, 10, 20, 30, 40, 50, 100)')\n",
    "pylab.ylim(380,385) \n",
    "pylab.show()"
   ]
  },
  {
   "cell_type": "markdown",
   "metadata": {},
   "source": [
    "<a name=\"HW10.4\"><h2 style=\"color:darkblue\"> HW10.4: KMeans Experiments  </h2>\n",
    "[Back to Table of Contents](#TOC)\n",
    "\n",
    "Using this provided [homegrown Kmeans code](http://nbviewer.jupyter.org/urls/dl.dropbox.com/s/3nsthvp8g2rrrdh/EM-Kmeans.ipynb)   repeat the experiments in HW10.3. Explain any differences between the results in HW10.3 and HW10.4. \n",
    "\n",
    "**ANSWER:**  \n",
    "10.4 took longer to converge because it was not being averaged by the runs parameter.  \n",
    "10.4 started at a fixed point and not a random point and took longer to converge because it was not being averaged by the runs parameter.  \n",
    "Being started at a fixed point also means that each time the results are the same.  "
   ]
  },
  {
   "cell_type": "code",
   "execution_count": 5,
   "metadata": {
    "collapsed": false
   },
   "outputs": [],
   "source": [
    "import numpy as np\n",
    "from math import sqrt\n",
    "\n",
    "#Calculate which class each data point belongs to and the error\n",
    "def nearest_centroid(line):\n",
    "    x = np.array([float(f) for f in line.split(',')])\n",
    "    closest_centroid_idx = np.sum((x - centroids)**2, axis=1).argmin()\n",
    "    error = sqrt(sum((x - centroids[closest_centroid_idx])**2))\n",
    "    return (closest_centroid_idx,(x,1,error))"
   ]
  },
  {
   "cell_type": "code",
   "execution_count": 6,
   "metadata": {
    "collapsed": false
   },
   "outputs": [
    {
     "name": "stdout",
     "output_type": "stream",
     "text": [
      "Iteration time is 1.4355430603\n",
      "Iteration 1\n",
      "Within Set Sum of Squared Error = 1093.7668628\n",
      "Centroids:\n",
      "[[ 1.30294393 -0.04702418]\n",
      " [ 3.75700875  2.62593297]\n",
      " [ 2.72830099  5.9395683 ]]\n"
     ]
    },
    {
     "data": {
      "image/png": "[encoded data removed]",
      "text/plain": [
       "<matplotlib.figure.Figure at 0x7faf611cad50>"
      ]
     },
     "metadata": {},
     "output_type": "display_data"
    },
    {
     "name": "stdout",
     "output_type": "stream",
     "text": [
      "Iteration time is 0.197635889053\n",
      "Iteration time is 0.176810979843\n",
      "Iteration time is 0.181766986847\n",
      "Iteration time is 0.185395956039\n",
      "Iteration time is 0.17240691185\n",
      "Iteration time is 0.154762983322\n",
      "Iteration time is 0.192917108536\n",
      "Iteration time is 0.185378789902\n",
      "Iteration time is 0.219339132309\n",
      "Iteration 10\n",
      "Within Set Sum of Squared Error = 383.400869116\n",
      "Centroids:\n",
      "[[-0.07831252  3.89938731]\n",
      " [ 3.95045042  0.0444371 ]\n",
      " [ 5.92934311  6.13912298]]\n"
     ]
    },
    {
     "data": {
      "image/png": "[encoded data removed]",
      "text/plain": [
       "<matplotlib.figure.Figure at 0x7faf53206bd0>"
      ]
     },
     "metadata": {},
     "output_type": "display_data"
    },
    {
     "name": "stdout",
     "output_type": "stream",
     "text": [
      "Iteration time is 0.184226989746\n",
      "Iteration time is 0.176434993744\n",
      "Iteration time is 0.170886039734\n",
      "Iteration time is 0.206452131271\n",
      "Iteration time is 0.200911998749\n",
      "Iteration time is 0.157499790192\n",
      "Iteration time is 0.168044090271\n",
      "Iteration time is 0.198951005936\n",
      "Iteration time is 0.176796913147\n",
      "Iteration time is 0.178330898285\n",
      "Iteration 20\n",
      "Within Set Sum of Squared Error = 383.400869116\n",
      "Centroids:\n",
      "[[-0.07831252  3.89938731]\n",
      " [ 3.95045042  0.0444371 ]\n",
      " [ 5.92934311  6.13912298]]\n"
     ]
    },
    {
     "data": {
      "image/png": "[encoded data removed]",
      "text/plain": [
       "<matplotlib.figure.Figure at 0x7faf52d9e810>"
      ]
     },
     "metadata": {},
     "output_type": "display_data"
    },
    {
     "name": "stdout",
     "output_type": "stream",
     "text": [
      "Iteration time is 0.186336040497\n",
      "Iteration time is 0.157985925674\n",
      "Iteration time is 0.152634143829\n",
      "Iteration time is 0.149233102798\n",
      "Iteration time is 0.162854909897\n",
      "Iteration time is 0.164275169373\n",
      "Iteration time is 0.143741130829\n",
      "Iteration time is 0.146244049072\n",
      "Iteration time is 0.142693042755\n",
      "Iteration time is 0.179105997086\n",
      "Iteration time is 0.145358085632\n",
      "Iteration time is 0.141992807388\n",
      "Iteration time is 0.143616914749\n",
      "Iteration time is 0.142223119736\n",
      "Iteration time is 0.177827835083\n",
      "Iteration time is 0.154508113861\n",
      "Iteration time is 0.164326190948\n",
      "Iteration time is 0.144386053085\n",
      "Iteration time is 0.154922962189\n",
      "Iteration time is 0.141021966934\n",
      "Iteration time is 0.142060041428\n",
      "Iteration time is 0.141407012939\n",
      "Iteration time is 0.150868177414\n",
      "Iteration time is 0.158128976822\n",
      "Iteration time is 0.138033866882\n",
      "Iteration time is 0.146490812302\n",
      "Iteration time is 0.143466949463\n",
      "Iteration time is 0.144965171814\n",
      "Iteration time is 0.187729120255\n",
      "Iteration time is 0.142505168915\n",
      "Iteration time is 0.137526035309\n",
      "Iteration time is 0.141398906708\n",
      "Iteration time is 0.138911962509\n",
      "Iteration time is 0.150530815125\n",
      "Iteration time is 0.141201972961\n",
      "Iteration time is 0.137663125992\n",
      "Iteration time is 0.145292043686\n",
      "Iteration time is 0.138890028\n",
      "Iteration time is 0.149179935455\n",
      "Iteration time is 0.142688989639\n",
      "Iteration time is 0.13555598259\n",
      "Iteration time is 0.136961936951\n",
      "Iteration time is 0.161608934402\n",
      "Iteration time is 0.150360107422\n",
      "Iteration time is 0.141003131866\n",
      "Iteration time is 0.138339996338\n",
      "Iteration time is 0.138010978699\n",
      "Iteration time is 0.152348995209\n",
      "Iteration time is 0.141425132751\n",
      "Iteration time is 0.155836820602\n",
      "Iteration time is 0.14369893074\n",
      "Iteration time is 0.134882926941\n",
      "Iteration time is 0.145711183548\n",
      "Iteration time is 0.136471033096\n",
      "Iteration time is 0.134481191635\n",
      "Iteration time is 0.146354913712\n",
      "Iteration time is 0.144273996353\n",
      "Iteration time is 0.152884960175\n",
      "Iteration time is 0.135671138763\n",
      "Iteration time is 0.141816139221\n",
      "Iteration time is 0.13423705101\n",
      "Iteration time is 0.136864900589\n",
      "Iteration time is 0.147622823715\n",
      "Iteration time is 0.138365983963\n",
      "Iteration time is 0.134948015213\n",
      "Iteration time is 0.146593093872\n",
      "Iteration time is 0.145093917847\n",
      "Iteration time is 0.13938498497\n",
      "Iteration time is 0.136626005173\n",
      "Iteration time is 0.133097171783\n",
      "Iteration time is 0.138068199158\n",
      "Iteration time is 0.148298978806\n",
      "Iteration time is 0.145830154419\n",
      "Iteration time is 0.145961999893\n",
      "Iteration time is 0.143672943115\n",
      "Iteration time is 0.145676136017\n",
      "Iteration time is 0.1628677845\n",
      "Iteration time is 0.142966985703\n",
      "Iteration time is 0.142108201981\n",
      "Iteration time is 0.146385908127\n",
      "Iteration 100\n",
      "Within Set Sum of Squared Error = 383.400869116\n",
      "Centroids:\n",
      "[[-0.07831252  3.89938731]\n",
      " [ 3.95045042  0.0444371 ]\n",
      " [ 5.92934311  6.13912298]]\n"
     ]
    },
    {
     "data": {
      "image/png": "[encoded data removed]",
      "text/plain": [
       "<matplotlib.figure.Figure at 0x7faf52d9e690>"
      ]
     },
     "metadata": {},
     "output_type": "display_data"
    },
    {
     "name": "stdout",
     "output_type": "stream",
     "text": [
      "Final Results:\n",
      "[[-0.07831252  3.89938731]\n",
      " [ 3.95045042  0.0444371 ]\n",
      " [ 5.92934311  6.13912298]]\n",
      "Average Iteration Time 0.16657088995\n"
     ]
    },
    {
     "data": {
      "image/png": "[encoded data removed]",
      "text/plain": [
       "<matplotlib.figure.Figure at 0x7faf52c20d50>"
      ]
     },
     "metadata": {},
     "output_type": "display_data"
    }
   ],
   "source": [
    "import time\n",
    "K = 3\n",
    "# Initialization: initialization of parameter is fixed to show an example\n",
    "centroids = np.array([[0.0,0.0],[2.0,2.0],[0.0,7.0]])\n",
    "\n",
    "D = sc.textFile(\"kmeans_point_data.csv\").cache()\n",
    "WSSSE_dict = {}\n",
    "iter_num = 0\n",
    "sum_time = 0.0\n",
    "for iter_num in range(1,101):  \n",
    "    start_time = time.time()\n",
    "    res = D.map(nearest_centroid).reduceByKey(lambda x,y : (x[0]+y[0],x[1]+y[1],x[2]+y[2])).collect()\n",
    "    #res [(0, (array([  2.66546663e+00,   3.94844436e+03]), 1001)), \n",
    "    #     (2, (array([ 6023.84995923,  5975.48511018]), 1000)), \n",
    "    #     (1, (array([ 3986.85984761,    15.93153464]), 999))]\n",
    "    # res[1][1][1] returns 1000 here\n",
    "    res = sorted(res,key = lambda x : x[0])  #sort based on clusted ID\n",
    "    centroids_new = np.array([x[1][0]/x[1][1] for x in res])  #divide by cluster size\n",
    "    WSSSE = sum([x[1][2] for x in res])  #sum up the error for all clusters\n",
    "    WSSSE_dict[iter_num] = WSSSE\n",
    "    iter_time = time.time() - start_time \n",
    "    print 'Iteration time is', iter_time\n",
    "    sum_time += iter_time\n",
    "\n",
    "    # Plot the points only for iterations 1, 10, 20 and 100\n",
    "    if iter_num in [1, 10, 20, 100]:\n",
    "        print \"Iteration\", str(iter_num)\n",
    "        print(\"Within Set Sum of Squared Error = \" + str(WSSSE))\n",
    "        print 'Centroids:'\n",
    "        print centroids_new\n",
    "        plot_iteration(centroids_new)\n",
    "    centroids = centroids_new\n",
    "    iter_num = iter_num + 1 \n",
    "print \"Final Results:\"\n",
    "print centroids\n",
    "print 'Average Iteration Time', sum_time/100.0\n",
    "\n",
    "iterations = [1, 10, 20, 30, 40, 50, 100]\n",
    "for i in iterations:\n",
    "    pylab.plot(i,WSSSE_dict[i],'o',color = 'blue')\n",
    "pylab.title('WSSSE vs. Iterations (1, 10, 20, 30, 40, 50, 100)')\n",
    "pylab.show()"
   ]
  },
  {
   "cell_type": "markdown",
   "metadata": {},
   "source": [
    "<a name=\"HW10.4.1\"><h2 style=\"color:darkblue\"> HW10.4.1: Making Homegrown KMeans more efficient  </h2>\n",
    "[Back to Table of Contents](#TOC)\n",
    "\n",
    "The above provided homegrown KMeans implentation in not the most efficient. How can you make it more efficient? Make this change in the code and show it work and comment on the gains you achieve. \n",
    "\n",
    "Broadcast variables were used.  From the docs (http://spark.apache.org/docs/latest/programming-guide.html#broadcast-variables):  \n",
    "\"Broadcast variables allow the programmer to keep a read-only variable cached on each machine rather than shipping a copy of it with tasks. They can be used, for example, to give every node a copy of a large input dataset in an efficient manner. Spark also attempts to distribute broadcast variables using efficient broadcast algorithms to reduce communication cost.\"\n",
    "The centroids were broadcast out to the executor nodes.\n",
    "\n",
    "Sorting was removed as it adds no value.  \n",
    "    res = sorted(res,key = lambda x : x[0])  #sort based on clusted ID  \n",
    "\n",
    "And if we were sorting, using this line:  \n",
    "    res = D.map(nearest_centroid_broadcast).reduceByKey(calculate_results).sortByKey().collect()  \n",
    "with .sortByKey() doubled run time due presumably because it causes a shuffle to happen in Spark which is an expensive operation.\n",
    "\n"
   ]
  },
  {
   "cell_type": "markdown",
   "metadata": {},
   "source": [
    "### HINT: have a look at  [this linear regression notebook](    http://nbviewer.jupyter.org/urls/dl.dropbox.com/s/atzqkc0p1eajuz6/LinearRegression-Notebook-Challenge.ipynb)"
   ]
  },
  {
   "cell_type": "code",
   "execution_count": 7,
   "metadata": {
    "collapsed": false
   },
   "outputs": [],
   "source": [
    "import numpy as np\n",
    "from math import sqrt\n",
    "\n",
    "#Calculate which class each data point belongs to and the error\n",
    "def nearest_centroid_broadcast(line):\n",
    "    x = np.array([float(f) for f in line.split(',')])\n",
    "    closest_centroid_idx = np.sum((x - centroids.value)**2, axis=1).argmin()\n",
    "    error = sqrt(sum((x - centroids.value[closest_centroid_idx])**2))\n",
    "    return (closest_centroid_idx,(x,1,error))\n",
    "\n",
    "#Calculate which class each data point belongs to and the error\n",
    "# outputs an iterator\n",
    "def nearest_centroid_partition(lines):\n",
    "    sum_points = np.zeros(2)\n",
    "    count = 0\n",
    "    sum_error = 0.0\n",
    "    for line in lines:\n",
    "        x = np.array([float(f) for f in line.split(',')])\n",
    "        closest_centroid_idx = np.sum((x - centroids.value)**2, axis=1).argmin()\n",
    "        error = sqrt(sum((x - centroids.value[closest_centroid_idx])**2))\n",
    "        sum_points += x\n",
    "        count += 1\n",
    "        sum_error += error\n",
    "    return [sum_points, count, sum_error]\n",
    "\n",
    "def calculate_results(x, y):\n",
    "    points = x[0]+y[0]\n",
    "    count = x[1]+y[1]\n",
    "    error = x[2]+y[2]\n",
    "    next_centroids = points/float(count)  #divide by cluster size\n",
    "    return (points, count, error, next_centroids)"
   ]
  },
  {
   "cell_type": "code",
   "execution_count": 8,
   "metadata": {
    "collapsed": false
   },
   "outputs": [
    {
     "name": "stdout",
     "output_type": "stream",
     "text": [
      "Iteration time is 0.208893060684\n",
      "Iteration 1\n",
      "Within Set Sum of Squared Error = 1093.7668628\n",
      "Centroids:\n",
      "[[ 1.30294393 -0.04702418]\n",
      " [ 2.72830099  5.9395683 ]\n",
      " [ 3.75700875  2.62593297]]\n"
     ]
    },
    {
     "data": {
      "image/png": "[encoded data removed]",
      "text/plain": [
       "<matplotlib.figure.Figure at 0x7faf52c6ff90>"
      ]
     },
     "metadata": {},
     "output_type": "display_data"
    },
    {
     "name": "stdout",
     "output_type": "stream",
     "text": [
      "Iteration time is 0.139776945114\n",
      "Iteration time is 0.137269973755\n",
      "Iteration time is 0.132931947708\n",
      "Iteration time is 0.135256052017\n",
      "Iteration time is 0.14568400383\n",
      "Iteration time is 0.136309146881\n",
      "Iteration time is 0.135231971741\n",
      "Iteration time is 0.139034986496\n",
      "Iteration time is 0.147033929825\n",
      "Iteration 10\n",
      "Within Set Sum of Squared Error = 383.400869116\n",
      "Centroids:\n",
      "[[-0.07831252  3.89938731]\n",
      " [ 3.95045042  0.0444371 ]\n",
      " [ 5.92934311  6.13912298]]\n"
     ]
    },
    {
     "data": {
      "image/png": "[encoded data removed]",
      "text/plain": [
       "<matplotlib.figure.Figure at 0x7faf52d25fd0>"
      ]
     },
     "metadata": {},
     "output_type": "display_data"
    },
    {
     "name": "stdout",
     "output_type": "stream",
     "text": [
      "Iteration time is 0.135587930679\n",
      "Iteration time is 0.172623157501\n",
      "Iteration time is 0.132158041\n",
      "Iteration time is 0.140528917313\n",
      "Iteration time is 0.164645910263\n",
      "Iteration time is 0.14568400383\n",
      "Iteration time is 0.153184175491\n",
      "Iteration time is 0.140884876251\n",
      "Iteration time is 0.148830890656\n",
      "Iteration time is 0.135205030441\n",
      "Iteration 20\n",
      "Within Set Sum of Squared Error = 383.400869116\n",
      "Centroids:\n",
      "[[-0.07831252  3.89938731]\n",
      " [ 3.95045042  0.0444371 ]\n",
      " [ 5.92934311  6.13912298]]\n"
     ]
    },
    {
     "data": {
      "image/png": "[encoded data removed]",
      "text/plain": [
       "<matplotlib.figure.Figure at 0x7faf5293f950>"
      ]
     },
     "metadata": {},
     "output_type": "display_data"
    },
    {
     "name": "stdout",
     "output_type": "stream",
     "text": [
      "Iteration time is 0.137000083923\n",
      "Iteration time is 0.13393497467\n",
      "Iteration time is 0.132889032364\n",
      "Iteration time is 0.133678913116\n",
      "Iteration time is 0.142696857452\n",
      "Iteration time is 0.137102127075\n",
      "Iteration time is 0.133219003677\n",
      "Iteration time is 0.161875963211\n",
      "Iteration time is 0.157947063446\n",
      "Iteration time is 0.168009996414\n",
      "Iteration time is 0.131650924683\n",
      "Iteration time is 0.133362054825\n",
      "Iteration time is 0.136015176773\n",
      "Iteration time is 0.144885063171\n",
      "Iteration time is 0.133387088776\n",
      "Iteration time is 0.138531923294\n",
      "Iteration time is 0.132404088974\n",
      "Iteration time is 0.143706083298\n",
      "Iteration time is 0.13720202446\n",
      "Iteration time is 0.131271123886\n",
      "Iteration time is 0.131556034088\n",
      "Iteration time is 0.134469985962\n",
      "Iteration time is 0.144207000732\n",
      "Iteration time is 0.129698038101\n",
      "Iteration time is 0.13255405426\n",
      "Iteration time is 0.130244016647\n",
      "Iteration time is 0.14196395874\n",
      "Iteration time is 0.145551204681\n",
      "Iteration time is 0.131607055664\n",
      "Iteration time is 0.138318061829\n",
      "Iteration time is 0.133012056351\n",
      "Iteration time is 0.149331092834\n",
      "Iteration time is 0.139434099197\n",
      "Iteration time is 0.129327058792\n",
      "Iteration time is 0.133459091187\n",
      "Iteration time is 0.142660140991\n",
      "Iteration time is 0.132700920105\n",
      "Iteration time is 0.129648923874\n",
      "Iteration time is 0.131989002228\n",
      "Iteration time is 0.144157886505\n",
      "Iteration time is 0.14618897438\n",
      "Iteration time is 0.131723880768\n",
      "Iteration time is 0.132640838623\n",
      "Iteration time is 0.132105827332\n",
      "Iteration time is 0.144833087921\n",
      "Iteration time is 0.144615888596\n",
      "Iteration time is 0.132859230042\n",
      "Iteration time is 0.130733013153\n",
      "Iteration time is 0.154017210007\n",
      "Iteration time is 0.143316030502\n",
      "Iteration time is 0.133900165558\n",
      "Iteration time is 0.135082006454\n",
      "Iteration time is 0.139922142029\n",
      "Iteration time is 0.15322804451\n",
      "Iteration time is 0.131465196609\n",
      "Iteration time is 0.133908987045\n",
      "Iteration time is 0.138248920441\n",
      "Iteration time is 0.1382188797\n",
      "Iteration time is 0.216923952103\n",
      "Iteration time is 0.13116812706\n",
      "Iteration time is 0.137175798416\n",
      "Iteration time is 0.133721113205\n",
      "Iteration time is 0.132073879242\n",
      "Iteration time is 0.143891811371\n",
      "Iteration time is 0.143166065216\n",
      "Iteration time is 0.130032062531\n",
      "Iteration time is 0.139409780502\n",
      "Iteration time is 0.132515907288\n",
      "Iteration time is 0.131998062134\n",
      "Iteration time is 0.143356800079\n",
      "Iteration time is 0.131631135941\n",
      "Iteration time is 0.135229110718\n",
      "Iteration time is 0.134526014328\n",
      "Iteration time is 0.144822120667\n",
      "Iteration time is 0.132458925247\n",
      "Iteration time is 0.130928039551\n",
      "Iteration time is 0.130879163742\n",
      "Iteration time is 0.132395029068\n",
      "Iteration time is 0.142872095108\n",
      "Iteration time is 0.1351749897\n",
      "Iteration 100\n",
      "Within Set Sum of Squared Error = 383.400869116\n",
      "Centroids:\n",
      "[[-0.07831252  3.89938731]\n",
      " [ 3.95045042  0.0444371 ]\n",
      " [ 5.92934311  6.13912298]]\n"
     ]
    },
    {
     "data": {
      "image/png": "[encoded data removed]",
      "text/plain": [
       "<matplotlib.figure.Figure at 0x7faf5290a510>"
      ]
     },
     "metadata": {},
     "output_type": "display_data"
    },
    {
     "name": "stdout",
     "output_type": "stream",
     "text": [
      "Final Results:\n",
      "[[-0.07831252  3.89938731]\n",
      " [ 3.95045042  0.0444371 ]\n",
      " [ 5.92934311  6.13912298]]\n",
      "Average Iteration Time 0.140167725086\n"
     ]
    },
    {
     "data": {
      "image/png": "[encoded data removed]",
      "text/plain": [
       "<matplotlib.figure.Figure at 0x7faf52990290>"
      ]
     },
     "metadata": {},
     "output_type": "display_data"
    }
   ],
   "source": [
    "import time\n",
    "K = 3\n",
    "# Initialization: initialization of parameter is fixed to show an example\n",
    "centroids = sc.broadcast(np.array([[0.0,0.0],[2.0,2.0],[0.0,7.0]]))\n",
    "\n",
    "D = sc.textFile(\"kmeans_point_data.csv\").cache()\n",
    "WSSSE_dict = {}\n",
    "sum_time = 0.0\n",
    "iter_num = 0\n",
    "for iter_num in range(1,101):  \n",
    "    start_time = time.time()\n",
    "    res = D.map(nearest_centroid_broadcast).reduceByKey(calculate_results).collect()\n",
    "    centroids_new = np.array([x[1][3] for x in res])\n",
    "    WSSSE = sum([x[1][2] for x in res])  #sum up the error for all clusters\n",
    "    WSSSE_dict[iter_num] = WSSSE\n",
    "    iter_time = time.time() - start_time \n",
    "    print 'Iteration time is', iter_time\n",
    "    sum_time += iter_time\n",
    "    \n",
    "    # Plot the points only for iterations 1, 10, 20 and 100\n",
    "    if iter_num in [1, 10, 20, 100]:\n",
    "        print \"Iteration\", str(iter_num)\n",
    "        print(\"Within Set Sum of Squared Error = \" + str(WSSSE))\n",
    "        print 'Centroids:'\n",
    "        print centroids_new\n",
    "        plot_iteration(centroids_new)\n",
    "    centroids = sc.broadcast(centroids_new)\n",
    "    iter_num = iter_num + 1 \n",
    "print \"Final Results:\"\n",
    "print centroids.value\n",
    "print 'Average Iteration Time', sum_time/100.0\n",
    "\n",
    "iterations = [1, 10, 20, 30, 40, 50, 100]\n",
    "for i in iterations:\n",
    "    pylab.plot(i,WSSSE_dict[i],'o',color = 'blue')\n",
    "pylab.title('WSSSE vs. Iterations (1, 10, 20, 30, 40, 50, 100)')\n",
    "pylab.show()"
   ]
  },
  {
   "cell_type": "markdown",
   "metadata": {},
   "source": [
    "<a name=\"HW10.5\"><h2 style=\"color:darkgreen\"> HW10.5: OPTIONAL Weighted KMeans  </h2>\n",
    "[Back to Table of Contents](#TOC)\n",
    "\n",
    "Using this provided [homegrown Kmeans code](http://nbviewer.jupyter.org/urls/dl.dropbox.com/s/3nsthvp8g2rrrdh/EM-Kmeans.ipynb), modify it to do a weighted KMeans and repeat the experiements in HW10.3. Explain  any differences between the results in HW10.3 and HW10.5.\n",
    "\n",
    "NOTE: Weight each example as follows using the inverse vector length (Euclidean norm): \n",
    "\n",
    "> weight(X)= 1/||X||, \n",
    "\n",
    "where ||X|| = SQRT(X.X)= SQRT(X1^2 + X2^2)\n",
    "\n",
    "Here X is vector made up of two values X1 and X2.\n",
    "\n",
    "__[Please incorporate all referenced notebooks directly into this master notebook as cells for HW submission. I.e., HW submissions should comprise of just one notebook]__"
   ]
  },
  {
   "cell_type": "code",
   "execution_count": 71,
   "metadata": {
    "collapsed": true
   },
   "outputs": [],
   "source": [
    "## Code goes here"
   ]
  },
  {
   "cell_type": "code",
   "execution_count": 72,
   "metadata": {
    "collapsed": true
   },
   "outputs": [],
   "source": [
    "## Drivers & Runners"
   ]
  },
  {
   "cell_type": "code",
   "execution_count": 73,
   "metadata": {
    "collapsed": true
   },
   "outputs": [],
   "source": [
    "## Run Scripts, S3 Sync"
   ]
  },
  {
   "cell_type": "markdown",
   "metadata": {},
   "source": [
    "<a name=\"HW10.6\"><h2 style=\"color:darkblue\"> HW10.6 OPTIONAL Linear Regression</h2>\n",
    "[Back to Table of Contents](#TOC)\n",
    "<a name=\"HW10.6.1\"><h2 style=\"color:darkblue\"> HW10.6.1 OPTIONAL Linear Regression</h2>\n",
    "[Back to Table of Contents](#TOC)\n",
    "\n",
    "Using [this linear regression notebook](    http://nbviewer.jupyter.org/urls/dl.dropbox.com/s/atzqkc0p1eajuz6/LinearRegression-Notebook-Challenge.ipynb):\n",
    "\n",
    "\n",
    "* Generate 2 sets of data with 100 data points using the data generation code provided and plot each in separate plots. Call one the training set and the other the testing set.\n",
    "\n",
    "* Using MLLib's LinearRegressionWithSGD train up a linear regression model with the training dataset and evaluate with the testing set. What a good number of iterations for training the linear regression model? Justify with plots (e.g., plot MSE as a function of the number of iterations) and words. \n"
   ]
  },
  {
   "cell_type": "markdown",
   "metadata": {},
   "source": [
    "<a name=\"HW10.6.2\"><h2 style=\"color:darkblue\"> HW10.6.2 OPTIONAL Linear Regression</h2>\n",
    "[Back to Table of Contents](#TOC)\n",
    "\n",
    "In the notebook provided above, in the cell labeled \"Gradient descent (regularization)\".\n",
    "\n",
    "* Fill in the blanks and get this code to work for LASS0 and RIDGE linear regression.\n",
    "\n",
    "* Using the data from HW10.6.1 tune the hyper parameters of your LASS0 and RIDGE regression. Report your findings with words and plots."
   ]
  },
  {
   "cell_type": "code",
   "execution_count": 74,
   "metadata": {
    "collapsed": true
   },
   "outputs": [],
   "source": [
    "## Code goes here"
   ]
  },
  {
   "cell_type": "code",
   "execution_count": 75,
   "metadata": {
    "collapsed": true
   },
   "outputs": [],
   "source": [
    "## Drivers & Runners"
   ]
  },
  {
   "cell_type": "code",
   "execution_count": 76,
   "metadata": {
    "collapsed": true
   },
   "outputs": [],
   "source": [
    "## Run Scripts, S3 Sync"
   ]
  },
  {
   "cell_type": "markdown",
   "metadata": {},
   "source": [
    "<a name=\"HW10.7\"><h2 style=\"color:darkgreen\"> HW10.7 OPTIONAL Error surfaces </h2>\n",
    "[Back to Table of Contents](#TOC)\n",
    "\n",
    "Here is a link to R code with 1 test drivers that plots the linear regression model in  model space and in the domain space:\n",
    "\n",
    "> https://www.dropbox.com/s/3xc3kwda6d254l5/PlotModelAndDomainSpaces.R?dl=0\n",
    "\n",
    "Here is a sample output from this script: \n",
    "      \n",
    "> https://www.dropbox.com/s/my3tnhxx7fr5qs0/image%20%281%29.png?dl=0\n",
    "\n",
    "Please use this as inspiration and code a equivalent error surface and heatmap (with isolines) in Spark and show the trajectory of learning taken during gradient descent(after each n-iterations of Gradient Descent):\n",
    "\n",
    "\n",
    "Using Spark and  Python (using the above R Script as inspiration), plot the error surface for the linear regression model using a heatmap and contour plot. \n",
    "Also plot the current model in the original domain space for every 10th iteration.  Plot them side by side if possible  for each iteration: lefthand side plot is the model space(w0 and w01) and the righthand side plot is domain space (plot the corresponding model and training data in the problem domain space) with a final pair of graphs showing the entire trajectory in the model and domain space. Make sure to label your plots with iteration numbers, function, model space versus original domain space, MSE on the training data etc.\n",
    "\n",
    "Also plot the MSE as a function of each iteration (possibly every 10th iteration). Dont forget to label both axis and the graph also. __[Please incorporate all referenced notebooks directly into this master notebook as cells for HW submission. I.e., HW submissions should comprise of just one notebook]__\n",
    "\n",
    "\n",
    "\n"
   ]
  },
  {
   "cell_type": "code",
   "execution_count": 77,
   "metadata": {
    "collapsed": true
   },
   "outputs": [],
   "source": [
    "## Code goes here"
   ]
  },
  {
   "cell_type": "code",
   "execution_count": 78,
   "metadata": {
    "collapsed": true
   },
   "outputs": [],
   "source": [
    "## Drivers & Runners"
   ]
  },
  {
   "cell_type": "code",
   "execution_count": 79,
   "metadata": {
    "collapsed": true
   },
   "outputs": [],
   "source": [
    "## Run Scripts, S3 Sync"
   ]
  },
  {
   "cell_type": "markdown",
   "metadata": {},
   "source": [
    "[Back to Table of Contents](#TOC)\n",
    "<center><div class='jumbotron'><h2 style='color:green'>-------  END OF HOWEWORK --------</h2></div></center>"
   ]
  },
  {
   "cell_type": "code",
   "execution_count": null,
   "metadata": {
    "collapsed": true
   },
   "outputs": [],
   "source": []
  }
 ],
 "metadata": {
  "kernelspec": {
   "display_name": "Python 2",
   "language": "python",
   "name": "python2"
  },
  "language_info": {
   "codemirror_mode": {
    "name": "ipython",
    "version": 2
   },
   "file_extension": ".py",
   "mimetype": "text/x-python",
   "name": "python",
   "nbconvert_exporter": "python",
   "pygments_lexer": "ipython2",
   "version": "2.7.12"
  }
 },
 "nbformat": 4,
 "nbformat_minor": 0
}
