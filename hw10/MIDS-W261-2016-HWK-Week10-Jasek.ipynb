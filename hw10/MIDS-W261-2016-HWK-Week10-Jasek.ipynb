{
 "cells": [
  {
   "cell_type": "code",
   "execution_count": 51,
   "metadata": {
    "collapsed": false
   },
   "outputs": [
    {
     "data": {
      "application/javascript": [
       "/**********************************************************************************************\n",
       "Known Mathjax Issue with Chrome - a rounding issue adds a border to the right of mathjax markup\n",
       "https://github.com/mathjax/MathJax/issues/1300\n",
       "A quick hack to fix this based on stackoverflow discussions: \n",
       "http://stackoverflow.com/questions/34277967/chrome-rendering-mathjax-equations-with-a-trailing-vertical-line\n",
       "**********************************************************************************************/\n",
       "\n",
       "$('.math>span').css(\"border-left-color\",\"transparent\")"
      ],
      "text/plain": [
       "<IPython.core.display.Javascript object>"
      ]
     },
     "metadata": {},
     "output_type": "display_data"
    }
   ],
   "source": [
    "%%javascript\n",
    "/**********************************************************************************************\n",
    "Known Mathjax Issue with Chrome - a rounding issue adds a border to the right of mathjax markup\n",
    "https://github.com/mathjax/MathJax/issues/1300\n",
    "A quick hack to fix this based on stackoverflow discussions: \n",
    "http://stackoverflow.com/questions/34277967/chrome-rendering-mathjax-equations-with-a-trailing-vertical-line\n",
    "**********************************************************************************************/\n",
    "\n",
    "$('.math>span').css(\"border-left-color\",\"transparent\")"
   ]
  },
  {
   "cell_type": "code",
   "execution_count": 52,
   "metadata": {
    "collapsed": true
   },
   "outputs": [],
   "source": [
    "%reload_ext autoreload\n",
    "%autoreload 2"
   ]
  },
  {
   "cell_type": "markdown",
   "metadata": {},
   "source": [
    "# MIDS - w261 Machine Learning At Scale\n",
    "__Course Lead:__ Dr James G. Shanahan (__email__ Jimi via  James.Shanahan _AT_ gmail.com)\n",
    "\n",
    "## Assignment - HW10\n",
    "\n",
    "\n",
    "---\n",
    "__Name:__  Megan Jasek  \n",
    "__Class:__ MIDS w261 (Section Summer 2016 Group 2)     \n",
    "__Email:__  meganjasek@iSchool.Berkeley.edu     \n",
    "__Week:__   10"
   ]
  },
  {
   "cell_type": "markdown",
   "metadata": {},
   "source": [
    "# Table of Contents <a name=\"TOC\"></a> \n",
    "\n",
    "1.  [HW Introduction](#1)   \n",
    "2.  [HW References](#2)\n",
    "3.  [HW Problems](#3)   \n",
    "    10.0.  [Short Answer Questions](#HW10.0)    \n",
    "    10.1.  [Word Count plus sorting](#HW10.1)   \n",
    "    10.2.  [MLlib-centric Kmeans](#HW10.2)    \n",
    "    10.3.  [Homegrown KMeans in Spark](#HW10.3)    \n",
    "    10.4.  [Making Homegrown KMeans more efficient](#HW10.4)  \n",
    "    10.5.  [OPTIONAL Weighted KMeans](#HW10.5)  \n",
    "    10.6.  [OPTIONAL Linear Regression](#HW10.6)  \n",
    "    10.7.  [OPTIONAL Error surfaces](#HW10.7)\n"
   ]
  },
  {
   "cell_type": "markdown",
   "metadata": {},
   "source": [
    "\n",
    "<a name=\"1\">\n",
    "# 1 Instructions\n",
    "[Back to Table of Contents](#TOC)\n",
    "* Homework submissions are due by Tueday, 07/28/2016 at 11AM (West Coast Time).\n",
    "\n",
    "\n",
    "* Prepare a single Jupyter note, please include questions, and question numbers in the questions and in the responses.\n",
    "Submit your homework notebook via the following form:\n",
    "\n",
    "   + [Submission Link - Google Form](\n",
    "https://docs.google.com/forms/d/1ZOr9RnIe_A06AcZDB6K1mJN4vrLeSmS2PD6Xm3eOiis/viewform?usp=send_form \n",
    ")\n",
    "\n",
    "\n",
    "### Documents:\n",
    "* IPython Notebook, published and viewable online.\n",
    "* PDF export of IPython Notebook.\n",
    "    \n",
    "<a name=\"2\">\n",
    "# 2 Useful References\n",
    "[Back to Table of Contents](#TOC)\n",
    "\n",
    "* Karau, Holden, Konwinski, Andy, Wendell, Patrick, & Zaharia, Matei. (2015). Learning Spark: Lightning-fast big data analysis. Sebastopol, CA: O’Reilly Publishers.\n",
    "* Hastie, Trevor, Tibshirani, Robert, & Friedman, Jerome. (2009). The elements of statistical learning: Data mining, inference, and prediction (2nd ed.). Stanford, CA: Springer Science+Business Media. (Download for free [here](http://statweb.stanford.edu/~tibs/ElemStatLearn/printings/ESLII_print10.pdf))"
   ]
  },
  {
   "cell_type": "markdown",
   "metadata": {},
   "source": [
    "<a name=\"3\">\n",
    "# 3 HW Problems\n",
    "[Back to Table of Contents](#TOC)"
   ]
  },
  {
   "cell_type": "markdown",
   "metadata": {},
   "source": [
    "<a name=\"HW10.0\"></a><h2 style=\"color:darkblue\"> HW10.0: Short answer questions </h2>\n",
    "[Back to Table of Contents](#TOC)\n",
    "\n",
    "\n",
    "__What is Apache Spark and how is it different to Apache Hadoop? __\n",
    "\n",
    "__Fill in the blanks:\n",
    "Spark API consists of interfaces to develop applications based on it in Java, ___ BLANKS __ languages (list languages). __\n",
    "\n",
    "<hr>\n",
    "\n",
    "__Using Spark, resource management can be done either in a single server instance or using a framework such as Mesos or ????? in a distributed manner. __\n",
    "\n",
    "<hr>\n",
    "\n",
    "__What is an RDD and show a fun example of creating one and bringing the first element back to the driver program. __\n",
    "\n",
    "<hr>\n"
   ]
  },
  {
   "cell_type": "markdown",
   "metadata": {},
   "source": [
    "### Create Spark Context"
   ]
  },
  {
   "cell_type": "code",
   "execution_count": 1,
   "metadata": {
    "collapsed": false
   },
   "outputs": [
    {
     "name": "stdout",
     "output_type": "stream",
     "text": [
      "<pyspark.context.SparkContext object at 0x7fa2fa352990>\n",
      "<pyspark.sql.context.SQLContext object at 0x7fa2fa3529d0>\n"
     ]
    }
   ],
   "source": [
    "import pyspark\n",
    "from pyspark.sql import SQLContext\n",
    "\n",
    "# We can give a name to our app (to find it in Spark WebUI) and configure execution mode\n",
    "# In this case, it is local multicore execution with \"local[*]\"\n",
    "#app_name = \"example-logs\"\n",
    "app_name = \"HW10\"\n",
    "master = \"local[*]\"\n",
    "conf = pyspark.SparkConf().setAppName(app_name).setMaster(master)\n",
    "sc.stop()\n",
    "sc = pyspark.SparkContext(conf=conf)\n",
    "sqlContext = SQLContext(sc)\n",
    "\n",
    "print sc\n",
    "print sqlContext"
   ]
  },
  {
   "cell_type": "code",
   "execution_count": null,
   "metadata": {
    "collapsed": true
   },
   "outputs": [],
   "source": [
    "sc.stop()"
   ]
  },
  {
   "cell_type": "markdown",
   "metadata": {},
   "source": [
    "<a name=\"HW10.1\"> <h2 style=\"color:darkgreen\">HW10.1 WordCount plus sorting </h2>\n",
    "[Back to Table of Contents](#TOC)\n",
    "\n",
    "The following notebooks will be useful to jumpstart this collection of Homework exercises:\n",
    "\n",
    "\n",
    "* [Example Notebook with Debugging tactics in Spark](http://nbviewer.jupyter.org/urls/dl.dropbox.com/s/jqjllp8kmf1eolk/WordCountDebugging-Example.ipynb)\n",
    "* [Word Count Quiz](http://nbviewer.jupyter.org/urls/dl.dropbox.com/s/vgmpivsi4rvqz0s/WordCountQuiz.ipynb)\n",
    "* [Work Count Solution](http://nbviewer.jupyter.org/urls/dl.dropbox.com/s/dxv3dmp1vluuo8i/WordCountQuiz-Solution.ipynb)\n",
    "\n",
    "---\n",
    "In Spark write the code to count how often each word appears in a text document (or set of documents). Please use this homework document (with no solutions in it) as a the example document to run an experiment.  Report the following: \n",
    "* provide a sorted list of tokens in decreasing order of frequency of occurence limited to [top 20 most frequent only] and [bottom 10 least frequent]. \n",
    "\n",
    "\n",
    "__OPTIONAL__ \n",
    "Feel free to do a secondary sort where words with the same frequncy are sorted alphanumerically increasing. Plseas refer to the [following notebook](http://nbviewer.jupyter.org/urls/dl.dropbox.com/s/uu5afr3ufpm9fy8/SecondarySort.ipynb)\n",
    " for examples of secondary sorts in Spark. Please provide the following [top 20 most frequent terms only] and [bottom 10 least frequent terms]\n",
    "\n",
    "__NOTE__ [Please incorporate all referenced notebooks directly into this master notebook as cells for HW submission. I.e., HW submissions should comprise of just one notebook]__"
   ]
  },
  {
   "cell_type": "markdown",
   "metadata": {},
   "source": [
    "### Wordcount sorted by decreasing order of frequency"
   ]
  },
  {
   "cell_type": "code",
   "execution_count": 7,
   "metadata": {
    "collapsed": false
   },
   "outputs": [
    {
     "name": "stdout",
     "output_type": "stream",
     "text": [
      "1. the - 70\n",
      "2. and - 36\n",
      "3. in - 25\n",
      "4. of - 24\n",
      "5. a - 18\n",
      "6. for - 12\n",
      "7. code - 12\n",
      "8. to - 12\n",
      "9. is - 11\n",
      "10. model - 11\n",
      "11. with - 10\n",
      "12. data - 10\n",
      "13. === - 9\n",
      "14. as - 9\n",
      "15. on - 9\n",
      "16. plot - 9\n",
      "17. this - 8\n",
      "18. = - 8\n",
      "19. Using - 8\n",
      "20. your - 8\n",
      "474. 20, - 1\n",
      "475. descent - 1\n",
      "476. other - 1\n",
      "477. give - 1\n",
      "478. center - 1\n",
      "479. sets - 1\n",
      "480. element - 1\n",
      "481. graphs - 1\n",
      "482. 10.1: - 1\n",
      "483. #10 - 1\n"
     ]
    }
   ],
   "source": [
    "from operator import add\n",
    "wordCount = sc.textFile('MIDS-MLS-HW-10.txt').flatMap(lambda x: x.strip().split()) \\\n",
    "    .map(lambda word: (word, 1)) \\\n",
    "    .reduceByKey(add) \\\n",
    "    .map(lambda (x, y): (y, x)) \\\n",
    "    .sortByKey(False) \\\n",
    "    .map(lambda (x, y): (y, x))\n",
    "results_count = wordCount.count()\n",
    "for i, wc in enumerate(wordCount.collect()):\n",
    "    if (i < 20) or (i >= results_count-10):\n",
    "        print('%d. %s - %d' % (i+1, wc[0], wc[1]))"
   ]
  },
  {
   "cell_type": "markdown",
   "metadata": {},
   "source": [
    "<a name=\"HW10.1.1\"><h2 style=\"color:darkgreen\">HW10.1.1 </h2>\n",
    "[Back to Table of Contents](#TOC)\n",
    "\n",
    "Modify the above word count code to count words that begin with lower case letters (a-z) and report your findings. Again sort the output words in decreasing order of frequency.\n"
   ]
  },
  {
   "cell_type": "markdown",
   "metadata": {},
   "source": [
    "### Wordcount with lower case letters (a-z) sorted by decreasing order of frequency"
   ]
  },
  {
   "cell_type": "code",
   "execution_count": 8,
   "metadata": {
    "collapsed": false
   },
   "outputs": [
    {
     "name": "stdout",
     "output_type": "stream",
     "text": [
      "1. the - 70\n",
      "2. and - 36\n",
      "3. in - 25\n",
      "4. of - 24\n",
      "5. a - 18\n",
      "6. for - 12\n",
      "7. code - 12\n",
      "8. to - 12\n",
      "9. is - 11\n",
      "10. model - 11\n",
      "11. with - 10\n",
      "12. data - 10\n",
      "13. as - 9\n",
      "14. on - 9\n",
      "15. plot - 9\n",
      "16. this - 8\n",
      "17. your - 8\n",
      "18. each - 7\n",
      "19. domain - 6\n",
      "20. from - 6\n",
      "304. applications - 1\n",
      "305. notebook - 1\n",
      "306. such - 1\n",
      "307. descent - 1\n",
      "308. give - 1\n",
      "309. center - 1\n",
      "310. sets - 1\n",
      "311. element - 1\n",
      "312. graphs - 1\n",
      "313. title - 1\n"
     ]
    }
   ],
   "source": [
    "from operator import add\n",
    "import re\n",
    "def filterLowerCase(s):\n",
    "    pattern = re.compile(\"[a-z]\")\n",
    "    return bool(pattern.match(s))\n",
    "\n",
    "wordCount = sc.textFile('MIDS-MLS-HW-10.txt').flatMap(lambda x: x.strip().split()) \\\n",
    "    .filter(filterLowerCase) \\\n",
    "    .map(lambda word: (word, 1)) \\\n",
    "    .reduceByKey(add) \\\n",
    "    .map(lambda (x, y): (y, x)) \\\n",
    "    .sortByKey(False) \\\n",
    "    .map(lambda (x, y): (y, x))\n",
    "results_count = wordCount.count()\n",
    "for i, wc in enumerate(wordCount.collect()):\n",
    "    if (i < 20) or (i >= results_count-10):\n",
    "        print('%d. %s - %d' % (i+1, wc[0], wc[1]))"
   ]
  },
  {
   "cell_type": "markdown",
   "metadata": {},
   "source": [
    "<a name=\"HW10.2\"> <h2 style=\"color:darkblue\"> HW10.2: MLlib-centric KMeans</h2>\n",
    "[Back to Table of Contents](#TOC)\n",
    "\n",
    "Using the following  MLlib-centric KMeans code snippet: \n",
    "\n",
    "<pre>\n",
    "from pyspark.mllib.clustering import KMeans, KMeansModel\n",
    "from numpy import array\n",
    "from math import sqrt\n",
    "\n",
    "\n",
    "# Load and parse the data\n",
    "# NOTE  kmeans_data.txt is available here \n",
    "#          https://www.dropbox.com/s/q85t0ytb9apggnh/kmeans_data.txt?dl=0 \n",
    "data = sc.textFile(\"kmeans_data.txt\")  \n",
    "parsedData = data.map(lambda line: array([float(x) for x in line.split(' ')]))\n",
    "\n",
    "# Build the model (cluster the data)\n",
    "clusters = KMeans.train(parsedData, 2, maxIterations=10,\n",
    "        runs=10, initializationMode=\"random\")\n",
    "\n",
    "# Evaluate clustering by computing Within Set Sum of Squared Errors\n",
    "def error(point):\n",
    "    center = clusters.centers[clusters.predict(point)]\n",
    "    return sqrt(sum([x**2 for x in (point - center)]))\n",
    "\n",
    "WSSSE = parsedData.map(lambda point: error(point)).reduce(lambda x, y: x + y)\n",
    "print(\"Within Set Sum of Squared Error = \" + str(WSSSE))\n",
    "\n",
    "# Save and load model\n",
    "clusters.save(sc, \"myModelPath\")\n",
    "sameModel = KMeansModel.load(sc, \"myModelPath\")\n",
    "\n",
    "</pre>\n",
    "\n",
    "__NOTE__ <p> The  __kmeans_data.txt__ is available here https://www.dropbox.com/s/q85t0ytb9apggnh/kmeans_data.txt?dl=0 \n",
    "\n",
    "__TASKS__\n",
    "* Run this code snippet and list the clusters that your find.\n",
    "* compute the Within Set Sum of Squared Errors for the found clusters. Comment on your findings."
   ]
  },
  {
   "cell_type": "code",
   "execution_count": 9,
   "metadata": {
    "collapsed": false
   },
   "outputs": [
    {
     "name": "stdout",
     "output_type": "stream",
     "text": [
      "Within Set Sum of Squared Error = 0.692820323028\n",
      "[array([ 0.1,  0.1,  0.1]), array([ 9.1,  9.1,  9.1])]\n"
     ]
    }
   ],
   "source": [
    "from pyspark.mllib.clustering import KMeans, KMeansModel\n",
    "from numpy import array\n",
    "from math import sqrt\n",
    "\n",
    "# Load and parse the data\n",
    "# NOTE  kmeans_data.txt is available here \n",
    "#          https://www.dropbox.com/s/q85t0ytb9apggnh/kmeans_data.txt?dl=0 \n",
    "data = sc.textFile(\"kmeans_data.txt\")  \n",
    "parsedData = data.map(lambda line: array([float(x) for x in line.split(' ')]))\n",
    "\n",
    "# Build the model (cluster the data)\n",
    "clusters = KMeans.train(parsedData, 2, maxIterations=10,\n",
    "        runs=10, initializationMode=\"random\")\n",
    "\n",
    "# Evaluate clustering by computing Within Set Sum of Squared Errors\n",
    "def error(point):\n",
    "    center = clusters.centers[clusters.predict(point)]\n",
    "    return sqrt(sum([x**2 for x in (point - center)]))\n",
    "\n",
    "WSSSE = parsedData.map(lambda point: error(point)).reduce(lambda x, y: x + y)\n",
    "print(\"Within Set Sum of Squared Error = \" + str(WSSSE))\n",
    "print clusters.centers\n",
    "\n",
    "# Save and load model\n",
    "modelDirectory = 'kmeans_mllib_model'\n",
    "!rm -rf $modelDirectory\n",
    "clusters.save(sc, modelDirectory)\n",
    "sameModel = KMeansModel.load(sc, modelDirectory)"
   ]
  },
  {
   "cell_type": "markdown",
   "metadata": {},
   "source": [
    "<a name=\"HW10.3\"><h2 style=\"color:darkgreen\"> HW10.3: Homegrown KMeans in Spark </h2>\n",
    "[Back to Table of Contents](#TOC)\n",
    "\n",
    "Download the following KMeans [notebook](http://nbviewer.jupyter.org/urls/dl.dropbox.com/s/3nsthvp8g2rrrdh/EM-Kmeans.ipynb).\n",
    "\n",
    "Generate 3 clusters with 100 (one hundred) data points per cluster (using the code provided). Plot the data.\n",
    "Then run MLlib's Kmean implementation on this data  and report your results as follows:\n",
    "\n",
    "* plot the resulting clusters after 1 iteration, 10 iterations, after 20 iterations, after 100 iterations.\n",
    "* in each plot please report the Within Set Sum of Squared Errors for the found clusters (as part of the title WSSSE). Comment on the progress of this measure as  the KMEans algorithms runs for more iterations. Then plot the WSSSE as a function of the iteration (1, 10, 20, 30, 40, 50, 100).\n",
    "\n"
   ]
  },
  {
   "cell_type": "markdown",
   "metadata": {},
   "source": [
    "### Data Generation"
   ]
  },
  {
   "cell_type": "code",
   "execution_count": 23,
   "metadata": {
    "collapsed": true
   },
   "outputs": [],
   "source": [
    "import numpy as np\n",
    "size1 = size2 = size3 = 100\n",
    "samples1 = np.random.multivariate_normal([4, 0], [[1, 0],[0, 1]], size1)\n",
    "data = samples1\n",
    "samples2 = np.random.multivariate_normal([6, 6], [[1, 0],[0, 1]], size2)\n",
    "data = np.append(data,samples2, axis=0)\n",
    "samples3 = np.random.multivariate_normal([0, 4], [[1, 0],[0, 1]], size3)\n",
    "data = np.append(data,samples3, axis=0)\n",
    "# Randomlize data\n",
    "data = data[np.random.permutation(size1+size2+size3),]\n",
    "np.savetxt('kmeans_point_data.csv',data,delimiter = ',')"
   ]
  },
  {
   "cell_type": "markdown",
   "metadata": {},
   "source": [
    "### Data Visualization"
   ]
  },
  {
   "cell_type": "code",
   "execution_count": 24,
   "metadata": {
    "collapsed": false
   },
   "outputs": [
    {
     "data": {
      "image/png": "[encoded data removed]",
      "text/plain": [
       "<matplotlib.figure.Figure at 0x7f9e1402ac50>"
      ]
     },
     "metadata": {},
     "output_type": "display_data"
    }
   ],
   "source": [
    " %matplotlib inline\n",
    "import pylab \n",
    "pylab.plot(samples1[:, 0], samples1[:, 1],'*', color = 'red')\n",
    "pylab.plot(samples2[:, 0], samples2[:, 1],'o',color = 'blue')\n",
    "pylab.plot(samples3[:, 0], samples3[:, 1],'+',color = 'green')\n",
    "pylab.show()"
   ]
  },
  {
   "cell_type": "code",
   "execution_count": 2,
   "metadata": {
    "collapsed": false
   },
   "outputs": [
    {
     "name": "stdout",
     "output_type": "stream",
     "text": [
      "Iterations  1\n",
      "Within Set Sum of Squared Error = 727.543709918\n",
      "Cluster Centers  [array([ 4.20183169,  5.66218995]), array([ 7.6461874 ,  7.11125251]), array([ 2.3999373 ,  1.24169442])]\n",
      "\n",
      "Iterations  10\n",
      "Within Set Sum of Squared Error = 370.445799904\n",
      "Cluster Centers  [array([ 5.90085627,  6.05427394]), array([  2.65120611e-03,   3.81582382e+00]), array([  3.97156108e+00,  -1.99186593e-03])]\n",
      "\n",
      "Iterations  20\n",
      "Within Set Sum of Squared Error = 370.445799904\n",
      "Cluster Centers  [array([ 5.90085627,  6.05427394]), array([  2.65120611e-03,   3.81582382e+00]), array([  3.97156108e+00,  -1.99186593e-03])]\n",
      "\n",
      "Iterations  30\n",
      "Within Set Sum of Squared Error = 370.445799904\n",
      "Cluster Centers  [array([  2.65120611e-03,   3.81582382e+00]), array([  3.97156108e+00,  -1.99186593e-03]), array([ 5.90085627,  6.05427394])]\n",
      "\n",
      "Iterations  40\n",
      "Within Set Sum of Squared Error = 370.445799904\n",
      "Cluster Centers  [array([  3.97156108e+00,  -1.99186593e-03]), array([  2.65120611e-03,   3.81582382e+00]), array([ 5.90085627,  6.05427394])]\n",
      "\n",
      "Iterations  50\n",
      "Within Set Sum of Squared Error = 370.445799904\n",
      "Cluster Centers  [array([  3.97156108e+00,  -1.99186593e-03]), array([  2.65120611e-03,   3.81582382e+00]), array([ 5.90085627,  6.05427394])]\n",
      "\n",
      "Iterations  100\n",
      "Within Set Sum of Squared Error = 370.445799904\n",
      "Cluster Centers  [array([  2.65120611e-03,   3.81582382e+00]), array([ 5.90085627,  6.05427394]), array([  3.97156108e+00,  -1.99186593e-03])]\n",
      "\n"
     ]
    }
   ],
   "source": [
    "from pyspark.mllib.clustering import KMeans, KMeansModel\n",
    "from numpy import array\n",
    "from math import sqrt\n",
    "\n",
    "# Load and parse the data\n",
    "data = sc.textFile(\"kmeans_point_data.csv\")  \n",
    "parsedData = data.map(lambda line: array([float(x) for x in line.split(',')]))\n",
    "\n",
    "WSSSE_dict = {}\n",
    "clusters_dict = {}\n",
    "iterations = [1, 10, 20, 30, 40, 50, 100]\n",
    "for i in iterations:\n",
    "    # Build the model (cluster the data into 3 clusters)\n",
    "    clusters = KMeans.train(parsedData, 3, maxIterations=i, runs=1, initializationMode=\"random\")\n",
    "    clusters_dict[i] = clusters\n",
    "\n",
    "    # Evaluate clustering by computing Within Set Sum of Squared Errors\n",
    "    def error(point):\n",
    "        center = clusters.centers[clusters.predict(point)]\n",
    "        return sqrt(sum([x**2 for x in (point - center)]))\n",
    "\n",
    "    WSSSE = parsedData.map(lambda point: error(point)).reduce(lambda x, y: x + y)\n",
    "    WSSSE_dict[i] = WSSSE\n",
    "    print 'Iterations ', str(i)\n",
    "    print(\"Within Set Sum of Squared Error = \" + str(WSSSE))\n",
    "    print 'Cluster Centers ', clusters.centers\n",
    "    print\n",
    "\n",
    "    # Save and load model\n",
    "    modelDirectory = 'kmeans_mllib_model_' + str(i)\n",
    "    !rm -rf $modelDirectory\n",
    "    clusters.save(sc, modelDirectory)\n",
    "    #sameModel = KMeansModel.load(sc, modelDirectory)"
   ]
  },
  {
   "cell_type": "markdown",
   "metadata": {},
   "source": [
    "<a name=\"HW10.4\"><h2 style=\"color:darkblue\"> HW10.4: KMeans Experiments  </h2>\n",
    "[Back to Table of Contents](#TOC)\n",
    "\n",
    "Using this provided [homegrown Kmeans code](http://nbviewer.jupyter.org/urls/dl.dropbox.com/s/3nsthvp8g2rrrdh/EM-Kmeans.ipynb)   repeat the experiments in HW10.3. Explain any differences between the results in HW10.3 and HW10.4. "
   ]
  },
  {
   "cell_type": "code",
   "execution_count": 65,
   "metadata": {
    "collapsed": true
   },
   "outputs": [],
   "source": [
    "## Code goes here"
   ]
  },
  {
   "cell_type": "code",
   "execution_count": 66,
   "metadata": {
    "collapsed": true
   },
   "outputs": [],
   "source": [
    "## Drivers & Runners"
   ]
  },
  {
   "cell_type": "code",
   "execution_count": 67,
   "metadata": {
    "collapsed": true
   },
   "outputs": [],
   "source": [
    "## Run Scripts, S3 Sync"
   ]
  },
  {
   "cell_type": "markdown",
   "metadata": {},
   "source": [
    "<a name=\"HW10.4.1\"><h2 style=\"color:darkblue\"> HW10.4.1: Making Homegrown KMeans more efficient  </h2>\n",
    "[Back to Table of Contents](#TOC)\n",
    "\n",
    "The above provided homegrown KMeans implentation in not the most efficient. How can you make it more efficient? Make this change in the code and show it work and comment on the gains you achieve. "
   ]
  },
  {
   "cell_type": "markdown",
   "metadata": {},
   "source": [
    "### HINT: have a look at  [this linear regression notebook](    http://nbviewer.jupyter.org/urls/dl.dropbox.com/s/atzqkc0p1eajuz6/LinearRegression-Notebook-Challenge.ipynb)"
   ]
  },
  {
   "cell_type": "code",
   "execution_count": 68,
   "metadata": {
    "collapsed": true
   },
   "outputs": [],
   "source": [
    "## Code goes here"
   ]
  },
  {
   "cell_type": "code",
   "execution_count": 69,
   "metadata": {
    "collapsed": true
   },
   "outputs": [],
   "source": [
    "## Drivers & Runners"
   ]
  },
  {
   "cell_type": "code",
   "execution_count": 70,
   "metadata": {
    "collapsed": true
   },
   "outputs": [],
   "source": [
    "## Run Scripts, S3 Sync"
   ]
  },
  {
   "cell_type": "markdown",
   "metadata": {},
   "source": [
    "<a name=\"HW10.5\"><h2 style=\"color:darkgreen\"> HW10.5: OPTIONAL Weighted KMeans  </h2>\n",
    "[Back to Table of Contents](#TOC)\n",
    "\n",
    "Using this provided [homegrown Kmeans code](http://nbviewer.jupyter.org/urls/dl.dropbox.com/s/3nsthvp8g2rrrdh/EM-Kmeans.ipynb), modify it to do a weighted KMeans and repeat the experiements in HW10.3. Explain  any differences between the results in HW10.3 and HW10.5.\n",
    "\n",
    "NOTE: Weight each example as follows using the inverse vector length (Euclidean norm): \n",
    "\n",
    "> weight(X)= 1/||X||, \n",
    "\n",
    "where ||X|| = SQRT(X.X)= SQRT(X1^2 + X2^2)\n",
    "\n",
    "Here X is vector made up of two values X1 and X2.\n",
    "\n",
    "__[Please incorporate all referenced notebooks directly into this master notebook as cells for HW submission. I.e., HW submissions should comprise of just one notebook]__"
   ]
  },
  {
   "cell_type": "code",
   "execution_count": 71,
   "metadata": {
    "collapsed": true
   },
   "outputs": [],
   "source": [
    "## Code goes here"
   ]
  },
  {
   "cell_type": "code",
   "execution_count": 72,
   "metadata": {
    "collapsed": true
   },
   "outputs": [],
   "source": [
    "## Drivers & Runners"
   ]
  },
  {
   "cell_type": "code",
   "execution_count": 73,
   "metadata": {
    "collapsed": true
   },
   "outputs": [],
   "source": [
    "## Run Scripts, S3 Sync"
   ]
  },
  {
   "cell_type": "markdown",
   "metadata": {},
   "source": [
    "<a name=\"HW10.6\"><h2 style=\"color:darkblue\"> HW10.6 OPTIONAL Linear Regression</h2>\n",
    "[Back to Table of Contents](#TOC)\n",
    "<a name=\"HW10.6.1\"><h2 style=\"color:darkblue\"> HW10.6.1 OPTIONAL Linear Regression</h2>\n",
    "[Back to Table of Contents](#TOC)\n",
    "\n",
    "Using [this linear regression notebook](    http://nbviewer.jupyter.org/urls/dl.dropbox.com/s/atzqkc0p1eajuz6/LinearRegression-Notebook-Challenge.ipynb):\n",
    "\n",
    "\n",
    "* Generate 2 sets of data with 100 data points using the data generation code provided and plot each in separate plots. Call one the training set and the other the testing set.\n",
    "\n",
    "* Using MLLib's LinearRegressionWithSGD train up a linear regression model with the training dataset and evaluate with the testing set. What a good number of iterations for training the linear regression model? Justify with plots (e.g., plot MSE as a function of the number of iterations) and words. \n"
   ]
  },
  {
   "cell_type": "markdown",
   "metadata": {},
   "source": [
    "<a name=\"HW10.6.2\"><h2 style=\"color:darkblue\"> HW10.6.2 OPTIONAL Linear Regression</h2>\n",
    "[Back to Table of Contents](#TOC)\n",
    "\n",
    "In the notebook provided above, in the cell labeled \"Gradient descent (regularization)\".\n",
    "\n",
    "* Fill in the blanks and get this code to work for LASS0 and RIDGE linear regression.\n",
    "\n",
    "* Using the data from HW10.6.1 tune the hyper parameters of your LASS0 and RIDGE regression. Report your findings with words and plots."
   ]
  },
  {
   "cell_type": "code",
   "execution_count": 74,
   "metadata": {
    "collapsed": true
   },
   "outputs": [],
   "source": [
    "## Code goes here"
   ]
  },
  {
   "cell_type": "code",
   "execution_count": 75,
   "metadata": {
    "collapsed": true
   },
   "outputs": [],
   "source": [
    "## Drivers & Runners"
   ]
  },
  {
   "cell_type": "code",
   "execution_count": 76,
   "metadata": {
    "collapsed": true
   },
   "outputs": [],
   "source": [
    "## Run Scripts, S3 Sync"
   ]
  },
  {
   "cell_type": "markdown",
   "metadata": {},
   "source": [
    "<a name=\"HW10.7\"><h2 style=\"color:darkgreen\"> HW10.7 OPTIONAL Error surfaces </h2>\n",
    "[Back to Table of Contents](#TOC)\n",
    "\n",
    "Here is a link to R code with 1 test drivers that plots the linear regression model in  model space and in the domain space:\n",
    "\n",
    "> https://www.dropbox.com/s/3xc3kwda6d254l5/PlotModelAndDomainSpaces.R?dl=0\n",
    "\n",
    "Here is a sample output from this script: \n",
    "      \n",
    "> https://www.dropbox.com/s/my3tnhxx7fr5qs0/image%20%281%29.png?dl=0\n",
    "\n",
    "Please use this as inspiration and code a equivalent error surface and heatmap (with isolines) in Spark and show the trajectory of learning taken during gradient descent(after each n-iterations of Gradient Descent):\n",
    "\n",
    "\n",
    "Using Spark and  Python (using the above R Script as inspiration), plot the error surface for the linear regression model using a heatmap and contour plot. \n",
    "Also plot the current model in the original domain space for every 10th iteration.  Plot them side by side if possible  for each iteration: lefthand side plot is the model space(w0 and w01) and the righthand side plot is domain space (plot the corresponding model and training data in the problem domain space) with a final pair of graphs showing the entire trajectory in the model and domain space. Make sure to label your plots with iteration numbers, function, model space versus original domain space, MSE on the training data etc.\n",
    "\n",
    "Also plot the MSE as a function of each iteration (possibly every 10th iteration). Dont forget to label both axis and the graph also. __[Please incorporate all referenced notebooks directly into this master notebook as cells for HW submission. I.e., HW submissions should comprise of just one notebook]__\n",
    "\n",
    "\n",
    "\n"
   ]
  },
  {
   "cell_type": "code",
   "execution_count": 77,
   "metadata": {
    "collapsed": true
   },
   "outputs": [],
   "source": [
    "## Code goes here"
   ]
  },
  {
   "cell_type": "code",
   "execution_count": 78,
   "metadata": {
    "collapsed": true
   },
   "outputs": [],
   "source": [
    "## Drivers & Runners"
   ]
  },
  {
   "cell_type": "code",
   "execution_count": 79,
   "metadata": {
    "collapsed": true
   },
   "outputs": [],
   "source": [
    "## Run Scripts, S3 Sync"
   ]
  },
  {
   "cell_type": "markdown",
   "metadata": {},
   "source": [
    "[Back to Table of Contents](#TOC)\n",
    "<center><div class='jumbotron'><h2 style='color:green'>-------  END OF HOWEWORK --------</h2></div></center>"
   ]
  },
  {
   "cell_type": "code",
   "execution_count": null,
   "metadata": {
    "collapsed": true
   },
   "outputs": [],
   "source": []
  }
 ],
 "metadata": {
  "kernelspec": {
   "display_name": "Python 2",
   "language": "python",
   "name": "python2"
  },
  "language_info": {
   "codemirror_mode": {
    "name": "ipython",
    "version": 2
   },
   "file_extension": ".py",
   "mimetype": "text/x-python",
   "name": "python",
   "nbconvert_exporter": "python",
   "pygments_lexer": "ipython2",
   "version": "2.7.12"
  }
 },
 "nbformat": 4,
 "nbformat_minor": 0
}
