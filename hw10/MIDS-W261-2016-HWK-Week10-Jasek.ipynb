{
 "cells": [
  {
   "cell_type": "markdown",
   "metadata": {},
   "source": [
    "# HW7 DATASCI W261: Machine Learning at Scale  \n",
    " \n",
    "* **Name:**  Megan Jasek\n",
    "* **Email:**  meganjasek@ischool.berkeley.edu\n",
    "* **Class Name:**  W261-2\n",
    "* **Week Number:**  11\n",
    "* **Homework Number:**  10\n",
    "* **Date:**  7/28/16"
   ]
  },
  {
   "cell_type": "markdown",
   "metadata": {},
   "source": [
    "# HW 10.1\n",
    "In Spark write the code to count how often each word appears in a text document (or set of documents). Please use this homework document as a the example document to run an experiment.  Report the following: provide a sorted list of tokens in decreasing order of frequency of occurence."
   ]
  },
  {
   "cell_type": "code",
   "execution_count": 1,
   "metadata": {
    "collapsed": false
   },
   "outputs": [
    {
     "name": "stdout",
     "output_type": "stream",
     "text": [
      "<pyspark.context.SparkContext object at 0x7f15c63d2990>\n",
      "<pyspark.sql.context.SQLContext object at 0x7f15c63d29d0>\n"
     ]
    }
   ],
   "source": [
    "import pyspark\n",
    "from pyspark.sql import SQLContext\n",
    "\n",
    "# We can give a name to our app (to find it in Spark WebUI) and configure execution mode\n",
    "# In this case, it is local multicore execution with \"local[*]\"\n",
    "app_name = \"example-logs\"\n",
    "master = \"local[*]\"\n",
    "conf = pyspark.SparkConf().setAppName(app_name).setMaster(master)\n",
    "sc.stop()\n",
    "sc = pyspark.SparkContext(conf=conf)\n",
    "sqlContext = SQLContext(sc)\n",
    "\n",
    "print sc\n",
    "print sqlContext"
   ]
  },
  {
   "cell_type": "code",
   "execution_count": null,
   "metadata": {
    "collapsed": true
   },
   "outputs": [],
   "source": [
    "sc.stop()"
   ]
  },
  {
   "cell_type": "code",
   "execution_count": 3,
   "metadata": {
    "collapsed": false
   },
   "outputs": [
    {
     "name": "stdout",
     "output_type": "stream",
     "text": [
      "[u'===========================================================================', u'===MIDS', u'UC', u'Berkeley,', u'Machine']\n",
      "1136\n",
      "[(u'===========================================================================', 1), (u'===MIDS', 1), (u'UC', 1), (u'Berkeley,', 1), (u'Machine', 1)]\n",
      "1136\n",
      "[(u'', 135), (u'y)', 1), (u'What', 4), (u'from', 6), (u'weight(X)=', 1)]\n",
      "484\n",
      "[(135, u''), (1, u'y)'), (4, u'What'), (6, u'from'), (1, u'weight(X)='), (1, u'10.2:'), (1, u'=====DATSCIW261'), (1, u'intuitoive'), (1, u'(cluster'), (1, u'consists')]\n",
      "484\n",
      "[(135, u''), (70, u'the'), (36, u'and'), (25, u'in'), (24, u'of'), (18, u'a'), (12, u'for'), (12, u'code'), (12, u'to'), (11, u'is')]\n",
      "484\n"
     ]
    }
   ],
   "source": [
    "#from operator import add\n",
    "#lines = sc.textFile('MIDS-MLS-HW-10.txt').flatMap(lambda x: (x.split(' '), 1)).reduceByKey(add)\n",
    "lines = sc.textFile('MIDS-MLS-HW-10.txt').flatMap(lambda x: x.split(' '))\n",
    "print lines.take(5)\n",
    "print lines.count()\n",
    "l1 = lines.map(lambda x: (x, 1))\n",
    "print l1.take(5)\n",
    "print l1.count()\n",
    "l2 = l1.reduceByKey(lambda x, y: x + y)\n",
    "print l2.take(5)\n",
    "print l2.count()\n",
    "l3 = l2.map(lambda x: (x[1], x[0]))\n",
    "print l3.take(10)\n",
    "print l3.count()\n",
    "l4 = l3.sortByKey(False)\n",
    "print l4.take(10)\n",
    "print l4.count()\n"
   ]
  },
  {
   "cell_type": "code",
   "execution_count": 16,
   "metadata": {
    "collapsed": false
   },
   "outputs": [
    {
     "name": "stdout",
     "output_type": "stream",
     "text": [
      "[[u'==========================================================================='], 1, [u'===MIDS', u'UC', u'Berkeley,', u'Machine', u'Learning', u'at', u'Scale', u'DATSCI', u'W261', u'ASSIGNMENT', u'#10==='], 1, [u'=====DATSCIW261', u'ASSIGNMENT', u'#10====='], 1]\n",
      "294\n"
     ]
    }
   ],
   "source": []
  },
  {
   "cell_type": "markdown",
   "metadata": {},
   "source": [
    "# HW 10.1.1\n",
    "Modify the above word count code to count words that begin with lower case letters (a-z) and report your findings. Again sort the output words in decreasing order of frequency."
   ]
  }
 ],
 "metadata": {
  "kernelspec": {
   "display_name": "Python 2",
   "language": "python",
   "name": "python2"
  },
  "language_info": {
   "codemirror_mode": {
    "name": "ipython",
    "version": 2
   },
   "file_extension": ".py",
   "mimetype": "text/x-python",
   "name": "python",
   "nbconvert_exporter": "python",
   "pygments_lexer": "ipython2",
   "version": "2.7.12"
  }
 },
 "nbformat": 4,
 "nbformat_minor": 0
}
