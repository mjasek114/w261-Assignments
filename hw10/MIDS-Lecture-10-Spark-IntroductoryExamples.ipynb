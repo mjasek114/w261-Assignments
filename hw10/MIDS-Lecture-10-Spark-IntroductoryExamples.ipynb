{
 "cells": [
  {
   "cell_type": "markdown",
   "metadata": {},
   "source": [
    "# MIDS-Lecture-10-Spark-IntroductoryExamples"
   ]
  },
  {
   "cell_type": "code",
   "execution_count": 1,
   "metadata": {
    "collapsed": false
   },
   "outputs": [
    {
     "ename": "IOError",
     "evalue": "[Errno 2] No such file or directory: '/Users/jshanahan/Dropbox/Lectures-UC-Berkeley-ML-Class-2015/spark-1.5.0-bin-hadoop2.6/python/pyspark/shell.py'",
     "output_type": "error",
     "traceback": [
      "\u001b[1;31m---------------------------------------------------------------------------\u001b[0m",
      "\u001b[1;31mIOError\u001b[0m                                   Traceback (most recent call last)",
      "\u001b[1;32m<ipython-input-1-981af62fdd24>\u001b[0m in \u001b[0;36m<module>\u001b[1;34m()\u001b[0m\n\u001b[0;32m      7\u001b[0m \u001b[0msys\u001b[0m\u001b[1;33m.\u001b[0m\u001b[0mpath\u001b[0m\u001b[1;33m.\u001b[0m\u001b[0minsert\u001b[0m\u001b[1;33m(\u001b[0m\u001b[1;36m0\u001b[0m\u001b[1;33m,\u001b[0m\u001b[0mos\u001b[0m\u001b[1;33m.\u001b[0m\u001b[0mpath\u001b[0m\u001b[1;33m.\u001b[0m\u001b[0mjoin\u001b[0m\u001b[1;33m(\u001b[0m\u001b[0mspark_home\u001b[0m\u001b[1;33m,\u001b[0m\u001b[1;34m'python'\u001b[0m\u001b[1;33m)\u001b[0m\u001b[1;33m)\u001b[0m\u001b[1;33m\u001b[0m\u001b[0m\n\u001b[0;32m      8\u001b[0m \u001b[0msys\u001b[0m\u001b[1;33m.\u001b[0m\u001b[0mpath\u001b[0m\u001b[1;33m.\u001b[0m\u001b[0minsert\u001b[0m\u001b[1;33m(\u001b[0m\u001b[1;36m0\u001b[0m\u001b[1;33m,\u001b[0m\u001b[0mos\u001b[0m\u001b[1;33m.\u001b[0m\u001b[0mpath\u001b[0m\u001b[1;33m.\u001b[0m\u001b[0mjoin\u001b[0m\u001b[1;33m(\u001b[0m\u001b[0mspark_home\u001b[0m\u001b[1;33m,\u001b[0m\u001b[1;34m'python/lib/py4j-0.8.2.1-src.zip'\u001b[0m\u001b[1;33m)\u001b[0m\u001b[1;33m)\u001b[0m\u001b[1;33m\u001b[0m\u001b[0m\n\u001b[1;32m----> 9\u001b[1;33m \u001b[0mexecfile\u001b[0m\u001b[1;33m(\u001b[0m\u001b[0mos\u001b[0m\u001b[1;33m.\u001b[0m\u001b[0mpath\u001b[0m\u001b[1;33m.\u001b[0m\u001b[0mjoin\u001b[0m\u001b[1;33m(\u001b[0m\u001b[0mspark_home\u001b[0m\u001b[1;33m,\u001b[0m\u001b[1;34m'python/pyspark/shell.py'\u001b[0m\u001b[1;33m)\u001b[0m\u001b[1;33m)\u001b[0m\u001b[1;33m\u001b[0m\u001b[0m\n\u001b[0m\u001b[0;32m     10\u001b[0m \u001b[1;33m\u001b[0m\u001b[0m\n",
      "\u001b[1;31mIOError\u001b[0m: [Errno 2] No such file or directory: '/Users/jshanahan/Dropbox/Lectures-UC-Berkeley-ML-Class-2015/spark-1.5.0-bin-hadoop2.6/python/pyspark/shell.py'"
     ]
    }
   ],
   "source": [
    "import os\n",
    "import sys #current as of 9/26/2015\n",
    "spark_home = os.environ['SPARK_HOME'] = \\\n",
    "   '/Users/jshanahan/Dropbox/Lectures-UC-Berkeley-ML-Class-2015/spark-1.5.0-bin-hadoop2.6/'\n",
    "\n",
    "if not spark_home:\n",
    "    raise ValueError('SPARK_HOME enviroment variable is not set')\n",
    "sys.path.insert(0,os.path.join(spark_home,'python'))\n",
    "sys.path.insert(0,os.path.join(spark_home,'python/lib/py4j-0.8.2.1-src.zip'))\n",
    "execfile(os.path.join(spark_home,'python/pyspark/shell.py'))"
   ]
  },
  {
   "cell_type": "code",
   "execution_count": 1,
   "metadata": {
    "collapsed": false
   },
   "outputs": [
    {
     "name": "stdout",
     "output_type": "stream",
     "text": [
      "<pyspark.context.SparkContext object at 0x7fbdf9d20990>\n",
      "<pyspark.sql.context.SQLContext object at 0x7fbdf9d209d0>\n"
     ]
    }
   ],
   "source": [
    "import os\n",
    "import sys #current as of 9/26/2015\n",
    "\n",
    "import pyspark\n",
    "from pyspark.sql import SQLContext\n",
    "\n",
    "# We can give a name to our app (to find it in Spark WebUI) and configure execution mode\n",
    "# In this case, it is local multicore execution with \"local[*]\"\n",
    "app_name = \"example-logs\"\n",
    "master = \"local[*]\"\n",
    "conf = pyspark.SparkConf().setAppName(app_name).setMaster(master)\n",
    "sc.stop()\n",
    "sc = pyspark.SparkContext(conf=conf)\n",
    "sqlContext = SQLContext(sc)\n",
    "\n",
    "\n",
    "print sc\n",
    "print sqlContext"
   ]
  },
  {
   "cell_type": "code",
   "execution_count": 3,
   "metadata": {
    "collapsed": false
   },
   "outputs": [],
   "source": [
    "import numpy as np\n",
    " \n",
    "\n",
    "dataRDD = sc.parallelize(np.random.random_sample(1000))   \n",
    "data2X= dataRDD.map(lambda x: x*2)\n",
    "dataGreaterThan1 = data2X.filter(lambda x: x > 1.0)\n",
    "cachedRDD = dataGreaterThan1.cache()"
   ]
  },
  {
   "cell_type": "code",
   "execution_count": 4,
   "metadata": {
    "collapsed": false
   },
   "outputs": [
    {
     "data": {
      "text/plain": [
       "0"
      ]
     },
     "execution_count": 4,
     "metadata": {},
     "output_type": "execute_result"
    }
   ],
   "source": [
    "cachedRDD.filter(lambda x: x<1).count()"
   ]
  },
  {
   "cell_type": "code",
   "execution_count": 5,
   "metadata": {
    "collapsed": false
   },
   "outputs": [
    {
     "data": {
      "text/plain": [
       "511"
      ]
     },
     "execution_count": 5,
     "metadata": {},
     "output_type": "execute_result"
    }
   ],
   "source": [
    "cachedRDD.filter(lambda x: x>1).count()"
   ]
  },
  {
   "cell_type": "code",
   "execution_count": 6,
   "metadata": {
    "collapsed": false
   },
   "outputs": [
    {
     "data": {
      "text/plain": [
       "511"
      ]
     },
     "execution_count": 6,
     "metadata": {},
     "output_type": "execute_result"
    }
   ],
   "source": [
    "cachedRDD.filter(lambda x: x>1).count()"
   ]
  },
  {
   "cell_type": "code",
   "execution_count": 7,
   "metadata": {
    "collapsed": false
   },
   "outputs": [
    {
     "name": "stdout",
     "output_type": "stream",
     "text": [
      "1.32234061912\n",
      "1.35723072479\n",
      "1.07000646572\n",
      "1.14585523013\n",
      "1.40633864931\n",
      "1.92258980773\n",
      "1.07018380684\n",
      "1.63640864383\n",
      "1.30737870066\n",
      "1.98217019246\n"
     ]
    }
   ],
   "source": [
    "for line in cachedRDD.take(10):\n",
    "    print line"
   ]
  },
  {
   "cell_type": "code",
   "execution_count": 8,
   "metadata": {
    "collapsed": false
   },
   "outputs": [
    {
     "data": {
      "text/plain": [
       "[2, 3, 4, 4]"
      ]
     },
     "execution_count": 8,
     "metadata": {},
     "output_type": "execute_result"
    }
   ],
   "source": [
    "#RDD mapper\n",
    "rdd = sc.parallelize([1,2,3,3])\n",
    "rdd.map(lambda x:  x + 1).collect()\n",
    "#returns [2, 3, 4, 4]"
   ]
  },
  {
   "cell_type": "code",
   "execution_count": 9,
   "metadata": {
    "collapsed": false
   },
   "outputs": [
    {
     "name": "stdout",
     "output_type": "stream",
     "text": [
      "9\n"
     ]
    }
   ],
   "source": [
    "#reduce ACTION\n",
    "rdd = sc.parallelize([1,2,3,3])\n",
    "sum = rdd.reduce(lambda x, y: x + y)\n",
    "# sum.collect()\n",
    "print sum    #returns 9"
   ]
  },
  {
   "cell_type": "code",
   "execution_count": 10,
   "metadata": {
    "collapsed": false
   },
   "outputs": [
    {
     "data": {
      "text/plain": [
       "[8, 4, 1, 5, 9, 2, 6, 3, 7]"
      ]
     },
     "execution_count": 10,
     "metadata": {},
     "output_type": "execute_result"
    }
   ],
   "source": [
    "#RDD flatmap ranges of integer ranges\n",
    "rdd = sc.parallelize([1,2,3,3])\n",
    "rdd.flatMap(lambda x:  range(x, 8)).collect()\n",
    "rdd.flatMap(lambda x:  range(x, 10)).distinct().collect()\n",
    "#returns [8, 1, 9, 2, 3, 4, 5, 6, 7]"
   ]
  },
  {
   "cell_type": "code",
   "execution_count": 11,
   "metadata": {
    "collapsed": false
   },
   "outputs": [
    {
     "data": {
      "text/plain": [
       "[('Data', 'Data line 1'),\n",
       " ('Mining', 'Mining line 2'),\n",
       " ('data', 'data line 3'),\n",
       " ('Data', 'Data line 4'),\n",
       " ('Data', 'Data Mining line 5')]"
      ]
     },
     "execution_count": 11,
     "metadata": {},
     "output_type": "execute_result"
    }
   ],
   "source": [
    "#Example 4-1. Creating a pair RDD using the first word as the key in Python\n",
    "\n",
    "lines = sc.parallelize([\"Data line 1\", \"Mining line 2\", \"data line 3\", \"Data line 4\", \"Data Mining line 5\"])\n",
    "pairs = lines.map(lambda x: (x.split(\" \")[0], x))  #first word and the original line\n",
    "pairs.collect()\n"
   ]
  },
  {
   "cell_type": "code",
   "execution_count": 12,
   "metadata": {
    "collapsed": false
   },
   "outputs": [
    {
     "data": {
      "text/plain": [
       "[('data', 'data line 3')]"
      ]
     },
     "execution_count": 12,
     "metadata": {},
     "output_type": "execute_result"
    }
   ],
   "source": [
    "def filterTerm(line):\n",
    "    if 'data' in line[1]:\n",
    "        return (line[0])\n",
    "    \n",
    "result = pairs.filter(filterTerm)\n",
    "result.collect()"
   ]
  },
  {
   "cell_type": "code",
   "execution_count": 13,
   "metadata": {
    "collapsed": false
   },
   "outputs": [
    {
     "data": {
      "text/plain": [
       "[('Data', 'Data line 1'), ('data', 'data line 3'), ('Data', 'Data line 4')]"
      ]
     },
     "execution_count": 13,
     "metadata": {},
     "output_type": "execute_result"
    }
   ],
   "source": [
    "result = pairs.filter(lambda keyValue: len(keyValue[1]) < 12)\n",
    "result.collect()"
   ]
  },
  {
   "cell_type": "markdown",
   "metadata": {},
   "source": [
    "## PAIRED RDD with super efficient word count example"
   ]
  },
  {
   "cell_type": "code",
   "execution_count": 14,
   "metadata": {
    "collapsed": false
   },
   "outputs": [
    {
     "data": {
      "text/plain": [
       "[('1', 1),\n",
       " ('data', 1),\n",
       " ('5', 1),\n",
       " ('Data', 3),\n",
       " ('4', 1),\n",
       " ('line', 5),\n",
       " ('Mining', 2),\n",
       " ('3', 1),\n",
       " ('2', 1)]"
      ]
     },
     "execution_count": 14,
     "metadata": {},
     "output_type": "execute_result"
    }
   ],
   "source": [
    "lines = sc.parallelize([\"Data line 1\", \"Mining line 2\", \"data line 3\", \"Data line 4\", \"Data Mining line 5\"])\n",
    "counts = lines.flatMap(lambda line: line.split(\" \")) \\\n",
    "             .map(lambda word: (word, 1)) \\\n",
    "             .reduceByKey(lambda a, b: a + b)\n",
    "        \n",
    "counts.collect()"
   ]
  },
  {
   "cell_type": "code",
   "execution_count": 15,
   "metadata": {
    "collapsed": false
   },
   "outputs": [
    {
     "data": {
      "text/plain": [
       "[('1', 1),\n",
       " ('data', 1),\n",
       " ('5', 1),\n",
       " ('Data', 3),\n",
       " ('4', 1),\n",
       " ('line', 5),\n",
       " ('Mining', 2),\n",
       " ('3', 1),\n",
       " ('2', 1)]"
      ]
     },
     "execution_count": 15,
     "metadata": {},
     "output_type": "execute_result"
    }
   ],
   "source": [
    "# a more efficent word counter (less network communication)\n",
    "#could hash and do an in-memory combiner at the record level\n",
    "lines = sc.parallelize([\"Data line 1\", \"Mining line 2\", \"data line 3\", \"Data line 4\", \"Data Mining line 5\"])\n",
    "def emitWordCounts(line):\n",
    "    wordCounts = []\n",
    "    for w in line.split(\" \"):\n",
    "        wordCounts.append((w, 1))  #could hash and do an in-memory combiner to be more efficient\n",
    "    return (wordCounts)\n",
    "    \n",
    "counts = lines.flatMap(emitWordCounts) #\\\n",
    "             #.reduceByKey(lambda a, b: a + b)\n",
    "#counts.first()  \n",
    "counts.collect()\n",
    "\n",
    "#Level 1 DEBUG Get the mapper to work in isolation  first\n",
    "#emitWordCounts(\"Mining line 2\")   \n",
    "\n",
    "#Level 2 debug check the mapper is working\n",
    "counts = lines.flatMap(emitWordCounts) #\\\n",
    "#             .reduceByKey(lambda a, b: a + b)\n",
    "counts.collect()\n",
    "\n",
    "#Level 3 debug check the mapper is working\n",
    "counts = lines.flatMap(emitWordCounts) \\\n",
    "            .reduceByKey(lambda a, b: a + b)\n",
    "counts.collect()\n"
   ]
  },
  {
   "cell_type": "code",
   "execution_count": 16,
   "metadata": {
    "collapsed": false
   },
   "outputs": [
    {
     "data": {
      "text/plain": [
       "[('1', 1),\n",
       " ('data', 1),\n",
       " ('5', 1),\n",
       " ('Data', 3),\n",
       " ('4', 1),\n",
       " ('line', 5),\n",
       " ('Mining', 2),\n",
       " ('3', 1),\n",
       " ('2', 1)]"
      ]
     },
     "execution_count": 16,
     "metadata": {},
     "output_type": "execute_result"
    }
   ],
   "source": [
    "# a more efficent word counter (less network communication)\n",
    "lines = sc.parallelize([\"Data line 1\", \"Mining line 2\", \"data line 3\", \"Data line 4\", \"Data Mining line 5\"])\n",
    "def emitWordCounts(line):\n",
    "    wordCounts = []\n",
    "    for w in line.split(\" \"):\n",
    "        wordCounts.append((w, 1))  #could hash and do an in-memory combiner to be more efficient\n",
    "    return (wordCounts)\n",
    "    \n",
    "counts = lines.flatMap(emitWordCounts) \\\n",
    "             .reduceByKey(lambda a, b: a + b)\n",
    "counts.collect()"
   ]
  },
  {
   "cell_type": "code",
   "execution_count": 17,
   "metadata": {
    "collapsed": false
   },
   "outputs": [
    {
     "data": {
      "text/plain": [
       "[('1', 1),\n",
       " ('data', 1),\n",
       " ('5', 1),\n",
       " ('Data', 3),\n",
       " ('4', 1),\n",
       " ('line', 5),\n",
       " ('Mining', 2),\n",
       " ('3', 1),\n",
       " ('2', 1)]"
      ]
     },
     "execution_count": 17,
     "metadata": {},
     "output_type": "execute_result"
    }
   ],
   "source": [
    "# a more efficent word counter (less network communication)\n",
    "# hash and do an in-memory combiner at the record level\n",
    "lines = sc.parallelize([\"Data line 1\", \"Mining line 2\", \"data line 3\", \"Data line 4\", \"Data Mining line 5\"])\n",
    "def emitWordCounts(line):\n",
    "    wordCounts = {}\n",
    "    for w in line.split(\" \"):\n",
    "        if wordCounts.has_key(w):\n",
    "            wordCounts[w]=wordCounts[w]+1\n",
    "        else:\n",
    "            wordCounts[w]=1\n",
    "    for key, value in  wordCounts.items():\n",
    "        print key,\":\", value      \n",
    "    return (wordCounts.items())  \n",
    "\n",
    "#Level 1 DEBUG Get the mapper to work in isolation  first\n",
    "#emitWordCounts(\"Mining line 2\")   \n",
    "\n",
    "#Level 2 debug check the mapper is working\n",
    "counts = lines.flatMap(emitWordCounts) #\\\n",
    "#             .reduceByKey(lambda a, b: a + b)\n",
    "counts.collect()\n",
    "\n",
    "#Level 3 debug check the mapper is working\n",
    "counts = lines.flatMap(emitWordCounts) \\\n",
    "            .reduceByKey(lambda a, b: a + b)\n",
    "counts.collect()\n",
    "\n",
    "#map partitions"
   ]
  },
  {
   "cell_type": "code",
   "execution_count": 18,
   "metadata": {
    "collapsed": false
   },
   "outputs": [
    {
     "data": {
      "text/plain": [
       "[(3, (4, 9)), (3, (4, 6)), (3, (6, 9)), (3, (6, 6))]"
      ]
     },
     "execution_count": 18,
     "metadata": {},
     "output_type": "execute_result"
    }
   ],
   "source": [
    "rdd1 = sc.parallelize({(1, 2), (3, 4), (3, 6)})\n",
    "rdd2 = sc.parallelize({(3, 9), (3, 6)})\n",
    "joinedRdd=rdd1.join(rdd2)\n",
    "#RDD1 = {(1, 2), (3, 4), (3, 6)}\n",
    "#RDD2 = {(3, 9) (3, 6)}\n",
    "joinedRdd.collect()"
   ]
  },
  {
   "cell_type": "markdown",
   "metadata": {},
   "source": [
    "## Example 6-14 in Learn Spark Book. Average with mapPartitions() in Python"
   ]
  },
  {
   "cell_type": "code",
   "execution_count": 19,
   "metadata": {
    "collapsed": false
   },
   "outputs": [
    {
     "name": "stdout",
     "output_type": "stream",
     "text": [
      "2.5\n"
     ]
    }
   ],
   "source": [
    "def combineCtrs(c1, c2):\n",
    "    return (c1[0] + c2[0], c1[1] + c2[1])\n",
    "def basicAvg(nums):\n",
    "    \"\"\"Compute the average\"\"\"\n",
    "    nums.map(lambda num: (num, 1)).reduce(combineCtrs)\n",
    "\n",
    "def partitionCtr(nums):\n",
    "    \"\"\"Compute sumCounter for partition\"\"\"\n",
    "    sumCount = [0, 0]\n",
    "    for num in nums:\n",
    "        sumCount[0] += num\n",
    "        sumCount[1] += 1\n",
    "    return [sumCount]\n",
    "\n",
    "def fastAvg(nums):\n",
    "    \"\"\"Compute the avg\"\"\"\n",
    "    sumCount = nums.mapPartitions(partitionCtr).reduce(combineCtrs)\n",
    "    return sumCount[0] / float(sumCount[1])\n",
    "\n",
    "nums = fastAvg(sc.parallelize([1,2,3,4]))\n",
    "print(nums)"
   ]
  },
  {
   "cell_type": "code",
   "execution_count": 20,
   "metadata": {
    "collapsed": false
   },
   "outputs": [
    {
     "data": {
      "text/plain": [
       "[1, 2]"
      ]
     },
     "execution_count": 20,
     "metadata": {},
     "output_type": "execute_result"
    }
   ],
   "source": [
    "rdd = sc.parallelize([1,2,3,3]).filter(lambda x: x<3)\n",
    "rdd.collect()"
   ]
  }
 ],
 "metadata": {
  "kernelspec": {
   "display_name": "Python 2",
   "language": "python",
   "name": "python2"
  },
  "language_info": {
   "codemirror_mode": {
    "name": "ipython",
    "version": 2
   },
   "file_extension": ".py",
   "mimetype": "text/x-python",
   "name": "python",
   "nbconvert_exporter": "python",
   "pygments_lexer": "ipython2",
   "version": "2.7.12"
  }
 },
 "nbformat": 4,
 "nbformat_minor": 0
}
