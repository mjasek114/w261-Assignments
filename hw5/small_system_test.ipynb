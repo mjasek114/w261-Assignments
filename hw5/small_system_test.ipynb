{
 "cells": [
  {
   "cell_type": "markdown",
   "metadata": {},
   "source": [
    "# Test File for W261 HW5.4"
   ]
  },
  {
   "cell_type": "markdown",
   "metadata": {},
   "source": [
    "This is a small test example to use for HW5.4.  \n",
    "The words come from the 1,000 values that are used in creating the stripes."
   ]
  },
  {
   "cell_type": "markdown",
   "metadata": {},
   "source": [
    "Run this file through your program to create stripes."
   ]
  },
  {
   "cell_type": "code",
   "execution_count": null,
   "metadata": {
    "collapsed": true
   },
   "outputs": [],
   "source": [
    "%%writefile small_test.txt\n",
    "atlas boon\t50\t50\t50\n",
    "boon cava dipped\t10\t10\t10\n",
    "atlas dipped\t15\t15\t15"
   ]
  },
  {
   "cell_type": "markdown",
   "metadata": {},
   "source": [
    "The stripes that you should get are below.  \n",
    "Run those stripes through the inverted index creation program."
   ]
  },
  {
   "cell_type": "code",
   "execution_count": null,
   "metadata": {
    "collapsed": true
   },
   "outputs": [],
   "source": [
    "%%writefile small_test_Stripes.txt\n",
    "\"atlas.2\"\t{\"dipped\": 15, \"boon\": 50}\n",
    "\"boon.3\"\t{\"atlas\": 50, \"dipped\": 10, \"cava\": 10}\n",
    "\"cava.2\"\t{\"dipped\": 10, \"boon\": 10}\n",
    "\"dipped.3\"\t{\"atlas\": 15, \"boon\": 10, \"cava\": 10}"
   ]
  },
  {
   "cell_type": "markdown",
   "metadata": {},
   "source": [
    "The inverted index you should get is below.  \n",
    "Run this inverted index through the similarity program."
   ]
  },
  {
   "cell_type": "code",
   "execution_count": null,
   "metadata": {
    "collapsed": true
   },
   "outputs": [],
   "source": [
    "%%writefile small_test_InvIndex.txt\n",
    "\"cava\"\t{\"dipped.3\": 0.5773502691896258, \"boon.3\": 0.5773502691896258}\n",
    "\"dipped\"\t{\"cava.2\": 0.7071067811865475, \"boon.3\": 0.5773502691896258, \"atlas.2\": 0.7071067811865475}\n",
    "\"atlas\"\t{\"dipped.3\": 0.5773502691896258, \"boon.3\": 0.5773502691896258}\n",
    "\"boon\"\t{\"cava.2\": 0.7071067811865475, \"dipped.3\": 0.5773502691896258, \"atlas.2\": 0.7071067811865475}"
   ]
  },
  {
   "cell_type": "markdown",
   "metadata": {},
   "source": [
    "The similarities that you should get are below.  \n",
    "word1.word2.C = cosine similarity  \n",
    "word1.word2.J = jaccard similarity"
   ]
  },
  {
   "cell_type": "code",
   "execution_count": null,
   "metadata": {
    "collapsed": true
   },
   "outputs": [],
   "source": [
    "%%writefile small_test_Similarity.txt\n",
    "\"cava.atlas.J\"\t1.0\n",
    "\"cava.atlas.C\"\t0.9999999999999998\n",
    "\"dipped.boon.C\"\t0.6666666666666669\n",
    "\"dipped.boon.J\"\t0.5\n",
    "\"boon.atlas.C\"\t0.408248290463863\n",
    "\"cava.boon.C\"\t0.408248290463863\n",
    "\"cava.dipped.C\"\t0.408248290463863\n",
    "\"dipped.atlas.C\"\t0.408248290463863\n",
    "\"boon.atlas.J\"\t0.25\n",
    "\"cava.boon.J\"\t0.25\n",
    "\"cava.dipped.J\"\t0.25\n",
    "\"dipped.atlas.J\"\t0.25"
   ]
  }
 ],
 "metadata": {
  "kernelspec": {
   "display_name": "Python 2",
   "language": "python",
   "name": "python2"
  },
  "language_info": {
   "codemirror_mode": {
    "name": "ipython",
    "version": 2
   },
   "file_extension": ".py",
   "mimetype": "text/x-python",
   "name": "python",
   "nbconvert_exporter": "python",
   "pygments_lexer": "ipython2",
   "version": "2.7.11"
  }
 },
 "nbformat": 4,
 "nbformat_minor": 0
}
