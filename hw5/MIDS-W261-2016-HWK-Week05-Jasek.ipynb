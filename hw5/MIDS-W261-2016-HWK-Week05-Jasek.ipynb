{
 "cells": [
  {
   "cell_type": "markdown",
   "metadata": {},
   "source": [
    "# HW5 DATASCI W261: Machine Learning at Scale "
   ]
  },
  {
   "cell_type": "markdown",
   "metadata": {},
   "source": [
    "* **Name:**  Megan Jasek\n",
    "* **Email:**  meganjasek@ischool.berkeley.edu\n",
    "* **Class Name:**  W261-2\n",
    "* **Week Number:**  5\n",
    "* **Date:**  6/17/16"
   ]
  },
  {
   "cell_type": "markdown",
   "metadata": {},
   "source": [
    "## HW 5.0\n",
    "- What is a data warehouse? What is a Star schema? When is it used?\n",
    "\n",
    "\n",
    "## HW 5.1\n",
    "- In the database world What is 3NF? Does machine learning use data in 3NF? If so why? \n",
    "- In what form does ML consume data?\n",
    "- Why would one use log files that are denormalized?"
   ]
  },
  {
   "cell_type": "markdown",
   "metadata": {},
   "source": [
    "## HW 5.2\n",
    "Using MRJob, implement a hashside join (memory-backed map-side) for left, right and inner joins. Run your code on the  data used in HW 4.4: (Recall HW 4.4: Find the most frequent visitor of each page using mrjob and the output of 4.2  (i.e., transfromed log file). In this output please include the webpage URL, webpageID and Visitor ID.)\n",
    "\n",
    "Justify which table you chose as the Left table in this hashside join.\n",
    "\n",
    "Please report the number of rows resulting from:\n",
    "\n",
    "- (1) Left joining Table Left with Table Right\n",
    "- (2) Right joining Table Left with Table Right\n",
    "- (3) Inner joining Table Left with Table Right\n"
   ]
  },
  {
   "cell_type": "markdown",
   "metadata": {},
   "source": [
    "**Algorithm for hashside join** from Data-Intensive Text Processing with MapReduce by Jimmy Lin and Chris Dyer, section 3.5.3, page 67:  \n",
    "1. Load the smaller dataset into memory in every mapper, populating an associative array to facilitate random access to tuples based on the join key. The mapper initialization API hook (see Section 3.1.1) can be used for this purpose.\n",
    "2. Mappers are then applied to the other (larger) dataset, and for each input key-value pair, the mapper probes the in-memory dataset to see if there is a tuple with the same join key.\n",
    "3. If there is, the join is performed."
   ]
  },
  {
   "cell_type": "markdown",
   "metadata": {},
   "source": [
    "#### (1) Left joining Table Left with Table Right"
   ]
  },
  {
   "cell_type": "code",
   "execution_count": 5,
   "metadata": {
    "collapsed": false
   },
   "outputs": [
    {
     "name": "stdout",
     "output_type": "stream",
     "text": [
      "Writing MemJoinLeft.py\n"
     ]
    }
   ],
   "source": [
    "%%writefile MemJoinLeft.py\n",
    "from mrjob.job import MRJob\n",
    "from mrjob.step import MRStep\n",
    " \n",
    "# This class performs an inner join on the 2 datasets in the input file.  It will output\n",
    "# the URL, Page ID, and Visitor ID if the Page ID (the join key) exists in both places.\n",
    "class MRMemJoinLeft(MRJob):\n",
    "    # Create a dictionary to store the smaller dataset that will be held in memory.\n",
    "    vroots = {}\n",
    "    \n",
    "    def mapper_memjoin_init(self):\n",
    "        # Read the data from the filename and store it in the self.vroots dictionary.  This\n",
    "        # stores the base URL and the vroot labels for each vroot. \n",
    "        filename = 'anonymous-msweb_converted_small.data'\n",
    "        with open(filename, 'r') as f:\n",
    "            base_url = \"\"\n",
    "            for line in f.readlines():\n",
    "                record = line.strip().split(',')\n",
    "                if record[0] == 'I':\n",
    "                    base_url = record[2].strip('\"')\n",
    "                elif record[0] == 'A':\n",
    "                    page_id = record[1]\n",
    "                    vroot = record[4].strip('\"')\n",
    "                    self.vroots[page_id] = base_url + vroot\n",
    "\n",
    "    def mapper_memjoin(self, _, line):\n",
    "        # read the next line from the file and only if it is a visitor record, denoted by\n",
    "        # 'V', and only if the page_id is in the vroots dictionary, output the URL, Page ID\n",
    "        # and Visitor ID.\n",
    "        record = line.strip().split(',')\n",
    "        if record[0] == 'V':\n",
    "            page_id = record[1]\n",
    "            visitor_id = record[4]\n",
    "            page_visitor_pair = ('Page ID: %s, Visitor ID: %s' % (page_id, visitor_id))\n",
    "            if page_id in self.vroots:\n",
    "                yield 'URL: ' + self.vroots[page_id], page_visitor_pair\n",
    "    \n",
    "    # Create the steps for this job.  No reducer is required.\n",
    "    def steps(self):\n",
    "        return[\n",
    "            MRStep(mapper_init=self.mapper_memjoin_init, \n",
    "                   mapper=self.mapper_memjoin)\n",
    "        ]\n",
    "\n",
    "if __name__ == '__main__':\n",
    "    MRMemJoinLeft.run()"
   ]
  },
  {
   "cell_type": "code",
   "execution_count": 7,
   "metadata": {
    "collapsed": true
   },
   "outputs": [
    {
     "name": "stdout",
     "output_type": "stream",
     "text": [
      "No configs found; falling back on auto-configuration\r\n",
      "Creating temp directory /tmp/MemJoinLeft.hadoop.20160610.181042.332037\r\n",
      "Running step 1 of 1...\r\n",
      "Streaming final output from /tmp/MemJoinLeft.hadoop.20160610.181042.332037/output...\r\n",
      "\"URL: www.microsoft.com/regwiz\"\t\"Page ID: 1000, Visitor ID: 10001\"\r\n",
      "\"URL: www.microsoft.com/support\"\t\"Page ID: 1001, Visitor ID: 10001\"\r\n",
      "\"URL: www.microsoft.com/athome\"\t\"Page ID: 1002, Visitor ID: 10001\"\r\n",
      "\"URL: www.microsoft.com/support\"\t\"Page ID: 1001, Visitor ID: 10002\"\r\n",
      "\"URL: www.microsoft.com/support\"\t\"Page ID: 1001, Visitor ID: 10002\"\r\n",
      "\"URL: www.microsoft.com/kb\"\t\"Page ID: 1003, Visitor ID: 10002\"\r\n",
      "\"URL: www.microsoft.com/support\"\t\"Page ID: 1001, Visitor ID: 10003\"\r\n",
      "\"URL: www.microsoft.com/kb\"\t\"Page ID: 1003, Visitor ID: 10003\"\r\n",
      "\"URL: www.microsoft.com/search\"\t\"Page ID: 1004, Visitor ID: 10003\"\r\n",
      "\"URL: www.microsoft.com/norge\"\t\"Page ID: 1005, Visitor ID: 10004\"\r\n",
      "\"URL: www.microsoft.com/misc\"\t\"Page ID: 1006, Visitor ID: 10005\"\r\n",
      "\"URL: www.microsoft.com/kb\"\t\"Page ID: 1003, Visitor ID: 10006\"\r\n",
      "\"URL: www.microsoft.com/search\"\t\"Page ID: 1004, Visitor ID: 10006\"\r\n",
      "\"URL: www.microsoft.com/ie_intl\"\t\"Page ID: 1007, Visitor ID: 10007\"\r\n",
      "\"URL: www.microsoft.com/search\"\t\"Page ID: 1004, Visitor ID: 10008\"\r\n",
      "\"URL: www.microsoft.com/msdownload\"\t\"Page ID: 1008, Visitor ID: 10009\"\r\n",
      "Removing temp directory /tmp/MemJoinLeft.hadoop.20160610.181042.332037...\r\n"
     ]
    }
   ],
   "source": [
    "!python MemJoinLeft.py anonymous-msweb_converted_small.data --file=anonymous-msweb_converted_small.data"
   ]
  },
  {
   "cell_type": "code",
   "execution_count": 6,
   "metadata": {
    "collapsed": false
   },
   "outputs": [
    {
     "name": "stdout",
     "output_type": "stream",
     "text": [
      "URL: www.microsoft.com/regwiz, Page ID: 1000, Visitor ID: 10001\n",
      "URL: www.microsoft.com/support, Page ID: 1001, Visitor ID: 10001\n",
      "URL: www.microsoft.com/athome, Page ID: 1002, Visitor ID: 10001\n",
      "URL: www.microsoft.com/support, Page ID: 1001, Visitor ID: 10002\n",
      "URL: www.microsoft.com/support, Page ID: 1001, Visitor ID: 10002\n",
      "URL: www.microsoft.com/kb, Page ID: 1003, Visitor ID: 10002\n",
      "URL: www.microsoft.com/support, Page ID: 1001, Visitor ID: 10003\n",
      "URL: www.microsoft.com/kb, Page ID: 1003, Visitor ID: 10003\n",
      "URL: www.microsoft.com/search, Page ID: 1004, Visitor ID: 10003\n",
      "URL: www.microsoft.com/norge, Page ID: 1005, Visitor ID: 10004\n",
      "URL: www.microsoft.com/misc, Page ID: 1006, Visitor ID: 10005\n",
      "URL: www.microsoft.com/kb, Page ID: 1003, Visitor ID: 10006\n",
      "URL: www.microsoft.com/search, Page ID: 1004, Visitor ID: 10006\n",
      "URL: www.microsoft.com/ie_intl, Page ID: 1007, Visitor ID: 10007\n",
      "URL: www.microsoft.com/search, Page ID: 1004, Visitor ID: 10008\n",
      "URL: www.microsoft.com/msdownload, Page ID: 1008, Visitor ID: 10009\n",
      "\n",
      "\n",
      "There are 16 records\n"
     ]
    }
   ],
   "source": [
    "from MemJoinLeft import MRMemJoinLeft\n",
    "mr_job = MRMemJoinLeft(args=['anonymous-msweb_converted_small.data','--file=anonymous-msweb_converted_small.data'])\n",
    "with mr_job.make_runner() as runner: \n",
    "    runner.run()\n",
    "    count = 0\n",
    "    # stream_output: get access of the output \n",
    "    for line in runner.stream_output():\n",
    "        key,value =  mr_job.parse_output_line(line)\n",
    "        print key + ', ' + value\n",
    "        count = count + 1\n",
    "print \"\\n\"\n",
    "print \"There are %s records\" %count"
   ]
  },
  {
   "cell_type": "markdown",
   "metadata": {},
   "source": [
    "#### (2) Right joining Table Left with Table Right"
   ]
  },
  {
   "cell_type": "markdown",
   "metadata": {},
   "source": [
    "#### (3) Inner joining Table Left with Table Right"
   ]
  },
  {
   "cell_type": "code",
   "execution_count": 3,
   "metadata": {
    "collapsed": false
   },
   "outputs": [
    {
     "name": "stdout",
     "output_type": "stream",
     "text": [
      "Overwriting MemJoinInner.py\n"
     ]
    }
   ],
   "source": [
    "%%writefile MemJoinInner.py\n",
    "from mrjob.job import MRJob\n",
    "from mrjob.step import MRStep\n",
    " \n",
    "# This class performs an inner join on the 2 datasets in the input file.  It will output\n",
    "# the URL, Page ID, and Visitor ID if the Page ID (the join key) exists in both places.\n",
    "class MRMemJoinInner(MRJob):\n",
    "    # Create a dictionary to store the smaller dataset that will be held in memory.\n",
    "    vroots = {}\n",
    "    \n",
    "    def mapper_memjoin_init(self):\n",
    "        # Read the data from the filename and store it in the self.vroots dictionary.  This\n",
    "        # stores the base URL and the vroot labels for each vroot. \n",
    "        filename = 'anonymous-msweb_converted_small.data'\n",
    "        with open(filename, 'r') as f:\n",
    "            base_url = \"\"\n",
    "            for line in f.readlines():\n",
    "                record = line.strip().split(',')\n",
    "                if record[0] == 'I':\n",
    "                    base_url = record[2].strip('\"')\n",
    "                elif record[0] == 'A':\n",
    "                    page_id = record[1]\n",
    "                    vroot = record[4].strip('\"')\n",
    "                    self.vroots[page_id] = base_url + vroot\n",
    "\n",
    "    def mapper_memjoin(self, _, line):\n",
    "        # read the next line from the file and only if it is a visitor record, denoted by\n",
    "        # 'V', and only if the page_id is in the vroots dictionary, output the URL, Page ID\n",
    "        # and Visitor ID.\n",
    "        record = line.strip().split(',')\n",
    "        if record[0] == 'V':\n",
    "            page_id = record[1]\n",
    "            visitor_id = record[4]\n",
    "            page_visitor_pair = ('Page ID: %s, Visitor ID: %s' % (page_id, visitor_id))\n",
    "            if page_id in self.vroots:\n",
    "                yield 'URL: ' + self.vroots[page_id], page_visitor_pair\n",
    "    \n",
    "    # Create the steps for this job.  No reducer is required.\n",
    "    def steps(self):\n",
    "        return[\n",
    "            MRStep(mapper_init=self.mapper_memjoin_init, \n",
    "                   mapper=self.mapper_memjoin)\n",
    "        ]\n",
    "\n",
    "if __name__ == '__main__':\n",
    "    MRMemJoinInner.run()"
   ]
  },
  {
   "cell_type": "code",
   "execution_count": 4,
   "metadata": {
    "collapsed": true
   },
   "outputs": [
    {
     "name": "stdout",
     "output_type": "stream",
     "text": [
      "No configs found; falling back on auto-configuration\r\n",
      "Creating temp directory /tmp/MemJoinInner.hadoop.20160610.175819.499040\r\n",
      "Running step 1 of 1...\r\n",
      "Streaming final output from /tmp/MemJoinInner.hadoop.20160610.175819.499040/output...\r\n",
      "\"URL: www.microsoft.com/regwiz\"\t\"Page ID: 1000, Visitor ID: 10001\"\r\n",
      "\"URL: www.microsoft.com/support\"\t\"Page ID: 1001, Visitor ID: 10001\"\r\n",
      "\"URL: www.microsoft.com/athome\"\t\"Page ID: 1002, Visitor ID: 10001\"\r\n",
      "\"URL: www.microsoft.com/support\"\t\"Page ID: 1001, Visitor ID: 10002\"\r\n",
      "\"URL: www.microsoft.com/support\"\t\"Page ID: 1001, Visitor ID: 10002\"\r\n",
      "\"URL: www.microsoft.com/kb\"\t\"Page ID: 1003, Visitor ID: 10002\"\r\n",
      "\"URL: www.microsoft.com/support\"\t\"Page ID: 1001, Visitor ID: 10003\"\r\n",
      "\"URL: www.microsoft.com/kb\"\t\"Page ID: 1003, Visitor ID: 10003\"\r\n",
      "\"URL: www.microsoft.com/search\"\t\"Page ID: 1004, Visitor ID: 10003\"\r\n",
      "\"URL: www.microsoft.com/norge\"\t\"Page ID: 1005, Visitor ID: 10004\"\r\n",
      "\"URL: www.microsoft.com/misc\"\t\"Page ID: 1006, Visitor ID: 10005\"\r\n",
      "\"URL: www.microsoft.com/kb\"\t\"Page ID: 1003, Visitor ID: 10006\"\r\n",
      "\"URL: www.microsoft.com/search\"\t\"Page ID: 1004, Visitor ID: 10006\"\r\n",
      "\"URL: www.microsoft.com/ie_intl\"\t\"Page ID: 1007, Visitor ID: 10007\"\r\n",
      "\"URL: www.microsoft.com/search\"\t\"Page ID: 1004, Visitor ID: 10008\"\r\n",
      "\"URL: www.microsoft.com/msdownload\"\t\"Page ID: 1008, Visitor ID: 10009\"\r\n",
      "Removing temp directory /tmp/MemJoinInner.hadoop.20160610.175819.499040...\r\n"
     ]
    }
   ],
   "source": [
    "!python MemJoinInner.py anonymous-msweb_converted_small.data --file=anonymous-msweb_converted_small.data"
   ]
  },
  {
   "cell_type": "code",
   "execution_count": 4,
   "metadata": {
    "collapsed": false
   },
   "outputs": [
    {
     "name": "stdout",
     "output_type": "stream",
     "text": [
      "URL: www.microsoft.com/regwiz, Page ID: 1000, Visitor ID: 10001\n",
      "URL: www.microsoft.com/support, Page ID: 1001, Visitor ID: 10001\n",
      "URL: www.microsoft.com/athome, Page ID: 1002, Visitor ID: 10001\n",
      "URL: www.microsoft.com/support, Page ID: 1001, Visitor ID: 10002\n",
      "URL: www.microsoft.com/support, Page ID: 1001, Visitor ID: 10002\n",
      "URL: www.microsoft.com/kb, Page ID: 1003, Visitor ID: 10002\n",
      "URL: www.microsoft.com/support, Page ID: 1001, Visitor ID: 10003\n",
      "URL: www.microsoft.com/kb, Page ID: 1003, Visitor ID: 10003\n",
      "URL: www.microsoft.com/search, Page ID: 1004, Visitor ID: 10003\n",
      "URL: www.microsoft.com/norge, Page ID: 1005, Visitor ID: 10004\n",
      "URL: www.microsoft.com/misc, Page ID: 1006, Visitor ID: 10005\n",
      "URL: www.microsoft.com/kb, Page ID: 1003, Visitor ID: 10006\n",
      "URL: www.microsoft.com/search, Page ID: 1004, Visitor ID: 10006\n",
      "URL: www.microsoft.com/ie_intl, Page ID: 1007, Visitor ID: 10007\n",
      "URL: www.microsoft.com/search, Page ID: 1004, Visitor ID: 10008\n",
      "URL: www.microsoft.com/msdownload, Page ID: 1008, Visitor ID: 10009\n",
      "\n",
      "\n",
      "There are 16 records\n"
     ]
    }
   ],
   "source": [
    "from MemJoinInner import MRMemJoinInner\n",
    "mr_job = MRMemJoinInner(args=['anonymous-msweb_converted_small.data','--file=anonymous-msweb_converted_small.data'])\n",
    "with mr_job.make_runner() as runner: \n",
    "    runner.run()\n",
    "    count = 0\n",
    "    # stream_output: get access of the output \n",
    "    for line in runner.stream_output():\n",
    "        key,value =  mr_job.parse_output_line(line)\n",
    "        print key + ', ' + value\n",
    "        count = count + 1\n",
    "print \"\\n\"\n",
    "print \"There are %s records\" %count"
   ]
  },
  {
   "cell_type": "markdown",
   "metadata": {},
   "source": [
    "## HW 5.3  EDA of Google n-grams dataset\n",
    "A large subset of the Google n-grams dataset\n",
    "\n",
    "https://aws.amazon.com/datasets/google-books-ngrams/\n",
    "\n",
    "which we have placed in a bucket/folder on Dropbox on s3:\n",
    "\n",
    "https://www.dropbox.com/sh/tmqpc4o0xswhkvz/AACUifrl6wrMrlK6a3X3lZ9Ea?dl=0 \n",
    "\n",
    "s3://filtered-5grams/\n",
    "\n",
    "In particular, this bucket contains (~200) files (10Meg each) in the format:\n",
    "\n",
    "\t(ngram) \\t (count) \\t (pages_count) \\t (books_count)\n",
    "\n",
    "For HW 5.3-5.5, for the Google n-grams dataset unit test and regression test your code using the \n",
    "first 10 lines of the following file:\n",
    "\n",
    "googlebooks-eng-all-5gram-20090715-0-filtered.txt\n",
    "\n",
    "Once you are happy with your test results proceed to generating  your results on the Google n-grams dataset. \n",
    "\n",
    "Do some EDA on this dataset using mrjob, e.g., \n",
    "\n",
    "- Longest 5-gram (number of characters)\n",
    "- Top 10 most frequent words (please use the count information), i.e., unigrams\n",
    "- 20 Most/Least densely appearing words (count/pages_count) sorted in decreasing order of relative frequency \n",
    "- Distribution of 5-gram sizes (character length).  E.g., count (using the count field) up how many times a 5-gram of 50 characters shows up. Plot the data graphically using a histogram.\n",
    "\n",
    "## HW 5.3.1 OPTIONAL Question:\n",
    "Plot the log-log plot of the frequency distributuion of unigrams. Does it follow power law distribution?\n",
    "\n",
    "For more background see:\n",
    "- https://en.wikipedia.org/wiki/Log%E2%80%93log_plot\n",
    "- https://en.wikipedia.org/wiki/Power_law\n",
    "\n"
   ]
  },
  {
   "cell_type": "markdown",
   "metadata": {},
   "source": [
    "## HW 5.4  Synonym detection over 2Gig of Data\n",
    "\n",
    "For the remainder of this assignment you will work with two datasets:\n",
    "\n",
    "### 1: unit/systems test data set: SYSTEMS TEST DATASET\n",
    "Three terms, A,B,C and their corresponding strip-docs of co-occurring terms\n",
    "\n",
    "- DocA {X:20, Y:30, Z:5}\n",
    "- DocB {X:100, Y:20}\n",
    "- DocC {M:5, N:20, Z:5}\n",
    "\n",
    "### 2: A large subset of the Google n-grams dataset as was described above\n",
    "\n",
    "For each HW 5.4 -5.5.1 Please unit test and system test your code with respect \n",
    "to SYSTEMS TEST DATASET and show the results. \n",
    "Please compute the expected answer by hand and show your hand calculations for the \n",
    "SYSTEMS TEST DATASET. Then show the results you get with you system.\n",
    "\n",
    "In this part of the assignment we will focus on developing methods\n",
    "for detecting synonyms, using the Google 5-grams dataset. To accomplish\n",
    "this you must script two main tasks using MRJob:\n",
    "\n",
    "(1) Build stripes for the most frequent 10,000 words using cooccurence informationa based on\n",
    "the words ranked from 9001,-10,000 as a basis/vocabulary (drop stopword-like terms),\n",
    "and output to a file in your bucket on s3 (bigram analysis, though the words are non-contiguous).\n",
    "\n",
    "\n",
    "(2) Using two (symmetric) comparison methods of your choice \n",
    "(e.g., correlations, distances, similarities), pairwise compare \n",
    "all stripes (vectors), and output to a file in your bucket on s3.\n",
    "\n",
    "==Design notes for (1)==\n",
    "For this task you will be able to modify the pattern we used in HW 3.2\n",
    "(feel free to use the solution as reference). To total the word counts \n",
    "across the 5-grams, output the support from the mappers using the total \n",
    "order inversion pattern:\n",
    "\n",
    "<*word,count>\n",
    "\n",
    "to ensure that the support arrives before the cooccurrences.\n",
    "\n",
    "In addition to ensuring the determination of the total word counts,\n",
    "the mapper must also output co-occurrence counts for the pairs of\n",
    "words inside of each 5-gram. Treat these words as a basket,\n",
    "as we have in HW 3, but count all stripes or pairs in both orders,\n",
    "i.e., count both orderings: (word1,word2), and (word2,word1), to preserve\n",
    "symmetry in our output for (2).\n",
    "\n",
    "==Design notes for (2)==\n",
    "For this task you will have to determine a method of comparison.\n",
    "Here are a few that you might consider:\n",
    "\n",
    "- Jaccard\n",
    "- Cosine similarity\n",
    "- Spearman correlation\n",
    "- Euclidean distance\n",
    "- Taxicab (Manhattan) distance\n",
    "- Shortest path graph distance (a graph, because our data is symmetric!)\n",
    "- Pearson correlation\n",
    "- Kendall correlation\n",
    "\n",
    "However, be cautioned that some comparison methods are more difficult to\n",
    "parallelize than others, and do not perform more associations than is necessary, \n",
    "since your choice of association will be symmetric.\n",
    "\n",
    "Please use the inverted index (discussed in live session #5) based pattern to compute the pairwise (term-by-term) similarity matrix. \n",
    "\n",
    "Please report the size of the cluster used and the amount of time it takes to run for the index construction task and for the synonym calculation task. How many pairs need to be processed (HINT: use the posting list length to calculate directly)? Report your  Cluster configuration!\n",
    "\n"
   ]
  },
  {
   "cell_type": "markdown",
   "metadata": {},
   "source": [
    "## HW 5.5 Evaluation of synonyms that your discovered\n",
    "In this part of the assignment you will evaluate the success of you synonym detector (developed in response to HW5.4).\n",
    "Take the top 1,000 closest/most similar/correlative pairs of words as determined by your measure in HW5.4, and use the synonyms function in the accompanying python code:\n",
    "\n",
    "nltk_synonyms.py\n",
    "\n",
    "Note: This will require installing the python nltk package:\n",
    "\n",
    "http://www.nltk.org/install.html\n",
    "\n",
    "and downloading its data with nltk.download().\n",
    "\n",
    "For each (word1,word2) pair, check to see if word1 is in the list, \n",
    "synonyms(word2), and vice-versa. If one of the two is a synonym of the other, \n",
    "then consider this pair a 'hit', and then report the precision, recall, and F1 measure  of \n",
    "your detector across your 1,000 best guesses. Report the macro averages of these measures."
   ]
  },
  {
   "cell_type": "markdown",
   "metadata": {},
   "source": [
    "## HW5.6 (Optional)\n",
    "\n",
    "Repeat HW5 using vocabulary words ranked from 8001,-10,000;  7001,-10,000; 6001,-10,000; 5001,-10,000; 3001,-10,000; and 1001,-10,000;\n",
    "Dont forget to report you Cluster configuration.\n",
    "\n",
    "Generate the following graphs:\n",
    "-- vocabulary size (X-Axis) versus CPU time for indexing\n",
    "-- vocabulary size (X-Axis) versus number of pairs processed\n",
    "-- vocabulary size (X-Axis) versus F1 measure, Precision, Recall"
   ]
  },
  {
   "cell_type": "markdown",
   "metadata": {},
   "source": [
    "## HW 5.7 (Optional)\n",
    "There is also a corpus of stopwords, that is, high-frequency words like \"the\", \"to\" and \"also\" that we sometimes want to filter out of a document before further processing. Stopwords usually have little lexical content, and their presence in a text fails to distinguish it from other texts. Python's nltk comes with a prebuilt list of stopwords (see below). Using this stopword list filter out these tokens from your analysis and rerun the experiments in 5.5 and disucuss the results of using a stopword list and without using a stopword list.\n",
    "\n",
    "> from nltk.corpus import stopwords\n",
    ">> stopwords.words('english')\n",
    "['i', 'me', 'my', 'myself', 'we', 'our', 'ours', 'ourselves', 'you', 'your', 'yours',\n",
    "'yourself', 'yourselves', 'he', 'him', 'his', 'himself', 'she', 'her', 'hers',\n",
    "'herself', 'it', 'its', 'itself', 'they', 'them', 'their', 'theirs', 'themselves',\n",
    "'what', 'which', 'who', 'whom', 'this', 'that', 'these', 'those', 'am', 'is', 'are',\n",
    "'was', 'were', 'be', 'been', 'being', 'have', 'has', 'had', 'having', 'do', 'does',\n",
    "'did', 'doing', 'a', 'an', 'the', 'and', 'but', 'if', 'or', 'because', 'as', 'until',\n",
    "'while', 'of', 'at', 'by', 'for', 'with', 'about', 'against', 'between', 'into',\n",
    "'through', 'during', 'before', 'after', 'above', 'below', 'to', 'from', 'up', 'down',\n",
    "'in', 'out', 'on', 'off', 'over', 'under', 'again', 'further', 'then', 'once', 'here',\n",
    "'there', 'when', 'where', 'why', 'how', 'all', 'any', 'both', 'each', 'few', 'more',\n",
    "'most', 'other', 'some', 'such', 'no', 'nor', 'not', 'only', 'own', 'same', 'so',\n",
    "'than', 'too', 'very', 's', 't', 'can', 'will', 'just', 'don', 'should', 'now']\n",
    "\n"
   ]
  },
  {
   "cell_type": "markdown",
   "metadata": {},
   "source": [
    "test"
   ]
  },
  {
   "cell_type": "markdown",
   "metadata": {},
   "source": [
    "## HW 5.6 (Optional)\n",
    "There are many good ways to build our synonym detectors, so for optional homework, \n",
    "measure co-occurrence by (left/right/all) consecutive words only, \n",
    "or make stripes according to word co-occurrences with the accompanying \n",
    "2-, 3-, or 4-grams (note here that your output will no longer \n",
    "be interpretable as a network) inside of the 5-grams."
   ]
  },
  {
   "cell_type": "markdown",
   "metadata": {},
   "source": [
    "## Hw 5.7 (Optional)\n",
    "Once again, benchmark your top 10,000 associations (as in 5.5), this time for your\n",
    "results from 5.6. Has your detector improved?"
   ]
  },
  {
   "cell_type": "code",
   "execution_count": null,
   "metadata": {
    "collapsed": true
   },
   "outputs": [],
   "source": []
  }
 ],
 "metadata": {
  "kernelspec": {
   "display_name": "Python 2",
   "language": "python",
   "name": "python2"
  },
  "language_info": {
   "codemirror_mode": {
    "name": "ipython",
    "version": 2
   },
   "file_extension": ".py",
   "mimetype": "text/x-python",
   "name": "python",
   "nbconvert_exporter": "python",
   "pygments_lexer": "ipython2",
   "version": "2.7.11"
  }
 },
 "nbformat": 4,
 "nbformat_minor": 0
}
