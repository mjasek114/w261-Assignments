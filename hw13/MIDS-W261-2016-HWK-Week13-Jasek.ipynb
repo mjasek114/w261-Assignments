{
 "cells": [
  {
   "cell_type": "code",
   "execution_count": 1,
   "metadata": {
    "collapsed": false
   },
   "outputs": [
    {
     "data": {
      "application/javascript": [
       "/**********************************************************************************************\n",
       "Known Mathjax Issue with Chrome - a rounding issue adds a border to the right of mathjax markup\n",
       "https://github.com/mathjax/MathJax/issues/1300\n",
       "A quick hack to fix this based on stackoverflow discussions: \n",
       "http://stackoverflow.com/questions/34277967/chrome-rendering-mathjax-equations-with-a-trailing-vertical-line\n",
       "**********************************************************************************************/\n",
       "\n",
       "$('.math>span').css(\"border-left-color\",\"transparent\")"
      ],
      "text/plain": [
       "<IPython.core.display.Javascript object>"
      ]
     },
     "metadata": {},
     "output_type": "display_data"
    }
   ],
   "source": [
    "%%javascript\n",
    "/**********************************************************************************************\n",
    "Known Mathjax Issue with Chrome - a rounding issue adds a border to the right of mathjax markup\n",
    "https://github.com/mathjax/MathJax/issues/1300\n",
    "A quick hack to fix this based on stackoverflow discussions: \n",
    "http://stackoverflow.com/questions/34277967/chrome-rendering-mathjax-equations-with-a-trailing-vertical-line\n",
    "**********************************************************************************************/\n",
    "\n",
    "$('.math>span').css(\"border-left-color\",\"transparent\")"
   ]
  },
  {
   "cell_type": "code",
   "execution_count": 2,
   "metadata": {
    "collapsed": true
   },
   "outputs": [],
   "source": [
    "%reload_ext autoreload\n",
    "%autoreload 2"
   ]
  },
  {
   "cell_type": "markdown",
   "metadata": {},
   "source": [
    "# MIDS w261 - Machine Learning At Scale\n",
    "## Assignment - HW13\n",
    "\n",
    "\n",
    "---\n",
    "__Name:__  Megan Jasek  \n",
    "__Class:__  (Section 2, Summer 2016)  \n",
    "__Email:__  meganjasek@ischool.berkeley.edu       \n",
    "__Week:__   13"
   ]
  },
  {
   "cell_type": "markdown",
   "metadata": {},
   "source": [
    "# Table of Contents <a name=\"TOC\"></a> \n",
    "\n",
    "1.  [HW Introduction](#1)   \n",
    "2.  [HW References](#2)\n",
    "3.  [HW 3 Problems](#3)    \n",
    "    13.1.  [Build a decision to predict whether you can play tennis or no](#13.1)   \n",
    "    13.2.  [Regression Tree (OPTIONAL Homework)](#13.2)    \n",
    "    13.3.  [Predict survival on the Titanic](#13.3)    \n",
    "    13.4.  [Heritage Healthcare Prize (Predict # Days in Hospital next year)](#13.4)  "
   ]
  },
  {
   "cell_type": "markdown",
   "metadata": {},
   "source": [
    "\n",
    "<a name=\"1\">\n",
    "# 1 Instructions\n",
    "[Back to Table of Contents](#TOC)\n",
    "* Homework submissions are due by Tuesday, 08/23/2016 at 11AM (West Coast Time).\n",
    "\n",
    "\n",
    "* Prepare a single Jupyter notebook (not a requirment), please include questions, and question numbers in the questions and in the responses.\n",
    "Submit your homework notebook via the following form:\n",
    "\n",
    "   + [Submission Link - Google Form](https://docs.google.com/forms/d/1ZOr9RnIe_A06AcZDB6K1mJN4vrLeSmS2PD6Xm3eOiis/viewform?usp=send_form)\n",
    "\n",
    "\n",
    "### Documents:\n",
    "* IPython Notebook, published and viewable online.\n",
    "* PDF export of IPython Notebook.\n",
    "\n",
    "<a name=\"2\">\n",
    "# 2 Useful References\n",
    "[Back to Table of Contents](#TOC)\n",
    "\n",
    "* Lecture 12 (Async)\n",
    "\n",
    "* Chapter 17 on decision Trees,   https://www.dropbox.com/s/5ca98ah5chqlcmn/Data_Science_from_Scratch%20%281%29.pdf?dl=0   [Please do not share this PDF]\n",
    "* Karau, Holden, Konwinski, Andy, Wendell, Patrick, & Zaharia, Matei. (2015). Learning Spark: Lightning-fast big data analysis. Sebastopol, CA: O’Reilly Publishers.\n",
    "* Hastie, Trevor, Tibshirani, Robert, & Friedman, Jerome. (2009). The elements of statistical learning: Data mining, inference, and prediction (2nd ed.). Stanford, CA: Springer Science+Business Media. __(Download for free [here](http://statweb.stanford.edu/~tibs/ElemStatLearn/printings/ESLII_print10.pdf))__\n",
    "* Ryza, Sandy, Laserson, Uri, Owen, Sean, & Wills, Josh. (2015). Advanced analytics with Spark: Patterns for learning from data at scale. Sebastopol, CA: O’Reilly Publishers.\n",
    "---\n",
    "\n",
    "---"
   ]
  },
  {
   "cell_type": "markdown",
   "metadata": {
    "collapsed": true
   },
   "source": [
    " <a name=\"13.1\"></a>\n",
    "## HW13.1 Build a decision to predict whether you can play tennis or not\n",
    "\n",
    "[Back to Table of Contents](#TOC)\n",
    "\n",
    "Decision Trees\n",
    "\n",
    "Write a program in Python (or in Spark; this part is optional) to implement the ID3 decision tree algorithm. You should build a tree to predict PlayTennis, based on the other attributes (but, do not use the Day attribute in your tree.). You should read in a space delimited dataset in a file called dataset.txt and output to the screen your decision tree and the training set accuracy in some readable format. For example, here is the tennis dataset. The first line will contain the names of the fields:\n",
    "\n",
    "<PRE>\n",
    "Day outlook temperature humidity wind playtennis\n",
    "d1 sunny hot high FALSE no\n",
    "d2 sunny hot high TRUE no\n",
    "d3 overcast hot high FALSE yes\n",
    "d4 rainy mild high FALSE yes\n",
    "d5 rainy cool normal FALSE yes\n",
    "d6 rainy cool normal TRUE no\n",
    "d6 overcast cool normal TRUE yes\n",
    "d7 sunny mild high FALSE no\n",
    "d8 sunny cool normal FALSE yes\n",
    "d9 rainy mild normal FALSE yes\n",
    "d10 sunny mild normal TRUE yes\n",
    "d11 overcast mild high TRUE yes\n",
    "d12 overcast hot normal FALSE yes\n",
    "d12 rainy mild high TRUE no\n",
    "</PRE>\n",
    "\n",
    "The last column is the classification attribute, and will always contain contain the values yes or no.\n",
    "\n",
    "For output, you can choose how to draw the tree so long as it is clear what the tree is. You might find it easier if you turn the decision tree on its side, and use indentation to show levels of the tree as it grows from the left. For example:\n",
    "\n",
    "<PRE>\n",
    "outlook = sunny\n",
    "|  humidity = high: no\n",
    "|  humidity = normal: yes\n",
    "outlook = overcast: yes\n",
    "outlook = rainy\n",
    "|  windy = TRUE: no\n",
    "|  windy = FALSE: yes\n",
    "\n",
    "</PRE>\n",
    "\n",
    "You don't need to make your tree output look exactly like above: feel free to print out something similarly readable if you think it is easier to code.\n",
    "\n",
    "You may find Python dictionaries especially useful here, as they will give you a quick an easy way to help manage counting the number of times you see a particular attribute.\n",
    "\n",
    "Here are some FAQs that I've gotten in the past regarding this assignment, and some I might get if I don't answer them now.\n",
    "\n",
    "__Should my code work for other datasets besides the tennis dataset?__ \n",
    "Yes. We will give your program a different dataset to try it out with. You may assume that our dataset is correct and well-formatted, but you should not make assumptions regrading number of rows, number of columns, or values that will appear within. The last column will also be the classification, and will always contain yes or no values.\n",
    "\n",
    "__Is it possible that some value, like \"normal,\" could appear in more than one column?__\n",
    "Yes. In addition to the column \"humidity\", we might have had another column called \"skycolor\" which could have values \"normal,\" \"weird,\" and \"bizarre.\"\n",
    "\n",
    "__Could \"yes\" and \"no\" appear as possible values in columns other than the classification column?__\n",
    "Yes. In addition to the classification column \"playtennis,\" we might have had another column called \"seasonalweather\" which would contain \"yes\" and \"no.\""
   ]
  },
  {
   "cell_type": "markdown",
   "metadata": {},
   "source": [
    "__ HW13.1.1 What is the classification accuracy of the tree on the training data?__\n"
   ]
  },
  {
   "cell_type": "markdown",
   "metadata": {
    "collapsed": true
   },
   "source": [
    "**ANSWER:**  \n",
    "PLAYTENNIS PREDICTION TREE USING D1-D14  \n",
    "outlook = rainy  \n",
    "--- wind = FALSE : yes  \n",
    "--- wind = TRUE : no  \n",
    "--- wind = None : yes  \n",
    "outlook = overcast : yes  \n",
    "outlook = sunny  \n",
    "--- humidity = high : no  \n",
    "--- humidity = None : no  \n",
    "--- humidity = normal : yes  \n",
    "outlook = None : yes  \n",
    "\n",
    "The classification accuracy is 1.0."
   ]
  },
  {
   "cell_type": "markdown",
   "metadata": {},
   "source": [
    "__HW13.1.2  Is it possible to produce some set of correct training examples that will get the algorihtm\n",
    "to include the attribute Temperature in the learned tree, even though the true target concept is\n",
    "independent of Temperature? if no, explain. If yes, give such a set. __"
   ]
  },
  {
   "cell_type": "markdown",
   "metadata": {
    "collapsed": true
   },
   "source": [
    "**ANSWER:**  \n",
    "Yes.  Using these inputs (D1-D9), the algorithm includes temperature.  \n",
    "Day outlook temperature humidity wind playtennis  \n",
    "d1 sunny hot high FALSE no  \n",
    "d2 sunny hot high TRUE no  \n",
    "d3 overcast hot high FALSE yes  \n",
    "d4 rainy mild high FALSE yes  \n",
    "d5 rainy cool normal FALSE yes  \n",
    "d6 rainy cool normal TRUE no  \n",
    "d7 overcast cool normal TRUE yes  \n",
    "d8 sunny mild high FALSE no  \n",
    "d9 sunny cool normal FALSE yes  \n",
    "\n",
    "PLAYTENNIS PREDICTION TREE USING D1-D9  \n",
    "outlook = rainy   \n",
    "--- wind = FALSE : yes  \n",
    "--- wind = TRUE : no  \n",
    "--- wind = None : yes  \n",
    "outlook = overcast : yes  \n",
    "outlook = sunny   \n",
    "--- temperature = None : no  \n",
    "--- temperature = hot : no  \n",
    "--- temperature = mild : no  \n",
    "--- temperature = cool : yes  \n",
    "outlook = None : yes  "
   ]
  },
  {
   "cell_type": "markdown",
   "metadata": {},
   "source": [
    "__HW13.1.3  Now, build a tree using only examples D1–D7. What is the classification accuracy for the\n",
    "training set? what is the accuracy for the test set (examples D8–D14)? explain why you think these\n",
    "are the results.__"
   ]
  },
  {
   "cell_type": "markdown",
   "metadata": {
    "collapsed": true
   },
   "source": [
    "**ANSWER:**  \n",
    "PLAYTENNIS PREDICTION TREE USING D1-D7  \n",
    "outlook = rainy   \n",
    "--- wind = FALSE : yes  \n",
    "--- wind = TRUE : no  \n",
    "--- wind = None : yes  \n",
    "outlook = overcast : yes  \n",
    "outlook = sunny : no  \n",
    "outlook = None : yes  \n",
    "\n",
    "Training Set (D1-D7) Classification Accuracy = 1.0  \n",
    "\n",
    "Testing Set (D8-D14) Classification Accuracy = 0.714285714286  \n",
    "\n",
    "The training set accuracy is 1.0 (100% accurate) because these were the data used to create the model.  The testing set accuracy is 0.71 (71%) because these are unseen data and it is a test of the model's ability to generalize.  The accuracy drops quite a bit on unseen data, so the model does not generalize that well.  More training data is needed to get more accurate results on the testing data."
   ]
  },
  {
   "cell_type": "markdown",
   "metadata": {},
   "source": [
    "__HW13.1.4 In this case, and others, there are only a few labelled examples available for training (that\n",
    "is, no additional data is available for testing or validation). Suggest a concrete pruning strategy, that\n",
    "can be readily embedded in the algorithm, to avoid over fitting. Explain why you think this strategy\n",
    "should work.__"
   ]
  },
  {
   "cell_type": "code",
   "execution_count": null,
   "metadata": {
    "collapsed": true
   },
   "outputs": [],
   "source": []
  },
  {
   "cell_type": "markdown",
   "metadata": {},
   "source": [
    "### Create the data file called 'dataset.txt'"
   ]
  },
  {
   "cell_type": "code",
   "execution_count": 41,
   "metadata": {
    "collapsed": false
   },
   "outputs": [
    {
     "name": "stdout",
     "output_type": "stream",
     "text": [
      "Overwriting dataset.txt\n"
     ]
    }
   ],
   "source": [
    "%%writefile dataset.txt\n",
    "Day outlook temperature humidity wind playtennis\n",
    "d1 sunny hot high FALSE no\n",
    "d2 sunny hot high TRUE no\n",
    "d3 overcast hot high FALSE yes\n",
    "d4 rainy mild high FALSE yes\n",
    "d5 rainy cool normal FALSE yes\n",
    "d6 rainy cool normal TRUE no\n",
    "d7 overcast cool normal TRUE yes\n",
    "d8 sunny mild high FALSE no\n",
    "d9 sunny cool normal FALSE yes\n",
    "d10 rainy mild normal FALSE yes\n",
    "d11 sunny mild normal TRUE yes\n",
    "d12 overcast mild high TRUE yes\n",
    "d13 overcast hot normal FALSE yes\n",
    "d14 rainy mild high TRUE no"
   ]
  },
  {
   "cell_type": "code",
   "execution_count": 44,
   "metadata": {
    "collapsed": true
   },
   "outputs": [],
   "source": [
    "# Code from the book: Data Science from Scratch by Joel Grus, Chapter 17\n",
    "from functools import partial\n",
    "from collections import defaultdict\n",
    "from collections import Counter\n",
    "import math\n",
    "\n",
    "def entropy(class_probabilities):\n",
    "    \"\"\"given a list of class probabilities, compute the entropy\"\"\"\n",
    "    #print class_probabilities\n",
    "    return sum(-p * math.log(p, 2) for p in class_probabilities if p) # ignore zero probabilities\n",
    "\n",
    "def class_probabilities(labels):\n",
    "    total_count = float(len(labels))\n",
    "    return [count / total_count for count in Counter(labels).values()]\n",
    "\n",
    "def data_entropy(labeled_data):\n",
    "    labels = [label for _, label in labeled_data]\n",
    "    probabilities = class_probabilities(labels)\n",
    "    #print labels\n",
    "    #print entropy (probabilities)\n",
    "    return entropy(probabilities)\n",
    "\n",
    "# Our data will consist of pairs (input, label)\n",
    "\n",
    "def partition_entropy(subsets):\n",
    "    \"\"\"find the entropy from this partition of data into subsets\n",
    "    subsets is a list of lists of labeled data\"\"\"\n",
    "    total_count = sum(len(subset) for subset in subsets)\n",
    "    return sum( data_entropy(subset) * len(subset) / total_count for subset in subsets )\n",
    "\n",
    "def partition_by(inputs, attribute):\n",
    "    \"\"\"each input is a pair (attribute_dict, label).\n",
    "    returns a dict : attribute_value -> inputs\"\"\"\n",
    "    groups = defaultdict(list)\n",
    "    for input in inputs:\n",
    "        key = input[0][attribute] # get the value of the specified attribute\n",
    "        groups[key].append(input) # then add this input to the correct list\n",
    "    return groups\n",
    "\n",
    "def partition_entropy_by(inputs, attribute):\n",
    "    \"\"\"computes the entropy corresponding to the given partition\"\"\"\n",
    "    partitions = partition_by(inputs, attribute)\n",
    "    return partition_entropy(partitions.values())\n",
    "\n",
    "def classify(tree, input):\n",
    "    \"\"\"classify the input using the given decision tree\"\"\"\n",
    "    # if this is a leaf node, return its value\n",
    "    if tree in [True, False]:\n",
    "        return tree\n",
    "    # otherwise this tree consists of an attribute to split on\n",
    "    # and a dictionary whose keys are values of that attribute\n",
    "    # and whose values of are subtrees to consider next\n",
    "    attribute, subtree_dict = tree\n",
    "    subtree_key = input.get(attribute) # None if input is missing attribute\n",
    "    if subtree_key not in subtree_dict: # if no subtree for key,\n",
    "        subtree_key = None # we'll use the None subtree\n",
    "    subtree = subtree_dict[subtree_key] # choose the appropriate subtree\n",
    "    return classify(subtree, input) # and use it to classify the input\n",
    "\n",
    "def build_tree_id3(inputs, split_candidates=None):\n",
    "    # if this is our first pass,\n",
    "    # all keys of the first input are split candidates\n",
    "    if split_candidates is None:\n",
    "        split_candidates = inputs[0][0].keys()\n",
    "    # count Trues and Falses in the inputs\n",
    "    num_inputs = len(inputs)\n",
    "    num_trues = len([label for item, label in inputs if label])\n",
    "    num_falses = num_inputs - num_trues\n",
    "    if num_trues == 0: return False # no Trues? return a \"False\" leaf\n",
    "    if num_falses == 0: return True # no Falses? return a \"True\" leaf\n",
    "    if not split_candidates: # if no split candidates left\n",
    "        return num_trues >= num_falses # return the majority leaf\n",
    "    # otherwise, split on the best attribute\n",
    "    best_attribute = min(split_candidates,\n",
    "                         key=partial(partition_entropy_by, inputs))\n",
    "    partitions = partition_by(inputs, best_attribute)\n",
    "    new_candidates = [a for a in split_candidates if a != best_attribute]\n",
    "    # recursively build the subtrees\n",
    "    subtrees = { attribute_value : build_tree_id3(subset, new_candidates)\n",
    "                for attribute_value, subset in partitions.iteritems() }\n",
    "    subtrees[None] = num_trues > num_falses # default case\n",
    "    return (best_attribute, subtrees)\n",
    "\n",
    "# print a tree\n",
    "def print_tree(tree, i):\n",
    "    node_name = tree[0]\n",
    "    values = tree[1]\n",
    "    for key, value in values.iteritems():\n",
    "        # print the node_name indented as many times as the tree is deep.  i is the depth of the tree.\n",
    "        print '--- '*i + node_name + ' = ' + str(key),\n",
    "        # if the value is True or False, then we have reached a leaf node so print 'yes' or 'no'\n",
    "        if value in [True, False]:\n",
    "            label = 'yes' if value else 'no'\n",
    "            print ': ' + label + '  '\n",
    "        else:\n",
    "            # print a new line if we have not reached a leaf node and recursively call this function\n",
    "            print '  \\n',\n",
    "            print_tree(value, i+1)"
   ]
  },
  {
   "cell_type": "markdown",
   "metadata": {},
   "source": [
    "### Test code with data from the book (Data Science from Scratch by Joel Grus, Chapter 17)"
   ]
  },
  {
   "cell_type": "code",
   "execution_count": 38,
   "metadata": {
    "collapsed": false
   },
   "outputs": [],
   "source": [
    "inputs = [\n",
    "({'level':'Senior', 'lang':'Java', 'tweets':'no', 'phd':'no'}, False),\n",
    "({'level':'Senior', 'lang':'Java', 'tweets':'no', 'phd':'yes'}, False),\n",
    "({'level':'Mid', 'lang':'Python', 'tweets':'no', 'phd':'no'}, True),\n",
    "({'level':'Junior', 'lang':'Python', 'tweets':'no', 'phd':'no'}, True),\n",
    "({'level':'Junior', 'lang':'R', 'tweets':'yes', 'phd':'no'}, True),\n",
    "({'level':'Junior', 'lang':'R', 'tweets':'yes', 'phd':'yes'}, False),\n",
    "({'level':'Mid', 'lang':'R', 'tweets':'yes', 'phd':'yes'}, True),\n",
    "({'level':'Senior', 'lang':'Python', 'tweets':'no', 'phd':'no'}, False),\n",
    "({'level':'Senior', 'lang':'R', 'tweets':'yes', 'phd':'no'}, True),\n",
    "({'level':'Junior', 'lang':'Python', 'tweets':'yes', 'phd':'no'}, True),\n",
    "({'level':'Senior', 'lang':'Python', 'tweets':'yes', 'phd':'yes'}, True),\n",
    "({'level':'Mid', 'lang':'Python', 'tweets':'no', 'phd':'yes'}, True),\n",
    "({'level':'Mid', 'lang':'Java', 'tweets':'yes', 'phd':'no'}, True),\n",
    "({'level':'Junior', 'lang':'Python', 'tweets':'no', 'phd':'yes'}, False)\n",
    "]\n",
    "\n",
    "tree = build_tree_id3(inputs)\n",
    "\n",
    "#print classify(tree, { \"level\" : \"Junior\", \"lang\" : \"Java\", \"tweets\" : \"yes\", \"phd\" : \"no\"} ) # True\n",
    "#print classify(tree, { \"level\" : \"Junior\", \"lang\" : \"Java\", \"tweets\" : \"yes\", \"phd\" : \"yes\"} ) # False\n",
    "#print\n",
    "#print_tree(tree, 0)"
   ]
  },
  {
   "cell_type": "code",
   "execution_count": 39,
   "metadata": {
    "collapsed": false
   },
   "outputs": [],
   "source": [
    "#!cat dataset.txt"
   ]
  },
  {
   "cell_type": "markdown",
   "metadata": {},
   "source": [
    "### Read in test data"
   ]
  },
  {
   "cell_type": "code",
   "execution_count": null,
   "metadata": {
    "collapsed": true
   },
   "outputs": [],
   "source": [
    "filename = 'dataset.txt'\n",
    "with open(filename, 'r') as f:\n",
    "    inputs_tennis = []\n",
    "    # don't read the first row because it's the header row\n",
    "    for line in f.readlines()[1:]:\n",
    "        _, outlook, temp, humidity, wind, label = line.strip().split()\n",
    "        label = True if label == 'yes' else False\n",
    "        values = {'outlook': outlook, 'temperature': temp, 'humidity': humidity, 'wind': wind}\n",
    "        inputs_tennis.append((values, label))"
   ]
  },
  {
   "cell_type": "markdown",
   "metadata": {},
   "source": [
    "### Create tree using all inputs (D1-D14)"
   ]
  },
  {
   "cell_type": "code",
   "execution_count": 45,
   "metadata": {
    "collapsed": false
   },
   "outputs": [
    {
     "name": "stdout",
     "output_type": "stream",
     "text": [
      "PLAYTENNIS PREDICTION TREE USING D1-D14\n",
      "outlook = rainy   \n",
      "--- wind = FALSE : yes  \n",
      "--- wind = TRUE : no  \n",
      "--- wind = None : yes  \n",
      "outlook = overcast : yes  \n",
      "outlook = sunny   \n",
      "--- humidity = high : no  \n",
      "--- humidity = None : no  \n",
      "--- humidity = normal : yes  \n",
      "outlook = None : yes  \n",
      "\n",
      "Accuracy = 1.0\n"
     ]
    }
   ],
   "source": [
    "tree_tennis = build_tree_id3(inputs_tennis)\n",
    "#print tree_tennis\n",
    "            \n",
    "# Print the tree\n",
    "print 'PLAYTENNIS PREDICTION TREE USING D1-D14'\n",
    "print_tree(tree_tennis, 0)\n",
    "\n",
    "# Calculate the accuracy\n",
    "total_count = 0.\n",
    "total_correct = 0.\n",
    "for record in inputs_tennis:\n",
    "    total_count += 1.\n",
    "    if record[1] == classify(tree_tennis, record[0]):\n",
    "        total_correct += 1.\n",
    "print\n",
    "print 'Accuracy =', total_correct/total_count"
   ]
  },
  {
   "cell_type": "markdown",
   "metadata": {},
   "source": [
    "### Create tree using inputs D1-D7 and test using D8-D14"
   ]
  },
  {
   "cell_type": "code",
   "execution_count": 53,
   "metadata": {
    "collapsed": false
   },
   "outputs": [
    {
     "name": "stdout",
     "output_type": "stream",
     "text": [
      "PLAYTENNIS PREDICTION TREE USING D1-D7\n",
      "outlook = rainy   \n",
      "--- wind = FALSE : yes  \n",
      "--- wind = TRUE : no  \n",
      "--- wind = None : yes  \n",
      "outlook = overcast : yes  \n",
      "outlook = sunny : no  \n",
      "outlook = None : yes  \n",
      "\n",
      "Training Set (D1-D7) Classification Accuracy = 1.0\n",
      "\n",
      "Testing Set (D8-D14) Classification Accuracy = 0.714285714286\n"
     ]
    }
   ],
   "source": [
    "tree_tennis7 = build_tree_id3(inputs_tennis[:7])\n",
    "#print tree_tennis7\n",
    "            \n",
    "# Print the tree\n",
    "print 'PLAYTENNIS PREDICTION TREE USING D1-D7'\n",
    "print_tree(tree_tennis7, 0)\n",
    "\n",
    "# Calculate the accuracy for training set (D1-D7)\n",
    "total_count = 0.\n",
    "total_correct = 0.\n",
    "for record in inputs_tennis[:7]:\n",
    "    total_count += 1.\n",
    "    if record[1] == classify(tree_tennis7, record[0]):\n",
    "        total_correct += 1.\n",
    "print\n",
    "print 'Training Set (D1-D7) Classification Accuracy =', total_correct/total_count\n",
    "\n",
    "# Calculate the accuracy for testing set (D8-D14)\n",
    "total_count = 0.\n",
    "total_correct = 0.\n",
    "for record in inputs_tennis[7:]:\n",
    "    total_count += 1.\n",
    "    if record[1] == classify(tree_tennis7, record[0]):\n",
    "        total_correct += 1.\n",
    "print\n",
    "print 'Testing Set (D8-D14) Classification Accuracy =', total_correct/total_count"
   ]
  },
  {
   "cell_type": "markdown",
   "metadata": {},
   "source": [
    "### Exploring if temperature can be used in tree"
   ]
  },
  {
   "cell_type": "code",
   "execution_count": 68,
   "metadata": {
    "collapsed": false
   },
   "outputs": [
    {
     "name": "stdout",
     "output_type": "stream",
     "text": [
      "PLAYTENNIS PREDICTION TREE USING D1-D9\n",
      "outlook = rainy   \n",
      "--- wind = FALSE : yes  \n",
      "--- wind = TRUE : no  \n",
      "--- wind = None : yes  \n",
      "outlook = overcast : yes  \n",
      "outlook = sunny   \n",
      "--- temperature = None : no  \n",
      "--- temperature = hot : no  \n",
      "--- temperature = mild : no  \n",
      "--- temperature = cool : yes  \n",
      "outlook = None : yes  \n"
     ]
    }
   ],
   "source": [
    "tree_tennis_temp = build_tree_id3(inputs_tennis[:9])\n",
    "            \n",
    "# Print the tree\n",
    "print 'PLAYTENNIS PREDICTION TREE USING D1-D9'\n",
    "print_tree(tree_tennis_temp, 0)"
   ]
  },
  {
   "cell_type": "markdown",
   "metadata": {},
   "source": [
    " <a name=\"13.2\"></a>\n",
    " ## HW13.2 Regression Tree (OPTIONAL Homework) \n",
    " \n",
    "[Back to Table of Contents](#TOC)\n",
    "\n",
    "Implement a decision tree algorithm for regression for two input continous variables and one categorical input variable on a single core computer using Python. \n",
    "\n",
    "- Use the IRIS dataset to evaluate your code, where the input variables are: Petal.Length Petal.Width  Species  and the target or output variable is  Sepal.Length. \n",
    "- Use the same dataset to train and test your implementation. \n",
    "- Stop expanding nodes once you have less than ten (10) examples (along with the usual stopping criteria). \n",
    "- Report the mean squared error for your implementation and contrast that with the MSE from scikit-learn's implementation on this dataset (http://scikit-learn.org/stable/modules/generated/sklearn.tree.DecisionTreeRegressor.html)\n"
   ]
  },
  {
   "cell_type": "markdown",
   "metadata": {
    "collapsed": true
   },
   "source": [
    " <a name=\"13.3\"></a>\n",
    "## HW13.3 Predict survival on the Titanic using Python (Logistic regression, SVMs, Random Forests)\n",
    "\n",
    "[Back to Table of Contents](#TOC)\n",
    "\n",
    "The sinking of the RMS Titanic is one of the most infamous shipwrecks in history.  On April 15, 1912, during her maiden voyage, the Titanic sank after colliding with an iceberg, killing 1502 out of 2224 passengers and crew. This sensational tragedy shocked the international community and led to better safety regulations for ships.\n",
    "\n",
    "One of the reasons that the shipwreck led to such loss of life was that there were not enough lifeboats for the passengers and crew. Although there was some element of luck involved in surviving the sinking, some groups of people were more likely to survive than others, such as women, children, and the upper-class.\n",
    "\n",
    "In this challenge, you need to review (and edit the code) in this [notebook](http://nbviewer.jupyter.org/urls/dl.dropbox.com/s/kmbgrkhh73931lo/Titanic-EDA-LogisticRegression.ipynb) to do analysis of what sorts of people were likely to survive. In particular, please look at how the tools of machine learning are used to predict which passengers survived the tragedy. Please share any useful graphs/analysis you come up with via the group email. For example, pick the top two most important variables and plot the separating hyperplane in this 2D space that is generated using an SVM (or logistic regression model or plot both; are they similar?) that is learnt using those two features only. Comment on your observations. Please feel free to come up other graphs/analysis (e.g., clustering the passengers). \n",
    "\n",
    "For more details see:\n",
    "\n",
    "* https://www.kaggle.com/c/titanic"
   ]
  },
  {
   "cell_type": "markdown",
   "metadata": {},
   "source": [
    " <a name=\"13.4\"></a>\n",
    " ## HW13.4 Heritage Healthcare Prize (Predict # Days in Hospital next year)\n",
    "[Back to Table of Contents](#TOC)\n",
    "\n",
    "1. Introduction \n",
    "Back to Table of Contents\n",
    "\n",
    "The Heritage Health Prize (HHP) was a data science challenge sponsored by The Heritage Provider Network. It took place from April 4, 2011 to April 4, 2013. For information on the winning entries, please see here.\n",
    "\n",
    "Please see the following notebooks for more background and candidate solutions\n",
    "\n",
    "\n",
    "- Spark Map-Reduce + MMLlib solution (with optional extensions) See [Notebook](http://nbviewer.jupyter.org/urls/dl.dropbox.com/s/v52cxipe7yftf97/HeritageHealthPrizeUnitTestNotebook_Spark-Map-Reduce.ipynb)\n",
    "\n",
    "- Spark SQL + MLLib solution (with optional extensions): [Notebook](http://nbviewer.jupyter.org/urls/dl.dropbox.com/s/s2wxg6g982oho5m/HeritageHealthPrizeUnitTestNotebook_SQL_FINAL.ipynb)\n",
    "\n",
    "\n",
    "Please look at section 7 in both notebooks complete any one or more the suggested next steps. Included here are excerpts from section 7 in both of those notebooks. E.g.,\n",
    "\n",
    "* Please complete the EDA extensions using inspiration from the Titanic Notebook from above.\n",
    "* __Complete Section 3.B: EDA-0. Gather information to see what transformations may need to be done on the data.__\n",
    "Answer questions about each raw DataFrame. In general, is the data in good shape? For example, in each of the Target DataFrames (df_target_Y1, df_target_Y2, df_target_Y3), what values does DaysInHospital take on? Are they all integers? What values does ClaimsTruncated take on? Are they all integers? In the Claims DataFrame (df_claims), how many different ProviderIDs are there? How many different PrimaryConditionGroups are there? What are their values? What values can the CharlesonIndex take on? Are they integers? In the Drug Count DataFrame (df_drug_count), what values can DrugCount take on? Are they all integers? Given this information, what transformations are needed?\n",
    "\n",
    "* __Complete Section 3.D: EDA-1. Create tables and graphs to display information about the transformed DataFrames. __\n",
    "For inspiration, see the Titanic notebook discussed above. Answer questions about each DataFrame. For example, in each of the Target DataFrames (df_target_Y1, df_target_Y2, df_target_Y3), what is the minimum, maximum, mean, and standard deviation of DaysInHospital? In the Claims DataFrame, group by MemberID and Year and count the number of records. What is the minimum, maximum, mean, and standard deviation of the count? Do the same for the Drug Count and Lab Count DataFrames, etc.\n",
    "\n",
    "\n",
    "* __ Please generate ensemble of DT model using 100 trees with 8 nodes and report the Loss __\n",
    "Try additional models. See possibilities here (e.g. Decision Tree Regressor, Gradient-Boosted Trees Regressor, Random Forest Regressor). See an example here. Tune their hyperparameters. Try different feature selections. Try a two-step model.\n"
   ]
  }
 ],
 "metadata": {
  "kernelspec": {
   "display_name": "Python 2",
   "language": "python",
   "name": "python2"
  },
  "language_info": {
   "codemirror_mode": {
    "name": "ipython",
    "version": 2
   },
   "file_extension": ".py",
   "mimetype": "text/x-python",
   "name": "python",
   "nbconvert_exporter": "python",
   "pygments_lexer": "ipython2",
   "version": "2.7.12"
  }
 },
 "nbformat": 4,
 "nbformat_minor": 0
}
